{
 "cells": [
  {
   "cell_type": "code",
   "execution_count": 4,
   "metadata": {},
   "outputs": [
    {
     "name": "stdout",
     "output_type": "stream",
     "text": [
      "The autoreload extension is already loaded. To reload it, use:\n",
      "  %reload_ext autoreload\n"
     ]
    }
   ],
   "source": [
    "%load_ext autoreload\n",
    "%autoreload 2\n",
    "from tools import fix_figure, savefig, despine, set_style\n",
    "set_style('notebook')\n",
    "from method import IV\n",
    "import nest\n",
    "import matplotlib.pyplot as plt\n",
    "from matplotlib.gridspec import GridSpec, GridSpecFromSubplotSpec\n",
    "import pandas as pd\n",
    "import numpy as np\n",
    "import quantities as pq\n",
    "import seaborn as sns\n",
    "\n",
    "from exana.statistics.tools import ccg_significance\n",
    "from exana.statistics.plot import plot_xcorr\n",
    "from exana.stimulus.plot import plot_psth\n",
    "# from exana.statistics import plot_xcorr\n",
    "import copy\n",
    "# from IPython.display import display\n",
    "%matplotlib inline"
   ]
  },
  {
   "cell_type": "markdown",
   "metadata": {},
   "source": [
    "# Slow synapse parameters"
   ]
  },
  {
   "cell_type": "code",
   "execution_count": 5,
   "metadata": {},
   "outputs": [],
   "source": [
    "# more noise\n",
    "# longer EPSP rise time 4 ms, duration 20 ms\n",
    "par = {\n",
    "    'msd'            : 1234, # Master seed\n",
    "    'num_threads'    : 4,\n",
    "    'N_neurons'      : 3,\n",
    "    'res'            : 0.1, # Temporal resolution for simulation Delta t in ms\n",
    "    'delay'          : 1.5, # Synaptic delay in ms\n",
    "    'rate_p'         : 1000., # external poisson rate in Hz\n",
    "    'J_p'            : .3,\n",
    "    'gauss_mean'     : .1,\n",
    "    'gauss_std'      : 1.1,\n",
    "    # Neuron parameters\n",
    "    't_ref'          : 2.0, # Duration of refractory period in ms\n",
    "    'V_m'            : 0.0, # Membrane potential, initial condition in mV\n",
    "    'E_L'            : 0.0, # Leak reversal potential in mV\n",
    "    'V_reset'        : 0.0, # Reset potential of the membrane in mV\n",
    "    'tau_m'          : 20.0, # Membrane timeconstant in ms\n",
    "    'C_m'            : 1.0, # Capacity of the membrane in pF\n",
    "    'V_th'           : 20.0, # Spike threshold in mV\n",
    "    'tau_syn_ex'     : 1., # Time constants of the excitatory synaptic exponential function in ms\n",
    "    'tau_syn_in'     : 1., # Time constants of the inhibitory synaptic exponential function in ms\n",
    "    # Connection parameters\n",
    "    'J_AB'           : 0., # mV\n",
    "    'J_AC'           : 0,\n",
    "    'J_BC'           : .0002,\n",
    "    'J_BA'           : 0,\n",
    "    'J_CA'           : 0,\n",
    "    'J_CB'           : 0,\n",
    "    'C'              : 10000, # indegree\n",
    "    # Stimulation parameters\n",
    "    'stim_amp_A'      : 10.0, # pA\n",
    "    'stim_amp_B'      : 10.0, # pA\n",
    "    'stim_period'     : 100.0, # ms\n",
    "    'stim_max_period' : 150, # only applies to poisson\n",
    "    'stim_duration'   : 2.0, # ms\n",
    "    'stim_N'          : 30000,\n",
    "    'stim_dist'       : 'poisson'\n",
    "}"
   ]
  },
  {
   "cell_type": "code",
   "execution_count": 6,
   "metadata": {},
   "outputs": [],
   "source": [
    "def poisson_clipped(N, period, low, high):\n",
    "    poisson = []\n",
    "    while len(poisson) < N:\n",
    "        p = - np.log(1 - np.random.uniform(0, 1)) * period\n",
    "        if p >= low and p <= high:\n",
    "            poisson.append(p)\n",
    "    stim_times = [poisson[0]]\n",
    "    for idx, isi in enumerate(poisson[1:]):\n",
    "        stim_times.append(stim_times[idx] + isi)\n",
    "    return np.array(stim_times).round()\n",
    "\n",
    "\n",
    "def simulate(par, **kwargs):\n",
    "    par = copy.deepcopy(par)\n",
    "    if kwargs:\n",
    "        assert all(k in par for k in kwargs.keys())\n",
    "        par.update(kwargs)\n",
    "    if par['stim_dist'] is None:\n",
    "        stim_times = np.linspace(par['stim_period'], \n",
    "                                 par['stim_N'] * par['stim_period'],\n",
    "                                 par['stim_N'])\n",
    "    elif par['stim_dist'] == 'poisson':\n",
    "        stim_times = poisson_clipped(\n",
    "                N=par['stim_N'], period=par['stim_period'],\n",
    "                low=par['stim_period'], high=par['stim_max_period'])\n",
    "    print('simulating ', stim_times[-1])\n",
    "    print('stimulating ', len(stim_times))\n",
    "    # Set kernel\n",
    "    nest.ResetKernel()\n",
    "    nest.SetKernelStatus({\"local_num_threads\": par['num_threads']})\n",
    "    N_vp = nest.GetKernelStatus(['total_num_virtual_procs'])[0]\n",
    "    pyrngs = [np.random.RandomState(s) for s in range(par['msd'], par['msd'] + N_vp)]\n",
    "    nest.SetKernelStatus({'grng_seed' : par['msd'] + N_vp})\n",
    "    nest.SetKernelStatus({'rng_seeds' : range(par['msd'] + N_vp + 1, par['msd'] + 2 * N_vp + 1)})\n",
    "    nest.SetStatus([0], [{\"resolution\": par['res']}])\n",
    "\n",
    "    # Make the nodes\n",
    "    nodes = nest.Create('iaf_psc_alpha', par['N_neurons'])\n",
    "    keys = ['t_ref', 'V_m', 'E_L', 'V_reset', 'tau_m', 'C_m', 'V_th', 'tau_syn_ex', 'tau_syn_in']\n",
    "    nest.SetStatus(nodes, [{k: par[k] for k in keys}])\n",
    "\n",
    "    # Connect nodes\n",
    "    nn = {\n",
    "        'A': tuple([nodes[0]]),\n",
    "        'B': tuple([nodes[1]]),\n",
    "        'C': tuple([nodes[2]])\n",
    "    }\n",
    "    for key in ['J_AB', 'J_AC', 'J_BA', 'J_BC', 'J_CA', 'J_CB']:\n",
    "        j = par.get(key)\n",
    "        if j != 0 and j is not None:\n",
    "            print('connecting ', key, j)\n",
    "            s, r = nn[key[-2]], nn[key[-1]]\n",
    "            conn_dict = {'rule': 'fixed_indegree', 'indegree': par['C']}\n",
    "            nest.Connect(s, r, conn_dict,\n",
    "                         {\"weight\": j, \"delay\": par['delay']})\n",
    "\n",
    "    # Set background drive\n",
    "    background = nest.Create(\"poisson_generator\", 1,\n",
    "                              params={\"rate\": par['rate_p']})\n",
    "    nest.Connect(background, nodes, \n",
    "                 {'rule': 'fixed_indegree', 'indegree': 1},\n",
    "                 {\"weight\": par['J_p'], \"delay\": par['res']})\n",
    "\n",
    "    # Set channel noise\n",
    "    channelnoise = nest.Create(\"noise_generator\", 1,\n",
    "                              params={\"mean\": par['gauss_mean'],\n",
    "                                      'std': par['gauss_std']})\n",
    "    nest.Connect(channelnoise, nodes)\n",
    "\n",
    "    # Connect spike detector\n",
    "    spks = nest.Create(\"spike_detector\", 1,\n",
    "                         params=[{\"label\": \"Exc\", \"to_file\": False}])\n",
    "    # connect using all_to_all: all recorded excitatory neurons to one detector\n",
    "    nest.Connect(nodes, spks)\n",
    "\n",
    "    # Simulate one period without stimulation\n",
    "    nest.Simulate(stim_times[0])\n",
    "\n",
    "    # Set dc stimulation\n",
    "    stims = []\n",
    "    for n, a in enumerate([par['stim_amp_A'], par['stim_amp_B']]):\n",
    "        stim = nest.Create(\n",
    "            \"dc_generator\",\n",
    "            params={'amplitude': a,\n",
    "                    'start': 0.,\n",
    "                    'stop': par['stim_duration']})\n",
    "        nest.Connect(stim, tuple([nodes[n]]))\n",
    "        stims.append(stim)\n",
    "\n",
    "    # Run multiple trials\n",
    "    for s in np.diff(stim_times):\n",
    "        for stim in stims:\n",
    "            nest.SetStatus(stim, {'origin': nest.GetKernelStatus()['time']})\n",
    "        nest.Simulate(s)\n",
    "    nest.Simulate(np.min(np.diff(stim_times)))\n",
    "\n",
    "    # Organize data\n",
    "    conns = nest.GetConnections(source=nodes, target=nodes)\n",
    "    df = pd.DataFrame(nest.GetStatus(spks, 'events')[0])\n",
    "    names = ['A', 'B', 'C']\n",
    "    spiketrains = [{'times': np.array(attr['times']),\n",
    "                    'sender': sndr,\n",
    "                    'name': names[sndr - 1]}\n",
    "                   for sndr, attr in df.groupby('senders')]\n",
    "    data = {\n",
    "        'spiketrains': spiketrains,\n",
    "        'epoch': {'times': stim_times, \n",
    "                  'durations': [par['stim_duration']] * len(stim_times)},\n",
    "        'connections': list(nest.GetStatus(conns, ('weight', 'source', 'target'))),\n",
    "        'status': nest.GetKernelStatus(),\n",
    "        'params': par\n",
    "    }\n",
    "    return data"
   ]
  },
  {
   "cell_type": "code",
   "execution_count": 7,
   "metadata": {},
   "outputs": [],
   "source": [
    "# dataa = simulate(par, stim_N=30000\n",
    "# np.savez('method_triple', data=dataa)\n",
    "dataa = np.load('method_triple.npz')['data'][()]"
   ]
  },
  {
   "cell_type": "code",
   "execution_count": 8,
   "metadata": {
    "scrolled": false
   },
   "outputs": [],
   "source": [
    "winsize = 4\n",
    "latency = 4\n",
    "res = []\n",
    "N_trials = np.arange(100, 31000, 1000)\n",
    "for N in N_trials:\n",
    "    ws = [[], []]\n",
    "    for n in [0,1]:\n",
    "        iv = IV(dataa['spiketrains'][n]['times'], \n",
    "                dataa['spiketrains'][2]['times'],\n",
    "                dataa['epoch']['times'][:N],\n",
    "                winsize=winsize, latency=latency)\n",
    "        ws[n].append(iv.wald)\n",
    "    res.append(ws)\n",
    "res = np.array(res)"
   ]
  },
  {
   "cell_type": "code",
   "execution_count": 9,
   "metadata": {},
   "outputs": [],
   "source": [
    "set_style('article')\n",
    "t_stop = dataa['status']['time']\n",
    "spiketrains = [s['times'] for s in dataa['spiketrains']]\n",
    "names = ['A', 'B', 'C']\n",
    "colors = sns.color_palette()"
   ]
  },
  {
   "cell_type": "code",
   "execution_count": 10,
   "metadata": {},
   "outputs": [
    {
     "data": {
      "image/png": "[encoded data removed]",
      "text/plain": [
       "<matplotlib.figure.Figure at 0x7f57fbf8b630>"
      ]
     },
     "metadata": {},
     "output_type": "display_data"
    }
   ],
   "source": [
    "set_style('article', w=0.485)\n",
    "plt.plot(N_trials, res[:,0], label='$\\\\hat\\\\beta_{AC}$', color=colors[0])\n",
    "plt.plot(N_trials, res[:,1], label='$\\\\hat\\\\beta_{BC}$', color=colors[1])\n",
    "plt.legend(loc='upper left', bbox_to_anchor=(1, 1))\n",
    "plt.xlabel('$N_{trials}$')\n",
    "plt.ylabel('Wald $\\\\hat\\\\beta_{IV}$')\n",
    "sns.despine()\n",
    "fix_figure()\n",
    "savefig(plt.gcf(), 'wald_triple')"
   ]
  },
  {
   "cell_type": "code",
   "execution_count": 16,
   "metadata": {},
   "outputs": [
    {
     "data": {
      "image/png": "[encoded data removed]",
      "text/plain": [
       "<matplotlib.figure.Figure at 0x7f57f88d2208>"
      ]
     },
     "metadata": {},
     "output_type": "display_data"
    },
    {
     "data": {
      "image/png": "[encoded data removed]",
      "text/plain": [
       "<matplotlib.figure.Figure at 0x7f57f87a0d68>"
      ]
     },
     "metadata": {},
     "output_type": "display_data"
    }
   ],
   "source": [
    "set_style('article', w=.485, h=1)\n",
    "ylim = [-0.2, 0.35]\n",
    "plt.figure()\n",
    "plt.plot(N_trials, res[:,1], c=colors[1], lw=4)\n",
    "plt.ylabel('Wald $\\\\hat\\\\beta_{IV}$')\n",
    "plt.xlabel('$N_{trials}$')\n",
    "plt.ylim(ylim)\n",
    "despine()\n",
    "savefig(plt.gcf(), 'wald_BC', bbox_inches='tight')\n",
    "\n",
    "plt.figure()\n",
    "bc = plt.Line2D((0,1),(0,1), color=colors[1], lw=4)\n",
    "ac, = plt.plot(N_trials, res[:,0], c=colors[0], lw=4)\n",
    "plt.legend([bc, ac], ['$\\\\hat\\\\beta_{BC}$', '$\\\\hat\\\\beta_{AC}$'], \n",
    "           loc=0)\n",
    "plt.xlabel('$N_{trials}$')\n",
    "plt.ylim(ylim)\n",
    "despine(yticks=False, left=True)\n",
    "# plt.setp(plt.gca().get_yticklabels(), visible=False)\n",
    "# fix_figure()\n",
    "savefig(plt.gcf(), 'wald_AC', bbox_inches='tight')"
   ]
  },
  {
   "cell_type": "code",
   "execution_count": 7,
   "metadata": {},
   "outputs": [
    {
     "name": "stdout",
     "output_type": "stream",
     "text": [
      "['serif']\n",
      "['serif']\n"
     ]
    },
    {
     "data": {
      "image/png": "[encoded data removed]",
      "text/plain": [
       "<matplotlib.figure.Figure at 0x7fc808419198>"
      ]
     },
     "metadata": {},
     "output_type": "display_data"
    }
   ],
   "source": [
    "set_style('article', w=0.985, h=2)\n",
    "plot_xcorr(spiketrains, colors=colors, time_limit=100, binsize=1, names=names,\n",
    "           xticksvisible=True, yticksvisible=False, density=False);\n",
    "sns.despine(bottom=True, left=True)\n",
    "fig = plt.gcf()\n",
    "\n",
    "savefig(fig, 'xcorr')"
   ]
  },
  {
   "cell_type": "code",
   "execution_count": 13,
   "metadata": {},
   "outputs": [
    {
     "data": {
      "image/png": "[encoded data removed]",
      "text/plain": [
       "<matplotlib.figure.Figure at 0x7fc805d6bcc0>"
      ]
     },
     "metadata": {},
     "output_type": "display_data"
    },
    {
     "data": {
      "image/png": "[encoded data removed]",
      "text/plain": [
       "<matplotlib.figure.Figure at 0x7fc80b2b8be0>"
      ]
     },
     "metadata": {},
     "output_type": "display_data"
    }
   ],
   "source": [
    "set_style('article', w=.242, h=.25)\n",
    "\n",
    "time_limit = 15\n",
    "binsize = 1\n",
    "ylim = [0, 8500]\n",
    "\n",
    "\n",
    "for idx, sl in enumerate([slice(1,3), slice(0,3,2)]):\n",
    "    pcausal, pfast, bins, cch, cch_s = ccg_significance(*spiketrains[sl], binsize, time_limit, \n",
    "                                            hollow_fraction=.6, width=10)\n",
    "    \n",
    "    _, bins = plot_xcorr(spiketrains[sl], colors=colors[sl], time_limit=time_limit, \n",
    "                            binsize=binsize, acorr=False, ylim=ylim, density=False,\n",
    "                            names=names[sl]);\n",
    "    ax = plt.gca()\n",
    "    mask = (bins >= 4) & (bins <= 6)\n",
    "    m = np.max(cch[mask])\n",
    "    pmin = pcausal[cch == m]\n",
    "    trans_prob = sum(cch[mask] - cch_s[mask]) / len(spiketrains[sl][0])\n",
    "#     plt.plot([bins[pcausal==pmin][0], bins[pcausal==pmin][0]], \n",
    "#              [0, m], ls='--', c='k')\n",
    "#     plt.annotate('p$_{{fast}}$ = {:.2e}'.format(pfast[cch == m][0]), \n",
    "#                  [bins[pcausal == pmin][0], ylim[1]])\n",
    "#     plt.annotate('p$_{{diff}}$ = {:.2e}'.format(pcausal[cch == m][0]), \n",
    "#                  [bins[pcausal == pmin][0], ylim[1] - ylim[1]*.05])\n",
    "#     plt.annotate('p$_{{trans}}$ = {:.2e}'.format(trans_prob), \n",
    "#                  [bins[pcausal == pmin][0], ylim[1] - ylim[1]*.1])\n",
    "    ax.set_aspect(time_limit * 2 / ylim[1])\n",
    "    ax.set_position([0, 0, 1, 1])\n",
    "    despine(all_sides=True, xticks=False, yticks=False)\n",
    "#     if idx == 1:\n",
    "#         plt.setp(ax.get_yticklabels(), visible=False)\n",
    "    savefig(plt.gcf(), 'xcorr_highres_{}{}'.format(*names[sl]), bbox_inches='tight')"
   ]
  },
  {
   "cell_type": "code",
   "execution_count": 14,
   "metadata": {},
   "outputs": [
    {
     "name": "stderr",
     "output_type": "stream",
     "text": [
      "/home/mikkel/.virtualenvs/main/lib/python3.5/site-packages/matplotlib/patches.py:91: UserWarning: Setting the 'color' property will overridethe edgecolor or facecolor properties. \n",
      "  warnings.warn(\"Setting the 'color' property will override\"\n"
     ]
    },
    {
     "data": {
      "image/png": "[encoded data removed]",
      "text/plain": [
       "<matplotlib.figure.Figure at 0x7fc807f16c88>"
      ]
     },
     "metadata": {},
     "output_type": "display_data"
    }
   ],
   "source": [
    "from exana.stimulus import plot_psth\n",
    "import neo\n",
    "set_style('article', w=.485)\n",
    "N_trials = 1000\n",
    "t_stop = dataa['status']['time']\n",
    "spiketrains_neo = [neo.SpikeTrain(times=np.array(sptr['times'])*pq.ms, \n",
    "                              t_start=0*pq.ms, t_stop=t_stop*pq.ms, name=sptr['name'])\n",
    "               for sptr in dataa['spiketrains']]\n",
    "epoch = neo.Epoch(times=dataa['epoch']['times'][:N_trials] * pq.ms, \n",
    "                  durations=dataa['epoch']['durations'][:N_trials] * pq.ms)\n",
    "\n",
    "fig, axs = plt.subplots(2,1, sharex=True)\n",
    "for n, sptr in enumerate(spiketrains_neo):\n",
    "    plot_psth(spike_train=sptr, epoch=epoch, xlim=[-.045, .06] * pq.s, axs=axs, hist_binsize=2*pq.ms,\n",
    "              color=colors[n], stim_color='cyan', hist_alpha=1., hist_edgecolor=None, \n",
    "              hist_ylabel='Counts', rast_size=1);\n",
    "sns.despine(bottom=True, left=True)\n",
    "fig = plt.gcf()\n",
    "ax_t = fig.axes[-1]\n",
    "ax_t.set_yticks([0, 500, 1000])\n",
    "savefig(fig, 'raster', bbox_inches='tight')"
   ]
  },
  {
   "cell_type": "code",
   "execution_count": null,
   "metadata": {},
   "outputs": [],
   "source": []
  }
 ],
 "metadata": {
  "kernelspec": {
   "display_name": "Python 3",
   "language": "python",
   "name": "python3"
  },
  "language_info": {
   "codemirror_mode": {
    "name": "ipython",
    "version": 3
   },
   "file_extension": ".py",
   "mimetype": "text/x-python",
   "name": "python",
   "nbconvert_exporter": "python",
   "pygments_lexer": "ipython3",
   "version": "3.5.2"
  }
 },
 "nbformat": 4,
 "nbformat_minor": 2
}
