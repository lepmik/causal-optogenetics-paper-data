{
 "cells": [
  {
   "cell_type": "code",
   "execution_count": 13,
   "metadata": {},
   "outputs": [
    {
     "name": "stdout",
     "output_type": "stream",
     "text": [
      "The autoreload extension is already loaded. To reload it, use:\n",
      "  %reload_ext autoreload\n"
     ]
    }
   ],
   "source": [
    "%matplotlib inline\n",
    "%load_ext autoreload\n",
    "%autoreload 2\n",
    "from method import IV\n",
    "from simulator import Simulator\n",
    "import matplotlib.pyplot as plt\n",
    "from matplotlib.gridspec import GridSpec, GridSpecFromSubplotSpec\n",
    "import pandas as pd\n",
    "import numpy as np\n",
    "import quantities as pq\n",
    "import seaborn as sns\n",
    "from exana.statistics import plot_xcorr, permutation_resampling\n",
    "from tools import savefig, fix_figure, coef_var, corrcoef, despine, set_style\n",
    "import copy\n",
    "from IPython.display import display\n",
    "import statsmodels.api as sm"
   ]
  },
  {
   "cell_type": "code",
   "execution_count": 15,
   "metadata": {},
   "outputs": [],
   "source": [
    "trials = [5000, 10000, 15000, 20000, 25000, 30000]\n",
    "sim_id = [1, 2, 3]\n",
    "# path = 'results/orig_analysis/'\n",
    "path = 'results/'\n",
    "winsize = 4\n",
    "\n",
    "for sim in sim_id:\n",
    "    data = np.load('results/params_{}.npz'.format(sim))['data'][()]\n",
    "\n",
    "    spiketrains = {s['sender']: {'pop': pop, 'times': s['times']}\n",
    "                   for pop in ['in', 'ex']\n",
    "                   for s in data['spiketrains'][pop]}\n",
    "\n",
    "    s = data['epoch']['times'][:trial]\n",
    "    assert len(s) == trial\n",
    "    latency = data['params']['delay'] + data['params']['tau_syn_ex']\n",
    "    \n",
    "    for trial in trials:\n",
    "        csv_path = 'results/params_{}_analyse_{}.csv'.format(sim, trial)\n",
    "        df = pd.read_csv(csv_path)\n",
    "        hit_rate = {}\n",
    "        for idx, row in df.iterrows():\n",
    "            if row.source in hit_rate.keys():\n",
    "                df.loc[idx,'hit_rate'] = hit_rate[row.source]\n",
    "                continue\n",
    "            t1 = spiketrains[row.source]['times']\n",
    "            t2 = spiketrains[row.target]['times']\n",
    "            iv = IV(t1, t2, s, winsize, latency)\n",
    "            df.loc[idx,'hit_rate'] = iv.hit_rate\n",
    "            hit_rate[row.source] = iv.hit_rate\n",
    "        df.to_csv(csv_path, index=False, mode='w', header=True)"
   ]
  },
  {
   "cell_type": "code",
   "execution_count": null,
   "metadata": {},
   "outputs": [],
   "source": []
  }
 ],
 "metadata": {
  "kernelspec": {
   "display_name": "Python 3",
   "language": "python",
   "name": "python3"
  },
  "language_info": {
   "codemirror_mode": {
    "name": "ipython",
    "version": 3
   },
   "file_extension": ".py",
   "mimetype": "text/x-python",
   "name": "python",
   "nbconvert_exporter": "python",
   "pygments_lexer": "ipython3",
   "version": "3.5.2"
  }
 },
 "nbformat": 4,
 "nbformat_minor": 2
}
