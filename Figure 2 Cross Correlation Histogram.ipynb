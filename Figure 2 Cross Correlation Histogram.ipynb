{
 "cells": [
  {
   "cell_type": "code",
   "execution_count": 2,
   "metadata": {},
   "outputs": [],
   "source": [
    "%load_ext autoreload\n",
    "%autoreload 2\n",
    "from tools import fix_figure, savefig, despine, set_style\n",
    "set_style('notebook')\n",
    "from method import IV\n",
    "import nest\n",
    "import matplotlib.pyplot as plt\n",
    "from matplotlib.gridspec import GridSpec, GridSpecFromSubplotSpec\n",
    "import pandas as pd\n",
    "import numpy as np\n",
    "import quantities as pq\n",
    "import seaborn as sns\n",
    "\n",
    "from cross_correlation import plot_xcorr\n",
    "import copy\n",
    "# from IPython.display import display\n",
    "%matplotlib inline"
   ]
  },
  {
   "cell_type": "code",
   "execution_count": 5,
   "metadata": {},
   "outputs": [],
   "source": [
    "dataa = np.load('results/triple.npz')['data'][()]"
   ]
  },
  {
   "cell_type": "code",
   "execution_count": null,
   "metadata": {},
   "outputs": [],
   "source": [
    "set_style('article')\n",
    "t_stop = dataa['status']['time']\n",
    "spiketrains = [s['times'] for s in dataa['spiketrains']]\n",
    "names = ['A', 'B', 'C']\n",
    "colors = sns.color_palette()"
   ]
  },
  {
   "cell_type": "code",
   "execution_count": 103,
   "metadata": {},
   "outputs": [
    {
     "data": {
      "image/png": "[encoded data removed]",
      "text/plain": [
       "<matplotlib.figure.Figure at 0x7f4c74225860>"
      ]
     },
     "metadata": {},
     "output_type": "display_data"
    }
   ],
   "source": [
    "set_style('article', w=0.985, h=2)\n",
    "plot_xcorr(spiketrains, colors=colors, time_limit=30, binsize=1, names=names,\n",
    "           xticksvisible=True, yticksvisible=False, density=False);\n",
    "sns.despine(bottom=True, left=True)\n",
    "fig = plt.gcf()\n",
    "\n",
    "savefig(fig, 'xcorr')"
   ]
  }
 ],
 "metadata": {
  "kernelspec": {
   "display_name": "Python 3",
   "language": "python",
   "name": "python3"
  },
  "language_info": {
   "codemirror_mode": {
    "name": "ipython",
    "version": 3
   },
   "file_extension": ".py",
   "mimetype": "text/x-python",
   "name": "python",
   "nbconvert_exporter": "python",
   "pygments_lexer": "ipython3",
   "version": "3.5.2"
  }
 },
 "nbformat": 4,
 "nbformat_minor": 2
}
