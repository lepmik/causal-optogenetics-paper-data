{
 "cells": [
  {
   "cell_type": "code",
   "execution_count": 131,
   "metadata": {},
   "outputs": [
    {
     "name": "stdout",
     "output_type": "stream",
     "text": [
      "The autoreload extension is already loaded. To reload it, use:\n",
      "  %reload_ext autoreload\n"
     ]
    }
   ],
   "source": [
    "%matplotlib inline\n",
    "%load_ext autoreload\n",
    "%autoreload 2\n",
    "\n",
    "from method import IV\n",
    "import matplotlib.pyplot as plt\n",
    "from matplotlib.gridspec import GridSpec, GridSpecFromSubplotSpec\n",
    "import numpy as np\n",
    "import quantities as pq\n",
    "import seaborn as sns\n",
    "import sys\n",
    "sys.path.append('../exana/'),\n",
    "from exana.stimulus import plot_psth\n",
    "from exana.statistics.plot import plot_xcorr, plot_autocorr\n",
    "from exana.statistics.tools import ccg_significance, correlogram, ccg\n",
    "from method import IV\n",
    "\n",
    "import pandas as pd\n",
    "import scipy\n",
    "import neo\n",
    "import exana\n",
    "\n",
    "import pdb\n",
    "from scipy.ndimage.filters import gaussian_filter1d as gaussfilt\n",
    "\n",
    "import requests\n",
    "import os\n",
    "\n",
    "import tools_experimentaldata as tls_exp\n",
    "from method import IV\n",
    "\n",
    "from tools import savefig, fix_figure, coef_var, corrcoef, set_style, despine\n",
    "import statsmodels.api as sm\n",
    "from scipy.cluster.hierarchy import dendrogram, linkage  \n",
    "from scipy import fftpack\n",
    "from exana.statistics.tools import hollow_kernel as hk\n"
   ]
  },
  {
   "cell_type": "code",
   "execution_count": 132,
   "metadata": {},
   "outputs": [],
   "source": [
    "# Load params\n",
    "from params_experimentaldata import *\n",
    "# update figure settings\n",
    "\n"
   ]
  },
  {
   "cell_type": "code",
   "execution_count": 11,
   "metadata": {},
   "outputs": [],
   "source": [
    "units_db = tls_exp.load_unitlabels('optoLabels.mat', data_dir)\n",
    "df_tmp = units_db.drop_duplicates(['animal', 'date'])\n",
    "relevant_data = df_tmp.groupby('animal')['date'].apply(list).to_dict()\n",
    "\n",
    "for animal_i in relevant_data.keys():\n",
    "    for date_i in relevant_data[animal_i]:\n",
    "        for entry in blk_blacklist:\n",
    "            if animal_i == entry['animal'] and date_i == entry['date']:\n",
    "                relevant_data[animal_i].remove(entry['date'])\n",
    "            "
   ]
  },
  {
   "cell_type": "code",
   "execution_count": 12,
   "metadata": {},
   "outputs": [],
   "source": [
    "load_orig_files = False\n",
    "\n",
    "if load_orig_files:\n",
    "    tls_exp.download_files_by_dict(relevant_data,\n",
    "                                   data_dir,\n",
    "                                   n_shanks,\n",
    "                                   files_ext_general,\n",
    "                                   files_ext_by_shank,\n",
    "                                   link_db)\n",
    "\n",
    "    blks = tls_exp.create_neo_structure(relevant_data,\n",
    "                                        data_dir,\n",
    "                                        n_shanks,\n",
    "                                        sampling_rate,\n",
    "                                        unit_spiketime)\n",
    "\n",
    "    tls_exp.add_stimulation_data_to_blocks(blks)\n",
    "    tls_exp.annotate_units_from_db(units_db, blks)\n",
    "\n",
    "else:\n",
    "    blks = []\n",
    "    for animal in relevant_data.keys():\n",
    "        for date in relevant_data[animal]:\n",
    "            nio = neo.io.PickleIO(data_dir + 'neo_files/' + animal + '_' + date + '.pckl')\n",
    "            blk = nio.read_block()\n",
    "            blks.append(blk)"
   ]
  },
  {
   "cell_type": "code",
   "execution_count": 13,
   "metadata": {},
   "outputs": [
    {
     "name": "stderr",
     "output_type": "stream",
     "text": [
      "/home/jovyan/work/instrumentalVariable/causal-optoconnectics/tools_experimentaldata.py:973: RuntimeWarning: invalid value encountered in greater_equal\n",
      "  sel.append(epc.annotations['intensity'] >= min_intens)\n"
     ]
    }
   ],
   "source": [
    "blks = tls_exp.select_blocks_upon_stimtype(blks,\n",
    "    stimtype='pulse', min_intens=1)"
   ]
  },
  {
   "cell_type": "code",
   "execution_count": 66,
   "metadata": {},
   "outputs": [],
   "source": [
    "blks = tls_exp.group_stimulations(blks,\n",
    "                                  sep_bins,\n",
    "                                  sep_kernel_width,\n",
    "                                  sep_threshold)"
   ]
  },
  {
   "cell_type": "code",
   "execution_count": 161,
   "metadata": {},
   "outputs": [],
   "source": [
    "df_cch = tls_exp.find_significant_stimulations(blks,\n",
    "   stimccg_binsize,\n",
    "   stimccg_limit,\n",
    "   condition_annot_unit={'tagged': True})"
   ]
  },
  {
   "cell_type": "code",
   "execution_count": 166,
   "metadata": {},
   "outputs": [
    {
     "data": {
      "text/plain": [
       "animal                                                     camkii4\n",
       "bins             [-100.5 ms, -97.5 ms, -94.5 ms, -91.5 ms, -88....\n",
       "cch              [8, 7, 9, 7, 7, 8, 7, 8, 9, 7, 9, 8, 7, 7, 5, ...\n",
       "cluster                                                          7\n",
       "date                                                      20160823\n",
       "intens_mean                                                1632.35\n",
       "intens_start                                               1630.27\n",
       "intens_stop                                                1634.86\n",
       "pfast            [0.4607678020728066, 0.6012732215337289, 0.329...\n",
       "rate_baseline                                              7.88235\n",
       "shank_stim                                                       3\n",
       "shank_unit                                                       3\n",
       "Name: 3, dtype: object"
      ]
     },
     "execution_count": 166,
     "metadata": {},
     "output_type": "execute_result"
    }
   ],
   "source": [
    "df_cch.loc[3]"
   ]
  },
  {
   "cell_type": "code",
   "execution_count": 169,
   "metadata": {},
   "outputs": [
    {
     "data": {
      "image/png": "[encoded data removed]",
      "text/plain": [
       "<Figure size 432x288 with 2 Axes>"
      ]
     },
     "metadata": {},
     "output_type": "display_data"
    }
   ],
   "source": [
    "fig, ax = plt.subplots(1)\n",
    "ax.plot(df_cch.loc[3]['bins'], df_cch.loc[3]['cch'])\n",
    "ax.axhline(df_cch.loc[3]['rate_baseline'])\n",
    "ax2 = ax.twinx()\n",
    "ax2.plot(df_cch.loc[3]['bins'], df_cch.loc[3]['pfast'], c='r')\n",
    "ax2.set_ylim(0, 0.01)\n",
    "\n",
    "ax.set_xlim(-1., 40.)\n",
    "ax2.set_xlim(-1., 40.)\n",
    "plt.show()"
   ]
  },
  {
   "cell_type": "code",
   "execution_count": 178,
   "metadata": {},
   "outputs": [
    {
     "data": {
      "text/plain": [
       "animal   date      cluster  shank_unit\n",
       "camkii4  20160823  3.0      3.0           2203.590048\n",
       "                   4.0      3.0           2203.590048\n",
       "                            4.0           2203.590048\n",
       "                   5.0      3.0           2203.590048\n",
       "                            4.0           2203.590048\n",
       "                   6.0      4.0           2203.590048\n",
       "                   7.0      3.0           2203.590048\n",
       "                            4.0           2203.590048\n",
       "                   8.0      4.0           2203.590048\n",
       "                   10.0     3.0           2203.590048\n",
       "                            4.0           2203.590048\n",
       "                   11.0     4.0           2203.590048\n",
       "                   12.0     4.0           2203.590048\n",
       "                   13.0     3.0           2203.590048\n",
       "                            4.0           2203.590048\n",
       "                   14.0     3.0           2203.590048\n",
       "                   15.0     3.0           2203.590048\n",
       "                   17.0     3.0           2203.590048\n",
       "                   18.0     3.0           2203.590048\n",
       "                   21.0     3.0           2203.590048\n",
       "                   22.0     3.0           2203.590048\n",
       "                   24.0     3.0           2203.590048\n",
       "                   28.0     3.0           2203.590048\n",
       "                   29.0     3.0           2203.590048\n",
       "                   30.0     3.0           2203.590048\n",
       "         20160824  2.0      4.0           2333.197080\n",
       "                   6.0      4.0           2333.197080\n",
       "                   7.0      4.0           2333.197080\n",
       "                   8.0      4.0           2333.197080\n",
       "                   11.0     4.0           2333.197080\n",
       "                   12.0     4.0           2333.197080\n",
       "                   13.0     4.0           2333.197080\n",
       "                   14.0     4.0           2333.197080\n",
       "                   16.0     4.0           2333.197080\n",
       "                   17.0     4.0           2333.197080\n",
       "                   18.0     4.0           2333.197080\n",
       "                   19.0     4.0           2333.197080\n",
       "                   26.0     4.0           2333.197080\n",
       "                   28.0     4.0           2333.197080\n",
       "camkii5  20160930  2.0      1.0           3403.162409\n",
       "                   11.0     1.0           3403.162409\n",
       "                   18.0     2.0           3403.162409\n",
       "         20161004  4.0      2.0           6185.859513\n",
       "                   8.0      1.0           6185.859513\n",
       "                   11.0     1.0           6185.859513\n",
       "                   12.0     1.0           6185.859513\n",
       "Name: intens_mean, dtype: float64"
      ]
     },
     "execution_count": 178,
     "metadata": {},
     "output_type": "execute_result"
    }
   ],
   "source": [
    "# for each unit, what is the strongest available stimulation?\n",
    "# how long does it take to be significantly modulated?\n",
    "group_obj = df_cch.groupby(['animal', 'date', 'cluster', 'shank_unit'])\n",
    "group_obj['intens_mean'].max()"
   ]
  },
  {
   "cell_type": "code",
   "execution_count": 79,
   "metadata": {},
   "outputs": [
    {
     "data": {
      "image/png": "[encoded data removed]",
      "text/plain": [
       "<Figure size 432x288 with 1 Axes>"
      ]
     },
     "metadata": {},
     "output_type": "display_data"
    }
   ],
   "source": [
    "plt.hist(epc.annotations['intensity'][epc.annotations['stim_group'] == ])\n",
    "plt.show()"
   ]
  },
  {
   "cell_type": "code",
   "execution_count": null,
   "metadata": {},
   "outputs": [],
   "source": []
  },
  {
   "cell_type": "code",
   "execution_count": 32,
   "metadata": {},
   "outputs": [
    {
     "name": "stderr",
     "output_type": "stream",
     "text": [
      "/opt/conda/lib/python3.6/site-packages/scipy/fftpack/basic.py:160: FutureWarning: Using a non-tuple sequence for multidimensional indexing is deprecated; use `arr[tuple(seq)]` instead of `arr[seq]`. In the future this will be interpreted as an array index, `arr[np.array(seq)]`, which will result either in an error or a different result.\n",
      "  z[index] = x\n"
     ]
    },
    {
     "data": {
      "text/plain": [
       "array([[[5.22861834e+06  +0.j        , 1.94624532e+03+259.18902196j,\n",
       "         1.40171221e+03+323.95382769j, ...,\n",
       "         7.44359375e+02-309.34956406j, 1.40171221e+03-323.95382769j,\n",
       "         1.94624532e+03-259.18902196j]]])"
      ]
     },
     "execution_count": 32,
     "metadata": {},
     "output_type": "execute_result"
    }
   ],
   "source": [
    "ar = fftpack.fft2(np.array([intens.values])[:, np.newaxis])\n",
    "ar"
   ]
  },
  {
   "cell_type": "code",
   "execution_count": 20,
   "metadata": {},
   "outputs": [
    {
     "ename": "AttributeError",
     "evalue": "module 'exana.statistics' has no attribute 'hollow_gaussian'",
     "output_type": "error",
     "traceback": [
      "\u001b[0;31m---------------------------------------------------------------------------\u001b[0m",
      "\u001b[0;31mAttributeError\u001b[0m                            Traceback (most recent call last)",
      "\u001b[0;32m<ipython-input-20-4d5eba3004ca>\u001b[0m in \u001b[0;36m<module>\u001b[0;34m()\u001b[0m\n\u001b[0;32m----> 1\u001b[0;31m \u001b[0mkernel\u001b[0m \u001b[0;34m=\u001b[0m \u001b[0mexana\u001b[0m\u001b[0;34m.\u001b[0m\u001b[0mstatistics\u001b[0m\u001b[0;34m.\u001b[0m\u001b[0mhollow_gaussian\u001b[0m\u001b[0;34m\u001b[0m\u001b[0m\n\u001b[0m",
      "\u001b[0;31mAttributeError\u001b[0m: module 'exana.statistics' has no attribute 'hollow_gaussian'"
     ]
    }
   ],
   "source": [
    "kernel = exana.statistics.hollow_gaussian"
   ]
  },
  {
   "cell_type": "code",
   "execution_count": null,
   "metadata": {},
   "outputs": [],
   "source": []
  }
 ],
 "metadata": {
  "kernelspec": {
   "display_name": "Python 3",
   "language": "python",
   "name": "python3"
  },
  "language_info": {
   "codemirror_mode": {
    "name": "ipython",
    "version": 3
   },
   "file_extension": ".py",
   "mimetype": "text/x-python",
   "name": "python",
   "nbconvert_exporter": "python",
   "pygments_lexer": "ipython3",
   "version": "3.6.5"
  }
 },
 "nbformat": 4,
 "nbformat_minor": 2
}
