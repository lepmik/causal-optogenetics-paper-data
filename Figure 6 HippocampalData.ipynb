{
 "cells": [
  {
   "cell_type": "markdown",
   "metadata": {},
   "source": [
    "# Comparison of IV and CCH method on hippocampal data with optical stimulation of pyramidal neurons\n",
    "\n",
    "Data kindly provided by Sam McKenzie and Daniel Fine English."
   ]
  },
  {
   "cell_type": "code",
   "execution_count": 3,
   "metadata": {},
   "outputs": [
    {
     "name": "stdout",
     "output_type": "stream",
     "text": [
      "The autoreload extension is already loaded. To reload it, use:\n",
      "  %reload_ext autoreload\n"
     ]
    }
   ],
   "source": [
    "%matplotlib inline\n",
    "%load_ext autoreload\n",
    "%autoreload 2\n",
    "\n",
    "from method import IV\n",
    "import matplotlib.pyplot as plt\n",
    "from matplotlib.gridspec import GridSpec, GridSpecFromSubplotSpec\n",
    "import numpy as np\n",
    "import quantities as pq\n",
    "import seaborn as sns\n",
    "import sys\n",
    "sys.path.append('../exana/'),\n",
    "from exana.stimulus import plot_psth\n",
    "from exana.statistics.plot import plot_xcorr, plot_autocorr\n",
    "from exana.statistics.tools import ccg_significance, correlogram, ccg\n",
    "from method import IV\n",
    "\n",
    "import pandas as pd\n",
    "import scipy\n",
    "import neo\n",
    "import exana\n",
    "\n",
    "import pdb\n",
    "from scipy.ndimage.filters import gaussian_filter1d as gaussfilt\n",
    "\n",
    "import requests\n",
    "import os\n",
    "\n",
    "import tools_experimentaldata as tls_exp\n",
    "from method import IV\n",
    "\n",
    "from tools_plot import savefig, fix_figure, set_style, despine\n",
    "import statsmodels.api as sm\n",
    "from scipy.cluster.hierarchy import dendrogram, linkage  \n",
    "from scipy import fftpack\n",
    "from exana.statistics.tools import hollow_kernel as hk\n",
    "from itertools import chain\n",
    "from matplotlib import rc\n",
    "rc('font',**{'family':'sans-serif','sans-serif':['Helvetica']})\n",
    "## for Palatino and other serif fonts use:\n",
    "#rc('font',**{'family':'serif','serif':['Palatino']})\n",
    "rc('text', usetex=True)\n"
   ]
  },
  {
   "cell_type": "code",
   "execution_count": 64,
   "metadata": {},
   "outputs": [],
   "source": [
    "def set_style(style='article', sns_style='white', w=1, h=1):\n",
    "    sdict = {\n",
    "        'article': {\n",
    "            # (11pt font = 360pt, 4.98) (10pt font = 345pt, 4.77)                                                                                                                                                                                                                         \n",
    "            'figure.figsize' : (4.98 * w, 2 * h),\n",
    "            'figure.autolayout': False,\n",
    "            'lines.linewidth': 2,\n",
    "            'font.size'      : 11,\n",
    "            'legend.frameon' : False,\n",
    "            'legend.fontsize': 11,\n",
    "            'font.family'    : 'serif',\n",
    "            'text.usetex'    : True\n",
    "        },\n",
    "        'notebook': {\n",
    "            'figure.figsize' : (16, 9),\n",
    "            'axes.labelsize' : 50,\n",
    "            'lines.linewidth': 4,\n",
    "            'lines.markersize': 20,\n",
    "            'xtick.labelsize': 30,\n",
    "            'ytick.labelsize': 30,\n",
    "            'axes.titlesize' : 20,\n",
    "            'font.size'      : 20,\n",
    "            'legend.frameon' : False,\n",
    "            'legend.fontsize': 35,\n",
    "            'font.family'    : 'serif',\n",
    "            'text.usetex'    : True\n",
    "        }\n",
    "    }\n",
    "    rc = sdict[style]\n",
    "    plt.rcParams.update(rc)\n",
    "    sns.set(rc=rc, style=sns_style,\n",
    "            color_codes=True)\n",
    "set_style('article')"
   ]
  },
  {
   "cell_type": "code",
   "execution_count": 2,
   "metadata": {},
   "outputs": [],
   "source": [
    "# Load params\n",
    "from params_experimentaldata import *\n",
    "# update figure settings\n",
    "\n"
   ]
  },
  {
   "cell_type": "code",
   "execution_count": 3,
   "metadata": {},
   "outputs": [],
   "source": [
    "units_db = tls_exp.load_unitlabels('optoLabels.mat', data_dir)\n",
    "df_tmp = units_db.drop_duplicates(['animal', 'date'])\n",
    "relevant_data = df_tmp.groupby('animal')['date'].apply(list).to_dict()\n",
    "\n",
    "for animal_i in relevant_data.keys():\n",
    "    for date_i in relevant_data[animal_i]:\n",
    "        for entry in blk_blacklist:\n",
    "            if animal_i == entry['animal'] and date_i == entry['date']:\n",
    "                relevant_data[animal_i].remove(entry['date'])\n",
    "            "
   ]
  },
  {
   "cell_type": "code",
   "execution_count": 4,
   "metadata": {},
   "outputs": [
    {
     "data": {
      "text/plain": [
       "{'camkii2': ['20160421'],\n",
       " 'camkii3': ['20160504',\n",
       "  '20160509',\n",
       "  '20160510',\n",
       "  '20160511',\n",
       "  '20160518',\n",
       "  '20160621',\n",
       "  '20160506'],\n",
       " 'camkii4': ['20160815', '20160817', '20160823', '20160824'],\n",
       " 'camkii5': ['20160930', '20161004', '20160921']}"
      ]
     },
     "execution_count": 4,
     "metadata": {},
     "output_type": "execute_result"
    }
   ],
   "source": [
    "relevant_data"
   ]
  },
  {
   "cell_type": "code",
   "execution_count": 5,
   "metadata": {},
   "outputs": [],
   "source": [
    "load_orig_files = False\n",
    "\n",
    "if load_orig_files:\n",
    "    tls_exp.download_files_by_dict(relevant_data,\n",
    "                                   data_dir,\n",
    "                                   n_shanks,\n",
    "                                   files_ext_general,\n",
    "                                   files_ext_by_shank,\n",
    "                                   link_db)\n",
    "\n",
    "    blks = tls_exp.create_neo_structure(relevant_data,\n",
    "                                        data_dir,\n",
    "                                        n_shanks,\n",
    "                                        sampling_rate,\n",
    "                                        unit_spiketime)\n",
    "\n",
    "    tls_exp.add_stimulation_data_to_blocks(blks)\n",
    "    tls_exp.annotate_units_from_db(units_db, blks)\n",
    "\n",
    "else:\n",
    "    blks = []\n",
    "    for animal in relevant_data.keys():\n",
    "        for date in relevant_data[animal]:\n",
    "            nio = neo.io.PickleIO(data_dir + 'neo_files/' + animal + '_' + date + '.pckl')\n",
    "            blk = nio.read_block()\n",
    "            blks.append(blk)"
   ]
  },
  {
   "cell_type": "code",
   "execution_count": 6,
   "metadata": {},
   "outputs": [
    {
     "name": "stderr",
     "output_type": "stream",
     "text": [
      "/home/jovyan/work/instrumentalVariable/causal-optoconnectics/tools_experimentaldata.py:1141: RuntimeWarning: invalid value encountered in greater_equal\n",
      "  sel.append(epc.annotations['intensity'] >= min_intens)\n"
     ]
    }
   ],
   "source": [
    "blks = tls_exp.select_blocks_upon_stimtype(blks,\n",
    "    stimtype='pulse', min_intens=1)"
   ]
  },
  {
   "cell_type": "markdown",
   "metadata": {},
   "source": [
    "## Determine which stimulations intensities have a significant effect  on units\n",
    "We a) group very similar stimulations intensities and b) test whether intensity group has a significant effect on increasing spiking probability of any of the given units by convolving stimulation onsets with spike train.\n",
    "We use the activity before a stimulation as baseline.\n"
   ]
  },
  {
   "cell_type": "code",
   "execution_count": 7,
   "metadata": {},
   "outputs": [],
   "source": [
    "blks = tls_exp.group_stimulations(blks,\n",
    "                                  sep_bins,\n",
    "                                  sep_kernel_width,\n",
    "                                  sep_threshold)"
   ]
  },
  {
   "cell_type": "code",
   "execution_count": 8,
   "metadata": {},
   "outputs": [
    {
     "name": "stderr",
     "output_type": "stream",
     "text": [
      "\r",
      "  0%|          | 0/53 [00:00<?, ?it/s]"
     ]
    },
    {
     "name": "stdout",
     "output_type": "stream",
     "text": [
      "camkii4 20160817\n",
      "Shank: 1\n",
      "Shank: 3\n",
      "camkii4 20160823\n",
      "Shank: 3\n",
      "Group: 0 of 5\n"
     ]
    },
    {
     "name": "stderr",
     "output_type": "stream",
     "text": [
      "100%|██████████| 53/53 [00:20<00:00,  2.58it/s]\n",
      "  0%|          | 0/53 [00:00<?, ?it/s]"
     ]
    },
    {
     "name": "stdout",
     "output_type": "stream",
     "text": [
      "Group: 1 of 5\n"
     ]
    },
    {
     "name": "stderr",
     "output_type": "stream",
     "text": [
      "100%|██████████| 53/53 [00:20<00:00,  2.54it/s]\n",
      "  0%|          | 0/53 [00:00<?, ?it/s]"
     ]
    },
    {
     "name": "stdout",
     "output_type": "stream",
     "text": [
      "Group: 2 of 5\n"
     ]
    },
    {
     "name": "stderr",
     "output_type": "stream",
     "text": [
      "100%|██████████| 53/53 [00:20<00:00,  2.59it/s]\n",
      "  0%|          | 0/53 [00:00<?, ?it/s]"
     ]
    },
    {
     "name": "stdout",
     "output_type": "stream",
     "text": [
      "Group: 3 of 5\n"
     ]
    },
    {
     "name": "stderr",
     "output_type": "stream",
     "text": [
      "100%|██████████| 53/53 [00:21<00:00,  2.50it/s]\n",
      "  0%|          | 0/53 [00:00<?, ?it/s]"
     ]
    },
    {
     "name": "stdout",
     "output_type": "stream",
     "text": [
      "Group: 4 of 5\n"
     ]
    },
    {
     "name": "stderr",
     "output_type": "stream",
     "text": [
      "100%|██████████| 53/53 [00:22<00:00,  2.37it/s]\n",
      "  0%|          | 0/53 [00:00<?, ?it/s]"
     ]
    },
    {
     "name": "stdout",
     "output_type": "stream",
     "text": [
      "Shank: 4\n",
      "Group: 0 of 5\n"
     ]
    },
    {
     "name": "stderr",
     "output_type": "stream",
     "text": [
      "100%|██████████| 53/53 [00:21<00:00,  2.48it/s]\n",
      "  0%|          | 0/53 [00:00<?, ?it/s]"
     ]
    },
    {
     "name": "stdout",
     "output_type": "stream",
     "text": [
      "Group: 1 of 5\n"
     ]
    },
    {
     "name": "stderr",
     "output_type": "stream",
     "text": [
      "100%|██████████| 53/53 [00:21<00:00,  2.50it/s]\n",
      "  0%|          | 0/53 [00:00<?, ?it/s]"
     ]
    },
    {
     "name": "stdout",
     "output_type": "stream",
     "text": [
      "Group: 2 of 5\n"
     ]
    },
    {
     "name": "stderr",
     "output_type": "stream",
     "text": [
      "100%|██████████| 53/53 [00:21<00:00,  2.52it/s]\n",
      "  0%|          | 0/53 [00:00<?, ?it/s]"
     ]
    },
    {
     "name": "stdout",
     "output_type": "stream",
     "text": [
      "Group: 3 of 5\n"
     ]
    },
    {
     "name": "stderr",
     "output_type": "stream",
     "text": [
      "100%|██████████| 53/53 [00:21<00:00,  2.44it/s]\n",
      "  0%|          | 0/53 [00:00<?, ?it/s]"
     ]
    },
    {
     "name": "stdout",
     "output_type": "stream",
     "text": [
      "Group: 4 of 5\n"
     ]
    },
    {
     "name": "stderr",
     "output_type": "stream",
     "text": [
      "100%|██████████| 53/53 [00:21<00:00,  2.44it/s]\n",
      "  0%|          | 0/51 [00:00<?, ?it/s]"
     ]
    },
    {
     "name": "stdout",
     "output_type": "stream",
     "text": [
      "camkii4 20160824\n",
      "Shank: 1\n",
      "Shank: 2\n",
      "Shank: 4\n",
      "Group: 0 of 7\n"
     ]
    },
    {
     "name": "stderr",
     "output_type": "stream",
     "text": [
      "100%|██████████| 51/51 [00:11<00:00,  1.83it/s]\n",
      "  0%|          | 0/51 [00:00<?, ?it/s]"
     ]
    },
    {
     "name": "stdout",
     "output_type": "stream",
     "text": [
      "Group: 1 of 7\n"
     ]
    },
    {
     "name": "stderr",
     "output_type": "stream",
     "text": [
      "100%|██████████| 51/51 [00:10<00:00,  1.90it/s]\n",
      "  0%|          | 0/51 [00:00<?, ?it/s]"
     ]
    },
    {
     "name": "stdout",
     "output_type": "stream",
     "text": [
      "Group: 2 of 7\n"
     ]
    },
    {
     "name": "stderr",
     "output_type": "stream",
     "text": [
      "100%|██████████| 51/51 [00:09<00:00,  2.03it/s]\n",
      "  0%|          | 0/51 [00:00<?, ?it/s]"
     ]
    },
    {
     "name": "stdout",
     "output_type": "stream",
     "text": [
      "Group: 3 of 7\n"
     ]
    },
    {
     "name": "stderr",
     "output_type": "stream",
     "text": [
      "100%|██████████| 51/51 [00:10<00:00,  1.95it/s]\n",
      "  0%|          | 0/51 [00:00<?, ?it/s]"
     ]
    },
    {
     "name": "stdout",
     "output_type": "stream",
     "text": [
      "Group: 4 of 7\n"
     ]
    },
    {
     "name": "stderr",
     "output_type": "stream",
     "text": [
      "100%|██████████| 51/51 [00:09<00:00,  2.02it/s]\n",
      "  0%|          | 0/51 [00:00<?, ?it/s]"
     ]
    },
    {
     "name": "stdout",
     "output_type": "stream",
     "text": [
      "Group: 5 of 7\n"
     ]
    },
    {
     "name": "stderr",
     "output_type": "stream",
     "text": [
      "100%|██████████| 51/51 [00:09<00:00,  2.02it/s]\n",
      "  0%|          | 0/51 [00:00<?, ?it/s]"
     ]
    },
    {
     "name": "stdout",
     "output_type": "stream",
     "text": [
      "Group: 6 of 7\n"
     ]
    },
    {
     "name": "stderr",
     "output_type": "stream",
     "text": [
      "100%|██████████| 51/51 [00:09<00:00,  2.02it/s]\n",
      "  0%|          | 0/40 [00:00<?, ?it/s]"
     ]
    },
    {
     "name": "stdout",
     "output_type": "stream",
     "text": [
      "camkii5 20160930\n",
      "Shank: 1\n",
      "Group: 0 of 1\n"
     ]
    },
    {
     "name": "stderr",
     "output_type": "stream",
     "text": [
      "100%|██████████| 40/40 [00:00<00:00, 50.22it/s]\n",
      "  0%|          | 0/40 [00:00<?, ?it/s]"
     ]
    },
    {
     "name": "stdout",
     "output_type": "stream",
     "text": [
      "Shank: 2\n",
      "Group: 0 of 1\n"
     ]
    },
    {
     "name": "stderr",
     "output_type": "stream",
     "text": [
      "100%|██████████| 40/40 [00:00<00:00, 51.88it/s]\n",
      "  0%|          | 0/25 [00:00<?, ?it/s]"
     ]
    },
    {
     "name": "stdout",
     "output_type": "stream",
     "text": [
      "camkii5 20161004\n",
      "Shank: 1\n",
      "Group: 0 of 6\n"
     ]
    },
    {
     "name": "stderr",
     "output_type": "stream",
     "text": [
      "100%|██████████| 25/25 [00:00<00:00, 25.25it/s]\n",
      "  0%|          | 0/25 [00:00<?, ?it/s]"
     ]
    },
    {
     "name": "stdout",
     "output_type": "stream",
     "text": [
      "Group: 1 of 6\n"
     ]
    },
    {
     "name": "stderr",
     "output_type": "stream",
     "text": [
      "100%|██████████| 25/25 [00:01<00:00, 24.41it/s]\n",
      "  0%|          | 0/25 [00:00<?, ?it/s]"
     ]
    },
    {
     "name": "stdout",
     "output_type": "stream",
     "text": [
      "Group: 2 of 6\n"
     ]
    },
    {
     "name": "stderr",
     "output_type": "stream",
     "text": [
      "100%|██████████| 25/25 [00:01<00:00, 23.79it/s]\n",
      "  0%|          | 0/25 [00:00<?, ?it/s]"
     ]
    },
    {
     "name": "stdout",
     "output_type": "stream",
     "text": [
      "Group: 3 of 6\n"
     ]
    },
    {
     "name": "stderr",
     "output_type": "stream",
     "text": [
      "100%|██████████| 25/25 [00:01<00:00, 23.74it/s]\n",
      "  0%|          | 0/25 [00:00<?, ?it/s]"
     ]
    },
    {
     "name": "stdout",
     "output_type": "stream",
     "text": [
      "Group: 4 of 6\n"
     ]
    },
    {
     "name": "stderr",
     "output_type": "stream",
     "text": [
      "100%|██████████| 25/25 [00:01<00:00, 24.61it/s]\n",
      "  0%|          | 0/25 [00:00<?, ?it/s]"
     ]
    },
    {
     "name": "stdout",
     "output_type": "stream",
     "text": [
      "Group: 5 of 6\n"
     ]
    },
    {
     "name": "stderr",
     "output_type": "stream",
     "text": [
      "100%|██████████| 25/25 [00:00<00:00, 26.16it/s]\n",
      "  0%|          | 0/25 [00:00<?, ?it/s]"
     ]
    },
    {
     "name": "stdout",
     "output_type": "stream",
     "text": [
      "Shank: 2\n",
      "Group: 0 of 5\n"
     ]
    },
    {
     "name": "stderr",
     "output_type": "stream",
     "text": [
      "100%|██████████| 25/25 [00:01<00:00, 23.93it/s]\n",
      "  0%|          | 0/25 [00:00<?, ?it/s]"
     ]
    },
    {
     "name": "stdout",
     "output_type": "stream",
     "text": [
      "Group: 1 of 5\n"
     ]
    },
    {
     "name": "stderr",
     "output_type": "stream",
     "text": [
      "100%|██████████| 25/25 [00:01<00:00, 24.21it/s]\n",
      "  0%|          | 0/25 [00:00<?, ?it/s]"
     ]
    },
    {
     "name": "stdout",
     "output_type": "stream",
     "text": [
      "Group: 2 of 5\n"
     ]
    },
    {
     "name": "stderr",
     "output_type": "stream",
     "text": [
      "100%|██████████| 25/25 [00:01<00:00, 24.30it/s]\n",
      "  0%|          | 0/25 [00:00<?, ?it/s]"
     ]
    },
    {
     "name": "stdout",
     "output_type": "stream",
     "text": [
      "Group: 3 of 5\n"
     ]
    },
    {
     "name": "stderr",
     "output_type": "stream",
     "text": [
      "100%|██████████| 25/25 [00:01<00:00, 24.55it/s]\n",
      "  0%|          | 0/25 [00:00<?, ?it/s]"
     ]
    },
    {
     "name": "stdout",
     "output_type": "stream",
     "text": [
      "Group: 4 of 5\n"
     ]
    },
    {
     "name": "stderr",
     "output_type": "stream",
     "text": [
      "100%|██████████| 25/25 [00:01<00:00, 24.74it/s]\n",
      "100%|██████████| 16/16 [00:00<00:00, 40160.90it/s]\n",
      "100%|██████████| 16/16 [00:00<00:00, 16950.96it/s]\n",
      "100%|██████████| 16/16 [00:00<00:00, 18482.20it/s]\n",
      "100%|██████████| 16/16 [00:00<00:00, 47662.55it/s]\n",
      "100%|██████████| 16/16 [00:00<00:00, 49563.42it/s]"
     ]
    },
    {
     "name": "stdout",
     "output_type": "stream",
     "text": [
      "camkii5 20160921\n",
      "Shank: 4\n",
      "Group: 0 of 5\n",
      "Group: 1 of 5\n",
      "Group: 2 of 5\n",
      "Group: 3 of 5\n",
      "Group: 4 of 5\n"
     ]
    },
    {
     "name": "stderr",
     "output_type": "stream",
     "text": [
      "\n"
     ]
    }
   ],
   "source": [
    "df_stim = tls_exp.find_significant_stimulations(blks,\n",
    "   stimccg_binsize,\n",
    "   stimccg_limit,\n",
    "   stimccg_pthres,\n",
    "   condition_annot_unit={'tagged': True})"
   ]
  },
  {
   "cell_type": "markdown",
   "metadata": {},
   "source": [
    "### Example plot of  stimulation response"
   ]
  },
  {
   "cell_type": "code",
   "execution_count": 104,
   "metadata": {},
   "outputs": [
    {
     "data": {
      "image/png": "[encoded data removed]",
      "text/plain": [
       "<Figure size 358.56x144 with 2 Axes>"
      ]
     },
     "metadata": {},
     "output_type": "display_data"
    }
   ],
   "source": [
    "fig, ax = plt.subplots(1)\n",
    "row_sel = 2\n",
    "ln0 = ax.plot(df_stim.loc[row_sel]['bins'],\n",
    "        df_stim.loc[row_sel]['cch'],\n",
    "       label='count')\n",
    "ln1 = ax.axhline(df_stim.loc[row_sel]['rate_baseline'],\n",
    "           label='baseline',\n",
    "          linestyle='--')\n",
    "ax.set_xlabel(r'$\\Delta t$')\n",
    "ax.set_ylabel(r'count')\n",
    "ax2 = ax.twinx()\n",
    "ln2 = ax2.plot(df_stim.loc[row_sel]['bins'],\n",
    "         df_stim.loc[row_sel]['pfast'], c='r',\n",
    "        label='prob')\n",
    "ln3 = ax2.axhline(stimccg_pthres, c='r', linestyle='--',alpha=0.5, label='sign. level')\n",
    "ax2.set_ylabel(r'prob')\n",
    "\n",
    "ax2.set_ylim(0, 0.1)\n",
    "ax.set_xlim(-50., 50.)\n",
    "ax2.set_xlim(-50., 50.)\n",
    "\n",
    "ln = ln0+[ln1]+ln2+[ln3]\n",
    "labs = [l.get_label() for l in ln]\n",
    "ax.legend(ln, labs, loc=0)\n",
    "ax.set_title('Example CCH between stimulus onset and spikes')\n",
    "plt.show()"
   ]
  },
  {
   "cell_type": "markdown",
   "metadata": {},
   "source": [
    "## Overview of stimulation intensities\n",
    "For each unit, we show the strongest available stimulation."
   ]
  },
  {
   "cell_type": "code",
   "execution_count": 109,
   "metadata": {},
   "outputs": [],
   "source": [
    "\n",
    "group_obj = df_stim.groupby(['animal', 'date', 'shank_unit', 'cluster', 'shank_stim'])\n",
    "\n",
    "idxmax = group_obj['intens_mean'].idxmax()\n",
    "idxmin = group_obj['intens_mean'].idxmin()\n"
   ]
  },
  {
   "cell_type": "code",
   "execution_count": 110,
   "metadata": {},
   "outputs": [
    {
     "data": {
      "text/plain": [
       "animal   date      shank_unit  cluster  shank_stim\n",
       "camkii4  20160823  3.0         3.0      3.0           2203.590048\n",
       "                                        4.0           2165.124239\n",
       "                               4.0      3.0           2203.590048\n",
       "                                        4.0           2165.124239\n",
       "                               5.0      3.0           2203.590048\n",
       "                                        4.0           2165.124239\n",
       "                               7.0      3.0           2203.590048\n",
       "                                        4.0           2165.124239\n",
       "                               10.0     3.0           2203.590048\n",
       "                                        4.0           2165.124239\n",
       "                               13.0     3.0           2203.590048\n",
       "                                        4.0           2165.124239\n",
       "                               14.0     3.0           2203.590048\n",
       "                                        4.0           2165.124239\n",
       "                               15.0     3.0           2203.590048\n",
       "                                        4.0           2165.124239\n",
       "                               17.0     3.0           2203.590048\n",
       "                                        4.0           2165.124239\n",
       "                               18.0     3.0           2203.590048\n",
       "                                        4.0           2165.124239\n",
       "                               21.0     3.0           2203.590048\n",
       "                                        4.0           2165.124239\n",
       "                               22.0     3.0           2203.590048\n",
       "                                        4.0           2165.124239\n",
       "                               24.0     3.0           2203.590048\n",
       "                                        4.0           2165.124239\n",
       "                               28.0     3.0           2203.590048\n",
       "                                        4.0           2165.124239\n",
       "                               29.0     3.0           2203.590048\n",
       "                                        4.0           2165.124239\n",
       "                                                         ...     \n",
       "                   4.0         13.0     3.0           2203.590048\n",
       "                                        4.0           2165.124239\n",
       "         20160824  4.0         2.0      4.0           2333.197080\n",
       "                               6.0      4.0           2333.197080\n",
       "                               7.0      4.0           2333.197080\n",
       "                               8.0      4.0           2333.197080\n",
       "                               11.0     4.0           2333.197080\n",
       "                               12.0     4.0           2333.197080\n",
       "                               13.0     4.0           2333.197080\n",
       "                               14.0     4.0           2333.197080\n",
       "                               16.0     4.0           2333.197080\n",
       "                               17.0     4.0           2333.197080\n",
       "                               18.0     4.0           2333.197080\n",
       "                               19.0     4.0           2333.197080\n",
       "                               26.0     4.0           2333.197080\n",
       "                               28.0     4.0           2333.197080\n",
       "camkii5  20160930  1.0         2.0      1.0           3403.162409\n",
       "                                        2.0           1605.092703\n",
       "                               11.0     1.0           3403.162409\n",
       "                                        2.0           1605.092703\n",
       "                   2.0         18.0     1.0           3403.162409\n",
       "                                        2.0           1605.092703\n",
       "         20161004  1.0         8.0      1.0           6185.859513\n",
       "                                        2.0           1984.824865\n",
       "                               11.0     1.0           6185.859513\n",
       "                                        2.0           1984.824865\n",
       "                               12.0     1.0           6185.859513\n",
       "                                        2.0           1984.824865\n",
       "                   2.0         4.0      1.0           6185.859513\n",
       "                                        2.0           1984.824865\n",
       "Name: intens_mean, Length: 78, dtype: float64"
      ]
     },
     "execution_count": 110,
     "metadata": {},
     "output_type": "execute_result"
    }
   ],
   "source": [
    "group_obj['intens_mean'].max()"
   ]
  },
  {
   "cell_type": "markdown",
   "metadata": {},
   "source": [
    "## Response time by stimulation intensity\n",
    "We visualize the time it takes for units to show a significant increase in spiking probability for maximal stimulation intensities on same shank vs other shanks.\n",
    "The last bin, $\\Delta t = 25$ ms, includes also larger times"
   ]
  },
  {
   "cell_type": "code",
   "execution_count": 124,
   "metadata": {},
   "outputs": [],
   "source": [
    "t_max_same = []\n",
    "t_max_diff = []\n",
    "intens_max_same =[]\n",
    "intens_max_diff =[]\n",
    "for i in idxmax:\n",
    "    if df_stim.loc[i]['shank_stim'] == df_stim.loc[i]['shank_unit']:\n",
    "        t_max_same.append(df_stim.loc[i]['first_bin_sig'])\n",
    "        intens_max_same.append(df_stim.loc[i]['intens_mean'])\n",
    "    if df_stim.loc[i]['shank_stim'] != df_stim.loc[i]['shank_unit']:\n",
    "        t_max_diff.append(df_stim.loc[i]['first_bin_sig'])\n",
    "        intens_max_diff.append(df_stim.loc[i]['intens_mean'])\n",
    "t_max_same = np.array(t_max_same)\n",
    "t_max_diff = np.array(t_max_diff)"
   ]
  },
  {
   "cell_type": "code",
   "execution_count": 125,
   "metadata": {},
   "outputs": [],
   "source": [
    "t_min_same = []\n",
    "t_min_diff = []\n",
    "intens_min_same =[]\n",
    "intens_min_diff =[]\n",
    "for i in idxmin:\n",
    "    if df_stim.loc[i]['shank_stim'] == df_stim.loc[i]['shank_unit']:\n",
    "        t_min_same.append(df_stim.loc[i]['first_bin_sig'])\n",
    "        intens_min_same.append(df_stim.loc[i]['intens_mean'])\n",
    "    if df_stim.loc[i]['shank_stim'] != df_stim.loc[i]['shank_unit']:\n",
    "        t_min_diff.append(df_stim.loc[i]['first_bin_sig'])\n",
    "        intens_min_diff.append(df_stim.loc[i]['intens_mean'])\n",
    "t_min_same = np.array(t_min_same)\n",
    "t_min_diff = np.array(t_min_diff)"
   ]
  },
  {
   "cell_type": "code",
   "execution_count": 130,
   "metadata": {},
   "outputs": [
    {
     "data": {
      "image/png": "[encoded data removed]",
      "text/plain": [
       "<Figure size 432x216 with 1 Axes>"
      ]
     },
     "metadata": {},
     "output_type": "display_data"
    }
   ],
   "source": [
    "fig, ax = plt.subplots(1,1, figsize=(6,3))\n",
    "bins = np.arange(1.5, 31.5, 3)\n",
    "hist, bins = np.histogram(t_max_same, bins)\n",
    "hist = hist / len(t_max_same)\n",
    "ax.bar(bins[:-1], hist)\n",
    "despine(ax)\n",
    "ax.set_title('Time to significant response upon stimulation with maximal intensity on same shank')\n",
    "ax.set_xlabel(r'$\\Delta t$ stimulation onset [ms]')\n",
    "ax.set_ylabel('Fraction of units')\n",
    "plt.show()"
   ]
  },
  {
   "cell_type": "code",
   "execution_count": 133,
   "metadata": {},
   "outputs": [
    {
     "data": {
      "image/png": "[encoded data removed]",
      "text/plain": [
       "<Figure size 432x216 with 1 Axes>"
      ]
     },
     "metadata": {},
     "output_type": "display_data"
    }
   ],
   "source": [
    "fig, ax = plt.subplots(1,1, figsize=(6,3))\n",
    "bins = np.arange(1.5, 31.5, 3)\n",
    "hist, bins = np.histogram(t_min_diff, bins)\n",
    "hist = hist / len(t_min_diff)\n",
    "ax.bar(bins[:-1], hist)\n",
    "despine(ax)\n",
    "ax.set_title('Time to significant response upon stimulation with minimal intensity on different shank')\n",
    "ax.set_xlabel(r'$\\Delta t$ stimulation onset [ms]')\n",
    "ax.set_ylabel('Fraction of units')\n",
    "plt.show()"
   ]
  },
  {
   "cell_type": "markdown",
   "metadata": {},
   "source": [
    "### Observation\n",
    "Stimulation on a different shank leads only in very few cases to a significant reaction in a reasonable time frame."
   ]
  },
  {
   "cell_type": "markdown",
   "metadata": {},
   "source": [
    "## Calculate IV\n",
    "We calculate the wald estimate ofor those stimulations that show a significant response within the IV window."
   ]
  },
  {
   "cell_type": "code",
   "execution_count": 171,
   "metadata": {},
   "outputs": [],
   "source": [
    "windw = iv_window.rescale(df_stim['first_bin_sig'].values[0].units).magnitude[np.newaxis][0]\n",
    "df_sigstim = df_stim[df_stim['first_bin_sig'] <= windw]\n"
   ]
  },
  {
   "cell_type": "code",
   "execution_count": 174,
   "metadata": {},
   "outputs": [
    {
     "name": "stderr",
     "output_type": "stream",
     "text": [
      "/opt/conda/lib/python3.6/site-packages/ipykernel_launcher.py:1: SettingWithCopyWarning: \n",
      "A value is trying to be set on a copy of a slice from a DataFrame.\n",
      "Try using .loc[row_indexer,col_indexer] = value instead\n",
      "\n",
      "See the caveats in the documentation: http://pandas.pydata.org/pandas-docs/stable/indexing.html#indexing-view-versus-copy\n",
      "  \"\"\"Entry point for launching an IPython kernel.\n"
     ]
    }
   ],
   "source": [
    "df_sigstim['intens_mean'] = df_sigstim['intens_mean'].astype(int)\n",
    "group_sigstim = df_sigstim.groupby(['animal', 'date', 'shank_unit', 'cluster', 'shank_stim'])\n"
   ]
  },
  {
   "cell_type": "code",
   "execution_count": 254,
   "metadata": {},
   "outputs": [
    {
     "data": {
      "text/plain": [
       "38     1304.0\n",
       "43     1304.0\n",
       "63     1303.0\n",
       "85     1302.0\n",
       "109    1300.0\n",
       "111    1300.0\n",
       "146    1308.0\n",
       "172    1307.0\n",
       "207    1301.0\n",
       "243    1294.0\n",
       "257    1794.0\n",
       "264    1091.0\n",
       "265    1091.0\n",
       "267    1091.0\n",
       "268    1091.0\n",
       "269    1091.0\n",
       "270    1091.0\n",
       "271    1091.0\n",
       "272    1091.0\n",
       "273    1091.0\n",
       "274    1091.0\n",
       "275    1091.0\n",
       "276    1091.0\n",
       "277    1091.0\n",
       "278     124.0\n",
       "279     124.0\n",
       "280     124.0\n",
       "281     124.0\n",
       "283     124.0\n",
       "284     124.0\n",
       "        ...  \n",
       "345    1047.0\n",
       "346    1047.0\n",
       "347    1047.0\n",
       "348    1044.0\n",
       "349    1044.0\n",
       "350    1044.0\n",
       "351    1044.0\n",
       "352    1044.0\n",
       "353    1044.0\n",
       "356     443.0\n",
       "359     441.0\n",
       "362     493.0\n",
       "363     493.0\n",
       "365     493.0\n",
       "366     439.0\n",
       "367     439.0\n",
       "368     439.0\n",
       "369     439.0\n",
       "370     434.0\n",
       "371     434.0\n",
       "372     434.0\n",
       "373     434.0\n",
       "377     153.0\n",
       "381     495.0\n",
       "382     492.0\n",
       "383     492.0\n",
       "385     492.0\n",
       "389     492.0\n",
       "393     490.0\n",
       "397     485.0\n",
       "Name: n_stims, Length: 114, dtype: float64"
      ]
     },
     "execution_count": 254,
     "metadata": {},
     "output_type": "execute_result"
    }
   ],
   "source": []
  },
  {
   "cell_type": "code",
   "execution_count": 180,
   "metadata": {},
   "outputs": [],
   "source": []
  },
  {
   "cell_type": "code",
   "execution_count": 288,
   "metadata": {},
   "outputs": [
    {
     "name": "stdout",
     "output_type": "stream",
     "text": [
      "camkii4: 20160817\n",
      "camkii4: 20160823\n",
      "camkii4: 20160824\n",
      "camkii5: 20160930\n",
      "camkii5: 20161004\n",
      "camkii5: 20160921\n"
     ]
    }
   ],
   "source": [
    "df_iv = tls_exp.calculate_iv_sigstim(\n",
    "    blks,\n",
    "    df_sigstim,\n",
    "    iv_min_n_stim,\n",
    "    iv_window,\n",
    "    iv_ltnc,\n",
    "    condition_annot_pre={'tagged': True},\n",
    "    condition_annot_post={'tagged': False})"
   ]
  },
  {
   "cell_type": "markdown",
   "metadata": {},
   "source": [
    "### Calculate CCH estimate\n",
    "We calculate the so called transmission probability, the CCH estimate of synaptic coupling."
   ]
  },
  {
   "cell_type": "code",
   "execution_count": null,
   "metadata": {},
   "outputs": [],
   "source": [
    "df_cch_all = tls_exp.calculate_transmission_prob(\n",
    "    blks,\n",
    "    ccg_time_limit,\n",
    "    ccg_binsize,\n",
    "    ccg_hollow_fraction,\n",
    "    ccg_width,\n",
    "    ccg_sig_level_causal,\n",
    "    ccg_sig_level_fast,\n",
    "    ccg_peak_wndw,\n",
    "    condition_annot_pre={'tagged': True},\n",
    "    condition_annot_post={'tagged': False})\n",
    "df_cch_all.rename(columns={'transprob': 'transproball',\n",
    "                            'bool_cnnctd': 'boolcnnctdall'}, inplace=True)"
   ]
  },
  {
   "cell_type": "markdown",
   "metadata": {},
   "source": [
    "For curiosity we do it also for only spikes that arised spontaneously and the first evoked spikes"
   ]
  },
  {
   "cell_type": "code",
   "execution_count": 22,
   "metadata": {},
   "outputs": [],
   "source": [
    "blks_nostim = tls_exp.keep_spikes_by_stim(blks, keep='nostim')"
   ]
  },
  {
   "cell_type": "code",
   "execution_count": 23,
   "metadata": {},
   "outputs": [
    {
     "name": "stdout",
     "output_type": "stream",
     "text": [
      "camkii4: 20160817\n",
      "camkii4: 20160823\n",
      "camkii4: 20160824\n",
      "camkii5: 20160930\n",
      "camkii5: 20161004\n",
      "camkii5: 20160921\n"
     ]
    }
   ],
   "source": [
    "df_cch_nostim = tls_exp.calculate_transmission_prob(\n",
    "    blks_nostim,\n",
    "    ccg_time_limit,\n",
    "    ccg_binsize,\n",
    "    ccg_hollow_fraction,\n",
    "    ccg_width,\n",
    "    ccg_sig_level_causal,\n",
    "    ccg_sig_level_fast,\n",
    "    ccg_peak_wndw, \n",
    "    condition_annot_pre={'tagged': True},\n",
    "    condition_annot_post={'tagged': False})\n",
    "df_cch_nostim.rename(\n",
    "    columns={'transprob': 'transprobspont',\n",
    "             'bool_cnnctd': 'boolcnnctdspont'},\n",
    "    inplace=True)"
   ]
  },
  {
   "cell_type": "code",
   "execution_count": 24,
   "metadata": {},
   "outputs": [],
   "source": [
    "    blks_stim = tls_exp.select_only_first_spike(\n",
    "        blks,\n",
    "        condition_annot_unit={'tagged': True})"
   ]
  },
  {
   "cell_type": "code",
   "execution_count": 25,
   "metadata": {},
   "outputs": [
    {
     "name": "stdout",
     "output_type": "stream",
     "text": [
      "camkii4: 20160817\n",
      "camkii4: 20160823\n",
      "camkii4: 20160824\n",
      "camkii5: 20160930\n",
      "camkii5: 20161004\n",
      "camkii5: 20160921\n"
     ]
    }
   ],
   "source": [
    "df_cch_stim = tls_exp.calculate_transmission_prob(\n",
    "    blks_stim,\n",
    "    ccg_time_limit,\n",
    "    ccg_binsize,\n",
    "    ccg_hollow_fraction,\n",
    "    ccg_width,\n",
    "    ccg_sig_level_causal,\n",
    "    ccg_sig_level_fast,\n",
    "    ccg_peak_wndw,\n",
    "    condition_annot_pre={'tagged': True},\n",
    "    condition_annot_post={'tagged': False})\n",
    "df_cch_stim.rename(columns={'transprob': 'transprobevoked',\n",
    "                            'bool_cnnctd': 'boolcnnctdevoked'}, inplace=True)"
   ]
  },
  {
   "cell_type": "code",
   "execution_count": 26,
   "metadata": {},
   "outputs": [
    {
     "name": "stdout",
     "output_type": "stream",
     "text": [
      "camkii4: 20160817\n",
      "camkii4: 20160823\n",
      "camkii4: 20160824\n",
      "camkii5: 20160930\n",
      "camkii5: 20161004\n",
      "camkii5: 20160921\n"
     ]
    }
   ],
   "source": []
  },
  {
   "cell_type": "code",
   "execution_count": 326,
   "metadata": {},
   "outputs": [],
   "source": [
    "df_cch = pd.merge(df_iv, df_cch_nostim,\n",
    "    on=['animal','date',\n",
    "        'shank_pre', 'cluster_pre',\n",
    "       'shank_post','cluster_post'])\n",
    "df_cch = pd.merge(df_cch, df_cch_stim,\n",
    "    on=['animal','date',\n",
    "        'shank_pre', 'cluster_pre',\n",
    "        'shank_post','cluster_post'])\n",
    "#df_cch = pd.merge(df_iv, df_cch_stim,\n",
    "#    on=['animal','date',\n",
    "#        'shank_pre', 'cluster_pre',\n",
    "#       'shank_post','cluster_post'])\n",
    "df_cch = pd.merge(df_cch, df_cch_all,\n",
    "    on=['animal','date',\n",
    "        'shank_pre', 'cluster_pre',\n",
    "        'shank_post','cluster_post'])"
   ]
  },
  {
   "cell_type": "code",
   "execution_count": 290,
   "metadata": {},
   "outputs": [
    {
     "data": {
      "image/png": "[encoded data removed]",
      "text/plain": [
       "<Figure size 360x360 with 1 Axes>"
      ]
     },
     "metadata": {},
     "output_type": "display_data"
    }
   ],
   "source": [
    "fig, ax = plt.subplots(1, figsize=(5,5))\n",
    "\n",
    "#ax.set(xscale=\"log\", yscale=\"log\")\n",
    "\n",
    "ax.scatter(df_cch.loc[df_cch['boolcnnctdall']==True]['transproball'],\n",
    "           df_cch.loc[df_cch['boolcnnctdall']==True]['ivwald'],\n",
    "          c='b',\n",
    "          alpha=0.4)\n",
    "#ax.scatter(df_cch['transproball'],\n",
    "#           df_cch['ivwald'],\n",
    "#          c='r',\n",
    "#          alpha=0.1)\n",
    "ax.set_xlabel(r'CCH')\n",
    "ax.set_ylabel(r'IV')\n",
    "ax.set_xlim([-0.0001, 0.011])\n",
    "#ax.set_ylim([-0.03, 0.125])\n",
    "despine(ax)\n",
    "ax.set_title('Comparison IV and CCH on all spikes')\n",
    "plt.show()\n",
    "fig.tight_layout(rect=[0, 0.00, 1, 1])\n",
    "#fig.savefig('manuscript/Optodata_comparisonIV_CCH.svg')\n"
   ]
  },
  {
   "cell_type": "code",
   "execution_count": 41,
   "metadata": {},
   "outputs": [
    {
     "name": "stderr",
     "output_type": "stream",
     "text": [
      "/opt/conda/lib/python3.6/site-packages/matplotlib/font_manager.py:1331: UserWarning: findfont: Font family ['sans-serif'] not found. Falling back to DejaVu Sans\n",
      "  (prop.get_family(), self.defaultFamily[fontext]))\n",
      "/opt/conda/lib/python3.6/site-packages/matplotlib/font_manager.py:1331: UserWarning: findfont: Font family ['sans-serif'] not found. Falling back to DejaVu Sans\n",
      "  (prop.get_family(), self.defaultFamily[fontext]))\n"
     ]
    },
    {
     "data": {
      "image/png": "[encoded data removed]",
      "text/plain": [
       "<Figure size 360x360 with 1 Axes>"
      ]
     },
     "metadata": {},
     "output_type": "display_data"
    }
   ],
   "source": [
    "fig, ax = plt.subplots(1, figsize=(5,5))\n",
    "\n",
    "#ax.set(xscale=\"log\", yscale=\"log\")\n",
    "\n",
    "ax.scatter(df_cch.loc[df_cch['boolcnnctdspont']==True]['transprobspont'],\n",
    "           df_cch.loc[df_cch['boolcnnctdspont']==True]['ivwald'],\n",
    "          c='b',\n",
    "          alpha=0.4)\n",
    "ax.set_xlim([-0.0001, 0.011])\n",
    "ax.set_ylim([-0.03, 0.125])\n",
    "ax.set_xlabel(r'CCH spontaneous')\n",
    "ax.set_ylabel(r'iv wald')\n",
    "ax.set_title('Comparison IV and CCH on spontaneous spikes')\n",
    "despine(ax)\n",
    "plt.show()"
   ]
  },
  {
   "cell_type": "code",
   "execution_count": 42,
   "metadata": {},
   "outputs": [
    {
     "name": "stderr",
     "output_type": "stream",
     "text": [
      "/opt/conda/lib/python3.6/site-packages/matplotlib/font_manager.py:1331: UserWarning: findfont: Font family ['sans-serif'] not found. Falling back to DejaVu Sans\n",
      "  (prop.get_family(), self.defaultFamily[fontext]))\n"
     ]
    },
    {
     "data": {
      "image/png": "[encoded data removed]",
      "text/plain": [
       "<Figure size 360x360 with 1 Axes>"
      ]
     },
     "metadata": {},
     "output_type": "display_data"
    }
   ],
   "source": [
    "fig, ax = plt.subplots(1, figsize=(5,5))\n",
    "\n",
    "#ax.set(xscale=\"log\", yscale=\"log\")\n",
    "\n",
    "ax.scatter(df_cch.loc[df_cch['boolcnnctdevoked']==True]['transprobevoked'],\n",
    "           df_cch.loc[df_cch['boolcnnctdevoked']==True]['ivwald'],\n",
    "          c='b',\n",
    "          alpha=0.4)\n",
    "ax.set_xlim([-0.0001, 0.011])\n",
    "ax.set_ylim([-0.03, 0.125])\n",
    "ax.set_xlabel(r'CCH spontaneous')\n",
    "ax.set_ylabel(r'iv wald')\n",
    "ax.set_title('Comparison IV and CCH on first evoked spike only')\n",
    "despine(ax)\n",
    "plt.show()"
   ]
  },
  {
   "cell_type": "code",
   "execution_count": 43,
   "metadata": {},
   "outputs": [
    {
     "name": "stderr",
     "output_type": "stream",
     "text": [
      "/opt/conda/lib/python3.6/site-packages/matplotlib/font_manager.py:1331: UserWarning: findfont: Font family ['sans-serif'] not found. Falling back to DejaVu Sans\n",
      "  (prop.get_family(), self.defaultFamily[fontext]))\n"
     ]
    },
    {
     "data": {
      "image/png": "[encoded data removed]",
      "text/plain": [
       "<Figure size 360x360 with 1 Axes>"
      ]
     },
     "metadata": {},
     "output_type": "display_data"
    },
    {
     "name": "stderr",
     "output_type": "stream",
     "text": [
      "/opt/conda/lib/python3.6/site-packages/matplotlib/textpath.py:389: UserWarning: The glyph (67) of font (/usr/share/texlive/texmf-dist/fonts/type1/urw/helvetic/uhvr8a.pfb) cannot be converted with the encoding. Glyph may be wrong\n",
      "  \"be wrong\" % (glyph, font_bunch.filename))\n",
      "/opt/conda/lib/python3.6/site-packages/matplotlib/textpath.py:389: UserWarning: The glyph (67) of font (/usr/share/texlive/texmf-dist/fonts/type1/urw/helvetic/uhvr8a.pfb) cannot be converted with the encoding. Glyph may be wrong\n",
      "  \"be wrong\" % (glyph, font_bunch.filename))\n",
      "/opt/conda/lib/python3.6/site-packages/matplotlib/textpath.py:389: UserWarning: The glyph (72) of font (/usr/share/texlive/texmf-dist/fonts/type1/urw/helvetic/uhvr8a.pfb) cannot be converted with the encoding. Glyph may be wrong\n",
      "  \"be wrong\" % (glyph, font_bunch.filename))\n",
      "/opt/conda/lib/python3.6/site-packages/matplotlib/textpath.py:389: UserWarning: The glyph (73) of font (/usr/share/texlive/texmf-dist/fonts/type1/urw/helvetic/uhvr8a.pfb) cannot be converted with the encoding. Glyph may be wrong\n",
      "  \"be wrong\" % (glyph, font_bunch.filename))\n",
      "/opt/conda/lib/python3.6/site-packages/matplotlib/textpath.py:389: UserWarning: The glyph (86) of font (/usr/share/texlive/texmf-dist/fonts/type1/urw/helvetic/uhvr8a.pfb) cannot be converted with the encoding. Glyph may be wrong\n",
      "  \"be wrong\" % (glyph, font_bunch.filename))\n"
     ]
    }
   ],
   "source": []
  },
  {
   "cell_type": "code",
   "execution_count": 356,
   "metadata": {},
   "outputs": [
    {
     "data": {
      "text/html": [
       "<div>\n",
       "<style scoped>\n",
       "    .dataframe tbody tr th:only-of-type {\n",
       "        vertical-align: middle;\n",
       "    }\n",
       "\n",
       "    .dataframe tbody tr th {\n",
       "        vertical-align: top;\n",
       "    }\n",
       "\n",
       "    .dataframe thead th {\n",
       "        text-align: right;\n",
       "    }\n",
       "</style>\n",
       "<table border=\"1\" class=\"dataframe\">\n",
       "  <thead>\n",
       "    <tr style=\"text-align: right;\">\n",
       "      <th></th>\n",
       "      <th></th>\n",
       "      <th></th>\n",
       "      <th>animal</th>\n",
       "      <th>date</th>\n",
       "      <th>shank_pre</th>\n",
       "      <th>cluster_pre</th>\n",
       "    </tr>\n",
       "    <tr>\n",
       "      <th>animal</th>\n",
       "      <th>date</th>\n",
       "      <th>shank_pre</th>\n",
       "      <th></th>\n",
       "      <th></th>\n",
       "      <th></th>\n",
       "      <th></th>\n",
       "    </tr>\n",
       "  </thead>\n",
       "  <tbody>\n",
       "    <tr>\n",
       "      <th rowspan=\"3\" valign=\"top\">camkii4</th>\n",
       "      <th rowspan=\"2\" valign=\"top\">20160823</th>\n",
       "      <th>3</th>\n",
       "      <td>1</td>\n",
       "      <td>1</td>\n",
       "      <td>1</td>\n",
       "      <td>1</td>\n",
       "    </tr>\n",
       "    <tr>\n",
       "      <th>4</th>\n",
       "      <td>1</td>\n",
       "      <td>1</td>\n",
       "      <td>1</td>\n",
       "      <td>1</td>\n",
       "    </tr>\n",
       "    <tr>\n",
       "      <th>20160824</th>\n",
       "      <th>4</th>\n",
       "      <td>1</td>\n",
       "      <td>1</td>\n",
       "      <td>1</td>\n",
       "      <td>14</td>\n",
       "    </tr>\n",
       "    <tr>\n",
       "      <th>camkii5</th>\n",
       "      <th>20161004</th>\n",
       "      <th>2</th>\n",
       "      <td>1</td>\n",
       "      <td>1</td>\n",
       "      <td>1</td>\n",
       "      <td>1</td>\n",
       "    </tr>\n",
       "  </tbody>\n",
       "</table>\n",
       "</div>"
      ],
      "text/plain": [
       "                            animal  date  shank_pre  cluster_pre\n",
       "animal  date     shank_pre                                      \n",
       "camkii4 20160823 3               1     1          1            1\n",
       "                 4               1     1          1            1\n",
       "        20160824 4               1     1          1           14\n",
       "camkii5 20161004 2               1     1          1            1"
      ]
     },
     "execution_count": 356,
     "metadata": {},
     "output_type": "execute_result"
    }
   ],
   "source": [
    "group_df_pre = df_cch[\n",
    "    ['animal', 'date', 'shank_pre', 'cluster_pre']\n",
    "].groupby(['animal', 'date', 'shank_pre']).nunique()\n",
    "group_df_pre"
   ]
  },
  {
   "cell_type": "code",
   "execution_count": 354,
   "metadata": {},
   "outputs": [
    {
     "data": {
      "text/html": [
       "<div>\n",
       "<style scoped>\n",
       "    .dataframe tbody tr th:only-of-type {\n",
       "        vertical-align: middle;\n",
       "    }\n",
       "\n",
       "    .dataframe tbody tr th {\n",
       "        vertical-align: top;\n",
       "    }\n",
       "\n",
       "    .dataframe thead th {\n",
       "        text-align: right;\n",
       "    }\n",
       "</style>\n",
       "<table border=\"1\" class=\"dataframe\">\n",
       "  <thead>\n",
       "    <tr style=\"text-align: right;\">\n",
       "      <th></th>\n",
       "      <th></th>\n",
       "      <th></th>\n",
       "      <th>animal</th>\n",
       "      <th>date</th>\n",
       "      <th>shank_post</th>\n",
       "      <th>cluster_post</th>\n",
       "    </tr>\n",
       "    <tr>\n",
       "      <th>animal</th>\n",
       "      <th>date</th>\n",
       "      <th>shank_post</th>\n",
       "      <th></th>\n",
       "      <th></th>\n",
       "      <th></th>\n",
       "      <th></th>\n",
       "    </tr>\n",
       "  </thead>\n",
       "  <tbody>\n",
       "    <tr>\n",
       "      <th rowspan=\"8\" valign=\"top\">camkii4</th>\n",
       "      <th rowspan=\"4\" valign=\"top\">20160823</th>\n",
       "      <th>1</th>\n",
       "      <td>1</td>\n",
       "      <td>1</td>\n",
       "      <td>1</td>\n",
       "      <td>3</td>\n",
       "    </tr>\n",
       "    <tr>\n",
       "      <th>2</th>\n",
       "      <td>1</td>\n",
       "      <td>1</td>\n",
       "      <td>1</td>\n",
       "      <td>5</td>\n",
       "    </tr>\n",
       "    <tr>\n",
       "      <th>3</th>\n",
       "      <td>1</td>\n",
       "      <td>1</td>\n",
       "      <td>1</td>\n",
       "      <td>15</td>\n",
       "    </tr>\n",
       "    <tr>\n",
       "      <th>4</th>\n",
       "      <td>1</td>\n",
       "      <td>1</td>\n",
       "      <td>1</td>\n",
       "      <td>5</td>\n",
       "    </tr>\n",
       "    <tr>\n",
       "      <th rowspan=\"4\" valign=\"top\">20160824</th>\n",
       "      <th>1</th>\n",
       "      <td>1</td>\n",
       "      <td>1</td>\n",
       "      <td>1</td>\n",
       "      <td>2</td>\n",
       "    </tr>\n",
       "    <tr>\n",
       "      <th>2</th>\n",
       "      <td>1</td>\n",
       "      <td>1</td>\n",
       "      <td>1</td>\n",
       "      <td>5</td>\n",
       "    </tr>\n",
       "    <tr>\n",
       "      <th>3</th>\n",
       "      <td>1</td>\n",
       "      <td>1</td>\n",
       "      <td>1</td>\n",
       "      <td>26</td>\n",
       "    </tr>\n",
       "    <tr>\n",
       "      <th>4</th>\n",
       "      <td>1</td>\n",
       "      <td>1</td>\n",
       "      <td>1</td>\n",
       "      <td>4</td>\n",
       "    </tr>\n",
       "    <tr>\n",
       "      <th rowspan=\"3\" valign=\"top\">camkii5</th>\n",
       "      <th rowspan=\"3\" valign=\"top\">20161004</th>\n",
       "      <th>1</th>\n",
       "      <td>1</td>\n",
       "      <td>1</td>\n",
       "      <td>1</td>\n",
       "      <td>11</td>\n",
       "    </tr>\n",
       "    <tr>\n",
       "      <th>2</th>\n",
       "      <td>1</td>\n",
       "      <td>1</td>\n",
       "      <td>1</td>\n",
       "      <td>9</td>\n",
       "    </tr>\n",
       "    <tr>\n",
       "      <th>3</th>\n",
       "      <td>1</td>\n",
       "      <td>1</td>\n",
       "      <td>1</td>\n",
       "      <td>1</td>\n",
       "    </tr>\n",
       "  </tbody>\n",
       "</table>\n",
       "</div>"
      ],
      "text/plain": [
       "                             animal  date  shank_post  cluster_post\n",
       "animal  date     shank_post                                        \n",
       "camkii4 20160823 1                1     1           1             3\n",
       "                 2                1     1           1             5\n",
       "                 3                1     1           1            15\n",
       "                 4                1     1           1             5\n",
       "        20160824 1                1     1           1             2\n",
       "                 2                1     1           1             5\n",
       "                 3                1     1           1            26\n",
       "                 4                1     1           1             4\n",
       "camkii5 20161004 1                1     1           1            11\n",
       "                 2                1     1           1             9\n",
       "                 3                1     1           1             1"
      ]
     },
     "execution_count": 354,
     "metadata": {},
     "output_type": "execute_result"
    }
   ],
   "source": [
    "group_df_post = df_cch[\n",
    "    ['animal', 'date', 'shank_post', 'cluster_post']\n",
    "].groupby(\n",
    "    ['animal', 'date', 'shank_post'])\n",
    "group_df_post.nunique()"
   ]
  },
  {
   "cell_type": "code",
   "execution_count": 343,
   "metadata": {},
   "outputs": [
    {
     "data": {
      "text/plain": [
       "animal   date      shank_unit  cluster  shank_stim\n",
       "camkii4  20160823  3.0         15.0     4.0                                         [2063]\n",
       "                               18.0     3.0                                         [2203]\n",
       "                               21.0     3.0                                         [2062]\n",
       "                               22.0     3.0                                         [2203]\n",
       "                               28.0     3.0                                   [1775, 1922]\n",
       "                   4.0         6.0      3.0                                         [1775]\n",
       "                                        4.0                                         [2165]\n",
       "                               10.0     4.0                                         [1784]\n",
       "                               11.0     4.0                                         [1895]\n",
       "         20160824  4.0         2.0      4.0           [2048, 2084, 2124, 2188, 2266, 2333]\n",
       "                               6.0      4.0           [2048, 2084, 2124, 2188, 2266, 2333]\n",
       "                               7.0      4.0                 [2084, 2124, 2188, 2266, 2333]\n",
       "                               8.0      4.0           [2048, 2084, 2124, 2188, 2266, 2333]\n",
       "                               11.0     4.0                 [2048, 2124, 2188, 2266, 2333]\n",
       "                               12.0     4.0           [2048, 2084, 2124, 2188, 2266, 2333]\n",
       "                               13.0     4.0           [2048, 2084, 2124, 2188, 2266, 2333]\n",
       "                               14.0     4.0                        [769, 2048, 2188, 2266]\n",
       "                               16.0     4.0                       [2048, 2124, 2188, 2333]\n",
       "                               17.0     4.0                 [2048, 2124, 2188, 2266, 2333]\n",
       "                               18.0     4.0           [2048, 2084, 2124, 2188, 2266, 2333]\n",
       "                               19.0     4.0           [2048, 2084, 2124, 2188, 2266, 2333]\n",
       "                               26.0     4.0           [2048, 2084, 2124, 2188, 2266, 2333]\n",
       "                               28.0     4.0           [2048, 2084, 2124, 2188, 2266, 2333]\n",
       "camkii5  20160930  1.0         2.0      1.0                                         [3403]\n",
       "                                        2.0                                         [1605]\n",
       "                               11.0     1.0                                         [3403]\n",
       "                                        2.0                                         [1605]\n",
       "                   2.0         18.0     1.0                                         [3403]\n",
       "                                        2.0                                         [1605]\n",
       "         20161004  1.0         8.0      1.0                             [3108, 3267, 3418]\n",
       "                                        2.0                                         [1675]\n",
       "                               11.0     1.0                       [2953, 3108, 3267, 3418]\n",
       "                                        2.0                                         [1675]\n",
       "                               12.0     1.0                             [2796, 3267, 3418]\n",
       "                   2.0         4.0      1.0                       [3108, 3267, 3418, 6185]\n",
       "                                        2.0                 [1572, 1675, 1782, 1882, 1984]\n",
       "Name: intens_mean, dtype: object"
      ]
     },
     "execution_count": 343,
     "metadata": {},
     "output_type": "execute_result"
    }
   ],
   "source": [
    "#with open('session_expdata.tex','w') as tf:\n",
    "#    tf.write(group_sigstim['intens_mean'].unique().to_latex())\n",
    "group_sigstim['intens_mean'].unique()"
   ]
  },
  {
   "cell_type": "markdown",
   "metadata": {},
   "source": [
    "## Correlation of IV and CCH estimate"
   ]
  },
  {
   "cell_type": "code",
   "execution_count": 291,
   "metadata": {},
   "outputs": [
    {
     "name": "stderr",
     "output_type": "stream",
     "text": [
      "/opt/conda/lib/python3.6/site-packages/scipy/stats/stats.py:1713: FutureWarning: Using a non-tuple sequence for multidimensional indexing is deprecated; use `arr[tuple(seq)]` instead of `arr[seq]`. In the future this will be interpreted as an array index, `arr[np.array(seq)]`, which will result either in an error or a different result.\n",
      "  return np.add.reduce(sorted[indexer] * weights, axis=axis) / sumval\n"
     ]
    },
    {
     "name": "stdout",
     "output_type": "stream",
     "text": [
      "pValue: 0.06932153020550676\n"
     ]
    },
    {
     "data": {
      "image/png": "[encoded data removed]",
      "text/plain": [
       "<Figure size 358.56x144 with 1 Axes>"
      ]
     },
     "metadata": {},
     "output_type": "display_data"
    }
   ],
   "source": [
    "fig, ax = plt.subplots(1,1)\n",
    "res =tls_exp.regplot('transproball', 'ivwald',\n",
    "                df_cch.loc[df_cch['boolcnnctdall']==True],\n",
    "                sm.OLS, colorbar=False, xlabel=r'CCH',\n",
    "                ylabel=r'IV', ax=ax)\n",
    "print('pValue: ' + str(res.f_pvalue))\n"
   ]
  },
  {
   "cell_type": "code",
   "execution_count": 292,
   "metadata": {},
   "outputs": [
    {
     "data": {
      "text/html": [
       "<div>\n",
       "<style scoped>\n",
       "    .dataframe tbody tr th:only-of-type {\n",
       "        vertical-align: middle;\n",
       "    }\n",
       "\n",
       "    .dataframe tbody tr th {\n",
       "        vertical-align: top;\n",
       "    }\n",
       "\n",
       "    .dataframe thead th {\n",
       "        text-align: right;\n",
       "    }\n",
       "</style>\n",
       "<table border=\"1\" class=\"dataframe\">\n",
       "  <thead>\n",
       "    <tr style=\"text-align: right;\">\n",
       "      <th></th>\n",
       "      <th>ivwald</th>\n",
       "      <th>hitrate_stim</th>\n",
       "      <th>Ysr</th>\n",
       "      <th>transprobspont</th>\n",
       "      <th>transprobevoked</th>\n",
       "      <th>transproball</th>\n",
       "    </tr>\n",
       "  </thead>\n",
       "  <tbody>\n",
       "    <tr>\n",
       "      <th>ivwald</th>\n",
       "      <td>1.000000</td>\n",
       "      <td>0.017039</td>\n",
       "      <td>NaN</td>\n",
       "      <td>0.229003</td>\n",
       "      <td>0.187892</td>\n",
       "      <td>0.235688</td>\n",
       "    </tr>\n",
       "    <tr>\n",
       "      <th>hitrate_stim</th>\n",
       "      <td>0.017039</td>\n",
       "      <td>1.000000</td>\n",
       "      <td>NaN</td>\n",
       "      <td>-0.014206</td>\n",
       "      <td>-0.029790</td>\n",
       "      <td>-0.018224</td>\n",
       "    </tr>\n",
       "    <tr>\n",
       "      <th>Ysr</th>\n",
       "      <td>NaN</td>\n",
       "      <td>NaN</td>\n",
       "      <td>NaN</td>\n",
       "      <td>NaN</td>\n",
       "      <td>NaN</td>\n",
       "      <td>NaN</td>\n",
       "    </tr>\n",
       "    <tr>\n",
       "      <th>transprobspont</th>\n",
       "      <td>0.229003</td>\n",
       "      <td>-0.014206</td>\n",
       "      <td>NaN</td>\n",
       "      <td>1.000000</td>\n",
       "      <td>0.808243</td>\n",
       "      <td>0.971891</td>\n",
       "    </tr>\n",
       "    <tr>\n",
       "      <th>transprobevoked</th>\n",
       "      <td>0.187892</td>\n",
       "      <td>-0.029790</td>\n",
       "      <td>NaN</td>\n",
       "      <td>0.808243</td>\n",
       "      <td>1.000000</td>\n",
       "      <td>0.857711</td>\n",
       "    </tr>\n",
       "    <tr>\n",
       "      <th>transproball</th>\n",
       "      <td>0.235688</td>\n",
       "      <td>-0.018224</td>\n",
       "      <td>NaN</td>\n",
       "      <td>0.971891</td>\n",
       "      <td>0.857711</td>\n",
       "      <td>1.000000</td>\n",
       "    </tr>\n",
       "  </tbody>\n",
       "</table>\n",
       "</div>"
      ],
      "text/plain": [
       "                   ivwald  hitrate_stim  Ysr  transprobspont  transprobevoked  \\\n",
       "ivwald           1.000000      0.017039  NaN        0.229003         0.187892   \n",
       "hitrate_stim     0.017039      1.000000  NaN       -0.014206        -0.029790   \n",
       "Ysr                   NaN           NaN  NaN             NaN              NaN   \n",
       "transprobspont   0.229003     -0.014206  NaN        1.000000         0.808243   \n",
       "transprobevoked  0.187892     -0.029790  NaN        0.808243         1.000000   \n",
       "transproball     0.235688     -0.018224  NaN        0.971891         0.857711   \n",
       "\n",
       "                 transproball  \n",
       "ivwald               0.235688  \n",
       "hitrate_stim        -0.018224  \n",
       "Ysr                       NaN  \n",
       "transprobspont       0.971891  \n",
       "transprobevoked      0.857711  \n",
       "transproball         1.000000  "
      ]
     },
     "execution_count": 292,
     "metadata": {},
     "output_type": "execute_result"
    }
   ],
   "source": [
    "df_cch.corr()"
   ]
  },
  {
   "cell_type": "markdown",
   "metadata": {},
   "source": [
    "### Observation\n",
    "We find that there is a weak correlation between iv and the cch estimate of $0.24$."
   ]
  },
  {
   "cell_type": "markdown",
   "metadata": {},
   "source": [
    "### Autocorrelation of presynaptic units\n",
    "Because of slow stimulation onset we used a relatively long iv window.\n",
    "We want to see how this compares to the refractory period of pyramidal cells."
   ]
  },
  {
   "cell_type": "code",
   "execution_count": 46,
   "metadata": {},
   "outputs": [],
   "source": [
    "autocorr_dict = {}\n",
    "units_pre = df_cch.loc[df_cch['boolcnnctdall']==True].groupby(\n",
    "    ['animal', 'date', 'shank_pre', 'cluster_pre']\n",
    ").apply(list).to_dict()\n",
    "for animal, date, shank_pre, cluster_pre in units_pre.keys():\n",
    "    for blk in blks:\n",
    "        units = blk.channel_indexes[0].children\n",
    "        if blk.annotations['date'] == date and blk.annotations['animal'] == animal:\n",
    "            unit_i = [unit for unit in units if\n",
    "                      unit.annotations['shank'] == shank_pre and\n",
    "                      unit.annotations['cluster'] == cluster_pre][0]\n",
    "            spktr=unit_i.spiketrains[0]\n",
    "            cnt, bins_autocorr = correlogram(\n",
    "                spktr, auto=True,\n",
    "                limit=autocorr_limit,\n",
    "                binsize=autocorr_binsize,\n",
    "                density=True)\n",
    "            autocorr_dict[animal + '_' + date + '_' \n",
    "                          +str(shank_pre) +'_'+ str(cluster_pre)] = cnt"
   ]
  },
  {
   "cell_type": "code",
   "execution_count": 47,
   "metadata": {},
   "outputs": [],
   "source": [
    "autocorr = np.array(list(chain(autocorr_dict.values())))"
   ]
  },
  {
   "cell_type": "code",
   "execution_count": 347,
   "metadata": {},
   "outputs": [
    {
     "data": {
      "image/png": "[encoded data removed]",
      "text/plain": [
       "<Figure size 358.56x144 with 1 Axes>"
      ]
     },
     "metadata": {},
     "output_type": "display_data"
    }
   ],
   "source": [
    "fig, ax = plt.subplots(1)\n",
    "autocorr_mean = np.mean(autocorr, axis=0)\n",
    "autocorr_std = np.std(autocorr, axis=0)\n",
    "\n",
    "ax.plot(bins_autocorr, autocorr_mean)\n",
    "ax.plot(bins_autocorr, autocorr_mean+autocorr_std, alpha=0.1)\n",
    "ax.plot(bins_autocorr, autocorr_mean-autocorr_std, alpha=0.1)\n",
    "\n",
    "ax.set_ylabel(r'Mean of normalized counts')\n",
    "ax.set_xlabel(r'Offset')\n",
    "despine(ax)\n",
    "savefig(fig, fname='Optodata_autocorrelation.svg')"
   ]
  },
  {
   "cell_type": "markdown",
   "metadata": {},
   "source": [
    "### Observation\n",
    "The average of the scaled autocorrelogram indicates a refractory period of around $4 ms$"
   ]
  },
  {
   "cell_type": "markdown",
   "metadata": {},
   "source": [
    "## Bootstrapping\n",
    "To test the uncertainty of each IV and CCH estimate, we perform bootstrapping with a sample size of $1000$\n",
    "\n",
    "#### CCH\n",
    "We use the additive property of the cross correlation function.\n",
    "We calculate the CCH on chunks of spike trains.\n",
    "We then randomly pick chunks with replacement, add them up and perform CCH estimation.\n",
    "\n",
    "#### IV\n",
    "We first find all onsets and classify whether they contain a spike or not.\n",
    "Then we randomly pick onsets with replacement."
   ]
  },
  {
   "cell_type": "code",
   "execution_count": 52,
   "metadata": {},
   "outputs": [],
   "source": [
    "# Consider only significant connections\n",
    "# for bootstrapping\n",
    "conns_sel = list(\n",
    "    df_cch.loc[df_cch['boolcnnctdall']==True].groupby(\n",
    "    ['animal', 'date', 'shank_pre', 'cluster_pre', 'shank_post', 'cluster_post']\n",
    "    ).apply(list).to_dict())"
   ]
  },
  {
   "cell_type": "code",
   "execution_count": 54,
   "metadata": {
    "scrolled": true
   },
   "outputs": [
    {
     "name": "stderr",
     "output_type": "stream",
     "text": [
      "\n",
      "\n",
      "  0%|          | 0/29 [00:00<?, ?it/s]\u001b[A\u001b[A\n",
      "\n",
      "  3%|▎         | 1/29 [01:50<51:41, 110.76s/it]\u001b[A\u001b[A\n",
      "\n",
      "  7%|▋         | 2/29 [03:53<51:26, 114.32s/it]\u001b[A\u001b[A\n",
      "\n",
      " 10%|█         | 3/29 [06:28<54:48, 126.48s/it]\u001b[A\u001b[A\n",
      "\n",
      " 14%|█▍        | 4/29 [10:44<1:08:53, 165.36s/it]\u001b[A\u001b[A\n",
      "\n",
      " 17%|█▋        | 5/29 [16:18<1:26:24, 216.04s/it]\u001b[A\u001b[A\n",
      "\n",
      " 21%|██        | 6/29 [33:56<2:59:36, 468.52s/it]\u001b[A\u001b[A\n",
      "\n",
      " 24%|██▍       | 7/29 [46:51<3:25:30, 560.48s/it]\u001b[A\u001b[A\n",
      "\n",
      " 28%|██▊       | 8/29 [51:59<2:49:39, 484.74s/it]\u001b[A\u001b[A\n",
      "\n",
      " 31%|███       | 9/29 [54:18<2:07:01, 381.09s/it]\u001b[A\u001b[A\n",
      "\n",
      " 34%|███▍      | 10/29 [1:02:15<2:09:48, 409.92s/it]\u001b[A\u001b[A\n",
      "\n",
      " 38%|███▊      | 11/29 [1:03:42<1:33:51, 312.86s/it]\u001b[A\u001b[A\n",
      "\n",
      " 41%|████▏     | 12/29 [1:09:23<1:31:05, 321.50s/it]\u001b[A\u001b[A\n",
      "\n",
      " 45%|████▍     | 13/29 [1:11:00<1:07:45, 254.09s/it]\u001b[A\u001b[A\n",
      "\n",
      " 48%|████▊     | 14/29 [1:14:50<1:01:41, 246.75s/it]\u001b[A\u001b[A\n",
      "\n",
      " 52%|█████▏    | 15/29 [1:22:33<1:12:43, 311.68s/it]\u001b[A\u001b[A\n",
      "\n",
      " 55%|█████▌    | 16/29 [1:46:56<2:22:21, 657.06s/it]\u001b[A\u001b[A\n",
      "\n",
      " 59%|█████▊    | 17/29 [3:53:48<9:08:41, 2743.45s/it]\u001b[A\u001b[A\n",
      "\n",
      " 62%|██████▏   | 18/29 [3:56:47<6:01:56, 1974.19s/it]\u001b[A\u001b[A\n",
      "\n",
      " 66%|██████▌   | 19/29 [3:57:31<3:52:31, 1395.14s/it]\u001b[A\u001b[A\n",
      "\n",
      " 69%|██████▉   | 20/29 [4:06:05<2:49:36, 1130.77s/it]\u001b[A\u001b[A\n",
      "\n",
      " 72%|███████▏  | 21/29 [4:22:03<2:23:51, 1078.91s/it]\u001b[A\u001b[A\n",
      "\n",
      " 76%|███████▌  | 22/29 [4:53:55<2:35:01, 1328.82s/it]\u001b[A\u001b[A\n",
      "\n",
      " 79%|███████▉  | 23/29 [5:41:59<2:59:33, 1795.50s/it]\u001b[A\u001b[A\n",
      "\n",
      " 83%|████████▎ | 24/29 [5:51:55<1:59:38, 1435.60s/it]\u001b[A\u001b[A\n",
      "\n",
      " 86%|████████▌ | 25/29 [5:52:46<1:08:01, 1020.27s/it]\u001b[A\u001b[A\n",
      "\n",
      " 90%|████████▉ | 26/29 [6:04:20<46:07, 922.42s/it]   \u001b[A\u001b[A\n",
      "\n",
      " 93%|█████████▎| 27/29 [6:16:04<28:33, 856.85s/it]\u001b[A\u001b[A\n",
      "\n",
      " 97%|█████████▋| 28/29 [6:26:48<13:13, 793.09s/it]\u001b[A\u001b[A\n",
      "\n",
      "100%|██████████| 29/29 [6:30:20<00:00, 618.67s/it]\u001b[A\u001b[A\n",
      "\n",
      "\u001b[A\u001b[A"
     ]
    }
   ],
   "source": [
    "calculate_df_btstrp_cch = True\n",
    "\n",
    "if calculate_df_btstrp_cch:\n",
    "    df_btstrp_cch = tls_exp.bootstrap_cch(\n",
    "            blks, btstrp_n,\n",
    "            btstrp_binsize,                                                                                                                                                                                            \n",
    "            ccg_binsize,                                                                                                                                                                                               \n",
    "            ccg_hollow_fraction,                                                                                                                                                                                       \n",
    "            ccg_peak_wndw,                                                                                                                                                                                             \n",
    "            ccg_time_limit,\n",
    "            ccg_width,\n",
    "            conns_sel=conns_sel)\n",
    "    df_btstrp_cch.to_pickle('df_btstrp_cch')\n",
    "else:\n",
    "    df_btstrp_cch = pd.read_pickle('df_btstrp_cch')"
   ]
  },
  {
   "cell_type": "code",
   "execution_count": 55,
   "metadata": {
    "scrolled": true
   },
   "outputs": [
    {
     "name": "stderr",
     "output_type": "stream",
     "text": [
      "\n",
      "\n",
      "  0%|          | 0/29 [00:00<?, ?it/s]\u001b[A\u001b[A\n",
      "\n",
      "  3%|▎         | 1/29 [00:03<01:41,  3.63s/it]\u001b[A\u001b[A\n",
      "\n",
      "  7%|▋         | 2/29 [00:07<01:38,  3.64s/it]\u001b[A\u001b[A\n",
      "\n",
      " 10%|█         | 3/29 [00:10<01:34,  3.64s/it]\u001b[A\u001b[A\n",
      "\n",
      " 14%|█▍        | 4/29 [00:14<01:32,  3.69s/it]\u001b[A\u001b[A\n",
      "\n",
      " 17%|█▋        | 5/29 [00:18<01:30,  3.76s/it]\u001b[A\u001b[A\n",
      "\n",
      " 21%|██        | 6/29 [00:22<01:28,  3.84s/it]\u001b[A\u001b[A\n",
      "\n",
      " 24%|██▍       | 7/29 [00:26<01:26,  3.92s/it]\u001b[A\u001b[A\n",
      "\n",
      " 28%|██▊       | 8/29 [00:31<01:25,  4.06s/it]\u001b[A\u001b[A\n",
      "\n",
      " 31%|███       | 9/29 [00:35<01:23,  4.20s/it]\u001b[A\u001b[A\n",
      "\n",
      " 34%|███▍      | 10/29 [00:40<01:22,  4.32s/it]\u001b[A\u001b[A\n",
      "\n",
      " 38%|███▊      | 11/29 [00:45<01:19,  4.44s/it]\u001b[A\u001b[A\n",
      "\n",
      " 41%|████▏     | 12/29 [00:49<01:17,  4.55s/it]\u001b[A\u001b[A\n",
      "\n",
      " 45%|████▍     | 13/29 [00:54<01:14,  4.67s/it]\u001b[A\u001b[A\n",
      "\n",
      " 48%|████▊     | 14/29 [00:59<01:11,  4.80s/it]\u001b[A\u001b[A\n",
      "\n",
      " 52%|█████▏    | 15/29 [01:05<01:08,  4.92s/it]\u001b[A\u001b[A\n",
      "\n",
      " 55%|█████▌    | 16/29 [01:10<01:05,  5.03s/it]\u001b[A\u001b[A\n",
      "\n",
      " 59%|█████▊    | 17/29 [01:15<01:01,  5.13s/it]\u001b[A\u001b[A\n",
      "\n",
      " 62%|██████▏   | 18/29 [01:21<00:57,  5.24s/it]\u001b[A\u001b[A\n",
      "\n",
      " 66%|██████▌   | 19/29 [01:26<00:53,  5.35s/it]\u001b[A\u001b[A\n",
      "\n",
      " 69%|██████▉   | 20/29 [01:32<00:49,  5.46s/it]\u001b[A\u001b[A\n",
      "\n",
      " 72%|███████▏  | 21/29 [01:38<00:44,  5.57s/it]\u001b[A\u001b[A\n",
      "\n",
      " 76%|███████▌  | 22/29 [01:44<00:39,  5.71s/it]\u001b[A\u001b[A\n",
      "\n",
      " 79%|███████▉  | 23/29 [01:50<00:35,  5.93s/it]\u001b[A\u001b[A\n",
      "\n",
      " 83%|████████▎ | 24/29 [01:57<00:30,  6.04s/it]\u001b[A\u001b[A\n",
      "\n",
      " 86%|████████▌ | 25/29 [02:03<00:24,  6.13s/it]\u001b[A\u001b[A\n",
      "\n",
      " 90%|████████▉ | 26/29 [02:10<00:18,  6.26s/it]\u001b[A\u001b[A\n",
      "\n",
      " 93%|█████████▎| 27/29 [02:16<00:12,  6.32s/it]\u001b[A\u001b[A\n",
      "\n",
      " 97%|█████████▋| 28/29 [02:23<00:06,  6.40s/it]\u001b[A\u001b[A\n",
      "\n",
      "100%|██████████| 29/29 [02:29<00:00,  6.53s/it]\u001b[A\u001b[A\n",
      "\n",
      "\u001b[A\u001b[A"
     ]
    }
   ],
   "source": [
    "calculate_df_btstrp_iv = True\n",
    "\n",
    "if calculate_df_btstrp_iv:\n",
    "    df_btstrp_iv = tls_exp.bootstrap_iv(\n",
    "            blks, btstrp_n,                                                                                                                                                                                                   \n",
    "            df_sigstim,                                                                                                                                                                                                \n",
    "            iv_min_n_stim,                                                                                                                                                                                             \n",
    "            iv_window,                                                                                                                                                                                                 \n",
    "            iv_ltnc,                                                                                                                                                                                                   \n",
    "            conns_sel=conns_sel)\n",
    "    df_btstrp_iv.to_pickle('df_btstrp_iv')\n",
    "else:\n",
    "    df_btstrp_iv = pd.read_pickle('df_btstrp_iv')"
   ]
  },
  {
   "cell_type": "code",
   "execution_count": 72,
   "metadata": {},
   "outputs": [],
   "source": [
    "cch_err = []\n",
    "iv_err = []\n",
    "for conn in conns_sel:\n",
    "    (animal,\n",
    "     date,\n",
    "     shank_pre,\n",
    "     cluster_pre,\n",
    "     shank_post,\n",
    "     cluster_post) = conn\n",
    "    df_conn_iv = df_btstrp_iv.loc[\n",
    "        (df_btstrp_iv['animal'] == animal) &\n",
    "        (df_btstrp_iv['date'] == date) &\n",
    "        (df_btstrp_iv['shank_pre'] == shank_pre) &\n",
    "        (df_btstrp_iv['cluster_pre'] == cluster_pre) &\n",
    "        (df_btstrp_iv['shank_post'] == shank_post) &\n",
    "        (df_btstrp_iv['cluster_post'] == cluster_post)]\n",
    "    iv_err.append(np.nanstd(df_conn_iv['ivwald']))\n",
    "\n",
    "    df_conn_cch = df_btstrp_cch.loc[\n",
    "        (df_btstrp_cch['animal'] == animal) &\n",
    "        (df_btstrp_cch['date'] == date) &\n",
    "        (df_btstrp_cch['shank_pre'] == shank_pre) &\n",
    "        (df_btstrp_cch['cluster_pre'] == cluster_pre) &\n",
    "        (df_btstrp_cch['shank_post'] == shank_post) &\n",
    "        (df_btstrp_cch['cluster_post'] == cluster_post)]\n",
    "    cch_err.append(np.nanstd(df_conn_cch['trans_prob']))\n",
    "iv_err = np.array(iv_err)\n",
    "cch_err = np.array(cch_err)"
   ]
  },
  {
   "cell_type": "code",
   "execution_count": 76,
   "metadata": {},
   "outputs": [
    {
     "data": {
      "image/png": "[encoded data removed]",
      "text/plain": [
       "<Figure size 288x288 with 1 Axes>"
      ]
     },
     "metadata": {},
     "output_type": "display_data"
    }
   ],
   "source": [
    "fig, ax = plt.subplots(1, figsize=(4,4))\n",
    "\n",
    "#ax.set(xscale=\"log\", yscale=\"log\")\n",
    "x = df_cch.loc[df_cch['boolcnnctdall']==True]['transproball']\n",
    "y = df_cch.loc[df_cch['boolcnnctdall']==True]['ivwald']\n",
    "ax.scatter(x,\n",
    "           y*0.1,\n",
    "          c='b',\n",
    "          alpha=0.6)\n",
    "ax.errorbar(x, y*0.1, xerr=cch_err, yerr=iv_err*0.1, fmt='none', alpha=0.3)\n",
    "#ax.scatter(df_cch['transproball'],\n",
    "#           df_cch['ivwald'],\n",
    "#          c='r',\n",
    "#          alpha=0.1)\n",
    "ax.set_xlabel(r'CCH')\n",
    "ax.set_ylabel(r'IV $[10^{-1}]$')\n",
    "ax.set_xlim([-0.0001, 0.011])\n",
    "ax.set_ylim([-0.007, 0.023])\n",
    "ax.plot([0,1], [0,1], 'k--', alpha=0.3)\n",
    "despine(ax)\n",
    "plt.show()\n",
    "fig.tight_layout(rect=[0, 0.00, 1, 1])\n",
    "fig.savefig('manuscript/Optodata_comparisonIV_CCH.svg')\n"
   ]
  },
  {
   "cell_type": "markdown",
   "metadata": {},
   "source": [
    "### Uncertainty and iv window length\n",
    "We observed that having a small window size, results in many units having very few spikes after stimulation.\n",
    "Therefore we expect that small window size results in higher errorbars"
   ]
  },
  {
   "cell_type": "code",
   "execution_count": 58,
   "metadata": {},
   "outputs": [
    {
     "name": "stderr",
     "output_type": "stream",
     "text": [
      "\n",
      "\n",
      "  0%|          | 0/29 [00:00<?, ?it/s]\u001b[A\u001b[A\n",
      "\n",
      "  3%|▎         | 1/29 [00:03<01:41,  3.62s/it]\u001b[A\u001b[A\n",
      "\n",
      "  7%|▋         | 2/29 [00:07<01:38,  3.66s/it]\u001b[A\u001b[A\n",
      "\n",
      " 10%|█         | 3/29 [00:11<01:35,  3.66s/it]\u001b[A\u001b[A\n",
      "\n",
      " 14%|█▍        | 4/29 [00:14<01:31,  3.67s/it]\u001b[A\u001b[A\n",
      "\n",
      " 17%|█▋        | 5/29 [00:18<01:31,  3.80s/it]\u001b[A\u001b[A\n",
      "\n",
      " 21%|██        | 6/29 [00:22<01:29,  3.89s/it]\u001b[A\u001b[A\n",
      "\n",
      " 24%|██▍       | 7/29 [00:27<01:29,  4.06s/it]\u001b[A\u001b[A\n",
      "\n",
      " 28%|██▊       | 8/29 [00:32<01:29,  4.28s/it]\u001b[A\u001b[A\n",
      "\n",
      " 31%|███       | 9/29 [00:36<01:27,  4.39s/it]\u001b[A\u001b[A\n",
      "\n",
      " 34%|███▍      | 10/29 [00:41<01:24,  4.47s/it]\u001b[A\u001b[A\n",
      "\n",
      " 38%|███▊      | 11/29 [00:46<01:21,  4.54s/it]\u001b[A\u001b[A\n",
      "\n",
      " 41%|████▏     | 12/29 [00:51<01:19,  4.65s/it]\u001b[A\u001b[A\n",
      "\n",
      " 45%|████▍     | 13/29 [00:56<01:16,  4.77s/it]\u001b[A\u001b[A\n",
      "\n",
      " 48%|████▊     | 14/29 [01:01<01:13,  4.87s/it]\u001b[A\u001b[A\n",
      "\n",
      " 52%|█████▏    | 15/29 [01:06<01:09,  4.98s/it]\u001b[A\u001b[A\n",
      "\n",
      " 55%|█████▌    | 16/29 [01:11<01:06,  5.11s/it]\u001b[A\u001b[A\n",
      "\n",
      " 59%|█████▊    | 17/29 [01:17<01:02,  5.23s/it]\u001b[A\u001b[A\n",
      "\n",
      " 62%|██████▏   | 18/29 [01:22<00:58,  5.32s/it]\u001b[A\u001b[A\n",
      "\n",
      " 66%|██████▌   | 19/29 [01:28<00:54,  5.43s/it]\u001b[A\u001b[A\n",
      "\n",
      " 69%|██████▉   | 20/29 [01:34<00:49,  5.51s/it]\u001b[A\u001b[A\n",
      "\n",
      " 72%|███████▏  | 21/29 [01:40<00:45,  5.65s/it]\u001b[A\u001b[A\n",
      "\n",
      " 76%|███████▌  | 22/29 [01:46<00:40,  5.75s/it]\u001b[A\u001b[A\n",
      "\n",
      " 79%|███████▉  | 23/29 [01:52<00:35,  5.87s/it]\u001b[A\u001b[A\n",
      "\n",
      " 83%|████████▎ | 24/29 [01:58<00:29,  6.00s/it]\u001b[A\u001b[A\n",
      "\n",
      " 86%|████████▌ | 25/29 [02:05<00:24,  6.12s/it]\u001b[A\u001b[A\n",
      "\n",
      " 90%|████████▉ | 26/29 [02:12<00:19,  6.51s/it]\u001b[A\u001b[A\n",
      "\n",
      " 93%|█████████▎| 27/29 [02:19<00:13,  6.58s/it]\u001b[A\u001b[A\n",
      "\n",
      " 97%|█████████▋| 28/29 [02:25<00:06,  6.59s/it]\u001b[A\u001b[A\n",
      "\n",
      "100%|██████████| 29/29 [02:32<00:00,  6.71s/it]\u001b[A\u001b[A\n",
      "\n",
      "\u001b[A\u001b[A\n",
      "\n",
      "  0%|          | 0/29 [00:00<?, ?it/s]\u001b[A\u001b[A\n",
      "\n",
      "  3%|▎         | 1/29 [00:03<01:34,  3.38s/it]\u001b[A\u001b[A\n",
      "\n",
      "  7%|▋         | 2/29 [00:06<01:32,  3.43s/it]\u001b[A\u001b[A\n",
      "\n",
      " 10%|█         | 3/29 [00:10<01:30,  3.50s/it]\u001b[A\u001b[A\n",
      "\n",
      " 14%|█▍        | 4/29 [00:14<01:29,  3.58s/it]\u001b[A\u001b[A\n",
      "\n",
      " 17%|█▋        | 5/29 [00:18<01:27,  3.66s/it]\u001b[A\u001b[A\n",
      "\n",
      " 21%|██        | 6/29 [00:22<01:26,  3.77s/it]\u001b[A\u001b[A\n",
      "\n",
      " 24%|██▍       | 7/29 [00:26<01:25,  3.88s/it]\u001b[A\u001b[A\n",
      "\n",
      " 28%|██▊       | 8/29 [00:30<01:24,  4.04s/it]\u001b[A\u001b[A\n",
      "\n",
      " 31%|███       | 9/29 [00:35<01:23,  4.17s/it]\u001b[A\u001b[A\n",
      "\n",
      " 34%|███▍      | 10/29 [00:39<01:21,  4.31s/it]\u001b[A\u001b[A\n",
      "\n",
      " 38%|███▊      | 11/29 [00:44<01:20,  4.47s/it]\u001b[A\u001b[A\n",
      "\n",
      " 41%|████▏     | 12/29 [00:49<01:18,  4.60s/it]\u001b[A\u001b[A\n",
      "\n",
      " 45%|████▍     | 13/29 [00:54<01:15,  4.72s/it]\u001b[A\u001b[A\n",
      "\n",
      " 48%|████▊     | 14/29 [00:59<01:12,  4.83s/it]\u001b[A\u001b[A\n",
      "\n",
      " 52%|█████▏    | 15/29 [01:04<01:09,  4.94s/it]\u001b[A\u001b[A\n",
      "\n",
      " 55%|█████▌    | 16/29 [01:10<01:06,  5.12s/it]\u001b[A\u001b[A\n",
      "\n",
      " 59%|█████▊    | 17/29 [01:16<01:04,  5.34s/it]\u001b[A\u001b[A\n",
      "\n",
      " 62%|██████▏   | 18/29 [01:22<00:59,  5.45s/it]\u001b[A\u001b[A\n",
      "\n",
      " 66%|██████▌   | 19/29 [01:27<00:55,  5.51s/it]\u001b[A\u001b[A\n",
      "\n",
      " 69%|██████▉   | 20/29 [01:33<00:51,  5.68s/it]\u001b[A\u001b[A\n",
      "\n",
      " 72%|███████▏  | 21/29 [01:39<00:46,  5.77s/it]\u001b[A\u001b[A\n",
      "\n",
      " 76%|███████▌  | 22/29 [01:46<00:41,  6.00s/it]\u001b[A\u001b[A\n",
      "\n",
      " 79%|███████▉  | 23/29 [01:53<00:37,  6.26s/it]\u001b[A\u001b[A\n",
      "\n",
      " 83%|████████▎ | 24/29 [01:59<00:31,  6.29s/it]\u001b[A\u001b[A\n",
      "\n",
      " 86%|████████▌ | 25/29 [02:05<00:25,  6.34s/it]\u001b[A\u001b[A\n",
      "\n",
      " 90%|████████▉ | 26/29 [02:12<00:19,  6.45s/it]\u001b[A\u001b[A\n",
      "\n",
      " 93%|█████████▎| 27/29 [02:19<00:13,  6.52s/it]\u001b[A\u001b[A\n",
      "\n",
      " 97%|█████████▋| 28/29 [02:26<00:06,  6.61s/it]\u001b[A\u001b[A\n",
      "\n",
      "100%|██████████| 29/29 [02:32<00:00,  6.65s/it]\u001b[A\u001b[A\n",
      "\n",
      "\u001b[A\u001b[A\n",
      "\n",
      "  0%|          | 0/29 [00:00<?, ?it/s]\u001b[A\u001b[A\n",
      "\n",
      "  3%|▎         | 1/29 [00:03<01:38,  3.52s/it]\u001b[A\u001b[A\n",
      "\n",
      "  7%|▋         | 2/29 [00:07<01:35,  3.52s/it]\u001b[A\u001b[A\n",
      "\n",
      " 10%|█         | 3/29 [00:10<01:34,  3.64s/it]\u001b[A\u001b[A\n",
      "\n",
      " 14%|█▍        | 4/29 [00:14<01:32,  3.70s/it]\u001b[A\u001b[A\n",
      "\n",
      " 17%|█▋        | 5/29 [00:18<01:30,  3.75s/it]\u001b[A\u001b[A\n",
      "\n",
      " 21%|██        | 6/29 [00:22<01:28,  3.87s/it]\u001b[A\u001b[A\n",
      "\n",
      " 24%|██▍       | 7/29 [00:26<01:27,  3.96s/it]\u001b[A\u001b[A\n",
      "\n",
      " 28%|██▊       | 8/29 [00:31<01:27,  4.15s/it]\u001b[A\u001b[A\n",
      "\n",
      " 31%|███       | 9/29 [00:36<01:28,  4.40s/it]\u001b[A\u001b[A\n",
      "\n",
      " 34%|███▍      | 10/29 [00:41<01:27,  4.58s/it]\u001b[A\u001b[A\n",
      "\n",
      " 38%|███▊      | 11/29 [00:46<01:24,  4.69s/it]\u001b[A\u001b[A\n",
      "\n",
      " 41%|████▏     | 12/29 [00:51<01:20,  4.73s/it]\u001b[A\u001b[A\n",
      "\n",
      " 45%|████▍     | 13/29 [00:56<01:18,  4.89s/it]\u001b[A\u001b[A\n",
      "\n",
      " 48%|████▊     | 14/29 [01:02<01:17,  5.15s/it]\u001b[A\u001b[A\n",
      "\n",
      " 52%|█████▏    | 15/29 [01:08<01:14,  5.36s/it]\u001b[A\u001b[A\n",
      "\n",
      " 55%|█████▌    | 16/29 [01:13<01:10,  5.39s/it]\u001b[A\u001b[A\n",
      "\n",
      " 59%|█████▊    | 17/29 [01:19<01:07,  5.66s/it]\u001b[A\u001b[A\n",
      "\n",
      " 62%|██████▏   | 18/29 [01:28<01:11,  6.49s/it]\u001b[A\u001b[A\n",
      "\n",
      " 66%|██████▌   | 19/29 [01:35<01:05,  6.59s/it]\u001b[A\u001b[A\n",
      "\n",
      " 69%|██████▉   | 20/29 [01:42<01:02,  6.91s/it]\u001b[A\u001b[A/home/jovyan/work/instrumentalVariable/causal-optoconnectics/tools_experimentaldata.py:2165: RuntimeWarning: Mean of empty slice.\n",
      "  wald = ys_i.mean() - ysr_i.mean()\n",
      "/opt/conda/lib/python3.6/site-packages/numpy/core/_methods.py:85: RuntimeWarning: invalid value encountered in double_scalars\n",
      "  ret = ret.dtype.type(ret / rcount)\n",
      "\n",
      "\n",
      " 72%|███████▏  | 21/29 [01:49<00:54,  6.76s/it]\u001b[A\u001b[A\n",
      "\n",
      " 76%|███████▌  | 22/29 [01:56<00:48,  6.93s/it]\u001b[A\u001b[A\n",
      "\n",
      " 79%|███████▉  | 23/29 [02:03<00:42,  7.03s/it]\u001b[A\u001b[A\n",
      "\n",
      " 83%|████████▎ | 24/29 [02:10<00:34,  6.93s/it]\u001b[A\u001b[A\n",
      "\n",
      " 86%|████████▌ | 25/29 [02:18<00:29,  7.37s/it]\u001b[A\u001b[A\n",
      "\n",
      " 90%|████████▉ | 26/29 [02:27<00:23,  7.71s/it]\u001b[A\u001b[A\n",
      "\n",
      " 93%|█████████▎| 27/29 [02:36<00:15,  7.96s/it]\u001b[A\u001b[A\n",
      "\n",
      " 97%|█████████▋| 28/29 [02:43<00:07,  7.82s/it]\u001b[A\u001b[A\n",
      "\n",
      "100%|██████████| 29/29 [02:50<00:00,  7.68s/it]\u001b[A\u001b[A\n",
      "\n",
      "\u001b[A\u001b[A\n",
      "\n",
      "  0%|          | 0/29 [00:00<?, ?it/s]\u001b[A\u001b[A\n",
      "\n",
      "  3%|▎         | 1/29 [00:03<01:39,  3.55s/it]\u001b[A\u001b[A\n",
      "\n",
      "  7%|▋         | 2/29 [00:07<01:36,  3.56s/it]\u001b[A\u001b[A\n",
      "\n",
      " 10%|█         | 3/29 [00:11<01:34,  3.65s/it]\u001b[A\u001b[A\n",
      "\n",
      " 14%|█▍        | 4/29 [00:15<01:33,  3.76s/it]\u001b[A\u001b[A\n",
      "\n",
      " 17%|█▋        | 5/29 [00:19<01:33,  3.89s/it]\u001b[A\u001b[A\n",
      "\n",
      " 21%|██        | 6/29 [00:23<01:31,  3.97s/it]\u001b[A\u001b[A\n",
      "\n",
      " 24%|██▍       | 7/29 [00:27<01:30,  4.10s/it]\u001b[A\u001b[A\n",
      "\n",
      " 28%|██▊       | 8/29 [00:32<01:29,  4.26s/it]\u001b[A\u001b[A\n",
      "\n",
      " 31%|███       | 9/29 [00:37<01:27,  4.39s/it]\u001b[A\u001b[A\n",
      "\n",
      " 34%|███▍      | 10/29 [00:42<01:30,  4.79s/it]\u001b[A\u001b[A\n",
      "\n",
      " 38%|███▊      | 11/29 [00:47<01:27,  4.88s/it]\u001b[A\u001b[A\n",
      "\n",
      " 41%|████▏     | 12/29 [00:52<01:23,  4.90s/it]\u001b[A\u001b[A\n",
      "\n",
      " 45%|████▍     | 13/29 [00:58<01:20,  5.03s/it]\u001b[A\u001b[A\n",
      "\n",
      " 48%|████▊     | 14/29 [01:03<01:16,  5.07s/it]\u001b[A\u001b[A\n",
      "\n",
      " 52%|█████▏    | 15/29 [01:08<01:11,  5.11s/it]\u001b[A\u001b[A\n",
      "\n",
      " 55%|█████▌    | 16/29 [01:13<01:07,  5.19s/it]\u001b[A\u001b[A\n",
      "\n",
      " 59%|█████▊    | 17/29 [01:19<01:04,  5.38s/it]\u001b[A\u001b[A\n",
      "\n",
      " 62%|██████▏   | 18/29 [01:25<01:00,  5.49s/it]\u001b[A\u001b[A\n",
      "\n",
      " 66%|██████▌   | 19/29 [01:31<00:56,  5.60s/it]\u001b[A\u001b[A\n",
      "\n",
      " 69%|██████▉   | 20/29 [01:37<00:51,  5.77s/it]\u001b[A\u001b[A\n",
      "\n",
      " 72%|███████▏  | 21/29 [01:44<00:47,  5.99s/it]\u001b[A\u001b[A\n",
      "\n",
      " 76%|███████▌  | 22/29 [01:50<00:42,  6.08s/it]\u001b[A\u001b[A\n",
      "\n",
      " 79%|███████▉  | 23/29 [01:57<00:37,  6.31s/it]\u001b[A\u001b[A\n",
      "\n",
      " 83%|████████▎ | 24/29 [02:03<00:31,  6.35s/it]\u001b[A\u001b[A\n",
      "\n",
      " 86%|████████▌ | 25/29 [02:09<00:25,  6.35s/it]\u001b[A\u001b[A\n",
      "\n",
      " 90%|████████▉ | 26/29 [02:16<00:19,  6.41s/it]\u001b[A\u001b[A\n",
      "\n",
      " 93%|█████████▎| 27/29 [02:23<00:12,  6.47s/it]\u001b[A\u001b[A\n",
      "\n",
      " 97%|█████████▋| 28/29 [02:29<00:06,  6.53s/it]\u001b[A\u001b[A\n",
      "\n",
      "100%|██████████| 29/29 [02:36<00:00,  6.61s/it]\u001b[A\u001b[A\n",
      "\n",
      "\u001b[A\u001b[A\n",
      "\n",
      "  0%|          | 0/29 [00:00<?, ?it/s]\u001b[A\u001b[A\n",
      "\n",
      "  3%|▎         | 1/29 [00:03<01:34,  3.38s/it]\u001b[A\u001b[A\n",
      "\n",
      "  7%|▋         | 2/29 [00:06<01:32,  3.42s/it]\u001b[A\u001b[A\n",
      "\n",
      " 10%|█         | 3/29 [00:10<01:30,  3.48s/it]\u001b[A\u001b[A\n",
      "\n",
      " 14%|█▍        | 4/29 [00:14<01:28,  3.55s/it]\u001b[A\u001b[A\n",
      "\n",
      " 17%|█▋        | 5/29 [00:18<01:27,  3.65s/it]\u001b[A\u001b[A\n",
      "\n",
      " 21%|██        | 6/29 [00:22<01:26,  3.76s/it]\u001b[A\u001b[A\n",
      "\n",
      " 24%|██▍       | 7/29 [00:26<01:25,  3.86s/it]\u001b[A\u001b[A\n",
      "\n",
      " 28%|██▊       | 8/29 [00:30<01:24,  4.01s/it]\u001b[A\u001b[A\n",
      "\n",
      " 31%|███       | 9/29 [00:35<01:23,  4.16s/it]\u001b[A\u001b[A\n",
      "\n",
      " 34%|███▍      | 10/29 [00:39<01:21,  4.30s/it]\u001b[A\u001b[A\n",
      "\n",
      " 38%|███▊      | 11/29 [00:44<01:20,  4.46s/it]\u001b[A\u001b[A\n",
      "\n",
      " 41%|████▏     | 12/29 [00:49<01:18,  4.60s/it]\u001b[A\u001b[A\n",
      "\n",
      " 45%|████▍     | 13/29 [00:54<01:15,  4.73s/it]\u001b[A\u001b[A\n",
      "\n",
      " 48%|████▊     | 14/29 [00:59<01:12,  4.84s/it]\u001b[A\u001b[A\n",
      "\n",
      " 52%|█████▏    | 15/29 [01:04<01:09,  4.96s/it]\u001b[A\u001b[A\n",
      "\n",
      " 55%|█████▌    | 16/29 [01:10<01:05,  5.06s/it]\u001b[A\u001b[A\n",
      "\n",
      " 59%|█████▊    | 17/29 [01:15<01:02,  5.17s/it]\u001b[A\u001b[A\n",
      "\n",
      " 62%|██████▏   | 18/29 [01:21<00:57,  5.26s/it]\u001b[A\u001b[A\n",
      "\n",
      " 66%|██████▌   | 19/29 [01:26<00:53,  5.37s/it]\u001b[A\u001b[A\n",
      "\n",
      " 69%|██████▉   | 20/29 [01:32<00:49,  5.47s/it]\u001b[A\u001b[A\n",
      "\n",
      " 72%|███████▏  | 21/29 [01:38<00:44,  5.61s/it]\u001b[A\u001b[A\n",
      "\n",
      " 76%|███████▌  | 22/29 [01:44<00:40,  5.75s/it]\u001b[A\u001b[A\n",
      "\n",
      " 79%|███████▉  | 23/29 [01:50<00:35,  5.88s/it]\u001b[A\u001b[A\n",
      "\n"
     ]
    },
    {
     "name": "stderr",
     "output_type": "stream",
     "text": [
      " 83%|████████▎ | 24/29 [01:56<00:29,  5.99s/it]\u001b[A\u001b[A\n",
      "\n",
      " 86%|████████▌ | 25/29 [02:03<00:24,  6.10s/it]\u001b[A\u001b[A\n",
      "\n",
      " 90%|████████▉ | 26/29 [02:09<00:18,  6.22s/it]\u001b[A\u001b[A\n",
      "\n",
      " 93%|█████████▎| 27/29 [02:16<00:12,  6.40s/it]\u001b[A\u001b[A\n",
      "\n",
      " 97%|█████████▋| 28/29 [02:23<00:06,  6.57s/it]\u001b[A\u001b[A\n",
      "\n",
      "100%|██████████| 29/29 [02:30<00:00,  6.77s/it]\u001b[A\u001b[A\n",
      "\n",
      "\u001b[A\u001b[A\n",
      "\n",
      "  0%|          | 0/29 [00:00<?, ?it/s]\u001b[A\u001b[A\n",
      "\n",
      "  3%|▎         | 1/29 [00:03<01:38,  3.53s/it]\u001b[A\u001b[A\n",
      "\n",
      "  7%|▋         | 2/29 [00:07<01:36,  3.58s/it]\u001b[A\u001b[A\n",
      "\n",
      " 10%|█         | 3/29 [00:11<01:34,  3.64s/it]\u001b[A\u001b[A\n",
      "\n",
      " 14%|█▍        | 4/29 [00:14<01:33,  3.73s/it]\u001b[A\u001b[A\n",
      "\n",
      " 17%|█▋        | 5/29 [00:19<01:38,  4.09s/it]\u001b[A\u001b[A\n",
      "\n",
      " 21%|██        | 6/29 [00:24<01:37,  4.26s/it]\u001b[A\u001b[A\n",
      "\n",
      " 24%|██▍       | 7/29 [00:28<01:34,  4.28s/it]\u001b[A\u001b[A\n",
      "\n",
      " 28%|██▊       | 8/29 [00:33<01:32,  4.38s/it]\u001b[A\u001b[A\n",
      "\n",
      " 31%|███       | 9/29 [00:38<01:34,  4.71s/it]\u001b[A\u001b[A\n",
      "\n",
      " 34%|███▍      | 10/29 [00:44<01:35,  5.03s/it]\u001b[A\u001b[A\n",
      "\n",
      " 38%|███▊      | 11/29 [00:49<01:30,  5.04s/it]\u001b[A\u001b[A\n",
      "\n",
      " 41%|████▏     | 12/29 [00:54<01:25,  5.03s/it]\u001b[A\u001b[A\n",
      "\n",
      " 45%|████▍     | 13/29 [00:59<01:20,  5.06s/it]\u001b[A\u001b[A\n",
      "\n",
      " 48%|████▊     | 14/29 [01:05<01:16,  5.13s/it]\u001b[A\u001b[A\n",
      "\n",
      " 52%|█████▏    | 15/29 [01:10<01:12,  5.17s/it]\u001b[A\u001b[A\n",
      "\n",
      " 55%|█████▌    | 16/29 [01:16<01:09,  5.36s/it]\u001b[A\u001b[A\n",
      "\n",
      " 59%|█████▊    | 17/29 [01:22<01:07,  5.64s/it]\u001b[A\u001b[A\n",
      "\n",
      " 62%|██████▏   | 18/29 [01:28<01:02,  5.68s/it]\u001b[A\u001b[A\n",
      "\n",
      " 66%|██████▌   | 19/29 [01:34<00:57,  5.71s/it]\u001b[A\u001b[A\n",
      "\n",
      " 69%|██████▉   | 20/29 [01:39<00:51,  5.75s/it]\u001b[A\u001b[A\n",
      "\n",
      " 72%|███████▏  | 21/29 [01:46<00:46,  5.83s/it]\u001b[A\u001b[A\n",
      "\n",
      " 76%|███████▌  | 22/29 [01:52<00:41,  5.93s/it]\u001b[A\u001b[A\n",
      "\n",
      " 79%|███████▉  | 23/29 [01:58<00:37,  6.20s/it]\u001b[A\u001b[A\n",
      "\n",
      " 83%|████████▎ | 24/29 [02:05<00:31,  6.32s/it]\u001b[A\u001b[A\n",
      "\n",
      " 86%|████████▌ | 25/29 [02:12<00:25,  6.48s/it]\u001b[A\u001b[A\n",
      "\n",
      " 90%|████████▉ | 26/29 [02:20<00:20,  6.87s/it]\u001b[A\u001b[A\n",
      "\n",
      " 93%|█████████▎| 27/29 [02:27<00:13,  6.94s/it]\u001b[A\u001b[A\n",
      "\n",
      " 97%|█████████▋| 28/29 [02:34<00:06,  6.93s/it]\u001b[A\u001b[A\n",
      "\n",
      "100%|██████████| 29/29 [02:41<00:00,  6.93s/it]\u001b[A\u001b[A\n",
      "\n",
      "\u001b[A\u001b[A"
     ]
    }
   ],
   "source": [
    "# test different iv windows for their error\n",
    "lst_iv_windows = np.array([1.5, 3., 4.5, 6., 7.5, 9.])*pq.s\n",
    "lst_df_diffwindw = []\n",
    "for windw in lst_iv_windows:\n",
    "    df_i = tls_exp.bootstrap_iv(\n",
    "            blks, btstrp_n,                                                                                                                                                                                                \n",
    "            df_sigstim,                                                                                                                                                                                                \n",
    "            iv_min_n_stim,                                                                                                                                                                                             \n",
    "            windw,                                                                                                                                                                                                 \n",
    "            iv_ltnc,\n",
    "            conns_sel=conns_sel)\n",
    "    lst_df_diffwindw.append(df_i)\n"
   ]
  },
  {
   "cell_type": "code",
   "execution_count": 69,
   "metadata": {},
   "outputs": [
    {
     "name": "stderr",
     "output_type": "stream",
     "text": [
      "/opt/conda/lib/python3.6/site-packages/numpy/lib/nanfunctions.py:1545: RuntimeWarning: Degrees of freedom <= 0 for slice.\n",
      "  keepdims=keepdims)\n"
     ]
    }
   ],
   "source": [
    "mean_err = []\n",
    "for i in range(len(lst_iv_windows)):\n",
    "    df_i = lst_df_diffwindw[i]\n",
    "    iv_err = []\n",
    "    for conn in conns_sel:\n",
    "        (animal,\n",
    "         date,\n",
    "         shank_pre,\n",
    "         cluster_pre,\n",
    "         shank_post,\n",
    "         cluster_post) = conn\n",
    "        df_conn_iv = df_i.loc[\n",
    "            (df_i['animal'] == animal) &\n",
    "            (df_i['date'] == date) &\n",
    "            (df_i['shank_pre'] == shank_pre) &\n",
    "            (df_i['cluster_pre'] == cluster_pre) &\n",
    "            (df_i['shank_post'] == shank_post) &\n",
    "            (df_i['cluster_post'] == cluster_post)]\n",
    "        iv_err.append(np.nanstd(df_conn_iv['ivwald']))\n",
    "    iv_err = np.array(iv_err)\n",
    "    mean_err.append(np.nanmean(iv_err))"
   ]
  },
  {
   "cell_type": "code",
   "execution_count": 77,
   "metadata": {},
   "outputs": [
    {
     "data": {
      "image/png": "[encoded data removed]",
      "text/plain": [
       "<Figure size 358.56x144 with 1 Axes>"
      ]
     },
     "metadata": {},
     "output_type": "display_data"
    }
   ],
   "source": [
    "fig, ax = plt.subplots(1)\n",
    "ax.plot(lst_iv_windows, mean_err)\n",
    "ax.set_title('Certainty of IV estimates against IV window length')\n",
    "ax.set_xlabel(r'IV time window [ms]')\n",
    "ax.set_ylabel(r'Mean standard deviation of error')\n",
    "despine(ax)\n",
    "fig.savefig('manuscript/Optodata_error_by_IV_window.svg')\n"
   ]
  }
 ],
 "metadata": {
  "kernelspec": {
   "display_name": "Python 3",
   "language": "python",
   "name": "python3"
  },
  "language_info": {
   "codemirror_mode": {
    "name": "ipython",
    "version": 3
   },
   "file_extension": ".py",
   "mimetype": "text/x-python",
   "name": "python",
   "nbconvert_exporter": "python",
   "pygments_lexer": "ipython3",
   "version": "3.6.5"
  }
 },
 "nbformat": 4,
 "nbformat_minor": 2
}
