{
 "cells": [
  {
   "cell_type": "code",
   "execution_count": 1,
   "metadata": {},
   "outputs": [
    {
     "name": "stderr",
     "output_type": "stream",
     "text": [
      "/home/mikkel/.virtualenvs/main/lib/python3.5/site-packages/statsmodels/compat/pandas.py:56: FutureWarning: The pandas.core.datetools module is deprecated and will be removed in a future version. Please use the pandas.tseries module instead.\n",
      "  from pandas.core import datetools\n"
     ]
    }
   ],
   "source": [
    "%matplotlib inline\n",
    "%load_ext autoreload\n",
    "%autoreload 2\n",
    "from method import IV\n",
    "from simulator import Simulator\n",
    "import matplotlib.pyplot as plt\n",
    "from matplotlib.gridspec import GridSpec, GridSpecFromSubplotSpec\n",
    "import pandas as pd\n",
    "import numpy as np\n",
    "import quantities as pq\n",
    "import seaborn as sns\n",
    "from tools import savefig, fix_figure, coef_var, corrcoef, despine, set_style, add_caption\n",
    "import copy\n",
    "from IPython.display import display\n",
    "import statsmodels.api as sm\n",
    "import matplotlib.lines as mlines\n",
    "from matplotlib.ticker import ScalarFormatter"
   ]
  },
  {
   "cell_type": "code",
   "execution_count": 8,
   "metadata": {},
   "outputs": [],
   "source": [
    "def mean_square_error(x1, x2):\n",
    "    return np.sum((x2 - x1)**2) / len(x1.dropna())\n",
    "\n",
    "def normalize(x, y):\n",
    "    a = x - x.min()\n",
    "    return a / a.max() * y.max()"
   ]
  },
  {
   "cell_type": "code",
   "execution_count": 3,
   "metadata": {},
   "outputs": [],
   "source": [
    "trials = [5000, 10000, 15000, 20000, 25000, 30000]\n",
    "sim_id = [1, 2, 3]\n",
    "# path = 'results/orig_analysis/'\n",
    "path = 'results/'\n",
    "\n",
    "iv_name = 'iv_wald'\n",
    "varis = [iv_name, 'cch']\n",
    "proxies = ['IV', 'CCH']"
   ]
  },
  {
   "cell_type": "code",
   "execution_count": 4,
   "metadata": {},
   "outputs": [],
   "source": [
    "mse_trials = {var: {sid: list() for sid in sim_id} for var in varis}\n",
    "\n",
    "for sid in sim_id:\n",
    "    for N_trials in trials:\n",
    "        analys = pd.read_csv(path + 'params_{}_analyse_{}.csv'.format(sid, N_trials))\n",
    "        analys = analys.loc[(analys.pfast < 0.01) & (analys.ppeak < 0.01),:]\n",
    "#         analys = analys.loc[(analys.pfast < 0.01),:]\n",
    "        for var in varis:\n",
    "            estimate, true = analys[var], analys['weight']\n",
    "            true = normalize(true, estimate)\n",
    "            mse_trials[var][sid].append(mean_square_error(estimate, true))"
   ]
  },
  {
   "cell_type": "code",
   "execution_count": 5,
   "metadata": {},
   "outputs": [],
   "source": [
    "binsize = .1\n",
    "hit_rate = {var: {sid: {'vals': list(), 'bins': None} for sid in sim_id} for var in varis}\n",
    "N_trials = 30000\n",
    "for sid in sim_id:\n",
    "    analys = pd.read_csv(path + 'params_{}_analyse_{}.csv'.format(sid, N_trials))\n",
    "    analys = analys.loc[(analys.pfast < 0.01) & (analys.ppeak < 0.01),:]\n",
    "    mi, ma = analys.hit_rate.min().round(1), analys.hit_rate.max().round(1)\n",
    "    bins = np.arange(mi, ma + binsize, binsize).round(2)[:-1]\n",
    "    for var in varis:\n",
    "        estimate, true = analys[var], analys['weight']\n",
    "        true = normalize(true, estimate)\n",
    "        hit_rate[var][sid]['bins'] = bins\n",
    "        for b1, b2 in zip(bins, bins[1:]):\n",
    "            mask = (analys.hit_rate >= b1) & (analys.hit_rate < b2)\n",
    "            hit_rate[var][sid]['vals'].append(mean_square_error(true[mask], estimate[mask]))"
   ]
  },
  {
   "cell_type": "code",
   "execution_count": 13,
   "metadata": {},
   "outputs": [
    {
     "name": "stdout",
     "output_type": "stream",
     "text": [
      "$g$ = 9.9 = -0.67\n",
      "$g$ = 4.4 = -0.69\n",
      "$g$ = 3.0 = -0.45\n"
     ]
    },
    {
     "data": {
      "image/png": "[encoded data removed]",
      "text/plain": [
       "<Figure size 358.56x144 with 2 Axes>"
      ]
     },
     "metadata": {},
     "output_type": "display_data"
    }
   ],
   "source": [
    "save = True\n",
    "if save: set_style('article', sns_style='ticks')\n",
    "if not save: set_style('notebook', sns_style='ticks')\n",
    "\n",
    "fig, (ax_t, ax_h) = plt.subplots(1, 2, sharey=True)\n",
    "legend = {\n",
    "    1: '$g$ = 9.9',\n",
    "    2: '$g$ = 4.4',\n",
    "    3: '$g$ = 3.0'\n",
    "}\n",
    "color = {\n",
    "    1: 'b',\n",
    "    2: 'r',\n",
    "    3: 'y'\n",
    "}\n",
    "h = []\n",
    "\n",
    "for sid in sim_id:\n",
    "    slope, intercept = np.polyfit(np.log(trials), np.log(mse_trials[iv_name][sid]), 1)\n",
    "    print('{} = {:.2f}'.format(legend[sid], slope))\n",
    "    for var, name, ls in zip([iv_name, 'cch'], ['IV, ', 'CCH, '], ['-', '--']):\n",
    "        # mse trials\n",
    "        a, = ax_t.loglog(\n",
    "            trials, mse_trials[var][sid], ls=ls, \n",
    "            label=name + legend[sid], color=color[sid], marker='.')\n",
    "        # mse hit rate\n",
    "        ax_h.semilogy(\n",
    "            hit_rate[var][sid]['bins'][:-1], hit_rate[var][sid]['vals'], ls=ls, \n",
    "            label=name + legend[sid], color=color[sid], marker='.')\n",
    "        h.append(a)\n",
    "    \n",
    "despine(xticks=True, yticks=True, ax=ax_t)\n",
    "despine(xticks=True, yticks=False, ax=ax_h)\n",
    "\n",
    "# iv = mlines.Line2D([], [], color='k', ls='-', label='IV')\n",
    "# cch = mlines.Line2D([], [], color='k', ls='--', label='CCH')\n",
    "# h.extend([iv,cch])\n",
    "# plt.legend(handles=h, bbox_to_anchor=(-1.25, 1.02, 2.2, .102), loc=3,\n",
    "#            ncol=4, mode=\"expand\", borderaxespad=0.)\n",
    "ax_t.set_ylabel('Mean square error')\n",
    "\n",
    "\n",
    "\n",
    "# mins = sorted([np.min(mse_trials[v][sid]).round(5) for sid in sim_id for v in varis])\n",
    "# mins = [min(mins), max(mins)]\n",
    "mins = [1e-1, 1e-2, 1e-3, 1e-4]\n",
    "ax_t.set_yticks(mins, minor=False)\n",
    "\n",
    "\n",
    "ax_t.xaxis.set_major_formatter(ScalarFormatter())\n",
    "ax_t.set_xticks(np.arange(5000, 30000, 1000), minor=True)\n",
    "ax_t.set_xticklabels([], minor=True)\n",
    "ax_t.set_xticks(trials, minor=False)\n",
    "ax_t.set_xticklabels(trials, minor=False, rotation=45)\n",
    "ax_t.set_xlim([4950, 30500])\n",
    "ax_t.set_xlabel('N trials')\n",
    "\n",
    "bins = hit_rate['cch'][1]['bins']\n",
    "xticks = ['[{}, {}{}'.format(b1, b2, ')' if b2 < 1.0 else ']') for b1, b2 in zip(bins, bins[1:])]\n",
    "ax_h.set_xticks(bins[:-1])\n",
    "ax_h.set_xticklabels(xticks, rotation=45)\n",
    "ax_h.set_xlabel('Hit rate')\n",
    "add_caption([ax_t, ax_h], start='b')\n",
    "fig.align_labels()\n",
    "# if save: savefig(fig, 'mse', bbox_inches='tight')"
   ]
  },
  {
   "cell_type": "code",
   "execution_count": null,
   "metadata": {},
   "outputs": [],
   "source": []
  }
 ],
 "metadata": {
  "kernelspec": {
   "display_name": "Python 3",
   "language": "python",
   "name": "python3"
  },
  "language_info": {
   "codemirror_mode": {
    "name": "ipython",
    "version": 3
   },
   "file_extension": ".py",
   "mimetype": "text/x-python",
   "name": "python",
   "nbconvert_exporter": "python",
   "pygments_lexer": "ipython3",
   "version": "3.5.2"
  }
 },
 "nbformat": 4,
 "nbformat_minor": 2
}
