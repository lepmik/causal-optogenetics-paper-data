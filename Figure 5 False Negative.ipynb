{
 "cells": [
  {
   "cell_type": "code",
   "execution_count": 3,
   "metadata": {},
   "outputs": [
    {
     "name": "stdout",
     "output_type": "stream",
     "text": [
      "The autoreload extension is already loaded. To reload it, use:\n",
      "  %reload_ext autoreload\n"
     ]
    },
    {
     "name": "stderr",
     "output_type": "stream",
     "text": [
      "/home/mikkel/.virtualenvs/main/lib/python3.5/site-packages/statsmodels/compat/pandas.py:56: FutureWarning: The pandas.core.datetools module is deprecated and will be removed in a future version. Please use the pandas.tseries module instead.\n",
      "  from pandas.core import datetools\n"
     ]
    }
   ],
   "source": [
    "%matplotlib inline\n",
    "%load_ext autoreload\n",
    "%autoreload 2\n",
    "from method import IV\n",
    "from simulator import Simulator\n",
    "import matplotlib.pyplot as plt\n",
    "from matplotlib.gridspec import GridSpec, GridSpecFromSubplotSpec\n",
    "import pandas as pd\n",
    "import numpy as np\n",
    "import quantities as pq\n",
    "import seaborn as sns\n",
    "# from exana.statistics import plot_xcorr, permutation_resampling\n",
    "from tools import savefig, fix_figure, coef_var, corrcoef, despine, set_style\n",
    "import copy\n",
    "from IPython.display import display\n",
    "import statsmodels.api as sm"
   ]
  },
  {
   "cell_type": "code",
   "execution_count": 4,
   "metadata": {},
   "outputs": [],
   "source": [
    "# analys = pd.read_csv('results/orig_analysis/params_1_analyse_30000.csv')\n",
    "all_data = pd.read_csv('results/params_2_analyse_30000.csv')"
   ]
  },
  {
   "cell_type": "code",
   "execution_count": 6,
   "metadata": {},
   "outputs": [],
   "source": [
    "N_pairs = all_data.shape[0]\n",
    "analys = all_data.loc[(all_data.pfast < 0.01) & (all_data.ppeak < 0.01) & (all_data.hit_rate < 0.9),:]"
   ]
  },
  {
   "cell_type": "code",
   "execution_count": 7,
   "metadata": {},
   "outputs": [
    {
     "data": {
      "text/plain": [
       "60.0"
      ]
     },
     "execution_count": 7,
     "metadata": {},
     "output_type": "execute_result"
    }
   ],
   "source": [
    "analys.shape[0] / N_pairs * 100"
   ]
  },
  {
   "cell_type": "code",
   "execution_count": 9,
   "metadata": {},
   "outputs": [],
   "source": [
    "def model(x):\n",
    "    return 1/(1+np.exp(-x))\n",
    "\n",
    "def norm(x):\n",
    "#     return (x - np.mean(x)) / np.std(x)\n",
    "    return (x - min(x)) / (max(x) - min(x))"
   ]
  },
  {
   "cell_type": "code",
   "execution_count": 10,
   "metadata": {},
   "outputs": [
    {
     "name": "stderr",
     "output_type": "stream",
     "text": [
      "/home/mikkel/.virtualenvs/main/lib/python3.5/site-packages/pandas/core/indexing.py:357: SettingWithCopyWarning: \n",
      "A value is trying to be set on a copy of a slice from a DataFrame.\n",
      "Try using .loc[row_indexer,col_indexer] = value instead\n",
      "\n",
      "See the caveats in the documentation: http://pandas.pydata.org/pandas-docs/stable/indexing.html#indexing-view-versus-copy\n",
      "  self.obj[key] = _infer_fill_value(value)\n",
      "/home/mikkel/.virtualenvs/main/lib/python3.5/site-packages/pandas/core/indexing.py:537: SettingWithCopyWarning: \n",
      "A value is trying to be set on a copy of a slice from a DataFrame.\n",
      "Try using .loc[row_indexer,col_indexer] = value instead\n",
      "\n",
      "See the caveats in the documentation: http://pandas.pydata.org/pandas-docs/stable/indexing.html#indexing-view-versus-copy\n",
      "  self.obj[item] = s\n"
     ]
    }
   ],
   "source": [
    "analys.loc[:,'logit'] = model(analys.loc[:,'logreg'] + analys.loc[:,'logreg_intercept'])"
   ]
  },
  {
   "cell_type": "markdown",
   "metadata": {},
   "source": [
    "# False negatives"
   ]
  },
  {
   "cell_type": "code",
   "execution_count": 53,
   "metadata": {},
   "outputs": [],
   "source": [
    "TOL = 0.05\n",
    "include = ['cch', 'iv_cch', 'iv_wald', 'logit', 'weight']\n",
    "tmp = analys.loc[analys.weight > TOL, include]\n",
    "fn = pd.concat(\n",
    "    [tmp.loc[tmp['iv_wald'] <= TOL, 'weight'].rename('IV'),\n",
    "    tmp.loc[tmp['iv_cch'] <= TOL, 'weight'].rename('CCH IV'),\n",
    "    tmp.loc[tmp['logit'] <= TOL, 'weight'].rename('LOGIT'),\n",
    "    tmp.loc[tmp['cch'] <= TOL, 'weight'].rename('CCH')],\n",
    "    axis=1)"
   ]
  },
  {
   "cell_type": "code",
   "execution_count": 94,
   "metadata": {},
   "outputs": [
    {
     "name": "stdout",
     "output_type": "stream",
     "text": [
      "1\n"
     ]
    },
    {
     "data": {
      "image/png": "[encoded data removed]",
      "text/plain": [
       "<matplotlib.figure.Figure at 0x7f731c01e978>"
      ]
     },
     "metadata": {},
     "output_type": "display_data"
    }
   ],
   "source": [
    "save = True\n",
    "if save: set_style('article', w=0.485)\n",
    "if not save: set_style('notebook')\n",
    "include = ['CCH','LOGIT', 'IV']#, 'CCH IV']\n",
    "sns.boxplot(data=fn.loc[:,include], palette=['b', 'g', 'r'])\n",
    "for key, pos_x, pos_y in zip(['CCH'], [0, 1], [.35, 0.9]):\n",
    "    case = fn.loc[:,['IV']].dropna().values.flatten()\n",
    "    control = fn.loc[:,[key]].dropna().values.flatten()\n",
    "    print(len(control))\n",
    "    pval, observed_diff, diffs = permutation_resampling(case, control, 1000, statistic=np.nanmedian)\n",
    "    label_diff(pos_x, 2, pos_y, 'p = {:.2f}, $\\\\Delta$ = {:.3f}'.format(pval, observed_diff))\n",
    "N = analys.shape[0] / 100\n",
    "for x, name in zip([0, 1, 2], include):\n",
    "    text = '{:.1f}\\%'.format(len(fn[name].dropna()) / tmp.shape[0])\n",
    "    plt.text(x, .4, text, ha='center', va='bottom', color='k')\n",
    "sns.despine()\n",
    "plt.ylabel('False negative')\n",
    "if save: savefig(plt.gcf(), 'false_negative')"
   ]
  }
 ],
 "metadata": {
  "kernelspec": {
   "display_name": "Python 3",
   "language": "python",
   "name": "python3"
  },
  "language_info": {
   "codemirror_mode": {
    "name": "ipython",
    "version": 3
   },
   "file_extension": ".py",
   "mimetype": "text/x-python",
   "name": "python",
   "nbconvert_exporter": "python",
   "pygments_lexer": "ipython3",
   "version": "3.5.2"
  }
 },
 "nbformat": 4,
 "nbformat_minor": 2
}
