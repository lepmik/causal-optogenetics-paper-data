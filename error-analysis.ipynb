{
 "cells": [
  {
   "cell_type": "code",
   "execution_count": 1,
   "metadata": {},
   "outputs": [
    {
     "name": "stderr",
     "output_type": "stream",
     "text": [
      "/home/mikkel/.virtualenvs/main/lib/python3.5/site-packages/statsmodels/compat/pandas.py:56: FutureWarning: The pandas.core.datetools module is deprecated and will be removed in a future version. Please use the pandas.tseries module instead.\n",
      "  from pandas.core import datetools\n"
     ]
    }
   ],
   "source": [
    "%matplotlib inline\n",
    "%load_ext autoreload\n",
    "%autoreload 2\n",
    "from method import IV\n",
    "from simulator import Simulator\n",
    "import matplotlib.pyplot as plt\n",
    "from matplotlib.gridspec import GridSpec, GridSpecFromSubplotSpec\n",
    "import pandas as pd\n",
    "import numpy as np\n",
    "import quantities as pq\n",
    "import seaborn as sns\n",
    "from exana.statistics import plot_xcorr, permutation_resampling\n",
    "from tools import savefig, fix_figure, coef_var, corrcoef, despine, set_style\n",
    "import copy\n",
    "from IPython.display import display\n",
    "import statsmodels.api as sm"
   ]
  },
  {
   "cell_type": "code",
   "execution_count": 2,
   "metadata": {},
   "outputs": [],
   "source": [
    "def mean_square_error(x1, x2, norm=None):\n",
    "    return np.sum((x2 - x1)**2) / len(x1.dropna())\n",
    "\n",
    "def normalize(x, y):\n",
    "    a = x - x.min()\n",
    "    return a / a.max() * y.max()"
   ]
  },
  {
   "cell_type": "code",
   "execution_count": 3,
   "metadata": {},
   "outputs": [],
   "source": [
    "trials = [5000, 10000, 15000, 20000, 25000, 30000]\n",
    "sim_id = [1, 2, 3]\n",
    "# path = 'results/orig_analysis/'\n",
    "path = 'results/'"
   ]
  },
  {
   "cell_type": "code",
   "execution_count": 35,
   "metadata": {},
   "outputs": [],
   "source": [
    "# iv_name = 'iv_cch'\n",
    "iv_name = 'iv_wald'\n",
    "varis = [iv_name, 'cch']\n",
    "data = {var: {sid: list() for sid in sim_id} for var in varis}\n",
    "\n",
    "for sid in sim_id:\n",
    "    for N_trials in trials:\n",
    "        analys = pd.read_csv(path + 'params_{}_analyse_{}.csv'.format(sid, N_trials))\n",
    "        analys = analys.loc[(analys.pfast < 0.01) & (analys.ppeak < 0.01),:]\n",
    "#         analys = analys.loc[(analys.pfast < 0.01),:]\n",
    "        for var in varis:\n",
    "            estimate, true = analys[var], analys['weight']\n",
    "            true = normalize(true, estimate)\n",
    "            data[var][sid].append(mean_square_error(estimate, true))"
   ]
  },
  {
   "cell_type": "code",
   "execution_count": 37,
   "metadata": {},
   "outputs": [
    {
     "name": "stdout",
     "output_type": "stream",
     "text": [
      "$g$ = 9.9 = -0.67\n",
      "$g$ = 4.4 = -0.69\n",
      "$g$ = 3.0 = -0.45\n"
     ]
    },
    {
     "data": {
      "image/png": "[encoded data removed]",
      "text/plain": [
       "<matplotlib.figure.Figure at 0x7fe834d46710>"
      ]
     },
     "metadata": {},
     "output_type": "display_data"
    }
   ],
   "source": [
    "save = True\n",
    "if save: set_style('article', sns_style='ticks')\n",
    "if not save: set_style('notebook', sns_style='ticks')\n",
    "\n",
    "fig, ax = plt.subplots()\n",
    "legend = {\n",
    "    1: '$g$ = 9.9',\n",
    "    2: '$g$ = 4.4',\n",
    "    3: '$g$ = 3.0'\n",
    "}\n",
    "color = {\n",
    "    1: 'b',\n",
    "    2: 'r',\n",
    "    3: 'y'\n",
    "}\n",
    "h = []\n",
    "\n",
    "for sid in sim_id:\n",
    "    slope, intercept = np.polyfit(np.log(trials), np.log(data[iv_name][sid]), 1)\n",
    "    print('{} = {:.2f}'.format(legend[sid], slope))\n",
    "    a, = ax.loglog(trials, data[iv_name][sid], label=legend[sid], color=color[sid])\n",
    "    ax.loglog(trials, data['cch'][sid], ls='--', color=color[sid])\n",
    "    h.append(a)\n",
    "    \n",
    "despine(xticks=True, yticks=True, ax=ax)\n",
    "\n",
    "import matplotlib.lines as mlines\n",
    "\n",
    "iv = mlines.Line2D([], [], color='k', ls='-', label='IV')\n",
    "cch = mlines.Line2D([], [], color='k', ls='--', label='CCH')\n",
    "h.extend([iv,cch])\n",
    "plt.legend(handles=h, bbox_to_anchor=(0.5, 1.02, .5, .102), loc=3,\n",
    "           ncol=2, mode=\"expand\", borderaxespad=0.)\n",
    "plt.xlabel('N trials')\n",
    "plt.ylabel('Mean square error')\n",
    "\n",
    "\n",
    "\n",
    "mins = sorted([np.min(data[v][sid]).round(5) for sid in sim_id for v in varis])\n",
    "# del(mins[2])\n",
    "ax.set_yticks(mins, minor=False)\n",
    "ax.set_yticklabels(mins, minor=False)\n",
    "from matplotlib.ticker import ScalarFormatter\n",
    "ax.yaxis.set_major_formatter(ScalarFormatter())\n",
    "ax.xaxis.set_major_formatter(ScalarFormatter())\n",
    "ax.ticklabel_format(style='sci', scilimits=(0,0))\n",
    "\n",
    "ax.set_xlim([5000, 30000])\n",
    "ax.set_xticks(np.arange(5000, 30000, 1000), minor=True)\n",
    "ax.set_xticklabels([], minor=True)\n",
    "ax.set_xticks(trials, minor=False)\n",
    "ax.set_xticklabels(trials, minor=False)\n",
    "\n",
    "if save: savefig(fig, 'mse', bbox_inches='tight')"
   ]
  }
 ],
 "metadata": {
  "kernelspec": {
   "display_name": "Python 3",
   "language": "python",
   "name": "python3"
  },
  "language_info": {
   "codemirror_mode": {
    "name": "ipython",
    "version": 3
   },
   "file_extension": ".py",
   "mimetype": "text/x-python",
   "name": "python",
   "nbconvert_exporter": "python",
   "pygments_lexer": "ipython3",
   "version": "3.5.2"
  }
 },
 "nbformat": 4,
 "nbformat_minor": 2
}
