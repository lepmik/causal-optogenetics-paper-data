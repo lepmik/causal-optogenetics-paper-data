{
 "cells": [
  {
   "cell_type": "code",
   "execution_count": 3,
   "metadata": {},
   "outputs": [
    {
     "name": "stdout",
     "output_type": "stream",
     "text": [
      "The autoreload extension is already loaded. To reload it, use:\n",
      "  %reload_ext autoreload\n"
     ]
    }
   ],
   "source": [
    "%matplotlib inline\n",
    "%load_ext autoreload\n",
    "%autoreload 2\n",
    "from method import IV\n",
    "from simulator import Simulator\n",
    "import matplotlib.pyplot as plt\n",
    "from matplotlib.gridspec import GridSpec, GridSpecFromSubplotSpec\n",
    "import pandas as pd\n",
    "import numpy as np\n",
    "import quantities as pq\n",
    "import seaborn as sns\n",
    "from exana.statistics import plot_xcorr, permutation_resampling\n",
    "from tools import savefig, fix_figure, coef_var, corrcoef, despine, set_style\n",
    "import copy\n",
    "from IPython.display import display\n",
    "import statsmodels.api as sm"
   ]
  },
  {
   "cell_type": "code",
   "execution_count": 4,
   "metadata": {},
   "outputs": [],
   "source": [
    "def model(x):\n",
    "    return 1/(1+np.exp(-x))\n",
    "\n",
    "def norm(x):\n",
    "#     return (x - np.mean(x)) / np.std(x)\n",
    "    return (x - min(x)) / (max(x) - min(x))\n",
    "\n",
    "def mean_square_error(x1, x2, norm=None):\n",
    "    if norm is not None:\n",
    "        x1, x2 = norm(x1), norm(x2)\n",
    "    return np.sum((x1 - x2)**2) / len(x1)"
   ]
  },
  {
   "cell_type": "code",
   "execution_count": 25,
   "metadata": {},
   "outputs": [],
   "source": [
    "trials = [5000, 10000, 15000, 20000, 25000, 30000]\n",
    "sim_id = [1, 2, 3]\n",
    "# TOL = -np.inf\n",
    "# txt = '_neg'\n",
    "TOL = 0\n",
    "txt = '_pos'\n",
    "save = True\n",
    "set_style('article')"
   ]
  },
  {
   "cell_type": "code",
   "execution_count": 6,
   "metadata": {},
   "outputs": [],
   "source": [
    "mse = {}\n",
    "for sid in sim_id:\n",
    "    tmp = []\n",
    "    for N_trials in trials:\n",
    "        analys = pd.read_csv('results/orig_analysis/params_{}_analyse_{}.csv'.format(sid, N_trials))\n",
    "        cut = analys.loc[analys.wald > TOL, ['wald', 'weight']] # analys.wald > 0\n",
    "        case, control = cut['wald'], cut['weight']\n",
    "        tmp.append(mean_square_error(case, control, norm=norm))\n",
    "    mse[sid] = {'mse': tmp}"
   ]
  },
  {
   "cell_type": "code",
   "execution_count": 9,
   "metadata": {},
   "outputs": [],
   "source": [
    "mse_cch = {}\n",
    "for sid in sim_id:\n",
    "    tmp = []\n",
    "    for N_trials in trials:\n",
    "        analys = pd.read_csv('results/orig_analysis/params_{}_analyse_{}.csv'.format(sid, N_trials))\n",
    "        analys['cch'] = analys['trans_prob']\n",
    "        analys.loc[(analys.pfast > 0.001) & (analys.pcausal > 0.001),'cch'] = np.nan\n",
    "        cut = analys.loc[analys.cch > TOL, ['cch', 'weight']] # analys.cch > 0\n",
    "        case, control = cut['cch'], cut['weight']\n",
    "        tmp.append(mean_square_error(case, control, norm=norm))\n",
    "    mse_cch[sid] = {'mse': tmp}"
   ]
  },
  {
   "cell_type": "code",
   "execution_count": 26,
   "metadata": {},
   "outputs": [
    {
     "name": "stdout",
     "output_type": "stream",
     "text": [
      "$g$ = 9.9 = -0.77\n",
      "$g$ = 4.4 = -0.48\n",
      "$g$ = 3.0 = -0.40\n"
     ]
    },
    {
     "data": {
      "image/png": "[encoded data removed]",
      "text/plain": [
       "<matplotlib.figure.Figure at 0x7f0805dd7358>"
      ]
     },
     "metadata": {},
     "output_type": "display_data"
    }
   ],
   "source": [
    "legend = {\n",
    "    1: '$g$ = 9.9',\n",
    "    2: '$g$ = 4.4',\n",
    "    3: '$g$ = 3.0'\n",
    "}\n",
    "color = {\n",
    "    1: 'b',\n",
    "    2: 'r',\n",
    "    3: 'y'\n",
    "}\n",
    "h = []\n",
    "for sid in sim_id:\n",
    "    slope, intercept = np.polyfit(np.log(trials), np.log(mse[sid]['mse']), 1)\n",
    "    print('{} = {:.2f}'.format(legend[sid], slope))\n",
    "    a, = plt.loglog(trials, mse[sid]['mse'], label=legend[sid], color=color[sid])\n",
    "    plt.loglog(trials, mse_cch[sid]['mse'], ls='--', color=color[sid])\n",
    "    h.append(a)\n",
    "despine()\n",
    "\n",
    "import matplotlib.lines as mlines\n",
    "\n",
    "iv = mlines.Line2D([], [], color='k', ls='-', label='IV')\n",
    "cch = mlines.Line2D([], [], color='k', ls='--', label='CCH')\n",
    "h.extend([iv,cch])\n",
    "plt.legend(handles=h, bbox_to_anchor=(0., 1.02, 1., .102), loc=3,\n",
    "           ncol=3, mode=\"expand\", borderaxespad=0.)\n",
    "plt.xlabel('log(N trials)')\n",
    "plt.ylabel('log(Mean square error)')\n",
    "if save: savefig(plt.gcf(), 'mse{}'.format(txt), bbox_inches='tight')"
   ]
  },
  {
   "cell_type": "code",
   "execution_count": 17,
   "metadata": {},
   "outputs": [],
   "source": [
    "analys['logit'] = model(analys.logreg + analys.logreg_intercept)\n",
    "\n",
    "analys.loc[analys['wald'] < 0,'wald'] = 0\n",
    "\n",
    "analys['cch'] = analys['trans_prob']\n",
    "analys.loc[analys['cch'] < 0,'cch'] = 0\n",
    "\n",
    "\n",
    "# analys.loc[(analys.pfast > 0.001) & (analys.pcausal > 0.001),'cch'] = np.nan"
   ]
  },
  {
   "cell_type": "code",
   "execution_count": 18,
   "metadata": {},
   "outputs": [],
   "source": [
    "analys['weight'] = norm(analys['weight'])\n",
    "analys['logit'] = norm(analys['logit'])\n",
    "analys['wald'] = norm(analys['wald'])\n",
    "analys['cch'] = norm(analys['cch'])"
   ]
  },
  {
   "cell_type": "code",
   "execution_count": 19,
   "metadata": {},
   "outputs": [
    {
     "data": {
      "text/plain": [
       "330"
      ]
     },
     "execution_count": 19,
     "metadata": {},
     "output_type": "execute_result"
    }
   ],
   "source": [
    "sum(analys.pcausal < 0.001)"
   ]
  },
  {
   "cell_type": "code",
   "execution_count": 20,
   "metadata": {},
   "outputs": [
    {
     "data": {
      "text/plain": [
       "array([[<matplotlib.axes._subplots.AxesSubplot object at 0x7eff97276fd0>,\n",
       "        <matplotlib.axes._subplots.AxesSubplot object at 0x7eff973a73c8>],\n",
       "       [<matplotlib.axes._subplots.AxesSubplot object at 0x7eff96f973c8>,\n",
       "        <matplotlib.axes._subplots.AxesSubplot object at 0x7eff96f392e8>]],\n",
       "      dtype=object)"
      ]
     },
     "execution_count": 20,
     "metadata": {},
     "output_type": "execute_result"
    },
    {
     "data": {
      "image/png": "[encoded data removed]",
      "text/plain": [
       "<matplotlib.figure.Figure at 0x7eff9725bf28>"
      ]
     },
     "metadata": {},
     "output_type": "display_data"
    }
   ],
   "source": [
    "analys.loc[:, ['cch', 'logit', 'wald', 'weight']].hist()"
   ]
  },
  {
   "cell_type": "code",
   "execution_count": null,
   "metadata": {},
   "outputs": [],
   "source": []
  }
 ],
 "metadata": {
  "kernelspec": {
   "display_name": "Python 3",
   "language": "python",
   "name": "python3"
  },
  "language_info": {
   "codemirror_mode": {
    "name": "ipython",
    "version": 3
   },
   "file_extension": ".py",
   "mimetype": "text/x-python",
   "name": "python",
   "nbconvert_exporter": "python",
   "pygments_lexer": "ipython3",
   "version": "3.5.2"
  }
 },
 "nbformat": 4,
 "nbformat_minor": 2
}
