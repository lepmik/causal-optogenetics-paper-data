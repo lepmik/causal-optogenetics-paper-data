{
 "cells": [
  {
   "cell_type": "markdown",
   "metadata": {},
   "source": [
    "Data extract from Sam McKenzie, Daniel English"
   ]
  },
  {
   "cell_type": "code",
   "execution_count": 1,
   "metadata": {},
   "outputs": [],
   "source": [
    "%matplotlib inline\n",
    "%load_ext autoreload\n",
    "%autoreload 2\n",
    "from method import IV\n",
    "import matplotlib.pyplot as plt\n",
    "from matplotlib.gridspec import GridSpec, GridSpecFromSubplotSpec\n",
    "import numpy as np\n",
    "import quantities as pq\n",
    "import seaborn as sns\n",
    "import sys\n",
    "from exana.stimulus import plot_psth\n",
    "import scipy\n",
    "import neo"
   ]
  },
  {
   "cell_type": "code",
   "execution_count": 2,
   "metadata": {},
   "outputs": [],
   "source": [
    "# load matlab file\n",
    "ses = scipy.io.loadmat('../data/JuxtaGroundTruth.mat')"
   ]
  },
  {
   "cell_type": "markdown",
   "metadata": {},
   "source": [
    "### convert to neo\n"
   ]
  },
  {
   "cell_type": "code",
   "execution_count": 3,
   "metadata": {},
   "outputs": [],
   "source": [
    "blks = []\n",
    "\n",
    "for ses_i in ses['ses'][0]:\n",
    "    sesi_dict = {'stimTimes': ses_i[0],\n",
    "                 'name': ses_i[1],\n",
    "                 'ID': ses_i[2],\n",
    "                 'juxta_ID': ses_i[3],\n",
    "                 'times': ses_i[4],\n",
    "                 'rippleTimes': ses_i[5],}\n",
    "    blk = neo.Block(name=sesi_dict['name'])\n",
    "    \n",
    "    seg = neo.Segment()\n",
    "    chx_units = neo.ChannelIndex(index=0,\n",
    "                                 name='units')\n",
    "    blk.channel_indexes.append(chx_units)\n",
    "    \n",
    "    # load spike times\n",
    "    \n",
    "    unique_neuron_ids = np.unique(sesi_dict['ID'], axis=0)\n",
    "    for neuron_id_i in unique_neuron_ids:\n",
    "        unit_i = neo.Unit(name=str(neuron_id_i),\n",
    "                          electrode=neuron_id_i[0],\n",
    "                          cluster=neuron_id_i[1])\n",
    "        \n",
    "        spkts_idcs = np.where((sesi_dict['ID']==neuron_id_i).all(axis=1))\n",
    "        spkts = sesi_dict['times'][spkts_idcs]\n",
    "        spk_train = neo.SpikeTrain(times=spkts*pq.s,\n",
    "                                   t_start=np.min(spkts)*pq.s,\n",
    "                                   t_stop=np.max(spkts)*pq.s)\n",
    "        spk_train.unit = unit_i\n",
    "        seg.spiketrains.append(spk_train)\n",
    "        unit_i.spiketrains.append(spk_train)\n",
    "        chx_units.units.append(unit_i)\n",
    "        \n",
    "    # load stimulation epochs\n",
    "    stim_start = sesi_dict['stimTimes'][:, 0]\n",
    "    stim_dur = sesi_dict['stimTimes'][:, 1] - sesi_dict['stimTimes'][:, 0]\n",
    "    \n",
    "    epc = neo.Epoch(times=stim_start*pq.s,\n",
    "                    durations=stim_dur*pq.s,\n",
    "                    name='Stim', descriptions=str(sesi_dict['juxta_ID']))\n",
    "    seg.epochs.append(epc)\n",
    "    blk.segments.append(seg)\n",
    "    blks.append(blk)"
   ]
  },
  {
   "cell_type": "code",
   "execution_count": null,
   "metadata": {},
   "outputs": [],
   "source": []
  },
  {
   "cell_type": "markdown",
   "metadata": {},
   "source": [
    "## 1) PSTH\n",
    "### We start by looking at PSTHs of the first session"
   ]
  },
  {
   "cell_type": "code",
   "execution_count": null,
   "metadata": {},
   "outputs": [],
   "source": [
    "# start with a single example\n",
    "\n",
    "blk = blks[0]\n",
    "seg=blk.segments[0]\n",
    "spktrns = seg.spiketrains\n",
    "epc = seg.epochs[0]\n",
    "xlim = [0, 150] * pq.ms\n",
    "\n",
    "\n",
    "fig, axs = plt.subplots(len(spktrns),2,\n",
    "                        sharex=True,\n",
    "                        figsize=(10,10))\n",
    "for i, spktrn_i in enumerate(spktrns):\n",
    "    plot_psth(spike_train=spktrn_i,\n",
    "              epoch=epc,\n",
    "              xlim=xlim,\n",
    "              axs=[axs[i, 0], axs[i, 1]],\n",
    "              hist_binsize=1*pq.ms,\n",
    "              stim_color='cyan',\n",
    "              hist_alpha=1.,\n",
    "              hist_edgecolor=None, \n",
    "              hist_ylabel='Counts',\n",
    "              rast_size=1);"
   ]
  },
  {
   "cell_type": "code",
   "execution_count": null,
   "metadata": {},
   "outputs": [],
   "source": [
    "fig, ax = plt.subplots(1)\n",
    "ax.hist(epc.durations.magnitude)\n",
    "ax.set_title('Histogram of stim. durations')\n",
    "ax.set_xlabel('Duration in ' + str(epc.durations.dimensionality))\n",
    "ax.set_ylabel('Count')\n",
    "plt.show()"
   ]
  }
 ],
 "metadata": {
  "kernelspec": {
   "display_name": "Python 3",
   "language": "python",
   "name": "python3"
  },
  "language_info": {
   "codemirror_mode": {
    "name": "ipython",
    "version": 3
   },
   "file_extension": ".py",
   "mimetype": "text/x-python",
   "name": "python",
   "nbconvert_exporter": "python",
   "pygments_lexer": "ipython3",
   "version": "3.6.5"
  }
 },
 "nbformat": 4,
 "nbformat_minor": 2
}
