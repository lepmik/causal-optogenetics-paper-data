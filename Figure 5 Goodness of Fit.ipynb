{
 "cells": [
  {
   "cell_type": "code",
   "execution_count": 50,
   "metadata": {},
   "outputs": [
    {
     "name": "stdout",
     "output_type": "stream",
     "text": [
      "The autoreload extension is already loaded. To reload it, use:\n",
      "  %reload_ext autoreload\n"
     ]
    }
   ],
   "source": [
    "%matplotlib inline\n",
    "%load_ext autoreload\n",
    "%autoreload 2\n",
    "from method import IV\n",
    "from simulator import Simulator\n",
    "import matplotlib.pyplot as plt\n",
    "from matplotlib.gridspec import GridSpec, GridSpecFromSubplotSpec\n",
    "import pandas as pd\n",
    "import numpy as np\n",
    "import quantities as pq\n",
    "import seaborn as sns\n",
    "# from exana.statistics import plot_xcorr, permutation_resampling\n",
    "from tools import savefig, fix_figure, coef_var, corrcoef, despine, set_style, add_caption\n",
    "import copy\n",
    "from IPython.display import display\n",
    "import statsmodels.api as sm"
   ]
  },
  {
   "cell_type": "code",
   "execution_count": 3,
   "metadata": {},
   "outputs": [],
   "source": [
    "# analys = pd.read_csv('results/orig_analysis/params_1_analyse_30000.csv')\n",
    "all_data = pd.read_csv('results/params_2_analyse_30000.csv')"
   ]
  },
  {
   "cell_type": "code",
   "execution_count": 4,
   "metadata": {},
   "outputs": [],
   "source": [
    "N_pairs = all_data.shape[0]\n",
    "analys = all_data.loc[(all_data.pfast < 0.01) & (all_data.ppeak < 0.01) & (all_data.hit_rate < 0.9),:]"
   ]
  },
  {
   "cell_type": "code",
   "execution_count": 5,
   "metadata": {},
   "outputs": [],
   "source": [
    "def model(x):\n",
    "    return 1/(1+np.exp(-x))"
   ]
  },
  {
   "cell_type": "code",
   "execution_count": 6,
   "metadata": {},
   "outputs": [
    {
     "name": "stderr",
     "output_type": "stream",
     "text": [
      "/home/mikkel/.virtualenvs/main/lib/python3.5/site-packages/pandas/core/indexing.py:357: SettingWithCopyWarning: \n",
      "A value is trying to be set on a copy of a slice from a DataFrame.\n",
      "Try using .loc[row_indexer,col_indexer] = value instead\n",
      "\n",
      "See the caveats in the documentation: http://pandas.pydata.org/pandas-docs/stable/indexing.html#indexing-view-versus-copy\n",
      "  self.obj[key] = _infer_fill_value(value)\n",
      "/home/mikkel/.virtualenvs/main/lib/python3.5/site-packages/pandas/core/indexing.py:537: SettingWithCopyWarning: \n",
      "A value is trying to be set on a copy of a slice from a DataFrame.\n",
      "Try using .loc[row_indexer,col_indexer] = value instead\n",
      "\n",
      "See the caveats in the documentation: http://pandas.pydata.org/pandas-docs/stable/indexing.html#indexing-view-versus-copy\n",
      "  self.obj[item] = s\n"
     ]
    }
   ],
   "source": [
    "analys.loc[:,'logit'] = model(analys.loc[:,'logreg'] + analys.loc[:,'logreg_intercept'])"
   ]
  },
  {
   "cell_type": "markdown",
   "metadata": {},
   "source": [
    "# Goodness of fit"
   ]
  },
  {
   "cell_type": "code",
   "execution_count": 7,
   "metadata": {},
   "outputs": [],
   "source": [
    "w = analys[analys.weight > 0].sort_values('weight').reset_index(drop=True)"
   ]
  },
  {
   "cell_type": "code",
   "execution_count": 38,
   "metadata": {},
   "outputs": [],
   "source": [
    "def regplot(x, y, data, model, ci, scatter_color='b', model_color='k', ax=None, \n",
    "            scatter_kws={}, regplot_kws={}, cmap=None, cax=None, clabel=None,\n",
    "            xlabel=True, ylabel=True, colorbar=True, **kwargs):\n",
    "    \n",
    "    from seaborn import utils\n",
    "    from seaborn import algorithms as algo\n",
    "    if ax is None:\n",
    "        fig, ax = plt.subplots()\n",
    "    _x = data[x]\n",
    "    _y = data[y]\n",
    "    grid = np.linspace(_x.min(), _x.max(), 100)\n",
    "    \n",
    "    X = np.c_[np.ones(len(_x)), _x]\n",
    "    G = np.c_[np.ones(len(grid)), grid]\n",
    "    \n",
    "    results = model(_y, X, **kwargs).fit()\n",
    "    \n",
    "    def reg_func(xx, yy):\n",
    "        yhat = model(yy, xx, **kwargs).fit().predict(G)\n",
    "        return yhat\n",
    "    yhat = results.predict(G)\n",
    "    yhat_boots = algo.bootstrap(X, _y, func=reg_func,\n",
    "                                n_boot=1000, units=None)\n",
    "    err_bands = utils.ci(yhat_boots, ci, axis=0)\n",
    "    ax.plot(grid, yhat, color=model_color, **regplot_kws)\n",
    "    sc = ax.scatter(_x, _y, c=data['stim_amp'], **scatter_kws)\n",
    "    ax.fill_between(grid, *err_bands, facecolor=model_color, alpha=.15)\n",
    "    if colorbar:\n",
    "        cb = plt.colorbar(mappable=sc, cax=ax if cax is None else cax)\n",
    "        cb.ax.yaxis.set_ticks_position('right')\n",
    "        if clabel: cb.set_label(clabel)\n",
    "        \n",
    "    if xlabel:\n",
    "        if isinstance(xlabel, str):\n",
    "            ax.set_xlabel(xlabel)\n",
    "        else:\n",
    "            ax.set_xlabel(x)\n",
    "    if ylabel:\n",
    "        if isinstance(ylabel, str):\n",
    "            ax.set_ylabel(ylabel)\n",
    "        else:\n",
    "            ax.set_ylabel(y)\n",
    "    return results"
   ]
  },
  {
   "cell_type": "code",
   "execution_count": 63,
   "metadata": {
    "scrolled": false
   },
   "outputs": [
    {
     "name": "stderr",
     "output_type": "stream",
     "text": [
      "/home/mikkel/.virtualenvs/main/lib/python3.5/site-packages/scipy/stats/stats.py:1706: FutureWarning: Using a non-tuple sequence for multidimensional indexing is deprecated; use `arr[tuple(seq)]` instead of `arr[seq]`. In the future this will be interpreted as an array index, `arr[np.array(seq)]`, which will result either in an error or a different result.\n",
      "  return np.add.reduce(sorted[indexer] * weights, axis=axis) / sumval\n"
     ]
    },
    {
     "data": {
      "image/png": "[encoded data removed]",
      "text/plain": [
       "<Figure size 358.56x144 with 3 Axes>"
      ]
     },
     "metadata": {},
     "output_type": "display_data"
    }
   ],
   "source": [
    "save = True\n",
    "\n",
    "if save: set_style('article')\n",
    "if not save: set_style('notebook')\n",
    "model = sm.OLS\n",
    "ci = 95.\n",
    "dot_size = 3\n",
    "\n",
    "fig = plt.figure()\n",
    "gs = GridSpec(1, 2, width_ratios=[1, 1.15], wspace=.3)\n",
    "gs0 = GridSpecFromSubplotSpec(1, 2, subplot_spec=gs[0, 1], width_ratios=[1,.05])\n",
    "ax_iv = plt.subplot(gs[0, 0])\n",
    "ax_cch = plt.subplot(gs0[0, 0])\n",
    "ax_c = plt.subplot(gs0[0, 1])\n",
    "axs = [ax_iv, ax_cch, ax_c]\n",
    "wald = regplot(x='weight', y='iv_wald', data=w, \n",
    "               model=model, ci=ci, ax=ax_iv, colorbar=False,\n",
    "               ylabel='IV', scatter_kws={'s': dot_size})\n",
    "\n",
    "cch = regplot(x='weight', y='cch', data=w, \n",
    "             model=model, ci=ci, ax=ax_cch, clabel='Stimulation [pA]', cax=ax_c,\n",
    "             ylabel='CCH', scatter_kws={'s': dot_size})\n",
    "despine(ax=(ax_iv, ax_cch))\n",
    "\n",
    "for ax, res in zip([ax_iv, ax_cch], [wald, cch]):\n",
    "    h = plt.Line2D([], [], label='$R^2 = {:.3f}$'.format(res.rsquared), ls='-', color='k')\n",
    "    ax.legend(handles=[h])\n",
    "    ax.set_xticks([0, 0.5, 1.])\n",
    "ax_cch.set_yticks([0.0, .2, .4])\n",
    "add_caption(axs[:-1], hspace=2, start='c')\n",
    "if save: savefig(fig, 'goodness_fit', bbox_inches='tight')"
   ]
  },
  {
   "cell_type": "code",
   "execution_count": null,
   "metadata": {},
   "outputs": [],
   "source": [
    "fig, ax = plt.subplots(1, 1)\n",
    "wald = regplot(x='weight', y='iv_cch', data=w[(w.iv_cch > TOL)], \n",
    "               model=model, ci=ci, ax=ax,\n",
    "               ylabel='CCH IV', scatter_kws={'s': dot_size})\n",
    "if save: savefig(plt.gcf(), 'fit_cch_iv{}'.format(txt), bbox_inches='tight')\n",
    "    \n",
    "\n",
    "fig, ax = plt.subplots(1, 1)\n",
    "logit = regplot(x='weight', y='logit', data=w, \n",
    "                model=model, ci=ci, ax=ax,\n",
    "               ylabel='LOGIT', scatter_kws={'s': dot_size})\n",
    "if save: savefig(plt.gcf(), 'fit_logit{}'.format(txt), bbox_inches='tight')"
   ]
  },
  {
   "cell_type": "code",
   "execution_count": 26,
   "metadata": {},
   "outputs": [
    {
     "data": {
      "text/html": [
       "<table class=\"simpletable\">\n",
       "<caption>OLS Regression Results</caption>\n",
       "<tr>\n",
       "  <th>Dep. Variable:</th>      <td>wald$_{cut}$</td>   <th>  R-squared:         </th>  <td>   0.343</td> \n",
       "</tr>\n",
       "<tr>\n",
       "  <th>Model:</th>                   <td>OLS</td>       <th>  Adj. R-squared:    </th>  <td>   0.343</td> \n",
       "</tr>\n",
       "<tr>\n",
       "  <th>Method:</th>             <td>Least Squares</td>  <th>  F-statistic:       </th>  <td>1.104e+04</td>\n",
       "</tr>\n",
       "<tr>\n",
       "  <th>Date:</th>             <td>Wed, 14 Mar 2018</td> <th>  Prob (F-statistic):</th>   <td>  0.00</td>  \n",
       "</tr>\n",
       "<tr>\n",
       "  <th>Time:</th>                 <td>12:57:47</td>     <th>  Log-Likelihood:    </th>  <td>  50695.</td> \n",
       "</tr>\n",
       "<tr>\n",
       "  <th>No. Observations:</th>      <td> 21149</td>      <th>  AIC:               </th> <td>-1.014e+05</td>\n",
       "</tr>\n",
       "<tr>\n",
       "  <th>Df Residuals:</th>          <td> 21147</td>      <th>  BIC:               </th> <td>-1.014e+05</td>\n",
       "</tr>\n",
       "<tr>\n",
       "  <th>Df Model:</th>              <td>     1</td>      <th>                     </th>      <td> </td>    \n",
       "</tr>\n",
       "<tr>\n",
       "  <th>Covariance Type:</th>      <td>nonrobust</td>    <th>                     </th>      <td> </td>    \n",
       "</tr>\n",
       "</table>\n",
       "<table class=\"simpletable\">\n",
       "<tr>\n",
       "    <td></td>       <th>coef</th>     <th>std err</th>      <th>t</th>      <th>P>|t|</th>  <th>[0.025</th>    <th>0.975]</th>  \n",
       "</tr>\n",
       "<tr>\n",
       "  <th>const</th> <td>    0.0129</td> <td>    0.000</td> <td>   77.068</td> <td> 0.000</td> <td>    0.013</td> <td>    0.013</td>\n",
       "</tr>\n",
       "<tr>\n",
       "  <th>x1</th>    <td>    0.1383</td> <td>    0.001</td> <td>  105.090</td> <td> 0.000</td> <td>    0.136</td> <td>    0.141</td>\n",
       "</tr>\n",
       "</table>\n",
       "<table class=\"simpletable\">\n",
       "<tr>\n",
       "  <th>Omnibus:</th>       <td>8060.148</td> <th>  Durbin-Watson:     </th> <td>   1.967</td> \n",
       "</tr>\n",
       "<tr>\n",
       "  <th>Prob(Omnibus):</th>  <td> 0.000</td>  <th>  Jarque-Bera (JB):  </th> <td>57637.098</td>\n",
       "</tr>\n",
       "<tr>\n",
       "  <th>Skew:</th>           <td> 1.659</td>  <th>  Prob(JB):          </th> <td>    0.00</td> \n",
       "</tr>\n",
       "<tr>\n",
       "  <th>Kurtosis:</th>       <td>10.375</td>  <th>  Cond. No.          </th> <td>    8.72</td> \n",
       "</tr>\n",
       "</table>"
      ],
      "text/plain": [
       "<class 'statsmodels.iolib.summary.Summary'>\n",
       "\"\"\"\n",
       "                            OLS Regression Results                            \n",
       "==============================================================================\n",
       "Dep. Variable:           wald$_{cut}$   R-squared:                       0.343\n",
       "Model:                            OLS   Adj. R-squared:                  0.343\n",
       "Method:                 Least Squares   F-statistic:                 1.104e+04\n",
       "Date:                Wed, 14 Mar 2018   Prob (F-statistic):               0.00\n",
       "Time:                        12:57:47   Log-Likelihood:                 50695.\n",
       "No. Observations:               21149   AIC:                        -1.014e+05\n",
       "Df Residuals:                   21147   BIC:                        -1.014e+05\n",
       "Df Model:                           1                                         \n",
       "Covariance Type:            nonrobust                                         \n",
       "==============================================================================\n",
       "                 coef    std err          t      P>|t|      [0.025      0.975]\n",
       "------------------------------------------------------------------------------\n",
       "const          0.0129      0.000     77.068      0.000       0.013       0.013\n",
       "x1             0.1383      0.001    105.090      0.000       0.136       0.141\n",
       "==============================================================================\n",
       "Omnibus:                     8060.148   Durbin-Watson:                   1.967\n",
       "Prob(Omnibus):                  0.000   Jarque-Bera (JB):            57637.098\n",
       "Skew:                           1.659   Prob(JB):                         0.00\n",
       "Kurtosis:                      10.375   Cond. No.                         8.72\n",
       "==============================================================================\n",
       "\n",
       "Warnings:\n",
       "[1] Standard Errors assume that the covariance matrix of the errors is correctly specified.\n",
       "\"\"\""
      ]
     },
     "execution_count": 26,
     "metadata": {},
     "output_type": "execute_result"
    }
   ],
   "source": [
    "wald.summary()"
   ]
  },
  {
   "cell_type": "code",
   "execution_count": 27,
   "metadata": {},
   "outputs": [
    {
     "data": {
      "text/html": [
       "<table class=\"simpletable\">\n",
       "<caption>OLS Regression Results</caption>\n",
       "<tr>\n",
       "  <th>Dep. Variable:</th>          <td>logit</td>      <th>  R-squared:         </th> <td>   0.020</td>\n",
       "</tr>\n",
       "<tr>\n",
       "  <th>Model:</th>                   <td>OLS</td>       <th>  Adj. R-squared:    </th> <td>   0.020</td>\n",
       "</tr>\n",
       "<tr>\n",
       "  <th>Method:</th>             <td>Least Squares</td>  <th>  F-statistic:       </th> <td>   439.5</td>\n",
       "</tr>\n",
       "<tr>\n",
       "  <th>Date:</th>             <td>Wed, 14 Mar 2018</td> <th>  Prob (F-statistic):</th> <td>1.32e-96</td>\n",
       "</tr>\n",
       "<tr>\n",
       "  <th>Time:</th>                 <td>12:57:47</td>     <th>  Log-Likelihood:    </th> <td>  2483.6</td>\n",
       "</tr>\n",
       "<tr>\n",
       "  <th>No. Observations:</th>      <td> 21149</td>      <th>  AIC:               </th> <td>  -4963.</td>\n",
       "</tr>\n",
       "<tr>\n",
       "  <th>Df Residuals:</th>          <td> 21147</td>      <th>  BIC:               </th> <td>  -4947.</td>\n",
       "</tr>\n",
       "<tr>\n",
       "  <th>Df Model:</th>              <td>     1</td>      <th>                     </th>     <td> </td>   \n",
       "</tr>\n",
       "<tr>\n",
       "  <th>Covariance Type:</th>      <td>nonrobust</td>    <th>                     </th>     <td> </td>   \n",
       "</tr>\n",
       "</table>\n",
       "<table class=\"simpletable\">\n",
       "<tr>\n",
       "    <td></td>       <th>coef</th>     <th>std err</th>      <th>t</th>      <th>P>|t|</th>  <th>[0.025</th>    <th>0.975]</th>  \n",
       "</tr>\n",
       "<tr>\n",
       "  <th>const</th> <td>    0.4702</td> <td>    0.002</td> <td>  287.749</td> <td> 0.000</td> <td>    0.467</td> <td>    0.473</td>\n",
       "</tr>\n",
       "<tr>\n",
       "  <th>x1</th>    <td>    0.2697</td> <td>    0.013</td> <td>   20.965</td> <td> 0.000</td> <td>    0.244</td> <td>    0.295</td>\n",
       "</tr>\n",
       "</table>\n",
       "<table class=\"simpletable\">\n",
       "<tr>\n",
       "  <th>Omnibus:</th>       <td>5974.988</td> <th>  Durbin-Watson:     </th> <td>   2.015</td> \n",
       "</tr>\n",
       "<tr>\n",
       "  <th>Prob(Omnibus):</th>  <td> 0.000</td>  <th>  Jarque-Bera (JB):  </th> <td> 964.621</td> \n",
       "</tr>\n",
       "<tr>\n",
       "  <th>Skew:</th>           <td> 0.068</td>  <th>  Prob(JB):          </th> <td>3.43e-210</td>\n",
       "</tr>\n",
       "<tr>\n",
       "  <th>Kurtosis:</th>       <td> 1.963</td>  <th>  Cond. No.          </th> <td>    8.72</td> \n",
       "</tr>\n",
       "</table>"
      ],
      "text/plain": [
       "<class 'statsmodels.iolib.summary.Summary'>\n",
       "\"\"\"\n",
       "                            OLS Regression Results                            \n",
       "==============================================================================\n",
       "Dep. Variable:                  logit   R-squared:                       0.020\n",
       "Model:                            OLS   Adj. R-squared:                  0.020\n",
       "Method:                 Least Squares   F-statistic:                     439.5\n",
       "Date:                Wed, 14 Mar 2018   Prob (F-statistic):           1.32e-96\n",
       "Time:                        12:57:47   Log-Likelihood:                 2483.6\n",
       "No. Observations:               21149   AIC:                            -4963.\n",
       "Df Residuals:                   21147   BIC:                            -4947.\n",
       "Df Model:                           1                                         \n",
       "Covariance Type:            nonrobust                                         \n",
       "==============================================================================\n",
       "                 coef    std err          t      P>|t|      [0.025      0.975]\n",
       "------------------------------------------------------------------------------\n",
       "const          0.4702      0.002    287.749      0.000       0.467       0.473\n",
       "x1             0.2697      0.013     20.965      0.000       0.244       0.295\n",
       "==============================================================================\n",
       "Omnibus:                     5974.988   Durbin-Watson:                   2.015\n",
       "Prob(Omnibus):                  0.000   Jarque-Bera (JB):              964.621\n",
       "Skew:                           0.068   Prob(JB):                    3.43e-210\n",
       "Kurtosis:                       1.963   Cond. No.                         8.72\n",
       "==============================================================================\n",
       "\n",
       "Warnings:\n",
       "[1] Standard Errors assume that the covariance matrix of the errors is correctly specified.\n",
       "\"\"\""
      ]
     },
     "execution_count": 27,
     "metadata": {},
     "output_type": "execute_result"
    }
   ],
   "source": [
    "logit.summary()"
   ]
  },
  {
   "cell_type": "code",
   "execution_count": 28,
   "metadata": {},
   "outputs": [
    {
     "data": {
      "text/html": [
       "<table class=\"simpletable\">\n",
       "<caption>OLS Regression Results</caption>\n",
       "<tr>\n",
       "  <th>Dep. Variable:</th>     <td>cch$_{ptrans}$</td>  <th>  R-squared:         </th>  <td>   0.013</td> \n",
       "</tr>\n",
       "<tr>\n",
       "  <th>Model:</th>                   <td>OLS</td>       <th>  Adj. R-squared:    </th>  <td>   0.013</td> \n",
       "</tr>\n",
       "<tr>\n",
       "  <th>Method:</th>             <td>Least Squares</td>  <th>  F-statistic:       </th>  <td>   276.7</td> \n",
       "</tr>\n",
       "<tr>\n",
       "  <th>Date:</th>             <td>Wed, 14 Mar 2018</td> <th>  Prob (F-statistic):</th>  <td>9.78e-62</td> \n",
       "</tr>\n",
       "<tr>\n",
       "  <th>Time:</th>                 <td>12:57:48</td>     <th>  Log-Likelihood:    </th>  <td>  10028.</td> \n",
       "</tr>\n",
       "<tr>\n",
       "  <th>No. Observations:</th>      <td> 21149</td>      <th>  AIC:               </th> <td>-2.005e+04</td>\n",
       "</tr>\n",
       "<tr>\n",
       "  <th>Df Residuals:</th>          <td> 21147</td>      <th>  BIC:               </th> <td>-2.004e+04</td>\n",
       "</tr>\n",
       "<tr>\n",
       "  <th>Df Model:</th>              <td>     1</td>      <th>                     </th>      <td> </td>    \n",
       "</tr>\n",
       "<tr>\n",
       "  <th>Covariance Type:</th>      <td>nonrobust</td>    <th>                     </th>      <td> </td>    \n",
       "</tr>\n",
       "</table>\n",
       "<table class=\"simpletable\">\n",
       "<tr>\n",
       "    <td></td>       <th>coef</th>     <th>std err</th>      <th>t</th>      <th>P>|t|</th>  <th>[0.025</th>    <th>0.975]</th>  \n",
       "</tr>\n",
       "<tr>\n",
       "  <th>const</th> <td>    0.2208</td> <td>    0.001</td> <td>  193.062</td> <td> 0.000</td> <td>    0.219</td> <td>    0.223</td>\n",
       "</tr>\n",
       "<tr>\n",
       "  <th>x1</th>    <td>    0.1498</td> <td>    0.009</td> <td>   16.634</td> <td> 0.000</td> <td>    0.132</td> <td>    0.167</td>\n",
       "</tr>\n",
       "</table>\n",
       "<table class=\"simpletable\">\n",
       "<tr>\n",
       "  <th>Omnibus:</th>       <td>2502.366</td> <th>  Durbin-Watson:     </th> <td>   2.014</td> \n",
       "</tr>\n",
       "<tr>\n",
       "  <th>Prob(Omnibus):</th>  <td> 0.000</td>  <th>  Jarque-Bera (JB):  </th> <td> 795.230</td> \n",
       "</tr>\n",
       "<tr>\n",
       "  <th>Skew:</th>           <td> 0.205</td>  <th>  Prob(JB):          </th> <td>2.08e-173</td>\n",
       "</tr>\n",
       "<tr>\n",
       "  <th>Kurtosis:</th>       <td> 2.143</td>  <th>  Cond. No.          </th> <td>    8.72</td> \n",
       "</tr>\n",
       "</table>"
      ],
      "text/plain": [
       "<class 'statsmodels.iolib.summary.Summary'>\n",
       "\"\"\"\n",
       "                            OLS Regression Results                            \n",
       "==============================================================================\n",
       "Dep. Variable:         cch$_{ptrans}$   R-squared:                       0.013\n",
       "Model:                            OLS   Adj. R-squared:                  0.013\n",
       "Method:                 Least Squares   F-statistic:                     276.7\n",
       "Date:                Wed, 14 Mar 2018   Prob (F-statistic):           9.78e-62\n",
       "Time:                        12:57:48   Log-Likelihood:                 10028.\n",
       "No. Observations:               21149   AIC:                        -2.005e+04\n",
       "Df Residuals:                   21147   BIC:                        -2.004e+04\n",
       "Df Model:                           1                                         \n",
       "Covariance Type:            nonrobust                                         \n",
       "==============================================================================\n",
       "                 coef    std err          t      P>|t|      [0.025      0.975]\n",
       "------------------------------------------------------------------------------\n",
       "const          0.2208      0.001    193.062      0.000       0.219       0.223\n",
       "x1             0.1498      0.009     16.634      0.000       0.132       0.167\n",
       "==============================================================================\n",
       "Omnibus:                     2502.366   Durbin-Watson:                   2.014\n",
       "Prob(Omnibus):                  0.000   Jarque-Bera (JB):              795.230\n",
       "Skew:                           0.205   Prob(JB):                    2.08e-173\n",
       "Kurtosis:                       2.143   Cond. No.                         8.72\n",
       "==============================================================================\n",
       "\n",
       "Warnings:\n",
       "[1] Standard Errors assume that the covariance matrix of the errors is correctly specified.\n",
       "\"\"\""
      ]
     },
     "execution_count": 28,
     "metadata": {},
     "output_type": "execute_result"
    }
   ],
   "source": [
    "cch.summary()"
   ]
  }
 ],
 "metadata": {
  "kernelspec": {
   "display_name": "Python 3",
   "language": "python",
   "name": "python3"
  },
  "language_info": {
   "codemirror_mode": {
    "name": "ipython",
    "version": 3
   },
   "file_extension": ".py",
   "mimetype": "text/x-python",
   "name": "python",
   "nbconvert_exporter": "python",
   "pygments_lexer": "ipython3",
   "version": "3.5.2"
  }
 },
 "nbformat": 4,
 "nbformat_minor": 2
}
