{
 "cells": [
  {
   "cell_type": "code",
   "execution_count": 3,
   "metadata": {},
   "outputs": [
    {
     "name": "stdout",
     "output_type": "stream",
     "text": [
      "The autoreload extension is already loaded. To reload it, use:\n",
      "  %reload_ext autoreload\n"
     ]
    },
    {
     "name": "stderr",
     "output_type": "stream",
     "text": [
      "/home/mikkel/.virtualenvs/main/lib/python3.5/site-packages/statsmodels/compat/pandas.py:56: FutureWarning: The pandas.core.datetools module is deprecated and will be removed in a future version. Please use the pandas.tseries module instead.\n",
      "  from pandas.core import datetools\n"
     ]
    }
   ],
   "source": [
    "%matplotlib inline\n",
    "%load_ext autoreload\n",
    "%autoreload 2\n",
    "from method import IV\n",
    "from simulator import Simulator\n",
    "import matplotlib.pyplot as plt\n",
    "from matplotlib.gridspec import GridSpec, GridSpecFromSubplotSpec\n",
    "import pandas as pd\n",
    "import numpy as np\n",
    "import quantities as pq\n",
    "import seaborn as sns\n",
    "# from exana.statistics import plot_xcorr, permutation_resampling\n",
    "from tools import savefig, fix_figure, coef_var, corrcoef, despine, set_style\n",
    "import copy\n",
    "from IPython.display import display\n",
    "import statsmodels.api as sm"
   ]
  },
  {
   "cell_type": "code",
   "execution_count": 4,
   "metadata": {},
   "outputs": [],
   "source": [
    "all_data = pd.read_csv('results/params_2_analyse_30000.csv')"
   ]
  },
  {
   "cell_type": "code",
   "execution_count": 6,
   "metadata": {},
   "outputs": [],
   "source": [
    "N_pairs = all_data.shape[0]\n",
    "analys = all_data.loc[(all_data.pfast < 0.01) & (all_data.ppeak < 0.01) & (all_data.hit_rate < 0.9),:]\n"
   ]
  },
  {
   "cell_type": "code",
   "execution_count": 9,
   "metadata": {},
   "outputs": [],
   "source": [
    "def model(x):\n",
    "    return 1/(1+np.exp(-x))\n",
    "\n",
    "def norm(x):\n",
    "#     return (x - np.mean(x)) / np.std(x)\n",
    "    return (x - min(x)) / (max(x) - min(x))"
   ]
  },
  {
   "cell_type": "code",
   "execution_count": 10,
   "metadata": {},
   "outputs": [
    {
     "name": "stderr",
     "output_type": "stream",
     "text": [
      "/home/mikkel/.virtualenvs/main/lib/python3.5/site-packages/pandas/core/indexing.py:357: SettingWithCopyWarning: \n",
      "A value is trying to be set on a copy of a slice from a DataFrame.\n",
      "Try using .loc[row_indexer,col_indexer] = value instead\n",
      "\n",
      "See the caveats in the documentation: http://pandas.pydata.org/pandas-docs/stable/indexing.html#indexing-view-versus-copy\n",
      "  self.obj[key] = _infer_fill_value(value)\n",
      "/home/mikkel/.virtualenvs/main/lib/python3.5/site-packages/pandas/core/indexing.py:537: SettingWithCopyWarning: \n",
      "A value is trying to be set on a copy of a slice from a DataFrame.\n",
      "Try using .loc[row_indexer,col_indexer] = value instead\n",
      "\n",
      "See the caveats in the documentation: http://pandas.pydata.org/pandas-docs/stable/indexing.html#indexing-view-versus-copy\n",
      "  self.obj[item] = s\n"
     ]
    }
   ],
   "source": [
    "analys.loc[:,'logit'] = model(analys.loc[:,'logreg'] + analys.loc[:,'logreg_intercept'])"
   ]
  },
  {
   "cell_type": "markdown",
   "metadata": {},
   "source": [
    "# False positives"
   ]
  },
  {
   "cell_type": "code",
   "execution_count": 11,
   "metadata": {},
   "outputs": [],
   "source": [
    "def label_diff(x1, x2, y, text, color='k'):\n",
    "    h = y * .01\n",
    "    plt.plot([x1, x1, x2, x2], [y, y + h, y + h, y], lw=1.5, color=color)\n",
    "    plt.text((x1 + x2) * .5, y + h, text, ha='center', va='bottom', color=color)"
   ]
  },
  {
   "cell_type": "code",
   "execution_count": 68,
   "metadata": {},
   "outputs": [],
   "source": [
    "fp = pd.DataFrame()\n",
    "TOL = 0.05\n",
    "fp = pd.concat([\n",
    "    analys.loc[(analys.weight == 0), 'iv_wald'].rename('IV'),\n",
    "    analys.loc[(analys.weight == 0), 'iv_cch'].rename('CCH IV'),\n",
    "    analys.loc[(analys.weight == 0), 'cch'].rename('CCH'),\n",
    "    analys.loc[(analys.weight == 0), 'logit'].rename('LOGIT')], \n",
    "    axis=1)"
   ]
  },
  {
   "cell_type": "code",
   "execution_count": 80,
   "metadata": {},
   "outputs": [
    {
     "data": {
      "image/png": "[encoded data removed]",
      "text/plain": [
       "<matplotlib.figure.Figure at 0x7f73136d0ba8>"
      ]
     },
     "metadata": {},
     "output_type": "display_data"
    }
   ],
   "source": [
    "save = True\n",
    "if save: set_style('article', w=0.485)\n",
    "if not save: set_style('notebook')\n",
    "include = ['CCH','LOGIT', 'IV']#, 'CCH IV']\n",
    "# set_style('notebook')\n",
    "sns.boxplot(data=fp.loc[:,include], palette=['b', 'g', 'r'])\n",
    "for key, pos_x, pos_y in zip(['CCH','LOGIT'], [0, 1], [1.15, 1.00]):\n",
    "    case = fp.loc[:,['IV']].dropna().values.flatten()\n",
    "    control = fp.loc[:,[key]].dropna().values.flatten()\n",
    "    pval, observed_diff, diffs = permutation_resampling(case, control, 1000, statistic=np.median)\n",
    "    label_diff(pos_x, 2, pos_y, 'p = {:.2f}, $\\\\Delta$ = {:.3f}'.format(pval, observed_diff))\n",
    "N = fp.shape[0]\n",
    "ypos = 1.3\n",
    "for xpos, name in zip([0, 1, 2], include):\n",
    "    text = '{:.1f}\\%'.format((sum(abs(fp[name]) > TOL) / N) * 100)\n",
    "    plt.text(xpos, ypos, text, ha='center', va='bottom', color='k')\n",
    "# plt.text(-.8, ypos, '$>$ {}'.format(TOL), ha='center', va='bottom', color='k')\n",
    "sns.despine()\n",
    "# plt.ylim([0,0.9])\n",
    "plt.ylabel('False positive')\n",
    "if save: savefig(plt.gcf(), 'false_positive')"
   ]
  }
 ],
 "metadata": {
  "kernelspec": {
   "display_name": "Python 3",
   "language": "python",
   "name": "python3"
  },
  "language_info": {
   "codemirror_mode": {
    "name": "ipython",
    "version": 3
   },
   "file_extension": ".py",
   "mimetype": "text/x-python",
   "name": "python",
   "nbconvert_exporter": "python",
   "pygments_lexer": "ipython3",
   "version": "3.5.2"
  }
 },
 "nbformat": 4,
 "nbformat_minor": 2
}
