{
 "cells": [
  {
   "cell_type": "code",
   "execution_count": 1,
   "metadata": {},
   "outputs": [
    {
     "name": "stderr",
     "output_type": "stream",
     "text": [
      "/home/mikkel/.virtualenvs/main/lib/python3.5/site-packages/statsmodels/compat/pandas.py:56: FutureWarning: The pandas.core.datetools module is deprecated and will be removed in a future version. Please use the pandas.tseries module instead.\n",
      "  from pandas.core import datetools\n"
     ]
    }
   ],
   "source": [
    "%matplotlib inline\n",
    "%load_ext autoreload\n",
    "%autoreload 2\n",
    "from method import IV\n",
    "from simulator import Simulator\n",
    "import matplotlib.pyplot as plt\n",
    "from matplotlib.gridspec import GridSpec, GridSpecFromSubplotSpec\n",
    "import pandas as pd\n",
    "import numpy as np\n",
    "import quantities as pq\n",
    "import seaborn as sns\n",
    "from exana.statistics import plot_xcorr, permutation_resampling\n",
    "from tools import savefig, fix_figure, coef_var, corrcoef, despine, set_style\n",
    "import copy\n",
    "from IPython.display import display\n",
    "import statsmodels.api as sm"
   ]
  },
  {
   "cell_type": "code",
   "execution_count": 41,
   "metadata": {},
   "outputs": [],
   "source": [
    "# analys = pd.read_csv('results/orig_analysis/params_1_analyse_30000.csv')\n",
    "all_data = pd.read_csv('results/params_2_analyse_30000.csv')"
   ]
  },
  {
   "cell_type": "code",
   "execution_count": 42,
   "metadata": {},
   "outputs": [
    {
     "data": {
      "text/plain": [
       "array([[<matplotlib.axes._subplots.AxesSubplot object at 0x7f731e6d9a90>,\n",
       "        <matplotlib.axes._subplots.AxesSubplot object at 0x7f7319be0390>],\n",
       "       [<matplotlib.axes._subplots.AxesSubplot object at 0x7f7319b768d0>,\n",
       "        <matplotlib.axes._subplots.AxesSubplot object at 0x7f7319b8bef0>]],\n",
       "      dtype=object)"
      ]
     },
     "execution_count": 42,
     "metadata": {},
     "output_type": "execute_result"
    },
    {
     "data": {
      "image/png": "[encoded data removed]",
      "text/plain": [
       "<matplotlib.figure.Figure at 0x7f7313d93e10>"
      ]
     },
     "metadata": {},
     "output_type": "display_data"
    }
   ],
   "source": [
    "set_style('notebook')\n",
    "all_data.loc[:,['iv_cch', 'iv_wald', 'ppeak', 'pfast']].hist(bins=100)"
   ]
  },
  {
   "cell_type": "code",
   "execution_count": 43,
   "metadata": {},
   "outputs": [],
   "source": [
    "# analys.loc[(analys.pfast > 0.001) & (analys.ppeak > 0.001),'cch'] = np.nan\n",
    "# analys.loc[(analys.pfast > 0.001),'iv_cch'] = np.nan\n",
    "# analys.loc[(analys.pfast > 0.001),'iv_wald'] = np.nan\n",
    "N_pairs = all_data.shape[0]\n",
    "analys = all_data.loc[(all_data.pfast < 0.01) & (all_data.ppeak < 0.01) & (all_data.hit_rate < 0.9),:]\n",
    "# analys = all_data.loc[(all_data.pfast < 0.01),:]\n",
    "# analys = all_data.loc[(all_data.iv_pfast < 0.01),:]\n",
    "# analys = all_data.loc[:,:]\n",
    "# analys = analys.loc[(analys.pfast < 0.01),:]"
   ]
  },
  {
   "cell_type": "code",
   "execution_count": 44,
   "metadata": {},
   "outputs": [
    {
     "data": {
      "text/plain": [
       "60.0"
      ]
     },
     "execution_count": 44,
     "metadata": {},
     "output_type": "execute_result"
    }
   ],
   "source": [
    "analys.shape[0] / N_pairs * 100"
   ]
  },
  {
   "cell_type": "code",
   "execution_count": 45,
   "metadata": {},
   "outputs": [
    {
     "data": {
      "text/plain": [
       "Index(['cc', 'cch', 'cmax', 'iv_cch', 'iv_pcausal', 'iv_pfast', 'iv_ppeak',\n",
       "       'iv_ptime', 'iv_wald', 'logreg', 'logreg_intercept', 'n_syn', 'pfast',\n",
       "       'ppeak', 'ptime', 'rate_1', 'rate_2', 'source', 'source_cv',\n",
       "       'source_pop', 'stim_amp', 'target', 'target_cv', 'target_pop', 'weight',\n",
       "       'hit_rate'],\n",
       "      dtype='object')"
      ]
     },
     "execution_count": 45,
     "metadata": {},
     "output_type": "execute_result"
    }
   ],
   "source": [
    "analys.keys()"
   ]
  },
  {
   "cell_type": "code",
   "execution_count": 46,
   "metadata": {},
   "outputs": [],
   "source": [
    "def model(x):\n",
    "    return 1/(1+np.exp(-x))\n",
    "\n",
    "def norm(x):\n",
    "#     return (x - np.mean(x)) / np.std(x)\n",
    "    return (x - min(x)) / (max(x) - min(x))"
   ]
  },
  {
   "cell_type": "code",
   "execution_count": 47,
   "metadata": {},
   "outputs": [
    {
     "name": "stderr",
     "output_type": "stream",
     "text": [
      "/home/mikkel/.virtualenvs/main/lib/python3.5/site-packages/pandas/core/indexing.py:357: SettingWithCopyWarning: \n",
      "A value is trying to be set on a copy of a slice from a DataFrame.\n",
      "Try using .loc[row_indexer,col_indexer] = value instead\n",
      "\n",
      "See the caveats in the documentation: http://pandas.pydata.org/pandas-docs/stable/indexing.html#indexing-view-versus-copy\n",
      "  self.obj[key] = _infer_fill_value(value)\n",
      "/home/mikkel/.virtualenvs/main/lib/python3.5/site-packages/pandas/core/indexing.py:537: SettingWithCopyWarning: \n",
      "A value is trying to be set on a copy of a slice from a DataFrame.\n",
      "Try using .loc[row_indexer,col_indexer] = value instead\n",
      "\n",
      "See the caveats in the documentation: http://pandas.pydata.org/pandas-docs/stable/indexing.html#indexing-view-versus-copy\n",
      "  self.obj[item] = s\n"
     ]
    }
   ],
   "source": [
    "analys.loc[:,'logit'] = model(analys.loc[:,'logreg'] + analys.loc[:,'logreg_intercept'])"
   ]
  },
  {
   "cell_type": "markdown",
   "metadata": {},
   "source": [
    "# False positives"
   ]
  },
  {
   "cell_type": "code",
   "execution_count": 48,
   "metadata": {},
   "outputs": [],
   "source": [
    "def label_diff(x1, x2, y, text, color='k'):\n",
    "    h = y * .01\n",
    "    plt.plot([x1, x1, x2, x2], [y, y + h, y + h, y], lw=1.5, color=color)\n",
    "    plt.text((x1 + x2) * .5, y + h, text, ha='center', va='bottom', color=color)"
   ]
  },
  {
   "cell_type": "code",
   "execution_count": 68,
   "metadata": {},
   "outputs": [],
   "source": [
    "fp = pd.DataFrame()\n",
    "TOL = 0.05\n",
    "fp = pd.concat([\n",
    "    analys.loc[(analys.weight == 0), 'iv_wald'].rename('IV'),\n",
    "    analys.loc[(analys.weight == 0), 'iv_cch'].rename('CCH IV'),\n",
    "    analys.loc[(analys.weight == 0), 'cch'].rename('CCH'),\n",
    "    analys.loc[(analys.weight == 0), 'logit'].rename('LOGIT')], \n",
    "    axis=1)\n",
    "\n",
    "# fp = pd.concat([\n",
    "#     analys.loc[(analys.weight == 0), 'wald'],\n",
    "#     analys.loc[(analys.weight == 0), 'cch'],\n",
    "#     analys.loc[(analys.weight == 0), 'logit']], \n",
    "#     axis=1)"
   ]
  },
  {
   "cell_type": "code",
   "execution_count": 80,
   "metadata": {},
   "outputs": [
    {
     "data": {
      "image/png": "[encoded data removed]",
      "text/plain": [
       "<matplotlib.figure.Figure at 0x7f73136d0ba8>"
      ]
     },
     "metadata": {},
     "output_type": "display_data"
    }
   ],
   "source": [
    "save = True\n",
    "if save: set_style('article', w=0.485)\n",
    "if not save: set_style('notebook')\n",
    "include = ['CCH','LOGIT', 'IV']#, 'CCH IV']\n",
    "# set_style('notebook')\n",
    "sns.boxplot(data=fp.loc[:,include], palette=['b', 'g', 'r'])\n",
    "for key, pos_x, pos_y in zip(['CCH','LOGIT'], [0, 1], [1.15, 1.00]):\n",
    "    case = fp.loc[:,['IV']].dropna().values.flatten()\n",
    "    control = fp.loc[:,[key]].dropna().values.flatten()\n",
    "    pval, observed_diff, diffs = permutation_resampling(case, control, 1000, statistic=np.median)\n",
    "    label_diff(pos_x, 2, pos_y, 'p = {:.2f}, $\\\\Delta$ = {:.3f}'.format(pval, observed_diff))\n",
    "N = fp.shape[0]\n",
    "ypos = 1.3\n",
    "for xpos, name in zip([0, 1, 2], include):\n",
    "    text = '{:.1f}\\%'.format((sum(abs(fp[name]) > TOL) / N) * 100)\n",
    "    plt.text(xpos, ypos, text, ha='center', va='bottom', color='k')\n",
    "# plt.text(-.8, ypos, '$>$ {}'.format(TOL), ha='center', va='bottom', color='k')\n",
    "sns.despine()\n",
    "# plt.ylim([0,0.9])\n",
    "plt.ylabel('False positive')\n",
    "if save: savefig(plt.gcf(), 'false_positive')"
   ]
  },
  {
   "cell_type": "code",
   "execution_count": 52,
   "metadata": {},
   "outputs": [
    {
     "data": {
      "text/plain": [
       "array([[<matplotlib.axes._subplots.AxesSubplot object at 0x7f7319b99c18>,\n",
       "        <matplotlib.axes._subplots.AxesSubplot object at 0x7f731bc38320>],\n",
       "       [<matplotlib.axes._subplots.AxesSubplot object at 0x7f731bc1f940>,\n",
       "        <matplotlib.axes._subplots.AxesSubplot object at 0x7f7318f46ef0>]],\n",
       "      dtype=object)"
      ]
     },
     "execution_count": 52,
     "metadata": {},
     "output_type": "execute_result"
    },
    {
     "data": {
      "image/png": "[encoded data removed]",
      "text/plain": [
       "<matplotlib.figure.Figure at 0x7f7319b75b38>"
      ]
     },
     "metadata": {},
     "output_type": "display_data"
    }
   ],
   "source": [
    "fp.hist()"
   ]
  },
  {
   "cell_type": "markdown",
   "metadata": {},
   "source": [
    "# False negatives"
   ]
  },
  {
   "cell_type": "code",
   "execution_count": 53,
   "metadata": {},
   "outputs": [],
   "source": [
    "TOL = 0.05\n",
    "include = ['cch', 'iv_cch', 'iv_wald', 'logit', 'weight']\n",
    "tmp = analys.loc[analys.weight > TOL, include]\n",
    "fn = pd.concat(\n",
    "    [tmp.loc[tmp['iv_wald'] <= TOL, 'weight'].rename('IV'),\n",
    "    tmp.loc[tmp['iv_cch'] <= TOL, 'weight'].rename('CCH IV'),\n",
    "    tmp.loc[tmp['logit'] <= TOL, 'weight'].rename('LOGIT'),\n",
    "    tmp.loc[tmp['cch'] <= TOL, 'weight'].rename('CCH')],\n",
    "    axis=1)"
   ]
  },
  {
   "cell_type": "code",
   "execution_count": 94,
   "metadata": {},
   "outputs": [
    {
     "name": "stdout",
     "output_type": "stream",
     "text": [
      "1\n"
     ]
    },
    {
     "data": {
      "image/png": "[encoded data removed]",
      "text/plain": [
       "<matplotlib.figure.Figure at 0x7f731c01e978>"
      ]
     },
     "metadata": {},
     "output_type": "display_data"
    }
   ],
   "source": [
    "save = True\n",
    "if save: set_style('article', w=0.485)\n",
    "if not save: set_style('notebook')\n",
    "include = ['CCH','LOGIT', 'IV']#, 'CCH IV']\n",
    "sns.boxplot(data=fn.loc[:,include], palette=['b', 'g', 'r'])\n",
    "for key, pos_x, pos_y in zip(['CCH'], [0, 1], [.35, 0.9]):\n",
    "    case = fn.loc[:,['IV']].dropna().values.flatten()\n",
    "    control = fn.loc[:,[key]].dropna().values.flatten()\n",
    "    print(len(control))\n",
    "    pval, observed_diff, diffs = permutation_resampling(case, control, 1000, statistic=np.nanmedian)\n",
    "    label_diff(pos_x, 2, pos_y, 'p = {:.2f}, $\\\\Delta$ = {:.3f}'.format(pval, observed_diff))\n",
    "N = analys.shape[0] / 100\n",
    "for x, name in zip([0, 1, 2], include):\n",
    "    text = '{:.1f}\\%'.format(len(fn[name].dropna()) / tmp.shape[0])\n",
    "    plt.text(x, .4, text, ha='center', va='bottom', color='k')\n",
    "sns.despine()\n",
    "plt.ylabel('False negative')\n",
    "if save: savefig(plt.gcf(), 'false_negative')"
   ]
  },
  {
   "cell_type": "markdown",
   "metadata": {},
   "source": [
    "# Goodness of fit"
   ]
  },
  {
   "cell_type": "code",
   "execution_count": 57,
   "metadata": {},
   "outputs": [],
   "source": [
    "def normalize(x, y):\n",
    "    a = x - x.min()\n",
    "    return a / a.max() * y.max()"
   ]
  },
  {
   "cell_type": "code",
   "execution_count": 58,
   "metadata": {},
   "outputs": [],
   "source": [
    "W = all_data[all_data.weight > 0].sort_values('weight').reset_index(drop=True)"
   ]
  },
  {
   "cell_type": "code",
   "execution_count": 59,
   "metadata": {},
   "outputs": [],
   "source": [
    "estimate = W.cch\n",
    "true = normalize(W.weight, estimate)\n",
    "diff = abs(estimate - true)"
   ]
  },
  {
   "cell_type": "code",
   "execution_count": 60,
   "metadata": {},
   "outputs": [
    {
     "data": {
      "text/plain": [
       "<matplotlib.collections.PathCollection at 0x7f731c042080>"
      ]
     },
     "execution_count": 60,
     "metadata": {},
     "output_type": "execute_result"
    },
    {
     "data": {
      "image/png": "[encoded data removed]",
      "text/plain": [
       "<matplotlib.figure.Figure at 0x7f7313d3feb8>"
      ]
     },
     "metadata": {},
     "output_type": "display_data"
    }
   ],
   "source": [
    "fig = plt.figure()\n",
    "plt.scatter(W.hit_rate, abs(estimate - true))"
   ]
  },
  {
   "cell_type": "code",
   "execution_count": 61,
   "metadata": {},
   "outputs": [
    {
     "data": {
      "text/plain": [
       "Text(0,0.5,'Absolute error')"
      ]
     },
     "execution_count": 61,
     "metadata": {},
     "output_type": "execute_result"
    },
    {
     "data": {
      "image/png": "[encoded data removed]",
      "text/plain": [
       "<matplotlib.figure.Figure at 0x7f731bec99b0>"
      ]
     },
     "metadata": {},
     "output_type": "display_data"
    }
   ],
   "source": [
    "fig = plt.figure()\n",
    "binsize = .1\n",
    "bins = np.arange(W.hit_rate.min().round(1), W.hit_rate.max().round(1) + binsize, binsize).round(2)[:-1]\n",
    "group = pd.DataFrame([diff[(W.hit_rate >= b1) & (W.hit_rate < b2)].values for b1, b2 in zip(bins, bins[1:])],\n",
    "                     index=['[{}, {})'.format(b1, b2) for b1, b2 in zip(bins, bins[1:])])\n",
    "\n",
    "sns.barplot(data=group.T, color='b')\n",
    "plt.xlabel('Hit rate')\n",
    "plt.ylabel('Absolute error')"
   ]
  },
  {
   "cell_type": "code",
   "execution_count": 62,
   "metadata": {},
   "outputs": [],
   "source": [
    "w = analys[analys.weight > 0].sort_values('weight').reset_index(drop=True)"
   ]
  },
  {
   "cell_type": "code",
   "execution_count": 63,
   "metadata": {},
   "outputs": [
    {
     "data": {
      "text/html": [
       "<div>\n",
       "<style scoped>\n",
       "    .dataframe tbody tr th:only-of-type {\n",
       "        vertical-align: middle;\n",
       "    }\n",
       "\n",
       "    .dataframe tbody tr th {\n",
       "        vertical-align: top;\n",
       "    }\n",
       "\n",
       "    .dataframe thead th {\n",
       "        text-align: right;\n",
       "    }\n",
       "</style>\n",
       "<table border=\"1\" class=\"dataframe\">\n",
       "  <thead>\n",
       "    <tr style=\"text-align: right;\">\n",
       "      <th></th>\n",
       "      <th>source</th>\n",
       "      <th>target</th>\n",
       "      <th>weight</th>\n",
       "      <th>iv_cch</th>\n",
       "    </tr>\n",
       "  </thead>\n",
       "  <tbody>\n",
       "  </tbody>\n",
       "</table>\n",
       "</div>"
      ],
      "text/plain": [
       "Empty DataFrame\n",
       "Columns: [source, target, weight, iv_cch]\n",
       "Index: []"
      ]
     },
     "execution_count": 63,
     "metadata": {},
     "output_type": "execute_result"
    }
   ],
   "source": [
    "w.loc[(w.iv_cch < 0) & (w.weight > .5), ['source', 'target', 'weight', 'iv_cch']]"
   ]
  },
  {
   "cell_type": "code",
   "execution_count": 64,
   "metadata": {},
   "outputs": [
    {
     "data": {
      "text/html": [
       "<div>\n",
       "<style scoped>\n",
       "    .dataframe tbody tr th:only-of-type {\n",
       "        vertical-align: middle;\n",
       "    }\n",
       "\n",
       "    .dataframe tbody tr th {\n",
       "        vertical-align: top;\n",
       "    }\n",
       "\n",
       "    .dataframe thead th {\n",
       "        text-align: right;\n",
       "    }\n",
       "</style>\n",
       "<table border=\"1\" class=\"dataframe\">\n",
       "  <thead>\n",
       "    <tr style=\"text-align: right;\">\n",
       "      <th></th>\n",
       "      <th>source</th>\n",
       "      <th>target</th>\n",
       "      <th>weight</th>\n",
       "      <th>iv_cch</th>\n",
       "    </tr>\n",
       "  </thead>\n",
       "  <tbody>\n",
       "    <tr>\n",
       "      <th>558</th>\n",
       "      <td>60</td>\n",
       "      <td>830</td>\n",
       "      <td>0.822898</td>\n",
       "      <td>0.208884</td>\n",
       "    </tr>\n",
       "    <tr>\n",
       "      <th>560</th>\n",
       "      <td>25</td>\n",
       "      <td>801</td>\n",
       "      <td>0.858103</td>\n",
       "      <td>0.206648</td>\n",
       "    </tr>\n",
       "    <tr>\n",
       "      <th>561</th>\n",
       "      <td>25</td>\n",
       "      <td>858</td>\n",
       "      <td>0.900532</td>\n",
       "      <td>0.235279</td>\n",
       "    </tr>\n",
       "    <tr>\n",
       "      <th>562</th>\n",
       "      <td>59</td>\n",
       "      <td>873</td>\n",
       "      <td>0.906251</td>\n",
       "      <td>0.179035</td>\n",
       "    </tr>\n",
       "  </tbody>\n",
       "</table>\n",
       "</div>"
      ],
      "text/plain": [
       "     source  target    weight    iv_cch\n",
       "558      60     830  0.822898  0.208884\n",
       "560      25     801  0.858103  0.206648\n",
       "561      25     858  0.900532  0.235279\n",
       "562      59     873  0.906251  0.179035"
      ]
     },
     "execution_count": 64,
     "metadata": {},
     "output_type": "execute_result"
    }
   ],
   "source": [
    "w.loc[(w.iv_cch > .15) & (w.weight > .5), ['source', 'target', 'weight', 'iv_cch']]"
   ]
  },
  {
   "cell_type": "code",
   "execution_count": 65,
   "metadata": {},
   "outputs": [],
   "source": [
    "def regplot(x, y, data, model, ci, scatter_color='b', model_color='k', ax=None, \n",
    "            scatter_kws={}, regplot_kws={}, cmap=None,\n",
    "            xlabel=True, ylabel=True, colorbar=True, **kwargs):\n",
    "    \n",
    "    from seaborn import utils\n",
    "    from seaborn import algorithms as algo\n",
    "    if ax is None:\n",
    "        fig, ax = plt.subplots()\n",
    "    _x = data[x]\n",
    "    _y = data[y]\n",
    "    grid = np.linspace(_x.min(), _x.max(), 100)\n",
    "    \n",
    "    X = np.c_[np.ones(len(_x)), _x]\n",
    "    G = np.c_[np.ones(len(grid)), grid]\n",
    "    \n",
    "    results = model(_y, X, **kwargs).fit()\n",
    "    \n",
    "    def reg_func(xx, yy):\n",
    "        yhat = model(yy, xx, **kwargs).fit().predict(G)\n",
    "        return yhat\n",
    "    yhat = results.predict(G)\n",
    "    yhat_boots = algo.bootstrap(X, _y, func=reg_func,\n",
    "                                n_boot=1000, units=None)\n",
    "    err_bands = utils.ci(yhat_boots, ci, axis=0)\n",
    "    ax.plot(grid, yhat, color=model_color, **regplot_kws)\n",
    "    sc = ax.scatter(_x, _y, c=data['stim_amp'], **scatter_kws)\n",
    "    ax.fill_between(grid, *err_bands, facecolor=model_color, alpha=.15)\n",
    "    if colorbar:\n",
    "        cb = plt.colorbar(sc)\n",
    "        cb.ax.yaxis.set_ticks_position('right')\n",
    "        cb.set_label('Stimulation [pA]')\n",
    "    \n",
    "    h = plt.Line2D([], [], label='$R^2 = {:.3f}$'.format(results.rsquared), ls='-', color='k')\n",
    "    plt.legend(handles=[h])\n",
    "    \n",
    "    if xlabel:\n",
    "        if isinstance(xlabel, str):\n",
    "            ax.set_xlabel(xlabel)\n",
    "        else:\n",
    "            ax.set_xlabel(x)\n",
    "    if ylabel:\n",
    "        if isinstance(ylabel, str):\n",
    "            ax.set_ylabel(ylabel)\n",
    "        else:\n",
    "            ax.set_ylabel(y)\n",
    "    despine()\n",
    "    return results"
   ]
  },
  {
   "cell_type": "code",
   "execution_count": 66,
   "metadata": {
    "scrolled": false
   },
   "outputs": [
    {
     "data": {
      "image/png": "[encoded data removed]",
      "text/plain": [
       "<matplotlib.figure.Figure at 0x7f731e7cd5f8>"
      ]
     },
     "metadata": {},
     "output_type": "display_data"
    },
    {
     "data": {
      "image/png": "[encoded data removed]",
      "text/plain": [
       "<matplotlib.figure.Figure at 0x7f7313cc5c18>"
      ]
     },
     "metadata": {},
     "output_type": "display_data"
    },
    {
     "data": {
      "image/png": "[encoded data removed]",
      "text/plain": [
       "<matplotlib.figure.Figure at 0x7f7318716c50>"
      ]
     },
     "metadata": {},
     "output_type": "display_data"
    },
    {
     "data": {
      "image/png": "[encoded data removed]",
      "text/plain": [
       "<matplotlib.figure.Figure at 0x7f7313c74518>"
      ]
     },
     "metadata": {},
     "output_type": "display_data"
    }
   ],
   "source": [
    "save = True\n",
    "\n",
    "if save: set_style('article', w=0.485)\n",
    "if not save: set_style('article', w=0.485)#set_style('notebook')\n",
    "model = sm.OLS\n",
    "ci = 95.\n",
    "txt, TOL = '', - np.inf\n",
    "\n",
    "dot_size = 3\n",
    "\n",
    "fig, ax = plt.subplots(1, 1)\n",
    "wald = regplot(x='weight', y='iv_cch', data=w[(w.iv_cch > TOL)], \n",
    "               model=model, ci=ci, ax=ax,\n",
    "               ylabel='CCH IV', scatter_kws={'s': dot_size})\n",
    "if save: savefig(plt.gcf(), 'fit_cch_iv{}'.format(txt), bbox_inches='tight')\n",
    "\n",
    "fig, ax = plt.subplots(1, 1)\n",
    "wald = regplot(x='weight', y='iv_wald', data=w[w.iv_wald > TOL], \n",
    "               model=model, ci=ci, ax=ax,\n",
    "               ylabel='IV', scatter_kws={'s': dot_size})\n",
    "if save: savefig(plt.gcf(), 'fit_wald{}'.format(txt), bbox_inches='tight')\n",
    "\n",
    "fig, ax = plt.subplots(1, 1)\n",
    "logit = regplot(x='weight', y='logit', data=w, \n",
    "                model=model, ci=ci, ax=ax,\n",
    "               ylabel='LOGIT', scatter_kws={'s': dot_size})\n",
    "if save: savefig(plt.gcf(), 'fit_logit{}'.format(txt), bbox_inches='tight')\n",
    "\n",
    "fig, ax = plt.subplots(1, 1)\n",
    "cch = regplot(x='weight', y='cch', data=w[w.cch > TOL], \n",
    "             model=model, ci=ci, ax=ax,\n",
    "             ylabel='CCH', scatter_kws={'s': dot_size})\n",
    "if save: savefig(plt.gcf(), 'fit_cch{}'.format(txt), bbox_inches='tight')"
   ]
  },
  {
   "cell_type": "code",
   "execution_count": 26,
   "metadata": {},
   "outputs": [
    {
     "data": {
      "text/html": [
       "<table class=\"simpletable\">\n",
       "<caption>OLS Regression Results</caption>\n",
       "<tr>\n",
       "  <th>Dep. Variable:</th>      <td>wald$_{cut}$</td>   <th>  R-squared:         </th>  <td>   0.343</td> \n",
       "</tr>\n",
       "<tr>\n",
       "  <th>Model:</th>                   <td>OLS</td>       <th>  Adj. R-squared:    </th>  <td>   0.343</td> \n",
       "</tr>\n",
       "<tr>\n",
       "  <th>Method:</th>             <td>Least Squares</td>  <th>  F-statistic:       </th>  <td>1.104e+04</td>\n",
       "</tr>\n",
       "<tr>\n",
       "  <th>Date:</th>             <td>Wed, 14 Mar 2018</td> <th>  Prob (F-statistic):</th>   <td>  0.00</td>  \n",
       "</tr>\n",
       "<tr>\n",
       "  <th>Time:</th>                 <td>12:57:47</td>     <th>  Log-Likelihood:    </th>  <td>  50695.</td> \n",
       "</tr>\n",
       "<tr>\n",
       "  <th>No. Observations:</th>      <td> 21149</td>      <th>  AIC:               </th> <td>-1.014e+05</td>\n",
       "</tr>\n",
       "<tr>\n",
       "  <th>Df Residuals:</th>          <td> 21147</td>      <th>  BIC:               </th> <td>-1.014e+05</td>\n",
       "</tr>\n",
       "<tr>\n",
       "  <th>Df Model:</th>              <td>     1</td>      <th>                     </th>      <td> </td>    \n",
       "</tr>\n",
       "<tr>\n",
       "  <th>Covariance Type:</th>      <td>nonrobust</td>    <th>                     </th>      <td> </td>    \n",
       "</tr>\n",
       "</table>\n",
       "<table class=\"simpletable\">\n",
       "<tr>\n",
       "    <td></td>       <th>coef</th>     <th>std err</th>      <th>t</th>      <th>P>|t|</th>  <th>[0.025</th>    <th>0.975]</th>  \n",
       "</tr>\n",
       "<tr>\n",
       "  <th>const</th> <td>    0.0129</td> <td>    0.000</td> <td>   77.068</td> <td> 0.000</td> <td>    0.013</td> <td>    0.013</td>\n",
       "</tr>\n",
       "<tr>\n",
       "  <th>x1</th>    <td>    0.1383</td> <td>    0.001</td> <td>  105.090</td> <td> 0.000</td> <td>    0.136</td> <td>    0.141</td>\n",
       "</tr>\n",
       "</table>\n",
       "<table class=\"simpletable\">\n",
       "<tr>\n",
       "  <th>Omnibus:</th>       <td>8060.148</td> <th>  Durbin-Watson:     </th> <td>   1.967</td> \n",
       "</tr>\n",
       "<tr>\n",
       "  <th>Prob(Omnibus):</th>  <td> 0.000</td>  <th>  Jarque-Bera (JB):  </th> <td>57637.098</td>\n",
       "</tr>\n",
       "<tr>\n",
       "  <th>Skew:</th>           <td> 1.659</td>  <th>  Prob(JB):          </th> <td>    0.00</td> \n",
       "</tr>\n",
       "<tr>\n",
       "  <th>Kurtosis:</th>       <td>10.375</td>  <th>  Cond. No.          </th> <td>    8.72</td> \n",
       "</tr>\n",
       "</table>"
      ],
      "text/plain": [
       "<class 'statsmodels.iolib.summary.Summary'>\n",
       "\"\"\"\n",
       "                            OLS Regression Results                            \n",
       "==============================================================================\n",
       "Dep. Variable:           wald$_{cut}$   R-squared:                       0.343\n",
       "Model:                            OLS   Adj. R-squared:                  0.343\n",
       "Method:                 Least Squares   F-statistic:                 1.104e+04\n",
       "Date:                Wed, 14 Mar 2018   Prob (F-statistic):               0.00\n",
       "Time:                        12:57:47   Log-Likelihood:                 50695.\n",
       "No. Observations:               21149   AIC:                        -1.014e+05\n",
       "Df Residuals:                   21147   BIC:                        -1.014e+05\n",
       "Df Model:                           1                                         \n",
       "Covariance Type:            nonrobust                                         \n",
       "==============================================================================\n",
       "                 coef    std err          t      P>|t|      [0.025      0.975]\n",
       "------------------------------------------------------------------------------\n",
       "const          0.0129      0.000     77.068      0.000       0.013       0.013\n",
       "x1             0.1383      0.001    105.090      0.000       0.136       0.141\n",
       "==============================================================================\n",
       "Omnibus:                     8060.148   Durbin-Watson:                   1.967\n",
       "Prob(Omnibus):                  0.000   Jarque-Bera (JB):            57637.098\n",
       "Skew:                           1.659   Prob(JB):                         0.00\n",
       "Kurtosis:                      10.375   Cond. No.                         8.72\n",
       "==============================================================================\n",
       "\n",
       "Warnings:\n",
       "[1] Standard Errors assume that the covariance matrix of the errors is correctly specified.\n",
       "\"\"\""
      ]
     },
     "execution_count": 26,
     "metadata": {},
     "output_type": "execute_result"
    }
   ],
   "source": [
    "wald.summary()"
   ]
  },
  {
   "cell_type": "code",
   "execution_count": 27,
   "metadata": {},
   "outputs": [
    {
     "data": {
      "text/html": [
       "<table class=\"simpletable\">\n",
       "<caption>OLS Regression Results</caption>\n",
       "<tr>\n",
       "  <th>Dep. Variable:</th>          <td>logit</td>      <th>  R-squared:         </th> <td>   0.020</td>\n",
       "</tr>\n",
       "<tr>\n",
       "  <th>Model:</th>                   <td>OLS</td>       <th>  Adj. R-squared:    </th> <td>   0.020</td>\n",
       "</tr>\n",
       "<tr>\n",
       "  <th>Method:</th>             <td>Least Squares</td>  <th>  F-statistic:       </th> <td>   439.5</td>\n",
       "</tr>\n",
       "<tr>\n",
       "  <th>Date:</th>             <td>Wed, 14 Mar 2018</td> <th>  Prob (F-statistic):</th> <td>1.32e-96</td>\n",
       "</tr>\n",
       "<tr>\n",
       "  <th>Time:</th>                 <td>12:57:47</td>     <th>  Log-Likelihood:    </th> <td>  2483.6</td>\n",
       "</tr>\n",
       "<tr>\n",
       "  <th>No. Observations:</th>      <td> 21149</td>      <th>  AIC:               </th> <td>  -4963.</td>\n",
       "</tr>\n",
       "<tr>\n",
       "  <th>Df Residuals:</th>          <td> 21147</td>      <th>  BIC:               </th> <td>  -4947.</td>\n",
       "</tr>\n",
       "<tr>\n",
       "  <th>Df Model:</th>              <td>     1</td>      <th>                     </th>     <td> </td>   \n",
       "</tr>\n",
       "<tr>\n",
       "  <th>Covariance Type:</th>      <td>nonrobust</td>    <th>                     </th>     <td> </td>   \n",
       "</tr>\n",
       "</table>\n",
       "<table class=\"simpletable\">\n",
       "<tr>\n",
       "    <td></td>       <th>coef</th>     <th>std err</th>      <th>t</th>      <th>P>|t|</th>  <th>[0.025</th>    <th>0.975]</th>  \n",
       "</tr>\n",
       "<tr>\n",
       "  <th>const</th> <td>    0.4702</td> <td>    0.002</td> <td>  287.749</td> <td> 0.000</td> <td>    0.467</td> <td>    0.473</td>\n",
       "</tr>\n",
       "<tr>\n",
       "  <th>x1</th>    <td>    0.2697</td> <td>    0.013</td> <td>   20.965</td> <td> 0.000</td> <td>    0.244</td> <td>    0.295</td>\n",
       "</tr>\n",
       "</table>\n",
       "<table class=\"simpletable\">\n",
       "<tr>\n",
       "  <th>Omnibus:</th>       <td>5974.988</td> <th>  Durbin-Watson:     </th> <td>   2.015</td> \n",
       "</tr>\n",
       "<tr>\n",
       "  <th>Prob(Omnibus):</th>  <td> 0.000</td>  <th>  Jarque-Bera (JB):  </th> <td> 964.621</td> \n",
       "</tr>\n",
       "<tr>\n",
       "  <th>Skew:</th>           <td> 0.068</td>  <th>  Prob(JB):          </th> <td>3.43e-210</td>\n",
       "</tr>\n",
       "<tr>\n",
       "  <th>Kurtosis:</th>       <td> 1.963</td>  <th>  Cond. No.          </th> <td>    8.72</td> \n",
       "</tr>\n",
       "</table>"
      ],
      "text/plain": [
       "<class 'statsmodels.iolib.summary.Summary'>\n",
       "\"\"\"\n",
       "                            OLS Regression Results                            \n",
       "==============================================================================\n",
       "Dep. Variable:                  logit   R-squared:                       0.020\n",
       "Model:                            OLS   Adj. R-squared:                  0.020\n",
       "Method:                 Least Squares   F-statistic:                     439.5\n",
       "Date:                Wed, 14 Mar 2018   Prob (F-statistic):           1.32e-96\n",
       "Time:                        12:57:47   Log-Likelihood:                 2483.6\n",
       "No. Observations:               21149   AIC:                            -4963.\n",
       "Df Residuals:                   21147   BIC:                            -4947.\n",
       "Df Model:                           1                                         \n",
       "Covariance Type:            nonrobust                                         \n",
       "==============================================================================\n",
       "                 coef    std err          t      P>|t|      [0.025      0.975]\n",
       "------------------------------------------------------------------------------\n",
       "const          0.4702      0.002    287.749      0.000       0.467       0.473\n",
       "x1             0.2697      0.013     20.965      0.000       0.244       0.295\n",
       "==============================================================================\n",
       "Omnibus:                     5974.988   Durbin-Watson:                   2.015\n",
       "Prob(Omnibus):                  0.000   Jarque-Bera (JB):              964.621\n",
       "Skew:                           0.068   Prob(JB):                    3.43e-210\n",
       "Kurtosis:                       1.963   Cond. No.                         8.72\n",
       "==============================================================================\n",
       "\n",
       "Warnings:\n",
       "[1] Standard Errors assume that the covariance matrix of the errors is correctly specified.\n",
       "\"\"\""
      ]
     },
     "execution_count": 27,
     "metadata": {},
     "output_type": "execute_result"
    }
   ],
   "source": [
    "logit.summary()"
   ]
  },
  {
   "cell_type": "code",
   "execution_count": 28,
   "metadata": {},
   "outputs": [
    {
     "data": {
      "text/html": [
       "<table class=\"simpletable\">\n",
       "<caption>OLS Regression Results</caption>\n",
       "<tr>\n",
       "  <th>Dep. Variable:</th>     <td>cch$_{ptrans}$</td>  <th>  R-squared:         </th>  <td>   0.013</td> \n",
       "</tr>\n",
       "<tr>\n",
       "  <th>Model:</th>                   <td>OLS</td>       <th>  Adj. R-squared:    </th>  <td>   0.013</td> \n",
       "</tr>\n",
       "<tr>\n",
       "  <th>Method:</th>             <td>Least Squares</td>  <th>  F-statistic:       </th>  <td>   276.7</td> \n",
       "</tr>\n",
       "<tr>\n",
       "  <th>Date:</th>             <td>Wed, 14 Mar 2018</td> <th>  Prob (F-statistic):</th>  <td>9.78e-62</td> \n",
       "</tr>\n",
       "<tr>\n",
       "  <th>Time:</th>                 <td>12:57:48</td>     <th>  Log-Likelihood:    </th>  <td>  10028.</td> \n",
       "</tr>\n",
       "<tr>\n",
       "  <th>No. Observations:</th>      <td> 21149</td>      <th>  AIC:               </th> <td>-2.005e+04</td>\n",
       "</tr>\n",
       "<tr>\n",
       "  <th>Df Residuals:</th>          <td> 21147</td>      <th>  BIC:               </th> <td>-2.004e+04</td>\n",
       "</tr>\n",
       "<tr>\n",
       "  <th>Df Model:</th>              <td>     1</td>      <th>                     </th>      <td> </td>    \n",
       "</tr>\n",
       "<tr>\n",
       "  <th>Covariance Type:</th>      <td>nonrobust</td>    <th>                     </th>      <td> </td>    \n",
       "</tr>\n",
       "</table>\n",
       "<table class=\"simpletable\">\n",
       "<tr>\n",
       "    <td></td>       <th>coef</th>     <th>std err</th>      <th>t</th>      <th>P>|t|</th>  <th>[0.025</th>    <th>0.975]</th>  \n",
       "</tr>\n",
       "<tr>\n",
       "  <th>const</th> <td>    0.2208</td> <td>    0.001</td> <td>  193.062</td> <td> 0.000</td> <td>    0.219</td> <td>    0.223</td>\n",
       "</tr>\n",
       "<tr>\n",
       "  <th>x1</th>    <td>    0.1498</td> <td>    0.009</td> <td>   16.634</td> <td> 0.000</td> <td>    0.132</td> <td>    0.167</td>\n",
       "</tr>\n",
       "</table>\n",
       "<table class=\"simpletable\">\n",
       "<tr>\n",
       "  <th>Omnibus:</th>       <td>2502.366</td> <th>  Durbin-Watson:     </th> <td>   2.014</td> \n",
       "</tr>\n",
       "<tr>\n",
       "  <th>Prob(Omnibus):</th>  <td> 0.000</td>  <th>  Jarque-Bera (JB):  </th> <td> 795.230</td> \n",
       "</tr>\n",
       "<tr>\n",
       "  <th>Skew:</th>           <td> 0.205</td>  <th>  Prob(JB):          </th> <td>2.08e-173</td>\n",
       "</tr>\n",
       "<tr>\n",
       "  <th>Kurtosis:</th>       <td> 2.143</td>  <th>  Cond. No.          </th> <td>    8.72</td> \n",
       "</tr>\n",
       "</table>"
      ],
      "text/plain": [
       "<class 'statsmodels.iolib.summary.Summary'>\n",
       "\"\"\"\n",
       "                            OLS Regression Results                            \n",
       "==============================================================================\n",
       "Dep. Variable:         cch$_{ptrans}$   R-squared:                       0.013\n",
       "Model:                            OLS   Adj. R-squared:                  0.013\n",
       "Method:                 Least Squares   F-statistic:                     276.7\n",
       "Date:                Wed, 14 Mar 2018   Prob (F-statistic):           9.78e-62\n",
       "Time:                        12:57:48   Log-Likelihood:                 10028.\n",
       "No. Observations:               21149   AIC:                        -2.005e+04\n",
       "Df Residuals:                   21147   BIC:                        -2.004e+04\n",
       "Df Model:                           1                                         \n",
       "Covariance Type:            nonrobust                                         \n",
       "==============================================================================\n",
       "                 coef    std err          t      P>|t|      [0.025      0.975]\n",
       "------------------------------------------------------------------------------\n",
       "const          0.2208      0.001    193.062      0.000       0.219       0.223\n",
       "x1             0.1498      0.009     16.634      0.000       0.132       0.167\n",
       "==============================================================================\n",
       "Omnibus:                     2502.366   Durbin-Watson:                   2.014\n",
       "Prob(Omnibus):                  0.000   Jarque-Bera (JB):              795.230\n",
       "Skew:                           0.205   Prob(JB):                    2.08e-173\n",
       "Kurtosis:                       2.143   Cond. No.                         8.72\n",
       "==============================================================================\n",
       "\n",
       "Warnings:\n",
       "[1] Standard Errors assume that the covariance matrix of the errors is correctly specified.\n",
       "\"\"\""
      ]
     },
     "execution_count": 28,
     "metadata": {},
     "output_type": "execute_result"
    }
   ],
   "source": [
    "cch.summary()"
   ]
  },
  {
   "cell_type": "markdown",
   "metadata": {},
   "source": [
    "# Residuals"
   ]
  },
  {
   "cell_type": "code",
   "execution_count": 29,
   "metadata": {},
   "outputs": [
    {
     "name": "stdout",
     "output_type": "stream",
     "text": [
      "0.0 0.006560898396252388\n"
     ]
    }
   ],
   "source": [
    "pval, observed_diff, diffs = permutation_resampling(\n",
    "     wald.resid, logit.resid, 10000, np.median)\n",
    "print(pval, observed_diff)"
   ]
  },
  {
   "cell_type": "code",
   "execution_count": 30,
   "metadata": {},
   "outputs": [
    {
     "name": "stdout",
     "output_type": "stream",
     "text": [
      "0.0003 0.003765124751520868\n"
     ]
    }
   ],
   "source": [
    "pval, observed_diff, diffs = permutation_resampling(\n",
    "     wald.resid, cch.resid, 10000, np.median)\n",
    "print(pval, observed_diff)"
   ]
  },
  {
   "cell_type": "code",
   "execution_count": 86,
   "metadata": {},
   "outputs": [
    {
     "data": {
      "text/plain": [
       "<matplotlib.axes._subplots.AxesSubplot at 0x7f0889c2cf60>"
      ]
     },
     "execution_count": 86,
     "metadata": {},
     "output_type": "execute_result"
    },
    {
     "data": {
      "image/png": "[encoded data removed]",
      "text/plain": [
       "<matplotlib.figure.Figure at 0x7f0889c2c208>"
      ]
     },
     "metadata": {},
     "output_type": "display_data"
    }
   ],
   "source": [
    "wald.resid.hist(bins=100)\n",
    "cch.resid.hist(bins=100, alpha=.5)\n",
    "logit.resid.hist(bins=100, alpha=.2)"
   ]
  },
  {
   "cell_type": "code",
   "execution_count": 101,
   "metadata": {},
   "outputs": [],
   "source": [
    "def a():\n",
    "    return ('a', 'b')"
   ]
  },
  {
   "cell_type": "code",
   "execution_count": 104,
   "metadata": {},
   "outputs": [],
   "source": [
    "a, b = a()"
   ]
  },
  {
   "cell_type": "code",
   "execution_count": 8,
   "metadata": {},
   "outputs": [],
   "source": [
    "state = pd.concat([\n",
    "    analys.loc[:,['cc']], \n",
    "    analys.drop_duplicates('source').loc[:,['source_cv']],\n",
    "    analys.drop_duplicates('target').loc[:,['target_cv']]], \n",
    "    axis=1)"
   ]
  },
  {
   "cell_type": "code",
   "execution_count": 9,
   "metadata": {},
   "outputs": [
    {
     "data": {
      "text/html": [
       "<div>\n",
       "<style scoped>\n",
       "    .dataframe tbody tr th:only-of-type {\n",
       "        vertical-align: middle;\n",
       "    }\n",
       "\n",
       "    .dataframe tbody tr th {\n",
       "        vertical-align: top;\n",
       "    }\n",
       "\n",
       "    .dataframe thead th {\n",
       "        text-align: right;\n",
       "    }\n",
       "</style>\n",
       "<table border=\"1\" class=\"dataframe\">\n",
       "  <thead>\n",
       "    <tr style=\"text-align: right;\">\n",
       "      <th></th>\n",
       "      <th>cc</th>\n",
       "      <th>source_cv</th>\n",
       "      <th>target_cv</th>\n",
       "    </tr>\n",
       "  </thead>\n",
       "  <tbody>\n",
       "    <tr>\n",
       "      <th>count</th>\n",
       "      <td>2500.000000</td>\n",
       "      <td>50.000000</td>\n",
       "      <td>50.000000</td>\n",
       "    </tr>\n",
       "    <tr>\n",
       "      <th>mean</th>\n",
       "      <td>0.387176</td>\n",
       "      <td>0.437341</td>\n",
       "      <td>0.444906</td>\n",
       "    </tr>\n",
       "    <tr>\n",
       "      <th>std</th>\n",
       "      <td>0.057212</td>\n",
       "      <td>0.036665</td>\n",
       "      <td>0.044386</td>\n",
       "    </tr>\n",
       "    <tr>\n",
       "      <th>min</th>\n",
       "      <td>0.260429</td>\n",
       "      <td>0.343003</td>\n",
       "      <td>0.313878</td>\n",
       "    </tr>\n",
       "    <tr>\n",
       "      <th>25%</th>\n",
       "      <td>0.346160</td>\n",
       "      <td>0.412066</td>\n",
       "      <td>0.431407</td>\n",
       "    </tr>\n",
       "    <tr>\n",
       "      <th>50%</th>\n",
       "      <td>0.378910</td>\n",
       "      <td>0.438973</td>\n",
       "      <td>0.447354</td>\n",
       "    </tr>\n",
       "    <tr>\n",
       "      <th>75%</th>\n",
       "      <td>0.420583</td>\n",
       "      <td>0.466021</td>\n",
       "      <td>0.475584</td>\n",
       "    </tr>\n",
       "    <tr>\n",
       "      <th>max</th>\n",
       "      <td>0.595710</td>\n",
       "      <td>0.498289</td>\n",
       "      <td>0.503355</td>\n",
       "    </tr>\n",
       "  </tbody>\n",
       "</table>\n",
       "</div>"
      ],
      "text/plain": [
       "                cc  source_cv  target_cv\n",
       "count  2500.000000  50.000000  50.000000\n",
       "mean      0.387176   0.437341   0.444906\n",
       "std       0.057212   0.036665   0.044386\n",
       "min       0.260429   0.343003   0.313878\n",
       "25%       0.346160   0.412066   0.431407\n",
       "50%       0.378910   0.438973   0.447354\n",
       "75%       0.420583   0.466021   0.475584\n",
       "max       0.595710   0.498289   0.503355"
      ]
     },
     "execution_count": 9,
     "metadata": {},
     "output_type": "execute_result"
    }
   ],
   "source": [
    "state.describe()"
   ]
  },
  {
   "cell_type": "code",
   "execution_count": 10,
   "metadata": {
    "scrolled": true
   },
   "outputs": [
    {
     "data": {
      "image/png": "[encoded data removed]",
      "text/plain": [
       "<matplotlib.figure.Figure at 0x7f52e187e470>"
      ]
     },
     "metadata": {},
     "output_type": "display_data"
    }
   ],
   "source": [
    "state.hist();"
   ]
  },
  {
   "cell_type": "code",
   "execution_count": 4,
   "metadata": {},
   "outputs": [
    {
     "data": {
      "text/plain": [
       "<matplotlib.axes._subplots.AxesSubplot at 0x7f52e3cbfc18>"
      ]
     },
     "execution_count": 4,
     "metadata": {},
     "output_type": "execute_result"
    },
    {
     "data": {
      "image/png": "[encoded data removed]",
      "text/plain": [
       "<matplotlib.figure.Figure at 0x7f52e3d4b550>"
      ]
     },
     "metadata": {},
     "output_type": "display_data"
    }
   ],
   "source": [
    "analys.iv_pcausal.hist(bins=100)"
   ]
  },
  {
   "cell_type": "code",
   "execution_count": 5,
   "metadata": {
    "scrolled": true
   },
   "outputs": [
    {
     "data": {
      "text/plain": [
       "<matplotlib.axes._subplots.AxesSubplot at 0x7f52e19b8be0>"
      ]
     },
     "execution_count": 5,
     "metadata": {},
     "output_type": "execute_result"
    },
    {
     "data": {
      "image/png": "[encoded data removed]",
      "text/plain": [
       "<matplotlib.figure.Figure at 0x7f52e1996a20>"
      ]
     },
     "metadata": {},
     "output_type": "display_data"
    }
   ],
   "source": [
    "analys.iv_cch[analys.iv_pcausal < 0.0001].hist(bins=100)"
   ]
  }
 ],
 "metadata": {
  "kernelspec": {
   "display_name": "Python 3",
   "language": "python",
   "name": "python3"
  },
  "language_info": {
   "codemirror_mode": {
    "name": "ipython",
    "version": 3
   },
   "file_extension": ".py",
   "mimetype": "text/x-python",
   "name": "python",
   "nbconvert_exporter": "python",
   "pygments_lexer": "ipython3",
   "version": "3.5.2"
  }
 },
 "nbformat": 4,
 "nbformat_minor": 2
}
