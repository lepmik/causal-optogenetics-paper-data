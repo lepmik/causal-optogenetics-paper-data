{
 "cells": [
  {
   "cell_type": "code",
   "execution_count": 1,
   "metadata": {},
   "outputs": [
    {
     "name": "stderr",
     "output_type": "stream",
     "text": [
      "/home/mikkel/.virtualenvs/main/lib/python3.5/site-packages/statsmodels/compat/pandas.py:56: FutureWarning: The pandas.core.datetools module is deprecated and will be removed in a future version. Please use the pandas.tseries module instead.\n",
      "  from pandas.core import datetools\n"
     ]
    }
   ],
   "source": [
    "%matplotlib inline\n",
    "%load_ext autoreload\n",
    "%autoreload 2\n",
    "from method import IV\n",
    "from simulator import Simulator\n",
    "import matplotlib.pyplot as plt\n",
    "from matplotlib.gridspec import GridSpec, GridSpecFromSubplotSpec\n",
    "import pandas as pd\n",
    "import numpy as np\n",
    "import quantities as pq\n",
    "import seaborn as sns\n",
    "from exana.statistics import plot_xcorr, permutation_resampling\n",
    "from tools import savefig, fix_figure, coef_var, corrcoef, despine, set_style\n",
    "import copy\n",
    "from IPython.display import display\n",
    "import statsmodels.api as sm"
   ]
  },
  {
   "cell_type": "code",
   "execution_count": 111,
   "metadata": {},
   "outputs": [],
   "source": [
    "analys = pd.read_csv('results/params_1_analyse_30000.csv')\n",
    "# analys = pd.read_csv('results/params_SI_analyse.csv')\n",
    "# analys = pd.read_csv('results/params_A~I_analyse.csv')\n",
    "# analys = pd.read_csv('results/params_AI_longstim_analyse.csv')\n",
    "# analys = pd.read_csv('results/params_AI_regstim_analyse.csv')\n",
    "# analys = pd.read_csv('results/params_AI_reglongstim_analyse.csv')"
   ]
  },
  {
   "cell_type": "code",
   "execution_count": 112,
   "metadata": {},
   "outputs": [],
   "source": [
    "analys['cch'] = analys['trans_prob']"
   ]
  },
  {
   "cell_type": "code",
   "execution_count": 113,
   "metadata": {},
   "outputs": [],
   "source": [
    "analys.loc[(analys.pfast > 0.001) & (analys.pcausal > 0.001),'cch'] = np.nan"
   ]
  },
  {
   "cell_type": "code",
   "execution_count": 114,
   "metadata": {},
   "outputs": [
    {
     "data": {
      "text/plain": [
       "Index(['cc', 'cmax', 'logreg', 'logreg_intercept', 'logreg_ns',\n",
       "       'logreg_ns_intercept', 'n_syn', 'pcausal', 'pfast', 'ptime', 'source',\n",
       "       'source_cv', 'source_pop', 'stim_amp', 'target', 'target_cv',\n",
       "       'target_pop', 'trans_prob', 'wald', 'wald_ns', 'weight', 'cch'],\n",
       "      dtype='object')"
      ]
     },
     "execution_count": 114,
     "metadata": {},
     "output_type": "execute_result"
    }
   ],
   "source": [
    "analys.keys()"
   ]
  },
  {
   "cell_type": "code",
   "execution_count": 115,
   "metadata": {},
   "outputs": [],
   "source": [
    "state = pd.concat([\n",
    "    analys.loc[:,['cc']], \n",
    "    analys.drop_duplicates('source').loc[:,['source_cv']],\n",
    "    analys.drop_duplicates('target').loc[:,['target_cv']]], \n",
    "    axis=1)"
   ]
  },
  {
   "cell_type": "code",
   "execution_count": 116,
   "metadata": {},
   "outputs": [
    {
     "data": {
      "text/html": [
       "<div>\n",
       "<style scoped>\n",
       "    .dataframe tbody tr th:only-of-type {\n",
       "        vertical-align: middle;\n",
       "    }\n",
       "\n",
       "    .dataframe tbody tr th {\n",
       "        vertical-align: top;\n",
       "    }\n",
       "\n",
       "    .dataframe thead th {\n",
       "        text-align: right;\n",
       "    }\n",
       "</style>\n",
       "<table border=\"1\" class=\"dataframe\">\n",
       "  <thead>\n",
       "    <tr style=\"text-align: right;\">\n",
       "      <th></th>\n",
       "      <th>cc</th>\n",
       "      <th>source_cv</th>\n",
       "      <th>target_cv</th>\n",
       "    </tr>\n",
       "  </thead>\n",
       "  <tbody>\n",
       "    <tr>\n",
       "      <th>count</th>\n",
       "      <td>2500.000000</td>\n",
       "      <td>50.000000</td>\n",
       "      <td>50.000000</td>\n",
       "    </tr>\n",
       "    <tr>\n",
       "      <th>mean</th>\n",
       "      <td>0.581272</td>\n",
       "      <td>0.315348</td>\n",
       "      <td>0.322431</td>\n",
       "    </tr>\n",
       "    <tr>\n",
       "      <th>std</th>\n",
       "      <td>0.069312</td>\n",
       "      <td>0.034010</td>\n",
       "      <td>0.039984</td>\n",
       "    </tr>\n",
       "    <tr>\n",
       "      <th>min</th>\n",
       "      <td>0.423106</td>\n",
       "      <td>0.245257</td>\n",
       "      <td>0.251968</td>\n",
       "    </tr>\n",
       "    <tr>\n",
       "      <th>25%</th>\n",
       "      <td>0.526233</td>\n",
       "      <td>0.293263</td>\n",
       "      <td>0.294154</td>\n",
       "    </tr>\n",
       "    <tr>\n",
       "      <th>50%</th>\n",
       "      <td>0.566284</td>\n",
       "      <td>0.310791</td>\n",
       "      <td>0.317527</td>\n",
       "    </tr>\n",
       "    <tr>\n",
       "      <th>75%</th>\n",
       "      <td>0.631005</td>\n",
       "      <td>0.341151</td>\n",
       "      <td>0.346951</td>\n",
       "    </tr>\n",
       "    <tr>\n",
       "      <th>max</th>\n",
       "      <td>0.812318</td>\n",
       "      <td>0.398696</td>\n",
       "      <td>0.439766</td>\n",
       "    </tr>\n",
       "  </tbody>\n",
       "</table>\n",
       "</div>"
      ],
      "text/plain": [
       "                cc  source_cv  target_cv\n",
       "count  2500.000000  50.000000  50.000000\n",
       "mean      0.581272   0.315348   0.322431\n",
       "std       0.069312   0.034010   0.039984\n",
       "min       0.423106   0.245257   0.251968\n",
       "25%       0.526233   0.293263   0.294154\n",
       "50%       0.566284   0.310791   0.317527\n",
       "75%       0.631005   0.341151   0.346951\n",
       "max       0.812318   0.398696   0.439766"
      ]
     },
     "execution_count": 116,
     "metadata": {},
     "output_type": "execute_result"
    }
   ],
   "source": [
    "state.describe()"
   ]
  },
  {
   "cell_type": "code",
   "execution_count": 117,
   "metadata": {},
   "outputs": [
    {
     "data": {
      "image/png": "[encoded data removed]",
      "text/plain": [
       "<matplotlib.figure.Figure at 0x7f9aff1d88d0>"
      ]
     },
     "metadata": {},
     "output_type": "display_data"
    }
   ],
   "source": [
    "state.hist();"
   ]
  },
  {
   "cell_type": "code",
   "execution_count": 118,
   "metadata": {},
   "outputs": [],
   "source": [
    "def model(x):\n",
    "    return 1/(1+np.exp(-x))\n",
    "\n",
    "def norm(x):\n",
    "#     return (x - np.mean(x)) / np.std(x)\n",
    "    return (x - min(x)) / (max(x) - min(x))"
   ]
  },
  {
   "cell_type": "code",
   "execution_count": 119,
   "metadata": {},
   "outputs": [],
   "source": [
    "analys['logit'] = model(analys.logreg + analys.logreg_intercept)\n",
    "# analys['wald$_c$'] = analys['wald'] - analys['wald_ns']\n",
    "# analys['logreg$_c$'] = analys['logreg'] - analys['logreg_ns']\n",
    "# analys['wald$_{cut}$'] = analys['wald']\n",
    "\n",
    "# analys.loc[analys['wald$_{cut}$'] < 0,'wald$_{cut}$'] = 0\n",
    "# analys['weight$_{norm}$'] = norm(analys['weight'])\n",
    "\n",
    "# analys['wald$_{cut}^c$'] = analys['wald$_c$']\n",
    "# analys.loc[analys['wald$_{cut}^c$'] < 0,'wald$_{cut}^c$'] = 0\n",
    "\n",
    "# analys['wald$_{cut}^{ns}$'] = analys['wald_ns']\n",
    "# analys.loc[analys['wald$_{cut}^{ns}$'] < 0,'wald$_{cut}^{ns}$'] = 0\n",
    "\n",
    "# analys['cch$_{cut}$'] = analys['cch$_{ptrans}$']\n",
    "# analys.loc[analys['cch$_{cut}$'] < 0,'cch$_{cut}$'] = 0"
   ]
  },
  {
   "cell_type": "code",
   "execution_count": 120,
   "metadata": {},
   "outputs": [],
   "source": [
    "# analys.loc[analys.pfast > 0.001,'wald$_{cut}$'] = np.nan\n",
    "# analys.loc[analys.pfast > 0.001,'logit'] = np.nan"
   ]
  },
  {
   "cell_type": "code",
   "execution_count": 121,
   "metadata": {},
   "outputs": [],
   "source": [
    "# analys = analys.loc[analys.stim_amp >= 5.]"
   ]
  },
  {
   "cell_type": "code",
   "execution_count": 122,
   "metadata": {},
   "outputs": [
    {
     "data": {
      "text/html": [
       "<div>\n",
       "<style scoped>\n",
       "    .dataframe tbody tr th:only-of-type {\n",
       "        vertical-align: middle;\n",
       "    }\n",
       "\n",
       "    .dataframe tbody tr th {\n",
       "        vertical-align: top;\n",
       "    }\n",
       "\n",
       "    .dataframe thead th {\n",
       "        text-align: right;\n",
       "    }\n",
       "</style>\n",
       "<table border=\"1\" class=\"dataframe\">\n",
       "  <thead>\n",
       "    <tr style=\"text-align: right;\">\n",
       "      <th></th>\n",
       "      <th>0</th>\n",
       "      <th>1</th>\n",
       "      <th>2</th>\n",
       "    </tr>\n",
       "  </thead>\n",
       "  <tbody>\n",
       "    <tr>\n",
       "      <th>0</th>\n",
       "      <td>0</td>\n",
       "      <td>1</td>\n",
       "      <td>2</td>\n",
       "    </tr>\n",
       "    <tr>\n",
       "      <th>1</th>\n",
       "      <td>3</td>\n",
       "      <td>4</td>\n",
       "      <td>5</td>\n",
       "    </tr>\n",
       "    <tr>\n",
       "      <th>2</th>\n",
       "      <td>6</td>\n",
       "      <td>7</td>\n",
       "      <td>8</td>\n",
       "    </tr>\n",
       "  </tbody>\n",
       "</table>\n",
       "</div>"
      ],
      "text/plain": [
       "   0  1  2\n",
       "0  0  1  2\n",
       "1  3  4  5\n",
       "2  6  7  8"
      ]
     },
     "execution_count": 122,
     "metadata": {},
     "output_type": "execute_result"
    }
   ],
   "source": [
    "pd.DataFrame(np.arange(9).reshape((3,3)))"
   ]
  },
  {
   "cell_type": "markdown",
   "metadata": {},
   "source": [
    "# False positives"
   ]
  },
  {
   "cell_type": "code",
   "execution_count": 123,
   "metadata": {},
   "outputs": [],
   "source": [
    "def label_diff(x1, x2, y, text, color='k'):\n",
    "    h = y * .01\n",
    "    plt.plot([x1, x1, x2, x2], [y, y + h, y + h, y], lw=1.5, color=color)\n",
    "    plt.text((x1 + x2) * .5, y + h, text, ha='center', va='bottom', color=color)"
   ]
  },
  {
   "cell_type": "code",
   "execution_count": 124,
   "metadata": {},
   "outputs": [],
   "source": [
    "fp = pd.DataFrame()\n",
    "TOL = 0.05\n",
    "fp = pd.concat([\n",
    "    analys.loc[(analys.weight == 0) & (analys.wald >= TOL), 'wald'],\n",
    "    analys.loc[(analys.weight == 0) & (analys.cch >= TOL), 'cch'],\n",
    "    analys.loc[(analys.weight == 0) & (analys.logit >= TOL), 'logit']], \n",
    "    axis=1)\n",
    "\n",
    "# fp = pd.concat([\n",
    "#     analys.loc[(analys.weight == 0), 'wald'],\n",
    "#     analys.loc[(analys.weight == 0), 'cch'],\n",
    "#     analys.loc[(analys.weight == 0), 'logit']], \n",
    "#     axis=1)"
   ]
  },
  {
   "cell_type": "code",
   "execution_count": 125,
   "metadata": {},
   "outputs": [
    {
     "data": {
      "image/png": "[encoded data removed]",
      "text/plain": [
       "<matplotlib.figure.Figure at 0x7f9aff1ca550>"
      ]
     },
     "metadata": {},
     "output_type": "display_data"
    }
   ],
   "source": [
    "set_style('article', w=0.485)\n",
    "# set_style('notebook')\n",
    "sns.boxplot(data=fp.loc[:,['cch','logit', 'wald']])\n",
    "for key, pos_x, pos_y in zip(['cch','logit'], [0, 1], [1.15, 1.0]):\n",
    "    case = fp.loc[:,['wald']].dropna().values.flatten()\n",
    "    control = fp.loc[:,[key]].dropna().values.flatten()\n",
    "    pval, observed_diff, diffs = permutation_resampling(case, control, 1000, statistic=np.median)\n",
    "    label_diff(pos_x, 2, pos_y, 'p = {:.2f}, $\\\\Delta$ = {:.3f}'.format(pval, observed_diff))\n",
    "N = analys.shape[0] / 100\n",
    "for x, name in zip([0, 1, 2], ['cch','logit', 'wald']):\n",
    "    text = '{:.1f}\\%'.format(sum(fp[name].dropna() > TOL) / N)\n",
    "    plt.text(x, .8, text, ha='center', va='bottom', color='k')\n",
    "sns.despine()\n",
    "savefig(plt.gcf(), 'false_positive')"
   ]
  },
  {
   "cell_type": "code",
   "execution_count": 91,
   "metadata": {},
   "outputs": [
    {
     "data": {
      "text/plain": [
       "array([[<matplotlib.axes._subplots.AxesSubplot object at 0x7f9afeb1e7f0>,\n",
       "        <matplotlib.axes._subplots.AxesSubplot object at 0x7f9afc055f28>],\n",
       "       [<matplotlib.axes._subplots.AxesSubplot object at 0x7f9afc033518>,\n",
       "        <matplotlib.axes._subplots.AxesSubplot object at 0x7f9afc05d748>]],\n",
       "      dtype=object)"
      ]
     },
     "execution_count": 91,
     "metadata": {},
     "output_type": "execute_result"
    },
    {
     "data": {
      "image/png": "[encoded data removed]",
      "text/plain": [
       "<matplotlib.figure.Figure at 0x7f9afe102ba8>"
      ]
     },
     "metadata": {},
     "output_type": "display_data"
    }
   ],
   "source": [
    "fp.hist()"
   ]
  },
  {
   "cell_type": "markdown",
   "metadata": {},
   "source": [
    "# False negatives"
   ]
  },
  {
   "cell_type": "code",
   "execution_count": 126,
   "metadata": {},
   "outputs": [],
   "source": [
    "TOL = 0.05\n",
    "fn = pd.concat([analys.loc[(analys['wald'] < TOL) & (analys.weight > TOL), 'weight'].rename('wald'),\n",
    "                analys.loc[(analys['logit'] < TOL) & (analys.weight > TOL), 'weight'].rename('logit'),\n",
    "                analys.loc[(analys['cch'] < TOL) & (analys.weight > TOL), 'weight'].rename('cch')],\n",
    "               axis=1)"
   ]
  },
  {
   "cell_type": "code",
   "execution_count": 127,
   "metadata": {},
   "outputs": [
    {
     "data": {
      "image/png": "[encoded data removed]",
      "text/plain": [
       "<matplotlib.figure.Figure at 0x7f9afde9ab38>"
      ]
     },
     "metadata": {},
     "output_type": "display_data"
    }
   ],
   "source": [
    "set_style('article', w=0.485)\n",
    "sns.boxplot(data=fn.loc[:,['cch', 'wald']])\n",
    "for key, pos_x, pos_y in zip(['cch'], [0, 1], [1.1, 0.9]):\n",
    "    case = fn.loc[:,['wald']].dropna().values.flatten()\n",
    "    control = fn.loc[:,[key]].dropna().values.flatten()\n",
    "    pval, observed_diff, diffs = permutation_resampling(case, control, 1000, statistic=np.nanmedian)\n",
    "    label_diff(pos_x, 1, pos_y, 'p = {:.2f}, $\\\\Delta$ = {:.3f}'.format(pval, observed_diff))\n",
    "N = analys.shape[0] / 100\n",
    "for x, name in zip([0, 1], ['cch', 'wald']):\n",
    "    text = '{:.1f}\\%'.format(sum(fn[name].dropna() > TOL) / N)\n",
    "    plt.text(x, .95, text, ha='center', va='bottom', color='k')\n",
    "sns.despine()\n",
    "savefig(plt.gcf(), 'false_negative')"
   ]
  },
  {
   "cell_type": "markdown",
   "metadata": {},
   "source": [
    "# Goodness of fit"
   ]
  },
  {
   "cell_type": "code",
   "execution_count": 128,
   "metadata": {},
   "outputs": [],
   "source": [
    "w = analys[analys.weight > 0].sort_values('weight').reset_index(drop=True)"
   ]
  },
  {
   "cell_type": "code",
   "execution_count": 129,
   "metadata": {},
   "outputs": [],
   "source": [
    "def regplot(x, y, data, model, ci, scatter_color='b', model_color='k', ax=None, \n",
    "            scatter_kws={}, regplot_kws={}, cmap=None,\n",
    "            xlabel=True, ylabel=True, colorbar=True, **kwargs):\n",
    "    \n",
    "    from seaborn import utils\n",
    "    from seaborn import algorithms as algo\n",
    "    if ax is None:\n",
    "        fig, ax = plt.subplots()\n",
    "    _x = data[x]\n",
    "    _y = data[y]\n",
    "    grid = np.linspace(_x.min(), _x.max(), 100)\n",
    "    \n",
    "    X = np.c_[np.ones(len(_x)), _x]\n",
    "    G = np.c_[np.ones(len(grid)), grid]\n",
    "    \n",
    "    results = model(_y, X, **kwargs).fit()\n",
    "    \n",
    "    def reg_func(xx, yy):\n",
    "        yhat = model(yy, xx, **kwargs).fit().predict(G)\n",
    "        return yhat\n",
    "    yhat = results.predict(G)\n",
    "    yhat_boots = algo.bootstrap(X, _y, func=reg_func,\n",
    "                                n_boot=1000, units=None)\n",
    "    err_bands = utils.ci(yhat_boots, ci, axis=0)\n",
    "    ax.plot(grid, yhat, color=model_color, **regplot_kws)\n",
    "    sc = ax.scatter(_x, _y, c=data['stim_amp'], **scatter_kws)\n",
    "    ax.fill_between(grid, *err_bands, facecolor=model_color, alpha=.15)\n",
    "    if colorbar:\n",
    "        cb = plt.colorbar(sc)\n",
    "        cb.ax.yaxis.set_ticks_position('right')\n",
    "        cb.set_label('Stimulation [pA]')\n",
    "    \n",
    "    h = plt.Line2D([], [], label='$R^2 = {:.3f}$'.format(results.rsquared), ls='-', color='k')\n",
    "    plt.legend(handles=[h])\n",
    "    \n",
    "    if xlabel:\n",
    "        if isinstance(xlabel, str):\n",
    "            ax.set_xlabel(xlabel)\n",
    "        else:\n",
    "            ax.set_xlabel(x)\n",
    "    if ylabel:\n",
    "        if isinstance(ylabel, str):\n",
    "            ax.set_ylabel(ylabel)\n",
    "        else:\n",
    "            ax.set_ylabel(y)\n",
    "    despine()\n",
    "    return results"
   ]
  },
  {
   "cell_type": "code",
   "execution_count": 131,
   "metadata": {},
   "outputs": [
    {
     "data": {
      "image/png": "[encoded data removed]",
      "text/plain": [
       "<matplotlib.figure.Figure at 0x7f9afc2a2438>"
      ]
     },
     "metadata": {},
     "output_type": "display_data"
    },
    {
     "data": {
      "image/png": "[encoded data removed]",
      "text/plain": [
       "<matplotlib.figure.Figure at 0x7f9affc2f978>"
      ]
     },
     "metadata": {},
     "output_type": "display_data"
    },
    {
     "data": {
      "image/png": "[encoded data removed]",
      "text/plain": [
       "<matplotlib.figure.Figure at 0x7f9afe6b4780>"
      ]
     },
     "metadata": {},
     "output_type": "display_data"
    }
   ],
   "source": [
    "set_style('article', w=0.485)\n",
    "model = sm.OLS\n",
    "ci = 95.\n",
    "save = True\n",
    "txt = '_pos'\n",
    "TOL = 0\n",
    "# txt = '_neg'\n",
    "# TOL = -np.inf\n",
    "\n",
    "fig, ax = plt.subplots(1, 1)\n",
    "wald = regplot(x='weight', y='wald', data=w[w.wald > TOL], \n",
    "               model=model, ci=ci, ax=ax,\n",
    "               ylabel='wald')\n",
    "if save: savefig(plt.gcf(), 'fit_wald{}'.format(txt), bbox_inches='tight')\n",
    "\n",
    "fig, ax = plt.subplots(1, 1)\n",
    "logit = regplot(x='weight', y='logit', data=w, \n",
    "                model=model, ci=ci, ax=ax,\n",
    "               ylabel='logit')\n",
    "if save: savefig(plt.gcf(), 'fit_logit{}'.format(txt), bbox_inches='tight')\n",
    "\n",
    "fig, ax = plt.subplots(1, 1)\n",
    "cch = regplot(x='weight', y='cch', data=w[w.cch > TOL], \n",
    "             model=model, ci=ci, ax=ax,\n",
    "             ylabel='cch')\n",
    "if save: savefig(plt.gcf(), 'fit_cch{}'.format(txt), bbox_inches='tight')"
   ]
  },
  {
   "cell_type": "code",
   "execution_count": 26,
   "metadata": {},
   "outputs": [
    {
     "data": {
      "text/html": [
       "<table class=\"simpletable\">\n",
       "<caption>OLS Regression Results</caption>\n",
       "<tr>\n",
       "  <th>Dep. Variable:</th>      <td>wald$_{cut}$</td>   <th>  R-squared:         </th>  <td>   0.343</td> \n",
       "</tr>\n",
       "<tr>\n",
       "  <th>Model:</th>                   <td>OLS</td>       <th>  Adj. R-squared:    </th>  <td>   0.343</td> \n",
       "</tr>\n",
       "<tr>\n",
       "  <th>Method:</th>             <td>Least Squares</td>  <th>  F-statistic:       </th>  <td>1.104e+04</td>\n",
       "</tr>\n",
       "<tr>\n",
       "  <th>Date:</th>             <td>Wed, 14 Mar 2018</td> <th>  Prob (F-statistic):</th>   <td>  0.00</td>  \n",
       "</tr>\n",
       "<tr>\n",
       "  <th>Time:</th>                 <td>12:57:47</td>     <th>  Log-Likelihood:    </th>  <td>  50695.</td> \n",
       "</tr>\n",
       "<tr>\n",
       "  <th>No. Observations:</th>      <td> 21149</td>      <th>  AIC:               </th> <td>-1.014e+05</td>\n",
       "</tr>\n",
       "<tr>\n",
       "  <th>Df Residuals:</th>          <td> 21147</td>      <th>  BIC:               </th> <td>-1.014e+05</td>\n",
       "</tr>\n",
       "<tr>\n",
       "  <th>Df Model:</th>              <td>     1</td>      <th>                     </th>      <td> </td>    \n",
       "</tr>\n",
       "<tr>\n",
       "  <th>Covariance Type:</th>      <td>nonrobust</td>    <th>                     </th>      <td> </td>    \n",
       "</tr>\n",
       "</table>\n",
       "<table class=\"simpletable\">\n",
       "<tr>\n",
       "    <td></td>       <th>coef</th>     <th>std err</th>      <th>t</th>      <th>P>|t|</th>  <th>[0.025</th>    <th>0.975]</th>  \n",
       "</tr>\n",
       "<tr>\n",
       "  <th>const</th> <td>    0.0129</td> <td>    0.000</td> <td>   77.068</td> <td> 0.000</td> <td>    0.013</td> <td>    0.013</td>\n",
       "</tr>\n",
       "<tr>\n",
       "  <th>x1</th>    <td>    0.1383</td> <td>    0.001</td> <td>  105.090</td> <td> 0.000</td> <td>    0.136</td> <td>    0.141</td>\n",
       "</tr>\n",
       "</table>\n",
       "<table class=\"simpletable\">\n",
       "<tr>\n",
       "  <th>Omnibus:</th>       <td>8060.148</td> <th>  Durbin-Watson:     </th> <td>   1.967</td> \n",
       "</tr>\n",
       "<tr>\n",
       "  <th>Prob(Omnibus):</th>  <td> 0.000</td>  <th>  Jarque-Bera (JB):  </th> <td>57637.098</td>\n",
       "</tr>\n",
       "<tr>\n",
       "  <th>Skew:</th>           <td> 1.659</td>  <th>  Prob(JB):          </th> <td>    0.00</td> \n",
       "</tr>\n",
       "<tr>\n",
       "  <th>Kurtosis:</th>       <td>10.375</td>  <th>  Cond. No.          </th> <td>    8.72</td> \n",
       "</tr>\n",
       "</table>"
      ],
      "text/plain": [
       "<class 'statsmodels.iolib.summary.Summary'>\n",
       "\"\"\"\n",
       "                            OLS Regression Results                            \n",
       "==============================================================================\n",
       "Dep. Variable:           wald$_{cut}$   R-squared:                       0.343\n",
       "Model:                            OLS   Adj. R-squared:                  0.343\n",
       "Method:                 Least Squares   F-statistic:                 1.104e+04\n",
       "Date:                Wed, 14 Mar 2018   Prob (F-statistic):               0.00\n",
       "Time:                        12:57:47   Log-Likelihood:                 50695.\n",
       "No. Observations:               21149   AIC:                        -1.014e+05\n",
       "Df Residuals:                   21147   BIC:                        -1.014e+05\n",
       "Df Model:                           1                                         \n",
       "Covariance Type:            nonrobust                                         \n",
       "==============================================================================\n",
       "                 coef    std err          t      P>|t|      [0.025      0.975]\n",
       "------------------------------------------------------------------------------\n",
       "const          0.0129      0.000     77.068      0.000       0.013       0.013\n",
       "x1             0.1383      0.001    105.090      0.000       0.136       0.141\n",
       "==============================================================================\n",
       "Omnibus:                     8060.148   Durbin-Watson:                   1.967\n",
       "Prob(Omnibus):                  0.000   Jarque-Bera (JB):            57637.098\n",
       "Skew:                           1.659   Prob(JB):                         0.00\n",
       "Kurtosis:                      10.375   Cond. No.                         8.72\n",
       "==============================================================================\n",
       "\n",
       "Warnings:\n",
       "[1] Standard Errors assume that the covariance matrix of the errors is correctly specified.\n",
       "\"\"\""
      ]
     },
     "execution_count": 26,
     "metadata": {},
     "output_type": "execute_result"
    }
   ],
   "source": [
    "wald.summary()"
   ]
  },
  {
   "cell_type": "code",
   "execution_count": 27,
   "metadata": {},
   "outputs": [
    {
     "data": {
      "text/html": [
       "<table class=\"simpletable\">\n",
       "<caption>OLS Regression Results</caption>\n",
       "<tr>\n",
       "  <th>Dep. Variable:</th>          <td>logit</td>      <th>  R-squared:         </th> <td>   0.020</td>\n",
       "</tr>\n",
       "<tr>\n",
       "  <th>Model:</th>                   <td>OLS</td>       <th>  Adj. R-squared:    </th> <td>   0.020</td>\n",
       "</tr>\n",
       "<tr>\n",
       "  <th>Method:</th>             <td>Least Squares</td>  <th>  F-statistic:       </th> <td>   439.5</td>\n",
       "</tr>\n",
       "<tr>\n",
       "  <th>Date:</th>             <td>Wed, 14 Mar 2018</td> <th>  Prob (F-statistic):</th> <td>1.32e-96</td>\n",
       "</tr>\n",
       "<tr>\n",
       "  <th>Time:</th>                 <td>12:57:47</td>     <th>  Log-Likelihood:    </th> <td>  2483.6</td>\n",
       "</tr>\n",
       "<tr>\n",
       "  <th>No. Observations:</th>      <td> 21149</td>      <th>  AIC:               </th> <td>  -4963.</td>\n",
       "</tr>\n",
       "<tr>\n",
       "  <th>Df Residuals:</th>          <td> 21147</td>      <th>  BIC:               </th> <td>  -4947.</td>\n",
       "</tr>\n",
       "<tr>\n",
       "  <th>Df Model:</th>              <td>     1</td>      <th>                     </th>     <td> </td>   \n",
       "</tr>\n",
       "<tr>\n",
       "  <th>Covariance Type:</th>      <td>nonrobust</td>    <th>                     </th>     <td> </td>   \n",
       "</tr>\n",
       "</table>\n",
       "<table class=\"simpletable\">\n",
       "<tr>\n",
       "    <td></td>       <th>coef</th>     <th>std err</th>      <th>t</th>      <th>P>|t|</th>  <th>[0.025</th>    <th>0.975]</th>  \n",
       "</tr>\n",
       "<tr>\n",
       "  <th>const</th> <td>    0.4702</td> <td>    0.002</td> <td>  287.749</td> <td> 0.000</td> <td>    0.467</td> <td>    0.473</td>\n",
       "</tr>\n",
       "<tr>\n",
       "  <th>x1</th>    <td>    0.2697</td> <td>    0.013</td> <td>   20.965</td> <td> 0.000</td> <td>    0.244</td> <td>    0.295</td>\n",
       "</tr>\n",
       "</table>\n",
       "<table class=\"simpletable\">\n",
       "<tr>\n",
       "  <th>Omnibus:</th>       <td>5974.988</td> <th>  Durbin-Watson:     </th> <td>   2.015</td> \n",
       "</tr>\n",
       "<tr>\n",
       "  <th>Prob(Omnibus):</th>  <td> 0.000</td>  <th>  Jarque-Bera (JB):  </th> <td> 964.621</td> \n",
       "</tr>\n",
       "<tr>\n",
       "  <th>Skew:</th>           <td> 0.068</td>  <th>  Prob(JB):          </th> <td>3.43e-210</td>\n",
       "</tr>\n",
       "<tr>\n",
       "  <th>Kurtosis:</th>       <td> 1.963</td>  <th>  Cond. No.          </th> <td>    8.72</td> \n",
       "</tr>\n",
       "</table>"
      ],
      "text/plain": [
       "<class 'statsmodels.iolib.summary.Summary'>\n",
       "\"\"\"\n",
       "                            OLS Regression Results                            \n",
       "==============================================================================\n",
       "Dep. Variable:                  logit   R-squared:                       0.020\n",
       "Model:                            OLS   Adj. R-squared:                  0.020\n",
       "Method:                 Least Squares   F-statistic:                     439.5\n",
       "Date:                Wed, 14 Mar 2018   Prob (F-statistic):           1.32e-96\n",
       "Time:                        12:57:47   Log-Likelihood:                 2483.6\n",
       "No. Observations:               21149   AIC:                            -4963.\n",
       "Df Residuals:                   21147   BIC:                            -4947.\n",
       "Df Model:                           1                                         \n",
       "Covariance Type:            nonrobust                                         \n",
       "==============================================================================\n",
       "                 coef    std err          t      P>|t|      [0.025      0.975]\n",
       "------------------------------------------------------------------------------\n",
       "const          0.4702      0.002    287.749      0.000       0.467       0.473\n",
       "x1             0.2697      0.013     20.965      0.000       0.244       0.295\n",
       "==============================================================================\n",
       "Omnibus:                     5974.988   Durbin-Watson:                   2.015\n",
       "Prob(Omnibus):                  0.000   Jarque-Bera (JB):              964.621\n",
       "Skew:                           0.068   Prob(JB):                    3.43e-210\n",
       "Kurtosis:                       1.963   Cond. No.                         8.72\n",
       "==============================================================================\n",
       "\n",
       "Warnings:\n",
       "[1] Standard Errors assume that the covariance matrix of the errors is correctly specified.\n",
       "\"\"\""
      ]
     },
     "execution_count": 27,
     "metadata": {},
     "output_type": "execute_result"
    }
   ],
   "source": [
    "logit.summary()"
   ]
  },
  {
   "cell_type": "code",
   "execution_count": 28,
   "metadata": {},
   "outputs": [
    {
     "data": {
      "text/html": [
       "<table class=\"simpletable\">\n",
       "<caption>OLS Regression Results</caption>\n",
       "<tr>\n",
       "  <th>Dep. Variable:</th>     <td>cch$_{ptrans}$</td>  <th>  R-squared:         </th>  <td>   0.013</td> \n",
       "</tr>\n",
       "<tr>\n",
       "  <th>Model:</th>                   <td>OLS</td>       <th>  Adj. R-squared:    </th>  <td>   0.013</td> \n",
       "</tr>\n",
       "<tr>\n",
       "  <th>Method:</th>             <td>Least Squares</td>  <th>  F-statistic:       </th>  <td>   276.7</td> \n",
       "</tr>\n",
       "<tr>\n",
       "  <th>Date:</th>             <td>Wed, 14 Mar 2018</td> <th>  Prob (F-statistic):</th>  <td>9.78e-62</td> \n",
       "</tr>\n",
       "<tr>\n",
       "  <th>Time:</th>                 <td>12:57:48</td>     <th>  Log-Likelihood:    </th>  <td>  10028.</td> \n",
       "</tr>\n",
       "<tr>\n",
       "  <th>No. Observations:</th>      <td> 21149</td>      <th>  AIC:               </th> <td>-2.005e+04</td>\n",
       "</tr>\n",
       "<tr>\n",
       "  <th>Df Residuals:</th>          <td> 21147</td>      <th>  BIC:               </th> <td>-2.004e+04</td>\n",
       "</tr>\n",
       "<tr>\n",
       "  <th>Df Model:</th>              <td>     1</td>      <th>                     </th>      <td> </td>    \n",
       "</tr>\n",
       "<tr>\n",
       "  <th>Covariance Type:</th>      <td>nonrobust</td>    <th>                     </th>      <td> </td>    \n",
       "</tr>\n",
       "</table>\n",
       "<table class=\"simpletable\">\n",
       "<tr>\n",
       "    <td></td>       <th>coef</th>     <th>std err</th>      <th>t</th>      <th>P>|t|</th>  <th>[0.025</th>    <th>0.975]</th>  \n",
       "</tr>\n",
       "<tr>\n",
       "  <th>const</th> <td>    0.2208</td> <td>    0.001</td> <td>  193.062</td> <td> 0.000</td> <td>    0.219</td> <td>    0.223</td>\n",
       "</tr>\n",
       "<tr>\n",
       "  <th>x1</th>    <td>    0.1498</td> <td>    0.009</td> <td>   16.634</td> <td> 0.000</td> <td>    0.132</td> <td>    0.167</td>\n",
       "</tr>\n",
       "</table>\n",
       "<table class=\"simpletable\">\n",
       "<tr>\n",
       "  <th>Omnibus:</th>       <td>2502.366</td> <th>  Durbin-Watson:     </th> <td>   2.014</td> \n",
       "</tr>\n",
       "<tr>\n",
       "  <th>Prob(Omnibus):</th>  <td> 0.000</td>  <th>  Jarque-Bera (JB):  </th> <td> 795.230</td> \n",
       "</tr>\n",
       "<tr>\n",
       "  <th>Skew:</th>           <td> 0.205</td>  <th>  Prob(JB):          </th> <td>2.08e-173</td>\n",
       "</tr>\n",
       "<tr>\n",
       "  <th>Kurtosis:</th>       <td> 2.143</td>  <th>  Cond. No.          </th> <td>    8.72</td> \n",
       "</tr>\n",
       "</table>"
      ],
      "text/plain": [
       "<class 'statsmodels.iolib.summary.Summary'>\n",
       "\"\"\"\n",
       "                            OLS Regression Results                            \n",
       "==============================================================================\n",
       "Dep. Variable:         cch$_{ptrans}$   R-squared:                       0.013\n",
       "Model:                            OLS   Adj. R-squared:                  0.013\n",
       "Method:                 Least Squares   F-statistic:                     276.7\n",
       "Date:                Wed, 14 Mar 2018   Prob (F-statistic):           9.78e-62\n",
       "Time:                        12:57:48   Log-Likelihood:                 10028.\n",
       "No. Observations:               21149   AIC:                        -2.005e+04\n",
       "Df Residuals:                   21147   BIC:                        -2.004e+04\n",
       "Df Model:                           1                                         \n",
       "Covariance Type:            nonrobust                                         \n",
       "==============================================================================\n",
       "                 coef    std err          t      P>|t|      [0.025      0.975]\n",
       "------------------------------------------------------------------------------\n",
       "const          0.2208      0.001    193.062      0.000       0.219       0.223\n",
       "x1             0.1498      0.009     16.634      0.000       0.132       0.167\n",
       "==============================================================================\n",
       "Omnibus:                     2502.366   Durbin-Watson:                   2.014\n",
       "Prob(Omnibus):                  0.000   Jarque-Bera (JB):              795.230\n",
       "Skew:                           0.205   Prob(JB):                    2.08e-173\n",
       "Kurtosis:                       2.143   Cond. No.                         8.72\n",
       "==============================================================================\n",
       "\n",
       "Warnings:\n",
       "[1] Standard Errors assume that the covariance matrix of the errors is correctly specified.\n",
       "\"\"\""
      ]
     },
     "execution_count": 28,
     "metadata": {},
     "output_type": "execute_result"
    }
   ],
   "source": [
    "cch.summary()"
   ]
  },
  {
   "cell_type": "markdown",
   "metadata": {},
   "source": [
    "# Residuals"
   ]
  },
  {
   "cell_type": "code",
   "execution_count": 29,
   "metadata": {},
   "outputs": [
    {
     "name": "stdout",
     "output_type": "stream",
     "text": [
      "0.0 0.006560898396252388\n"
     ]
    }
   ],
   "source": [
    "pval, observed_diff, diffs = permutation_resampling(\n",
    "     wald.resid, logit.resid, 10000, np.median)\n",
    "print(pval, observed_diff)"
   ]
  },
  {
   "cell_type": "code",
   "execution_count": 30,
   "metadata": {},
   "outputs": [
    {
     "name": "stdout",
     "output_type": "stream",
     "text": [
      "0.0003 0.003765124751520868\n"
     ]
    }
   ],
   "source": [
    "pval, observed_diff, diffs = permutation_resampling(\n",
    "     wald.resid, cch.resid, 10000, np.median)\n",
    "print(pval, observed_diff)"
   ]
  },
  {
   "cell_type": "code",
   "execution_count": 86,
   "metadata": {},
   "outputs": [
    {
     "data": {
      "text/plain": [
       "<matplotlib.axes._subplots.AxesSubplot at 0x7f0889c2cf60>"
      ]
     },
     "execution_count": 86,
     "metadata": {},
     "output_type": "execute_result"
    },
    {
     "data": {
      "image/png": "[encoded data removed]",
      "text/plain": [
       "<matplotlib.figure.Figure at 0x7f0889c2c208>"
      ]
     },
     "metadata": {},
     "output_type": "display_data"
    }
   ],
   "source": [
    "wald.resid.hist(bins=100)\n",
    "cch.resid.hist(bins=100, alpha=.5)\n",
    "logit.resid.hist(bins=100, alpha=.2)"
   ]
  },
  {
   "cell_type": "code",
   "execution_count": null,
   "metadata": {},
   "outputs": [],
   "source": []
  }
 ],
 "metadata": {
  "kernelspec": {
   "display_name": "Python 3",
   "language": "python",
   "name": "python3"
  },
  "language_info": {
   "codemirror_mode": {
    "name": "ipython",
    "version": 3
   },
   "file_extension": ".py",
   "mimetype": "text/x-python",
   "name": "python",
   "nbconvert_exporter": "python",
   "pygments_lexer": "ipython3",
   "version": "3.5.2"
  }
 },
 "nbformat": 4,
 "nbformat_minor": 2
}
