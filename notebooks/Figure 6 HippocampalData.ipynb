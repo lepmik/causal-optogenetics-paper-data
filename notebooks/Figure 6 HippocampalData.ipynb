{
 "cells": [
  {
   "cell_type": "markdown",
   "metadata": {},
   "source": [
    "# Comparison of IV and CCH method on hippocampal data with optical stimulation of pyramidal neurons\n",
    "\n",
    "Data kindly provided by Sam McKenzie and Daniel Fine English."
   ]
  },
  {
   "cell_type": "code",
   "execution_count": 45,
   "metadata": {},
   "outputs": [],
   "source": [
    "import numpy as np\n",
    "import quantities as pq\n",
    "import pandas as pd\n",
    "import neo\n",
    "import os\n",
    "from itertools import chain\n",
    "import matplotlib.pyplot as plt\n",
    "from matplotlib.gridspec import GridSpec, GridSpecFromSubplotSpec\n",
    "import scipy\n",
    "from method import IV\n",
    "from tools_analysis import correlogram\n",
    "import tools_experimentaldata as tls_exp\n",
    "from tools_plot import savefig, fix_figure, set_style, despine, add_caption"
   ]
  },
  {
   "cell_type": "code",
   "execution_count": 2,
   "metadata": {},
   "outputs": [],
   "source": [
    "# Load params\n",
    "from params_experimentaldata import *"
   ]
  },
  {
   "cell_type": "code",
   "execution_count": 34,
   "metadata": {},
   "outputs": [
    {
     "name": "stdout",
     "output_type": "stream",
     "text": [
      "The autoreload extension is already loaded. To reload it, use:\n",
      "  %reload_ext autoreload\n"
     ]
    }
   ],
   "source": [
    "%matplotlib inline\n",
    "%load_ext autoreload\n",
    "%autoreload 2"
   ]
  },
  {
   "cell_type": "markdown",
   "metadata": {},
   "source": [
    "# Load into data into neo structure. \n",
    "Download it when necessary.\n",
    "optoLabels.mat describes which files are optogenetically tagged (provided by Sam McKenzie).\n",
    "Make sure that it is in data dir.\n",
    "You may need to adjust data_dir in params_experimentaldata.py "
   ]
  },
  {
   "cell_type": "markdown",
   "metadata": {},
   "source": [
    "#### Create list of relevant files from optoLabels.mat\n"
   ]
  },
  {
   "cell_type": "code",
   "execution_count": 4,
   "metadata": {},
   "outputs": [],
   "source": [
    "units_db = tls_exp.load_unitlabels('optoLabels.mat', '')\n",
    "df_tmp = units_db.drop_duplicates(['animal', 'date'])\n",
    "relevant_data = df_tmp.groupby('animal')['date'].apply(list).to_dict()\n",
    "\n",
    "for animal_i in relevant_data.keys():\n",
    "    for date_i in relevant_data[animal_i]:\n",
    "        for entry in blk_blacklist:\n",
    "            if animal_i == entry['animal'] and date_i == entry['date']:\n",
    "                relevant_data[animal_i].remove(entry['date'])"
   ]
  },
  {
   "cell_type": "code",
   "execution_count": 5,
   "metadata": {},
   "outputs": [
    {
     "name": "stdout",
     "output_type": "stream",
     "text": [
      "{'camkii2': ['20160421'], 'camkii3': ['20160504', '20160509', '20160510', '20160511', '20160518', '20160621', '20160506'], 'camkii4': ['20160815', '20160817', '20160823', '20160824'], 'camkii5': ['20160930', '20161004', '20160921']}\n"
     ]
    }
   ],
   "source": [
    "print(relevant_data)"
   ]
  },
  {
   "cell_type": "code",
   "execution_count": 6,
   "metadata": {
    "scrolled": false
   },
   "outputs": [
    {
     "name": "stdout",
     "output_type": "stream",
     "text": [
      "/home/jovyan/work/instrumentalVariable/data/\n",
      "Finished downloading\n",
      "Neo structure created\n",
      "Stimulation data added\n"
     ]
    }
   ],
   "source": [
    "load_orig_files = True\n",
    "\n",
    "if load_orig_files:\n",
    "    tls_exp.download_files_by_dict(relevant_data,\n",
    "                                   data_dir,\n",
    "                                   n_shanks,\n",
    "                                   files_ext_general,\n",
    "                                   files_ext_by_shank,\n",
    "                                   link_db)\n",
    "\n",
    "    blks = tls_exp.create_neo_structure(relevant_data,\n",
    "                                        data_dir,\n",
    "                                        n_shanks,\n",
    "                                        sampling_rate,\n",
    "                                        unit_spiketime)\n",
    "\n",
    "    tls_exp.add_stimulation_data_to_blocks(blks)\n",
    "    tls_exp.annotate_units_from_db(units_db, blks)\n",
    "    for blk in blks:\n",
    "        animal = blk.annotations['animal']\n",
    "        date = blk.annotations['date']\n",
    "        if not os.path.exists(data_dir+ 'neo_files/'):\n",
    "            os.makedirs(data_dir + 'neo_files/')\n",
    "\n",
    "        nio = neo.io.PickleIO(data_dir + 'neo_files/' + animal + '_' + date + '.pckl')\n",
    "        nio.write_block(blk)\n",
    "\n",
    "else:\n",
    "    blks = []\n",
    "    for animal in relevant_data.keys():\n",
    "        for date in relevant_data[animal]:\n",
    "            nio = neo.io.PickleIO(data_dir + 'neo_files/' + animal + '_' + date + '.pckl')\n",
    "            blk = nio.read_block()\n",
    "            blks.append(blk)"
   ]
  },
  {
   "cell_type": "markdown",
   "metadata": {},
   "source": [
    "## Consider only sessions containing pulse like stimulations"
   ]
  },
  {
   "cell_type": "code",
   "execution_count": 7,
   "metadata": {},
   "outputs": [
    {
     "name": "stderr",
     "output_type": "stream",
     "text": [
      "/home/jovyan/work/instrumentalVariable/causal-optoconnectics/tools_experimentaldata.py:814: RuntimeWarning: invalid value encountered in greater_equal\n",
      "  sel.append(epc.annotations['intensity'] >= min_intens)\n"
     ]
    }
   ],
   "source": [
    "blks = tls_exp.select_blocks_upon_stimtype(blks,\n",
    "    stimtype='pulse', min_intens=1)"
   ]
  },
  {
   "cell_type": "markdown",
   "metadata": {},
   "source": [
    "## Determine which stimulations intensities have a significant effect  on units\n",
    "We a) group very similar stimulations intensities and b) test whether intensity group has a significant effect on increasing spiking probability of any of the given units by convolving stimulation onsets with spike train.\n",
    "We use the activity before a stimulation as baseline.\n"
   ]
  },
  {
   "cell_type": "code",
   "execution_count": 8,
   "metadata": {},
   "outputs": [],
   "source": [
    "blks = tls_exp.group_stimulations(blks,\n",
    "                                  sep_bins,\n",
    "                                  sep_kernel_width,\n",
    "                                  sep_threshold)"
   ]
  },
  {
   "cell_type": "code",
   "execution_count": 9,
   "metadata": {},
   "outputs": [
    {
     "name": "stderr",
     "output_type": "stream",
     "text": [
      "\r",
      "  0%|          | 0/53 [00:00<?, ?it/s]"
     ]
    },
    {
     "name": "stdout",
     "output_type": "stream",
     "text": [
      "camkii4 20160817\n",
      "Shank: 1\n",
      "Shank: 3\n",
      "camkii4 20160823\n",
      "Shank: 3\n",
      "Group: 0 of 5\n"
     ]
    },
    {
     "name": "stderr",
     "output_type": "stream",
     "text": [
      "100%|██████████| 53/53 [00:21<00:00,  2.47it/s]\n",
      "  0%|          | 0/53 [00:00<?, ?it/s]"
     ]
    },
    {
     "name": "stdout",
     "output_type": "stream",
     "text": [
      "Group: 1 of 5\n"
     ]
    },
    {
     "name": "stderr",
     "output_type": "stream",
     "text": [
      "100%|██████████| 53/53 [00:20<00:00,  2.53it/s]\n",
      "  0%|          | 0/53 [00:00<?, ?it/s]"
     ]
    },
    {
     "name": "stdout",
     "output_type": "stream",
     "text": [
      "Group: 2 of 5\n"
     ]
    },
    {
     "name": "stderr",
     "output_type": "stream",
     "text": [
      "100%|██████████| 53/53 [00:21<00:00,  2.47it/s]\n",
      "  0%|          | 0/53 [00:00<?, ?it/s]"
     ]
    },
    {
     "name": "stdout",
     "output_type": "stream",
     "text": [
      "Group: 3 of 5\n"
     ]
    },
    {
     "name": "stderr",
     "output_type": "stream",
     "text": [
      "100%|██████████| 53/53 [00:21<00:00,  2.49it/s]\n",
      "  0%|          | 0/53 [00:00<?, ?it/s]"
     ]
    },
    {
     "name": "stdout",
     "output_type": "stream",
     "text": [
      "Group: 4 of 5\n"
     ]
    },
    {
     "name": "stderr",
     "output_type": "stream",
     "text": [
      "100%|██████████| 53/53 [00:21<00:00,  2.45it/s]\n",
      "  0%|          | 0/53 [00:00<?, ?it/s]"
     ]
    },
    {
     "name": "stdout",
     "output_type": "stream",
     "text": [
      "Shank: 4\n",
      "Group: 0 of 5\n"
     ]
    },
    {
     "name": "stderr",
     "output_type": "stream",
     "text": [
      "100%|██████████| 53/53 [00:21<00:00,  2.50it/s]\n",
      "  0%|          | 0/53 [00:00<?, ?it/s]"
     ]
    },
    {
     "name": "stdout",
     "output_type": "stream",
     "text": [
      "Group: 1 of 5\n"
     ]
    },
    {
     "name": "stderr",
     "output_type": "stream",
     "text": [
      "100%|██████████| 53/53 [00:20<00:00,  2.53it/s]\n",
      "  0%|          | 0/53 [00:00<?, ?it/s]"
     ]
    },
    {
     "name": "stdout",
     "output_type": "stream",
     "text": [
      "Group: 2 of 5\n"
     ]
    },
    {
     "name": "stderr",
     "output_type": "stream",
     "text": [
      "100%|██████████| 53/53 [00:20<00:00,  2.55it/s]\n",
      "  0%|          | 0/53 [00:00<?, ?it/s]"
     ]
    },
    {
     "name": "stdout",
     "output_type": "stream",
     "text": [
      "Group: 3 of 5\n"
     ]
    },
    {
     "name": "stderr",
     "output_type": "stream",
     "text": [
      "100%|██████████| 53/53 [00:20<00:00,  2.54it/s]\n",
      "  0%|          | 0/53 [00:00<?, ?it/s]"
     ]
    },
    {
     "name": "stdout",
     "output_type": "stream",
     "text": [
      "Group: 4 of 5\n"
     ]
    },
    {
     "name": "stderr",
     "output_type": "stream",
     "text": [
      "100%|██████████| 53/53 [00:20<00:00,  2.55it/s]\n",
      "  0%|          | 0/51 [00:00<?, ?it/s]"
     ]
    },
    {
     "name": "stdout",
     "output_type": "stream",
     "text": [
      "camkii4 20160824\n",
      "Shank: 1\n",
      "Shank: 2\n",
      "Shank: 4\n",
      "Group: 0 of 7\n"
     ]
    },
    {
     "name": "stderr",
     "output_type": "stream",
     "text": [
      "100%|██████████| 51/51 [00:10<00:00,  1.97it/s]\n",
      "  0%|          | 0/51 [00:00<?, ?it/s]"
     ]
    },
    {
     "name": "stdout",
     "output_type": "stream",
     "text": [
      "Group: 1 of 7\n"
     ]
    },
    {
     "name": "stderr",
     "output_type": "stream",
     "text": [
      "100%|██████████| 51/51 [00:09<00:00,  1.98it/s]\n",
      "  0%|          | 0/51 [00:00<?, ?it/s]"
     ]
    },
    {
     "name": "stdout",
     "output_type": "stream",
     "text": [
      "Group: 2 of 7\n"
     ]
    },
    {
     "name": "stderr",
     "output_type": "stream",
     "text": [
      "100%|██████████| 51/51 [00:09<00:00,  2.06it/s]\n",
      "  0%|          | 0/51 [00:00<?, ?it/s]"
     ]
    },
    {
     "name": "stdout",
     "output_type": "stream",
     "text": [
      "Group: 3 of 7\n"
     ]
    },
    {
     "name": "stderr",
     "output_type": "stream",
     "text": [
      "100%|██████████| 51/51 [00:09<00:00,  2.01it/s]\n",
      "  0%|          | 0/51 [00:00<?, ?it/s]"
     ]
    },
    {
     "name": "stdout",
     "output_type": "stream",
     "text": [
      "Group: 4 of 7\n"
     ]
    },
    {
     "name": "stderr",
     "output_type": "stream",
     "text": [
      "100%|██████████| 51/51 [00:09<00:00,  2.01it/s]\n",
      "  0%|          | 0/51 [00:00<?, ?it/s]"
     ]
    },
    {
     "name": "stdout",
     "output_type": "stream",
     "text": [
      "Group: 5 of 7\n"
     ]
    },
    {
     "name": "stderr",
     "output_type": "stream",
     "text": [
      "100%|██████████| 51/51 [00:09<00:00,  1.98it/s]\n",
      "  0%|          | 0/51 [00:00<?, ?it/s]"
     ]
    },
    {
     "name": "stdout",
     "output_type": "stream",
     "text": [
      "Group: 6 of 7\n"
     ]
    },
    {
     "name": "stderr",
     "output_type": "stream",
     "text": [
      "100%|██████████| 51/51 [00:10<00:00,  1.87it/s]\n",
      "  0%|          | 0/40 [00:00<?, ?it/s]"
     ]
    },
    {
     "name": "stdout",
     "output_type": "stream",
     "text": [
      "camkii5 20160930\n",
      "Shank: 1\n",
      "Group: 0 of 1\n"
     ]
    },
    {
     "name": "stderr",
     "output_type": "stream",
     "text": [
      "100%|██████████| 40/40 [00:00<00:00, 46.99it/s]\n",
      "  0%|          | 0/40 [00:00<?, ?it/s]"
     ]
    },
    {
     "name": "stdout",
     "output_type": "stream",
     "text": [
      "Shank: 2\n",
      "Group: 0 of 1\n"
     ]
    },
    {
     "name": "stderr",
     "output_type": "stream",
     "text": [
      "100%|██████████| 40/40 [00:00<00:00, 51.92it/s]\n",
      "  0%|          | 0/25 [00:00<?, ?it/s]"
     ]
    },
    {
     "name": "stdout",
     "output_type": "stream",
     "text": [
      "camkii5 20161004\n",
      "Shank: 1\n",
      "Group: 0 of 6\n"
     ]
    },
    {
     "name": "stderr",
     "output_type": "stream",
     "text": [
      "100%|██████████| 25/25 [00:00<00:00, 25.04it/s]\n",
      "  0%|          | 0/25 [00:00<?, ?it/s]"
     ]
    },
    {
     "name": "stdout",
     "output_type": "stream",
     "text": [
      "Group: 1 of 6\n"
     ]
    },
    {
     "name": "stderr",
     "output_type": "stream",
     "text": [
      "100%|██████████| 25/25 [00:01<00:00, 24.50it/s]\n",
      "  0%|          | 0/25 [00:00<?, ?it/s]"
     ]
    },
    {
     "name": "stdout",
     "output_type": "stream",
     "text": [
      "Group: 2 of 6\n"
     ]
    },
    {
     "name": "stderr",
     "output_type": "stream",
     "text": [
      "100%|██████████| 25/25 [00:01<00:00, 24.08it/s]\n",
      "  0%|          | 0/25 [00:00<?, ?it/s]"
     ]
    },
    {
     "name": "stdout",
     "output_type": "stream",
     "text": [
      "Group: 3 of 6\n"
     ]
    },
    {
     "name": "stderr",
     "output_type": "stream",
     "text": [
      "100%|██████████| 25/25 [00:01<00:00, 24.48it/s]\n",
      "  0%|          | 0/25 [00:00<?, ?it/s]"
     ]
    },
    {
     "name": "stdout",
     "output_type": "stream",
     "text": [
      "Group: 4 of 6\n"
     ]
    },
    {
     "name": "stderr",
     "output_type": "stream",
     "text": [
      "100%|██████████| 25/25 [00:01<00:00, 22.31it/s]\n",
      "  0%|          | 0/25 [00:00<?, ?it/s]"
     ]
    },
    {
     "name": "stdout",
     "output_type": "stream",
     "text": [
      "Group: 5 of 6\n"
     ]
    },
    {
     "name": "stderr",
     "output_type": "stream",
     "text": [
      "100%|██████████| 25/25 [00:00<00:00, 26.36it/s]\n",
      "  0%|          | 0/25 [00:00<?, ?it/s]"
     ]
    },
    {
     "name": "stdout",
     "output_type": "stream",
     "text": [
      "Shank: 2\n",
      "Group: 0 of 5\n"
     ]
    },
    {
     "name": "stderr",
     "output_type": "stream",
     "text": [
      "100%|██████████| 25/25 [00:01<00:00, 21.66it/s]\n",
      "  0%|          | 0/25 [00:00<?, ?it/s]"
     ]
    },
    {
     "name": "stdout",
     "output_type": "stream",
     "text": [
      "Group: 1 of 5\n"
     ]
    },
    {
     "name": "stderr",
     "output_type": "stream",
     "text": [
      "100%|██████████| 25/25 [00:01<00:00, 23.15it/s]\n",
      "  0%|          | 0/25 [00:00<?, ?it/s]"
     ]
    },
    {
     "name": "stdout",
     "output_type": "stream",
     "text": [
      "Group: 2 of 5\n"
     ]
    },
    {
     "name": "stderr",
     "output_type": "stream",
     "text": [
      "100%|██████████| 25/25 [00:01<00:00, 22.76it/s]\n",
      "  0%|          | 0/25 [00:00<?, ?it/s]"
     ]
    },
    {
     "name": "stdout",
     "output_type": "stream",
     "text": [
      "Group: 3 of 5\n"
     ]
    },
    {
     "name": "stderr",
     "output_type": "stream",
     "text": [
      "100%|██████████| 25/25 [00:01<00:00, 24.31it/s]\n",
      "  0%|          | 0/25 [00:00<?, ?it/s]"
     ]
    },
    {
     "name": "stdout",
     "output_type": "stream",
     "text": [
      "Group: 4 of 5\n"
     ]
    },
    {
     "name": "stderr",
     "output_type": "stream",
     "text": [
      "100%|██████████| 25/25 [00:01<00:00, 24.50it/s]\n",
      "100%|██████████| 16/16 [00:00<00:00, 44237.88it/s]\n",
      "100%|██████████| 16/16 [00:00<00:00, 21090.15it/s]\n",
      "100%|██████████| 16/16 [00:00<00:00, 37262.00it/s]\n",
      "100%|██████████| 16/16 [00:00<00:00, 27346.73it/s]\n",
      "100%|██████████| 16/16 [00:00<00:00, 42393.47it/s]"
     ]
    },
    {
     "name": "stdout",
     "output_type": "stream",
     "text": [
      "camkii5 20160921\n",
      "Shank: 4\n",
      "Group: 0 of 5\n",
      "Group: 1 of 5\n",
      "Group: 2 of 5\n",
      "Group: 3 of 5\n",
      "Group: 4 of 5\n"
     ]
    },
    {
     "name": "stderr",
     "output_type": "stream",
     "text": [
      "\n"
     ]
    }
   ],
   "source": [
    "df_stim = tls_exp.find_significant_stimulations(blks,\n",
    "   stimccg_binsize,\n",
    "   stimccg_limit,\n",
    "   stimccg_pthres,\n",
    "   condition_annot_unit={'tagged': True})"
   ]
  },
  {
   "cell_type": "markdown",
   "metadata": {},
   "source": [
    "### Example plot of  stimulation response"
   ]
  },
  {
   "cell_type": "code",
   "execution_count": 10,
   "metadata": {},
   "outputs": [
    {
     "data": {
      "image/png": "[encoded data removed]",
      "text/plain": [
       "<Figure size 432x288 with 2 Axes>"
      ]
     },
     "metadata": {},
     "output_type": "display_data"
    }
   ],
   "source": [
    "fig, ax = plt.subplots(1)\n",
    "row_sel = 2\n",
    "ln0 = ax.plot(df_stim.loc[row_sel]['bins'],\n",
    "        df_stim.loc[row_sel]['cch'],\n",
    "       label='count')\n",
    "ln1 = ax.axhline(df_stim.loc[row_sel]['rate_baseline'],\n",
    "           label='baseline',\n",
    "          linestyle='--')\n",
    "ax.set_xlabel(r'$\\Delta t$')\n",
    "ax.set_ylabel(r'count')\n",
    "ax2 = ax.twinx()\n",
    "ln2 = ax2.plot(df_stim.loc[row_sel]['bins'],\n",
    "         df_stim.loc[row_sel]['pfast'], c='r',\n",
    "        label='prob')\n",
    "ln3 = ax2.axhline(stimccg_pthres, c='r', linestyle='--',alpha=0.5, label='sign. level')\n",
    "ax2.set_ylabel(r'prob')\n",
    "\n",
    "ax2.set_ylim(0, 0.1)\n",
    "ax.set_xlim(-50., 50.)\n",
    "ax2.set_xlim(-50., 50.)\n",
    "\n",
    "ln = ln0+[ln1]+ln2+[ln3]\n",
    "labs = [l.get_label() for l in ln]\n",
    "ax.legend(ln, labs, loc=0)\n",
    "ax.set_title('Example CCH between stimulus onset and spikes')\n",
    "plt.show()"
   ]
  },
  {
   "cell_type": "markdown",
   "metadata": {},
   "source": [
    "## Overview of stimulation intensities\n",
    "For each unit, we show the strongest available stimulation."
   ]
  },
  {
   "cell_type": "code",
   "execution_count": 11,
   "metadata": {},
   "outputs": [],
   "source": [
    "group_obj = df_stim.groupby(['animal', 'date', 'shank_unit', 'cluster', 'shank_stim'])\n",
    "idxmax = group_obj['intens_mean'].idxmax()\n",
    "idxmin = group_obj['intens_mean'].idxmin()"
   ]
  },
  {
   "cell_type": "code",
   "execution_count": 12,
   "metadata": {},
   "outputs": [
    {
     "data": {
      "text/plain": [
       "animal   date      shank_unit  cluster  shank_stim\n",
       "camkii4  20160823  3.0         3.0      3.0           2203.590048\n",
       "                                        4.0           2165.124239\n",
       "                               4.0      3.0           2203.590048\n",
       "                                        4.0           2165.124239\n",
       "                               5.0      3.0           2203.590048\n",
       "                                        4.0           2165.124239\n",
       "                               7.0      3.0           2203.590048\n",
       "                                        4.0           2165.124239\n",
       "                               10.0     3.0           2203.590048\n",
       "                                        4.0           2165.124239\n",
       "                               13.0     3.0           2203.590048\n",
       "                                        4.0           2165.124239\n",
       "                               14.0     3.0           2203.590048\n",
       "                                        4.0           2165.124239\n",
       "                               15.0     3.0           2203.590048\n",
       "                                        4.0           2165.124239\n",
       "                               17.0     3.0           2203.590048\n",
       "                                        4.0           2165.124239\n",
       "                               18.0     3.0           2203.590048\n",
       "                                        4.0           2165.124239\n",
       "                               21.0     3.0           2203.590048\n",
       "                                        4.0           2165.124239\n",
       "                               22.0     3.0           2203.590048\n",
       "                                        4.0           2165.124239\n",
       "                               24.0     3.0           2203.590048\n",
       "                                        4.0           2165.124239\n",
       "                               28.0     3.0           2203.590048\n",
       "                                        4.0           2165.124239\n",
       "                               29.0     3.0           2203.590048\n",
       "                                        4.0           2165.124239\n",
       "                                                         ...     \n",
       "                   4.0         13.0     3.0           2203.590048\n",
       "                                        4.0           2165.124239\n",
       "         20160824  4.0         2.0      4.0           2333.197080\n",
       "                               6.0      4.0           2333.197080\n",
       "                               7.0      4.0           2333.197080\n",
       "                               8.0      4.0           2333.197080\n",
       "                               11.0     4.0           2333.197080\n",
       "                               12.0     4.0           2333.197080\n",
       "                               13.0     4.0           2333.197080\n",
       "                               14.0     4.0           2333.197080\n",
       "                               16.0     4.0           2333.197080\n",
       "                               17.0     4.0           2333.197080\n",
       "                               18.0     4.0           2333.197080\n",
       "                               19.0     4.0           2333.197080\n",
       "                               26.0     4.0           2333.197080\n",
       "                               28.0     4.0           2333.197080\n",
       "camkii5  20160930  1.0         2.0      1.0           3403.162409\n",
       "                                        2.0           1605.092703\n",
       "                               11.0     1.0           3403.162409\n",
       "                                        2.0           1605.092703\n",
       "                   2.0         18.0     1.0           3403.162409\n",
       "                                        2.0           1605.092703\n",
       "         20161004  1.0         8.0      1.0           6185.859513\n",
       "                                        2.0           1984.824865\n",
       "                               11.0     1.0           6185.859513\n",
       "                                        2.0           1984.824865\n",
       "                               12.0     1.0           6185.859513\n",
       "                                        2.0           1984.824865\n",
       "                   2.0         4.0      1.0           6185.859513\n",
       "                                        2.0           1984.824865\n",
       "Name: intens_mean, Length: 78, dtype: float64"
      ]
     },
     "execution_count": 12,
     "metadata": {},
     "output_type": "execute_result"
    }
   ],
   "source": [
    "group_obj['intens_mean'].max()"
   ]
  },
  {
   "cell_type": "markdown",
   "metadata": {},
   "source": [
    "## Response time by stimulation intensity\n",
    "We visualize the time it takes for units to show a significant increase in spiking probability for maximal stimulation intensities on same shank vs other shanks.\n",
    "The last bin, $\\Delta t = 25$ ms, includes also larger times"
   ]
  },
  {
   "cell_type": "code",
   "execution_count": 13,
   "metadata": {},
   "outputs": [],
   "source": [
    "t_max_same = []\n",
    "t_max_diff = []\n",
    "intens_max_same =[]\n",
    "intens_max_diff =[]\n",
    "for i in idxmax:\n",
    "    if df_stim.loc[i]['shank_stim'] == df_stim.loc[i]['shank_unit']:\n",
    "        t_max_same.append(df_stim.loc[i]['first_bin_sig'])\n",
    "        intens_max_same.append(df_stim.loc[i]['intens_mean'])\n",
    "    if df_stim.loc[i]['shank_stim'] != df_stim.loc[i]['shank_unit']:\n",
    "        t_max_diff.append(df_stim.loc[i]['first_bin_sig'])\n",
    "        intens_max_diff.append(df_stim.loc[i]['intens_mean'])\n",
    "t_max_same = np.array(t_max_same)\n",
    "t_max_diff = np.array(t_max_diff)"
   ]
  },
  {
   "cell_type": "code",
   "execution_count": 14,
   "metadata": {},
   "outputs": [],
   "source": [
    "t_min_same = []\n",
    "t_min_diff = []\n",
    "intens_min_same =[]\n",
    "intens_min_diff =[]\n",
    "for i in idxmin:\n",
    "    if df_stim.loc[i]['shank_stim'] == df_stim.loc[i]['shank_unit']:\n",
    "        t_min_same.append(df_stim.loc[i]['first_bin_sig'])\n",
    "        intens_min_same.append(df_stim.loc[i]['intens_mean'])\n",
    "    if df_stim.loc[i]['shank_stim'] != df_stim.loc[i]['shank_unit']:\n",
    "        t_min_diff.append(df_stim.loc[i]['first_bin_sig'])\n",
    "        intens_min_diff.append(df_stim.loc[i]['intens_mean'])\n",
    "t_min_same = np.array(t_min_same)\n",
    "t_min_diff = np.array(t_min_diff)"
   ]
  },
  {
   "cell_type": "code",
   "execution_count": 15,
   "metadata": {},
   "outputs": [
    {
     "data": {
      "image/png": "[encoded data removed]",
      "text/plain": [
       "<Figure size 432x216 with 1 Axes>"
      ]
     },
     "metadata": {},
     "output_type": "display_data"
    }
   ],
   "source": [
    "fig, ax = plt.subplots(1,1, figsize=(6,3))\n",
    "bins = np.arange(1.5, 31.5, 3)\n",
    "hist, bins = np.histogram(t_max_same, bins)\n",
    "hist = hist / len(t_max_same)\n",
    "ax.bar(bins[:-1], hist)\n",
    "despine(ax)\n",
    "ax.set_title('Time to significant response upon stimulation with maximal intensity on same shank')\n",
    "ax.set_xlabel(r'$\\Delta t$ stimulation onset [ms]')\n",
    "ax.set_ylabel('Fraction of units')\n",
    "plt.show()"
   ]
  },
  {
   "cell_type": "code",
   "execution_count": 16,
   "metadata": {},
   "outputs": [
    {
     "data": {
      "image/png": "[encoded data removed]",
      "text/plain": [
       "<Figure size 432x216 with 1 Axes>"
      ]
     },
     "metadata": {},
     "output_type": "display_data"
    }
   ],
   "source": [
    "fig, ax = plt.subplots(1,1, figsize=(6,3))\n",
    "bins = np.arange(1.5, 31.5, 3)\n",
    "hist, bins = np.histogram(t_min_diff, bins)\n",
    "hist = hist / len(t_min_diff)\n",
    "ax.bar(bins[:-1], hist)\n",
    "despine(ax)\n",
    "ax.set_title('Time to significant response upon stimulation with minimal intensity on different shank')\n",
    "ax.set_xlabel(r'$\\Delta t$ stimulation onset [ms]')\n",
    "ax.set_ylabel('Fraction of units')\n",
    "plt.show()"
   ]
  },
  {
   "cell_type": "markdown",
   "metadata": {},
   "source": [
    "#### Observation\n",
    "Stimulation on a different shank leads only in very few cases to a significant reaction in a reasonable time frame."
   ]
  },
  {
   "cell_type": "markdown",
   "metadata": {},
   "source": [
    "## Calculate IV\n",
    "We calculate the wald estimate for those stimulations that show a significant response within the IV window."
   ]
  },
  {
   "cell_type": "code",
   "execution_count": 17,
   "metadata": {},
   "outputs": [],
   "source": [
    "windw = iv_window.rescale(df_stim['first_bin_sig'].values[0].units).magnitude[np.newaxis][0]\n",
    "df_sigstim = df_stim[df_stim['first_bin_sig'] <= windw]"
   ]
  },
  {
   "cell_type": "code",
   "execution_count": 18,
   "metadata": {},
   "outputs": [
    {
     "name": "stderr",
     "output_type": "stream",
     "text": [
      "/opt/conda/lib/python3.6/site-packages/ipykernel_launcher.py:1: SettingWithCopyWarning: \n",
      "A value is trying to be set on a copy of a slice from a DataFrame.\n",
      "Try using .loc[row_indexer,col_indexer] = value instead\n",
      "\n",
      "See the caveats in the documentation: http://pandas.pydata.org/pandas-docs/stable/indexing.html#indexing-view-versus-copy\n",
      "  \"\"\"Entry point for launching an IPython kernel.\n"
     ]
    }
   ],
   "source": [
    "df_sigstim['intens_mean'] = df_sigstim['intens_mean'].astype(int)\n",
    "group_sigstim = df_sigstim.groupby(['animal', 'date', 'shank_unit', 'cluster', 'shank_stim'])\n"
   ]
  },
  {
   "cell_type": "code",
   "execution_count": 19,
   "metadata": {},
   "outputs": [
    {
     "name": "stdout",
     "output_type": "stream",
     "text": [
      "camkii4: 20160817\n",
      "camkii4: 20160823\n",
      "camkii4: 20160824\n",
      "camkii5: 20160930\n",
      "camkii5: 20161004\n",
      "camkii5: 20160921\n"
     ]
    }
   ],
   "source": [
    "calc_cch_iv = True\n",
    "if not calc_cch_iv:\n",
    "    df_cch = pd.read_pickle('results/df_cch.pckl')\n",
    "if calc_cch_iv:\n",
    "    df_iv = tls_exp.calculate_iv(\n",
    "        blks,\n",
    "        df_sigstim,\n",
    "        iv_min_n_stim,\n",
    "        iv_window,\n",
    "        iv_ltnc,\n",
    "        condition_annot_pre={'tagged': True},\n",
    "        condition_annot_post={'tagged': False})"
   ]
  },
  {
   "cell_type": "markdown",
   "metadata": {},
   "source": [
    "### Calculate CCH estimate\n",
    "We calculate the so called transmission probability, the CCH estimate of synaptic coupling."
   ]
  },
  {
   "cell_type": "code",
   "execution_count": 20,
   "metadata": {},
   "outputs": [
    {
     "name": "stdout",
     "output_type": "stream",
     "text": [
      "camkii4: 20160817\n",
      "camkii4: 20160823\n",
      "camkii4: 20160824\n",
      "camkii5: 20160930\n",
      "camkii5: 20161004\n",
      "camkii5: 20160921\n"
     ]
    }
   ],
   "source": [
    "if calc_cch_iv:\n",
    "    df_cch_all = tls_exp.calculate_transmission_prob(\n",
    "        blks,\n",
    "        ccg_time_limit,\n",
    "        ccg_binsize,\n",
    "        ccg_hollow_fraction,\n",
    "        ccg_width,\n",
    "        ccg_sig_level_causal,\n",
    "        ccg_sig_level_fast,\n",
    "        ccg_peak_wndw,\n",
    "        condition_annot_pre={'tagged': True},\n",
    "        condition_annot_post={'tagged': False})\n",
    "    df_cch_all.rename(columns={'transprob': 'transproball',\n",
    "                                'bool_cnnctd': 'boolcnnctdall'}, inplace=True)\n",
    "    df_cch = pd.merge(df_iv, df_cch_all,\n",
    "    on=['animal','date',\n",
    "        'shank_pre', 'cluster_pre',\n",
    "       'shank_post','cluster_post'])\n",
    "    df_cch.to_pickle('results/df_cch.pckl')"
   ]
  },
  {
   "cell_type": "code",
   "execution_count": 21,
   "metadata": {},
   "outputs": [
    {
     "data": {
      "image/png": "[encoded data removed]",
      "text/plain": [
       "<Figure size 360x360 with 1 Axes>"
      ]
     },
     "metadata": {},
     "output_type": "display_data"
    }
   ],
   "source": [
    "fig, ax = plt.subplots(1, figsize=(5,5))\n",
    "\n",
    "#ax.set(xscale=\"log\", yscale=\"log\")\n",
    "\n",
    "ax.scatter(df_cch.loc[df_cch['boolcnnctdall']==True]['transproball'],\n",
    "           df_cch.loc[df_cch['boolcnnctdall']==True]['ivwald'],\n",
    "          c='b',\n",
    "          alpha=0.4)\n",
    "#ax.scatter(df_cch['transproball'],\n",
    "#           df_cch['ivwald'],\n",
    "#          c='r',\n",
    "#          alpha=0.1)\n",
    "ax.set_xlabel(r'CCH')\n",
    "ax.set_ylabel(r'IV')\n",
    "ax.set_xlim([-0.0001, 0.011])\n",
    "#ax.set_ylim([-0.03, 0.125])\n",
    "despine(ax)\n",
    "ax.set_title('Comparison IV and CCH on all spikes')\n",
    "plt.show()\n",
    "fig.tight_layout(rect=[0, 0.00, 1, 1])\n",
    "#fig.savefig('manuscript/Optodata_comparisonIV_CCH.svg')\n"
   ]
  },
  {
   "cell_type": "markdown",
   "metadata": {},
   "source": [
    "### Number of units used for analysis "
   ]
  },
  {
   "cell_type": "code",
   "execution_count": 22,
   "metadata": {},
   "outputs": [
    {
     "name": "stdout",
     "output_type": "stream",
     "text": [
      "Number of presynaptic units (cluster_pre) by animal, date and shank\n",
      "                            animal  date  shank_pre  cluster_pre\n",
      "animal  date     shank_pre                                      \n",
      "camkii4 20160823 3               1     1          1            1\n",
      "                 4               1     1          1            1\n",
      "        20160824 4               1     1          1           14\n",
      "camkii5 20161004 2               1     1          1            1\n"
     ]
    }
   ],
   "source": [
    "group_df_pre = df_cch[\n",
    "    ['animal', 'date', 'shank_pre', 'cluster_pre']\n",
    "].groupby(['animal', 'date', 'shank_pre']).nunique()\n",
    "print('Number of presynaptic units (cluster_pre) by animal, date and shank')\n",
    "print(group_df_pre)"
   ]
  },
  {
   "cell_type": "code",
   "execution_count": 23,
   "metadata": {},
   "outputs": [
    {
     "name": "stdout",
     "output_type": "stream",
     "text": [
      "Number of postsynaptic units (cluster_post) by animal, date and shank\n",
      "                             animal  date  shank_post  cluster_post\n",
      "animal  date     shank_post                                        \n",
      "camkii4 20160823 1                1     1           1             3\n",
      "                 2                1     1           1             5\n",
      "                 3                1     1           1            15\n",
      "                 4                1     1           1             5\n",
      "        20160824 1                1     1           1             2\n",
      "                 2                1     1           1             5\n",
      "                 3                1     1           1            26\n",
      "                 4                1     1           1             4\n",
      "camkii5 20161004 1                1     1           1            11\n",
      "                 2                1     1           1             9\n",
      "                 3                1     1           1             1\n"
     ]
    }
   ],
   "source": [
    "group_df_post = df_cch[\n",
    "    ['animal', 'date', 'shank_post', 'cluster_post']\n",
    "].groupby(\n",
    "    ['animal', 'date', 'shank_post']).nunique()\n",
    "print('Number of postsynaptic units (cluster_post) by animal, date and shank')\n",
    "print(group_df_post)"
   ]
  },
  {
   "cell_type": "markdown",
   "metadata": {},
   "source": [
    "### Intensities that satisfied criterium"
   ]
  },
  {
   "cell_type": "code",
   "execution_count": 24,
   "metadata": {},
   "outputs": [
    {
     "data": {
      "text/plain": [
       "animal   date      shank_unit  cluster  shank_stim\n",
       "camkii4  20160823  3.0         15.0     4.0                                         [2063]\n",
       "                               18.0     3.0                                         [2203]\n",
       "                               21.0     3.0                                         [2062]\n",
       "                               22.0     3.0                                         [2203]\n",
       "                               28.0     3.0                                   [1775, 1922]\n",
       "                   4.0         6.0      3.0                                         [1775]\n",
       "                                        4.0                                         [2165]\n",
       "                               10.0     4.0                                         [1784]\n",
       "                               11.0     4.0                                         [1895]\n",
       "         20160824  4.0         2.0      4.0           [2048, 2084, 2124, 2188, 2266, 2333]\n",
       "                               6.0      4.0           [2048, 2084, 2124, 2188, 2266, 2333]\n",
       "                               7.0      4.0                 [2084, 2124, 2188, 2266, 2333]\n",
       "                               8.0      4.0           [2048, 2084, 2124, 2188, 2266, 2333]\n",
       "                               11.0     4.0                 [2048, 2124, 2188, 2266, 2333]\n",
       "                               12.0     4.0           [2048, 2084, 2124, 2188, 2266, 2333]\n",
       "                               13.0     4.0           [2048, 2084, 2124, 2188, 2266, 2333]\n",
       "                               14.0     4.0                        [769, 2048, 2188, 2266]\n",
       "                               16.0     4.0                       [2048, 2124, 2188, 2333]\n",
       "                               17.0     4.0                 [2048, 2124, 2188, 2266, 2333]\n",
       "                               18.0     4.0           [2048, 2084, 2124, 2188, 2266, 2333]\n",
       "                               19.0     4.0           [2048, 2084, 2124, 2188, 2266, 2333]\n",
       "                               26.0     4.0           [2048, 2084, 2124, 2188, 2266, 2333]\n",
       "                               28.0     4.0           [2048, 2084, 2124, 2188, 2266, 2333]\n",
       "camkii5  20160930  1.0         2.0      1.0                                         [3403]\n",
       "                                        2.0                                         [1605]\n",
       "                               11.0     1.0                                         [3403]\n",
       "                                        2.0                                         [1605]\n",
       "                   2.0         18.0     1.0                                         [3403]\n",
       "                                        2.0                                         [1605]\n",
       "         20161004  1.0         8.0      1.0                             [3108, 3267, 3418]\n",
       "                                        2.0                                         [1675]\n",
       "                               11.0     1.0                       [2953, 3108, 3267, 3418]\n",
       "                                        2.0                                         [1675]\n",
       "                               12.0     1.0                             [2796, 3267, 3418]\n",
       "                   2.0         4.0      1.0                       [3108, 3267, 3418, 6185]\n",
       "                                        2.0                 [1572, 1675, 1782, 1882, 1984]\n",
       "Name: intens_mean, dtype: object"
      ]
     },
     "execution_count": 24,
     "metadata": {},
     "output_type": "execute_result"
    }
   ],
   "source": [
    "#with open('session_expdata.tex','w') as tf:\n",
    "#    tf.write(group_sigstim['intens_mean'].unique().to_latex())\n",
    "group_sigstim['intens_mean'].unique()"
   ]
  },
  {
   "cell_type": "markdown",
   "metadata": {},
   "source": [
    "### Autocorrelation of presynaptic units\n",
    "Because of slow stimulation onset we used a relatively long iv window.\n",
    "We want to see how this compares to the refractory period of pyramidal cells."
   ]
  },
  {
   "cell_type": "code",
   "execution_count": 25,
   "metadata": {},
   "outputs": [],
   "source": [
    "autocorr_dict = {}\n",
    "units_pre = df_cch.loc[df_cch['boolcnnctdall']==True].groupby(\n",
    "    ['animal', 'date', 'shank_pre', 'cluster_pre']\n",
    ").apply(list).to_dict()\n",
    "for animal, date, shank_pre, cluster_pre in units_pre.keys():\n",
    "    for blk in blks:\n",
    "        units = blk.channel_indexes[0].children\n",
    "        if blk.annotations['date'] == date and blk.annotations['animal'] == animal:\n",
    "            unit_i = [unit for unit in units if\n",
    "                      unit.annotations['shank'] == shank_pre and\n",
    "                      unit.annotations['cluster'] == cluster_pre][0]\n",
    "            spktr=unit_i.spiketrains[0]\n",
    "            cnt, bins_autocorr = correlogram(\n",
    "                spktr, auto=True,\n",
    "                limit=autocorr_limit,\n",
    "                binsize=autocorr_binsize,\n",
    "                density=True)\n",
    "            autocorr_dict[animal + '_' + date + '_' \n",
    "                          +str(shank_pre) +'_'+ str(cluster_pre)] = cnt"
   ]
  },
  {
   "cell_type": "code",
   "execution_count": 26,
   "metadata": {},
   "outputs": [],
   "source": [
    "autocorr = np.array(list(chain(autocorr_dict.values())))"
   ]
  },
  {
   "cell_type": "code",
   "execution_count": 27,
   "metadata": {},
   "outputs": [
    {
     "data": {
      "image/png": "[encoded data removed]",
      "text/plain": [
       "<Figure size 432x288 with 1 Axes>"
      ]
     },
     "metadata": {},
     "output_type": "display_data"
    }
   ],
   "source": [
    "fig, ax = plt.subplots(1)\n",
    "autocorr_mean = np.mean(autocorr, axis=0)\n",
    "autocorr_std = np.std(autocorr, axis=0)\n",
    "\n",
    "ax.plot(bins_autocorr, autocorr_mean)\n",
    "ax.plot(bins_autocorr, autocorr_mean+autocorr_std, alpha=0.1)\n",
    "ax.plot(bins_autocorr, autocorr_mean-autocorr_std, alpha=0.1)\n",
    "\n",
    "ax.set_ylabel(r'Mean of normalized counts')\n",
    "ax.set_xlabel(r'Offset')\n",
    "despine(ax)\n",
    "savefig(fig, fname='Optodata_autocorrelation.svg')"
   ]
  },
  {
   "cell_type": "markdown",
   "metadata": {},
   "source": [
    "### Observation\n",
    "The average of the scaled autocorrelogram indicates a refractory period of around $4$ ms."
   ]
  },
  {
   "cell_type": "markdown",
   "metadata": {},
   "source": [
    "## Bootstrapping\n",
    "To test the uncertainty of each IV and CCH estimate, we perform bootstrapping with a sample size of $1000$\n",
    "\n",
    "#### CCH\n",
    "We use the additive property of the cross correlation function.\n",
    "We calculate the CCH on chunks of spike trains.\n",
    "We then randomly pick chunks with replacement, add them up and perform CCH estimation.\n"
   ]
  },
  {
   "cell_type": "code",
   "execution_count": 30,
   "metadata": {},
   "outputs": [],
   "source": [
    "# Consider only significant connections\n",
    "# for bootstrapping\n",
    "conns_sel = list(\n",
    "    df_cch.loc[df_cch['boolcnnctdall']==True].groupby(\n",
    "    ['animal', 'date', 'shank_pre', 'cluster_pre', 'shank_post', 'cluster_post']\n",
    "    ).apply(list).to_dict())"
   ]
  },
  {
   "cell_type": "code",
   "execution_count": 40,
   "metadata": {
    "scrolled": true
   },
   "outputs": [
    {
     "name": "stderr",
     "output_type": "stream",
     "text": [
      "\n",
      "\n",
      "  0%|          | 0/29 [00:00<?, ?it/s]\u001b[A\u001b[A\n",
      "\n",
      "  3%|▎         | 1/29 [01:49<50:54, 109.09s/it]\u001b[A\u001b[A\n",
      "\n",
      "  7%|▋         | 2/29 [03:55<51:29, 114.42s/it]\u001b[A\u001b[A\n",
      "\n",
      " 10%|█         | 3/29 [06:34<55:19, 127.67s/it]\u001b[A\u001b[A\n",
      "\n",
      " 14%|█▍        | 4/29 [11:13<1:12:03, 172.95s/it]\u001b[A\u001b[A\n",
      "\n",
      " 17%|█▋        | 5/29 [17:21<1:32:41, 231.72s/it]\u001b[A\u001b[A\n",
      "\n",
      " 21%|██        | 6/29 [35:51<3:09:47, 495.10s/it]\u001b[A\u001b[A\n",
      "\n",
      " 24%|██▍       | 7/29 [49:14<3:35:24, 587.49s/it]\u001b[A\u001b[A\n",
      "\n",
      " 28%|██▊       | 8/29 [54:31<2:57:09, 506.18s/it]\u001b[A\u001b[A\n",
      "\n",
      " 31%|███       | 9/29 [56:56<2:12:40, 398.00s/it]\u001b[A\u001b[A\n",
      "\n",
      " 34%|███▍      | 10/29 [1:05:06<2:14:44, 425.48s/it]\u001b[A\u001b[A\n",
      "\n",
      " 38%|███▊      | 11/29 [1:06:35<1:37:21, 324.51s/it]\u001b[A\u001b[A\n",
      "\n",
      " 41%|████▏     | 12/29 [1:12:27<1:34:15, 332.68s/it]\u001b[A\u001b[A\n",
      "\n",
      " 45%|████▍     | 13/29 [1:14:05<1:09:58, 262.38s/it]\u001b[A\u001b[A\n",
      "\n",
      " 48%|████▊     | 14/29 [1:18:01<1:03:36, 254.40s/it]\u001b[A\u001b[A\n",
      "\n",
      " 52%|█████▏    | 15/29 [1:25:56<1:14:50, 320.77s/it]\u001b[A\u001b[A\n",
      "\n",
      " 55%|█████▌    | 16/29 [1:51:02<2:26:31, 676.24s/it]\u001b[A\u001b[A\n",
      "\n",
      " 59%|█████▊    | 17/29 [1:58:54<2:03:00, 615.01s/it]\u001b[A\u001b[A\n",
      "\n",
      " 62%|██████▏   | 18/29 [2:01:47<1:28:26, 482.42s/it]\u001b[A\u001b[A\n",
      "\n",
      " 66%|██████▌   | 19/29 [2:02:35<58:39, 351.98s/it]  \u001b[A\u001b[A\n",
      "\n",
      " 69%|██████▉   | 20/29 [2:11:03<59:50, 399.00s/it]\u001b[A\u001b[A\n",
      "\n",
      " 72%|███████▏  | 21/29 [2:27:22<1:16:22, 572.83s/it]\u001b[A\u001b[A\n",
      "\n",
      " 76%|███████▌  | 22/29 [2:59:22<1:53:59, 977.05s/it]\u001b[A\u001b[A\n",
      "\n",
      " 79%|███████▉  | 23/29 [3:45:41<2:31:45, 1517.63s/it]\u001b[A\u001b[A\n",
      "\n",
      " 83%|████████▎ | 24/29 [3:55:37<1:43:26, 1241.23s/it]\u001b[A\u001b[A\n",
      "\n",
      " 86%|████████▌ | 25/29 [3:56:29<58:57, 884.43s/it]   \u001b[A\u001b[A\n",
      "\n",
      " 90%|████████▉ | 26/29 [4:07:50<41:09, 823.17s/it]\u001b[A\u001b[A\n",
      "\n",
      " 93%|█████████▎| 27/29 [4:19:17<26:04, 782.37s/it]\u001b[A\u001b[A\n",
      "\n",
      " 97%|█████████▋| 28/29 [4:30:17<12:25, 745.81s/it]\u001b[A\u001b[A\n",
      "\n",
      "100%|██████████| 29/29 [4:33:47<00:00, 584.89s/it]\u001b[A\u001b[A\n",
      "\n",
      "\u001b[A\u001b[A"
     ]
    }
   ],
   "source": [
    "calculate_df_btstrp_cch = True\n",
    "\n",
    "if calculate_df_btstrp_cch:\n",
    "    df_btstrp_cch = tls_exp.bootstrap_cch(\n",
    "            blks, btstrp_n,\n",
    "            btstrp_binsize,                                                                                                                                                                                            \n",
    "            ccg_binsize,                                                                                                                                                                                               \n",
    "            ccg_hollow_fraction,                                                                                                                                                                                       \n",
    "            ccg_peak_wndw,                                                                                                                                                                                             \n",
    "            ccg_time_limit,\n",
    "            ccg_width,\n",
    "            conns_sel=conns_sel)\n",
    "    df_btstrp_cch.to_pickle('results/df_btstrp_cch.pckl')\n",
    "else:\n",
    "    df_btstrp_cch = pd.read_pickle('results/df_btstrp_cch.pckl')"
   ]
  },
  {
   "cell_type": "markdown",
   "metadata": {},
   "source": [
    "#### IV\n",
    "We first find all onsets and classify whether they contain a spike or not.\n",
    "Then we randomly pick onsets with replacement."
   ]
  },
  {
   "cell_type": "code",
   "execution_count": 41,
   "metadata": {
    "scrolled": true
   },
   "outputs": [
    {
     "name": "stderr",
     "output_type": "stream",
     "text": [
      "\n",
      "\n",
      "  0%|          | 0/29 [00:00<?, ?it/s]\u001b[A\u001b[A/home/jovyan/work/instrumentalVariable/causal-optoconnectics/tools_experimentaldata.py:1339: RuntimeWarning: Mean of empty slice.\n",
      "  wald = ys_i.mean() - ysr_i.mean()\n",
      "/opt/conda/lib/python3.6/site-packages/numpy/core/_methods.py:85: RuntimeWarning: invalid value encountered in double_scalars\n",
      "  ret = ret.dtype.type(ret / rcount)\n",
      "\n",
      "\n",
      "  3%|▎         | 1/29 [00:03<01:33,  3.34s/it]\u001b[A\u001b[A\n",
      "\n",
      "  7%|▋         | 2/29 [00:06<01:30,  3.36s/it]\u001b[A\u001b[A\n",
      "\n",
      " 10%|█         | 3/29 [00:10<01:28,  3.41s/it]\u001b[A\u001b[A\n",
      "\n",
      " 14%|█▍        | 4/29 [00:13<01:27,  3.48s/it]\u001b[A\u001b[A\n",
      "\n",
      " 17%|█▋        | 5/29 [00:17<01:25,  3.56s/it]\u001b[A\u001b[A\n",
      "\n",
      " 21%|██        | 6/29 [00:21<01:23,  3.64s/it]\u001b[A\u001b[A\n",
      "\n",
      " 24%|██▍       | 7/29 [00:25<01:22,  3.73s/it]\u001b[A\u001b[A\n",
      "\n",
      " 28%|██▊       | 8/29 [00:29<01:21,  3.87s/it]\u001b[A\u001b[A\n",
      "\n",
      " 31%|███       | 9/29 [00:33<01:19,  4.00s/it]\u001b[A\u001b[A\n",
      "\n",
      " 34%|███▍      | 10/29 [00:38<01:18,  4.12s/it]\u001b[A\u001b[A\n",
      "\n",
      " 38%|███▊      | 11/29 [00:42<01:16,  4.25s/it]\u001b[A\u001b[A\n",
      "\n",
      " 41%|████▏     | 12/29 [00:47<01:14,  4.39s/it]\u001b[A\u001b[A\n",
      "\n",
      " 45%|████▍     | 13/29 [00:52<01:11,  4.50s/it]\u001b[A\u001b[A\n",
      "\n",
      " 48%|████▊     | 14/29 [00:57<01:09,  4.61s/it]\u001b[A\u001b[A\n",
      "\n",
      " 52%|█████▏    | 15/29 [01:02<01:06,  4.73s/it]\u001b[A\u001b[A\n",
      "\n",
      " 55%|█████▌    | 16/29 [01:07<01:02,  4.84s/it]\u001b[A\u001b[A\n",
      "\n",
      " 59%|█████▊    | 17/29 [01:12<00:59,  4.96s/it]\u001b[A\u001b[A\n",
      "\n",
      " 62%|██████▏   | 18/29 [01:17<00:55,  5.05s/it]\u001b[A\u001b[A\n",
      "\n",
      " 66%|██████▌   | 19/29 [01:23<00:51,  5.16s/it]\u001b[A\u001b[A\n",
      "\n",
      " 69%|██████▉   | 20/29 [01:28<00:47,  5.27s/it]\u001b[A\u001b[A\n",
      "\n",
      " 72%|███████▏  | 21/29 [01:34<00:43,  5.39s/it]\u001b[A\u001b[A\n",
      "\n",
      " 76%|███████▌  | 22/29 [01:40<00:38,  5.52s/it]\u001b[A\u001b[A\n",
      "\n",
      " 79%|███████▉  | 23/29 [01:46<00:33,  5.63s/it]\u001b[A\u001b[A\n",
      "\n",
      " 83%|████████▎ | 24/29 [01:52<00:28,  5.73s/it]\u001b[A\u001b[A\n",
      "\n",
      " 86%|████████▌ | 25/29 [01:58<00:23,  5.84s/it]\u001b[A\u001b[A\n",
      "\n",
      " 90%|████████▉ | 26/29 [02:04<00:17,  5.96s/it]\u001b[A\u001b[A\n",
      "\n",
      " 93%|█████████▎| 27/29 [02:10<00:12,  6.07s/it]\u001b[A\u001b[A\n",
      "\n",
      " 97%|█████████▋| 28/29 [02:17<00:06,  6.19s/it]\u001b[A\u001b[A\n",
      "\n",
      "100%|██████████| 29/29 [02:23<00:00,  6.29s/it]\u001b[A\u001b[A\n",
      "\n",
      "\u001b[A\u001b[A"
     ]
    }
   ],
   "source": [
    "calculate_df_btstrp_iv = True\n",
    "\n",
    "if calculate_df_btstrp_iv:\n",
    "    df_btstrp_iv = tls_exp.bootstrap_iv(\n",
    "            blks, btstrp_n,                                                                                                                                                                                                   \n",
    "            df_sigstim,                                                                                                                                                                                                \n",
    "            iv_min_n_stim,                                                                                                                                                                                             \n",
    "            iv_window,                                                                                                                                                                                                 \n",
    "            iv_ltnc,                                                                                                                                                                                                   \n",
    "            conns_sel=conns_sel)\n",
    "    df_btstrp_iv.to_pickle('results/df_btstrp_iv.pckl')\n",
    "else:\n",
    "    df_btstrp_iv = pd.read_pickle('results/df_btstrp_iv.pckl')"
   ]
  },
  {
   "cell_type": "code",
   "execution_count": 42,
   "metadata": {},
   "outputs": [],
   "source": [
    "CI = 95.\n",
    "perc_low = (100-CI)/2\n",
    "perc_high = 100 - perc_low\n",
    "\n",
    "cch_err_low = []\n",
    "cch_err_high = []\n",
    "\n",
    "iv_err_low = []\n",
    "iv_err_high = []\n",
    "\n",
    "iv_med = []\n",
    "cch_med = []\n",
    "\n",
    "for conn in conns_sel:\n",
    "    (animal,\n",
    "     date,\n",
    "     shank_pre,\n",
    "     cluster_pre,\n",
    "     shank_post,\n",
    "     cluster_post) = conn\n",
    "    df_conn_iv = df_btstrp_iv.loc[\n",
    "        (df_btstrp_iv['animal'] == animal) &\n",
    "        (df_btstrp_iv['date'] == date) &\n",
    "        (df_btstrp_iv['shank_pre'] == shank_pre) &\n",
    "        (df_btstrp_iv['cluster_pre'] == cluster_pre) &\n",
    "        (df_btstrp_iv['shank_post'] == shank_post) &\n",
    "        (df_btstrp_iv['cluster_post'] == cluster_post)]\n",
    "    med = np.nanmedian(df_conn_iv['ivwald'])\n",
    "    err_low = med-np.nanpercentile(df_conn_iv['ivwald'], perc_low)\n",
    "    err_high = np.nanpercentile(df_conn_iv['ivwald'], perc_high)-med\n",
    "    iv_med.append(med)\n",
    "    iv_err_low.append(err_low)\n",
    "    iv_err_high.append(err_high)\n",
    "\n",
    "\n",
    "    df_conn_cch = df_btstrp_cch.loc[\n",
    "        (df_btstrp_cch['animal'] == animal) &\n",
    "        (df_btstrp_cch['date'] == date) &\n",
    "        (df_btstrp_cch['shank_pre'] == shank_pre) &\n",
    "        (df_btstrp_cch['cluster_pre'] == cluster_pre) &\n",
    "        (df_btstrp_cch['shank_post'] == shank_post) &\n",
    "        (df_btstrp_cch['cluster_post'] == cluster_post)]\n",
    "    med = np.nanmedian(df_conn_cch['trans_prob'])\n",
    "    err_low = med-np.nanpercentile(df_conn_cch['trans_prob'], perc_low)\n",
    "    err_high = np.nanpercentile(df_conn_cch['trans_prob'], perc_high)-med\n",
    "    \n",
    "    cch_err_low.append(err_low)\n",
    "    cch_err_high.append(err_high)    \n",
    "    cch_med.append(med)\n",
    "    \n",
    "iv_err = np.vstack([iv_err_low, iv_err_high])\n",
    "iv_med = np.array(iv_med)\n",
    "cch_err = np.vstack([cch_err_low, cch_err_high])\n",
    "cch_med = np.array(cch_med)"
   ]
  },
  {
   "cell_type": "code",
   "execution_count": 43,
   "metadata": {},
   "outputs": [],
   "source": [
    "# fit linear model on median values\n",
    "m, b = np.polyfit(cch_med, iv_med, 1)\n",
    "f_lin = lambda x: m*x+b"
   ]
  },
  {
   "cell_type": "code",
   "execution_count": 46,
   "metadata": {},
   "outputs": [
    {
     "data": {
      "text/plain": [
       "(0.3385059927339961, 0.07246654559063853)"
      ]
     },
     "execution_count": 46,
     "metadata": {},
     "output_type": "execute_result"
    }
   ],
   "source": [
    "scipy.stats.pearsonr(cch_med, iv_med)"
   ]
  },
  {
   "cell_type": "code",
   "execution_count": 47,
   "metadata": {},
   "outputs": [
    {
     "name": "stderr",
     "output_type": "stream",
     "text": [
      "/opt/conda/lib/python3.6/site-packages/matplotlib/figure.py:2299: UserWarning: This figure includes Axes that are not compatible with tight_layout, so results might be incorrect.\n",
      "  warnings.warn(\"This figure includes Axes that are not compatible \"\n"
     ]
    },
    {
     "data": {
      "image/png": "[encoded data removed]",
      "text/plain": [
       "<Figure size 358.56x288 with 2 Axes>"
      ]
     },
     "metadata": {},
     "output_type": "display_data"
    }
   ],
   "source": [
    "# we rescale iv_values for visualization\n",
    "set_style('article', h=2.)\n",
    "fig = plt.figure()\n",
    "gs0 = GridSpec(4, 8, wspace=.55)\n",
    "ax1 = fig.add_subplot(gs0[:, 0:5])\n",
    "ax2 = fig.add_subplot(gs0[:, 5:])\n",
    "\n",
    "ax1.scatter(cch_med,\n",
    "           iv_med,\n",
    "           c='b',\n",
    "           alpha=1,\n",
    "           s=18)\n",
    "ax1.errorbar(cch_med,\n",
    "            iv_med,\n",
    "            xerr=cch_err,\n",
    "            yerr=iv_err,\n",
    "            fmt='None',\n",
    "            ecolor='b',\n",
    "            alpha=0.4)\n",
    "ax1.set_xlabel(r'CCH')\n",
    "ax1.set_ylabel(r'IV')\n",
    "ax1.set_xlim([-0.0001, 0.007])\n",
    "#ax.set_xlim([-0.0001, 0.01])\n",
    "ax1.set_ylim([-0.1, 0.32])\n",
    "ax1.plot([0, 1],\n",
    "         [f_lin(0), f_lin(1)],\n",
    "         'k--', alpha=0.3,\n",
    "        linewidth=1.)\n",
    "\n",
    "despine(ax=ax1)\n",
    "\n",
    "cch_argsort = np.argsort(cch_med)\n",
    "ids = np.arange(0, len(cch_med),1)\n",
    "\n",
    "\n",
    "\n",
    "rsdl_iv = iv_med - f_lin(cch_med)\n",
    "argsortd = np.argsort(rsdl_iv)\n",
    "\n",
    "ax2.scatter(rsdl_iv[argsortd],\n",
    "            ids,\n",
    "            s=5,\n",
    "            c='b')\n",
    "ax2.errorbar(rsdl_iv[argsortd],\n",
    "             ids,\n",
    "             xerr=iv_err[:, argsortd],\n",
    "             ecolor='b',\n",
    "             fmt='None',\n",
    "             capsize=0,\n",
    "             elinewidth=1.5,\n",
    "             alpha=0.6)\n",
    "ax2.plot([0, 0], [-100,100], 'k--', alpha=0.3, linewidth=1.)\n",
    "#ax2.plot(-100,-100, 'b', label=r'CCH')\n",
    "#ax2.plot(-100,-100, 'r', label=r'IV $[10^{-1}]$')\n",
    "#ax2.legend(loc='lower right')\n",
    "ax2.set_xlabel(r'IV residuals')\n",
    "#ax2.set_xlim([-0.01, 0.025])\n",
    "ax2.set_ylim([-2, len(cch_med)+0.])\n",
    "ax2.set_yticks([], [])\n",
    "\n",
    "despine(ax=ax2, left=True)\n",
    "add_caption([ax1, ax2], start='a')\n",
    "\n",
    "fig.tight_layout()\n",
    "fig.subplots_adjust(left=0.16, bottom=0.2)\n",
    "fig.savefig('manuscript/Optodata_comparison_IvCch.svg', dpi=180)\n"
   ]
  },
  {
   "cell_type": "code",
   "execution_count": null,
   "metadata": {},
   "outputs": [],
   "source": []
  }
 ],
 "metadata": {
  "kernelspec": {
   "display_name": "Python 3",
   "language": "python",
   "name": "python3"
  },
  "language_info": {
   "codemirror_mode": {
    "name": "ipython",
    "version": 3
   },
   "file_extension": ".py",
   "mimetype": "text/x-python",
   "name": "python",
   "nbconvert_exporter": "python",
   "pygments_lexer": "ipython3",
   "version": "3.6.5"
  }
 },
 "nbformat": 4,
 "nbformat_minor": 2
}
