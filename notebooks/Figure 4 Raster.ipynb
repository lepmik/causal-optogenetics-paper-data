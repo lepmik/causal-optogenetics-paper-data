{
 "cells": [
  {
   "cell_type": "code",
   "execution_count": 1,
   "metadata": {},
   "outputs": [],
   "source": [
    "%matplotlib inline\n",
    "%load_ext autoreload\n",
    "%autoreload 2\n",
    "import sys\n",
    "sys.path.append('..')\n",
    "from simulator import Simulator\n",
    "from tools_analysis import corrcoef, coef_var\n",
    "import matplotlib.pyplot as plt\n",
    "from matplotlib.gridspec import GridSpec, GridSpecFromSubplotSpec\n",
    "import pandas as pd\n",
    "import numpy as np\n",
    "import quantities as pq\n",
    "import seaborn as sns\n",
    "from tools_plot import savefig, fix_figure, set_style, despine, add_caption\n",
    "import copy\n",
    "from IPython.display import display\n",
    "\n",
    "from tqdm._tqdm_notebook import tqdm_notebook\n",
    "tqdm_notebook.pandas()\n",
    "from tqdm import tqdm_notebook as tqdm\n",
    "\n",
    "from causal_optoconnectics.core import hit_rate"
   ]
  },
  {
   "cell_type": "code",
   "execution_count": 2,
   "metadata": {},
   "outputs": [],
   "source": [
    "plt.rcParams['figure.figsize'] = (8,4)"
   ]
  },
  {
   "cell_type": "code",
   "execution_count": 17,
   "metadata": {
    "scrolled": false
   },
   "outputs": [],
   "source": [
    "from params_test import parameters\n",
    "sim = Simulator(\n",
    "    parameters, fname='network_raster', data_path='results', \n",
    "    stop_time=2, stim_rate=30, stim_dist='poisson', verbose=True,\n",
    "    stim_amp_ex=0)\n",
    "sim.simulate(state=False, save=False, raster=True, progress_bar=tqdm)\n",
    "\n",
    "data = sim.data"
   ]
  },
  {
   "cell_type": "code",
   "execution_count": 19,
   "metadata": {},
   "outputs": [
    {
     "data": {
      "image/png": "[encoded data removed]",
      "text/plain": [
       "<Figure size 576x288 with 2 Axes>"
      ]
     },
     "metadata": {},
     "output_type": "display_data"
    }
   ],
   "source": [
    "fig, ax = plt.subplots(1, 2)\n",
    "\n",
    "t_stop = sim.p['status']['time']\n",
    "binsize_corr = 5.\n",
    "spiketrains_list = list(spiketrains.values())\n",
    "spiketrains_sampled = [spiketrains_list[i] for i in np.random.randint(0, len(spiketrains_list), 100)]\n",
    "cc = corrcoef(\n",
    "    spiketrains_sampled, t_stop, binsize=binsize_corr)\n",
    "\n",
    "ax[0].hist(cc[np.triu_indices(len(cc), k=1)], bins=100);\n",
    "\n",
    "\n",
    "cv = np.array(coef_var(spiketrains_sampled))\n",
    "cv = cv[~np.isnan(cv)]\n",
    "\n",
    "ax[1].hist(cv, bins=100);"
   ]
  },
  {
   "cell_type": "code",
   "execution_count": 5,
   "metadata": {},
   "outputs": [
    {
     "data": {
      "application/vnd.jupyter.widget-view+json": {
       "model_id": "2cd94920cfca4e9d803398d61bf06ad3",
       "version_major": 2,
       "version_minor": 0
      },
      "text/html": [
       "<p>Failed to display Jupyter Widget of type <code>HBox</code>.</p>\n",
       "<p>\n",
       "  If you're reading this message in the Jupyter Notebook or JupyterLab Notebook, it may mean\n",
       "  that the widgets JavaScript is still loading. If this message persists, it\n",
       "  likely means that the widgets JavaScript library is either not installed or\n",
       "  not enabled. See the <a href=\"https://ipywidgets.readthedocs.io/en/stable/user_install.html\">Jupyter\n",
       "  Widgets Documentation</a> for setup instructions.\n",
       "</p>\n",
       "<p>\n",
       "  If you're reading this message in another frontend (for example, a static\n",
       "  rendering on GitHub or <a href=\"https://nbviewer.jupyter.org/\">NBViewer</a>),\n",
       "  it may mean that your frontend doesn't currently support widgets.\n",
       "</p>\n"
      ],
      "text/plain": [
       "HBox(children=(IntProgress(value=0, max=156250), HTML(value='')))"
      ]
     },
     "metadata": {},
     "output_type": "display_data"
    },
    {
     "name": "stdout",
     "output_type": "stream",
     "text": [
      "\n"
     ]
    }
   ],
   "source": [
    "conn = sim.data['connections']\n",
    "conn.loc[:,'stimulated'] = conn.source.isin(data['stim_nodes']['ex'])\n",
    "conn['stim_amp_source'] = conn.progress_apply(lambda x: data['stim_amps']['ex'].get(x.source, 0), axis=1)"
   ]
  },
  {
   "cell_type": "code",
   "execution_count": 6,
   "metadata": {},
   "outputs": [
    {
     "data": {
      "text/plain": [
       "Text(0.5,0,'Synaptic weight [pA]')"
      ]
     },
     "execution_count": 6,
     "metadata": {},
     "output_type": "execute_result"
    },
    {
     "data": {
      "image/png": "[encoded data removed]",
      "text/plain": [
       "<Figure size 576x288 with 1 Axes>"
      ]
     },
     "metadata": {},
     "output_type": "display_data"
    }
   ],
   "source": [
    "conn.weight.hist(bins=1000)\n",
    "plt.grid(False)\n",
    "plt.xlabel('Synaptic weight [pA]')"
   ]
  },
  {
   "cell_type": "code",
   "execution_count": 7,
   "metadata": {},
   "outputs": [
    {
     "data": {
      "application/vnd.jupyter.widget-view+json": {
       "model_id": "943d3a2bae67434f8bd4e09a9eca87f7",
       "version_major": 2,
       "version_minor": 0
      },
      "text/html": [
       "<p>Failed to display Jupyter Widget of type <code>HBox</code>.</p>\n",
       "<p>\n",
       "  If you're reading this message in the Jupyter Notebook or JupyterLab Notebook, it may mean\n",
       "  that the widgets JavaScript is still loading. If this message persists, it\n",
       "  likely means that the widgets JavaScript library is either not installed or\n",
       "  not enabled. See the <a href=\"https://ipywidgets.readthedocs.io/en/stable/user_install.html\">Jupyter\n",
       "  Widgets Documentation</a> for setup instructions.\n",
       "</p>\n",
       "<p>\n",
       "  If you're reading this message in another frontend (for example, a static\n",
       "  rendering on GitHub or <a href=\"https://nbviewer.jupyter.org/\">NBViewer</a>),\n",
       "  it may mean that your frontend doesn't currently support widgets.\n",
       "</p>\n"
      ],
      "text/plain": [
       "HBox(children=(IntProgress(value=0, max=989), HTML(value='')))"
      ]
     },
     "metadata": {},
     "output_type": "display_data"
    },
    {
     "name": "stdout",
     "output_type": "stream",
     "text": [
      "\n"
     ]
    }
   ],
   "source": [
    "senders = sim.data['spiketrains']['ex']['senders']\n",
    "times = sim.data['spiketrains']['ex']['times']\n",
    "stim_times = sim.data['epoch']['times']\n",
    "sender_ids = np.unique(senders)\n",
    "\n",
    "spiketrains = {\n",
    "    sender: times[sender==senders] for sender in tqdm(sender_ids)}"
   ]
  },
  {
   "cell_type": "code",
   "execution_count": 12,
   "metadata": {},
   "outputs": [
    {
     "data": {
      "image/png": "[encoded data removed]",
      "text/plain": [
       "<Figure size 576x288 with 2 Axes>"
      ]
     },
     "metadata": {},
     "output_type": "display_data"
    },
    {
     "data": {
      "image/png": "[encoded data removed]",
      "text/plain": [
       "<Figure size 576x288 with 2 Axes>"
      ]
     },
     "metadata": {},
     "output_type": "display_data"
    }
   ],
   "source": [
    "mu = 2\n",
    "sigma = 2 # not used\n",
    "hit_rates = [hit_rate(s1, stim_times,  mu=mu, sigma=sigma)\n",
    "             for s1 in spiketrains.values()]\n",
    "\n",
    "\n",
    "fig, ax = plt.subplots(1, 2)\n",
    "\n",
    "amps = np.array(list(sim.data['stim_amps']['ex'].values()))\n",
    "width = .1\n",
    "bins = np.arange(0, amps.max(), width)\n",
    "hist, bins = np.histogram(amps, bins=bins)\n",
    "# print(bins)\n",
    "# print(hist, sum(hist))\n",
    "ax[0].bar(bins[1:], hist, align='edge', width=-width)\n",
    "ax[0].set_xlabel('Stim amps')\n",
    "\n",
    "width = .1\n",
    "bins = np.arange(0, 1+width, width)\n",
    "hist, bins = np.histogram(hit_rates, bins=bins)\n",
    "ax[1].bar(bins[1:], hist, align='edge', width=-width)\n",
    "ax[1].set_xlabel('Hit rate')"
   ]
  },
  {
   "cell_type": "code",
   "execution_count": 4,
   "metadata": {},
   "outputs": [],
   "source": [
    "def prestim(x, stim_times):\n",
    "    stim_times = stim_times.astype(float)\n",
    "\n",
    "    src_x = np.searchsorted(x, stim_times, side='right')\n",
    "\n",
    "    remove_idxs, = np.where((src_x==len(x)) | (src_x==0))\n",
    "    src_x = np.delete(src_x, remove_idxs)\n",
    "    stim_times = np.delete(stim_times, remove_idxs)\n",
    "    return x[src_x-1] - stim_times"
   ]
  },
  {
   "cell_type": "code",
   "execution_count": 9,
   "metadata": {},
   "outputs": [
    {
     "ename": "ValueError",
     "evalue": "all the input array dimensions except for the concatenation axis must match exactly",
     "output_type": "error",
     "traceback": [
      "\u001b[0;31m---------------------------------------------------------------------------\u001b[0m",
      "\u001b[0;31mValueError\u001b[0m                                Traceback (most recent call last)",
      "\u001b[0;32m<ipython-input-9-b36ec616eecd>\u001b[0m in \u001b[0;36m<module>\u001b[0;34m()\u001b[0m\n\u001b[1;32m      7\u001b[0m \u001b[0mA_prestim\u001b[0m \u001b[0;34m=\u001b[0m \u001b[0mprestim\u001b[0m\u001b[0;34m(\u001b[0m\u001b[0mspiketrains\u001b[0m\u001b[0;34m[\u001b[0m\u001b[0mA\u001b[0m\u001b[0;34m]\u001b[0m\u001b[0;34m,\u001b[0m \u001b[0mdata\u001b[0m\u001b[0;34m[\u001b[0m\u001b[0;34m'epoch'\u001b[0m\u001b[0;34m]\u001b[0m\u001b[0;34m[\u001b[0m\u001b[0;34m'times'\u001b[0m\u001b[0;34m]\u001b[0m\u001b[0;34m)\u001b[0m\u001b[0;34m\u001b[0m\u001b[0m\n\u001b[1;32m      8\u001b[0m \u001b[0mB_prestim\u001b[0m \u001b[0;34m=\u001b[0m \u001b[0mprestim\u001b[0m\u001b[0;34m(\u001b[0m\u001b[0mspiketrains\u001b[0m\u001b[0;34m[\u001b[0m\u001b[0mB\u001b[0m\u001b[0;34m]\u001b[0m\u001b[0;34m,\u001b[0m \u001b[0mdata\u001b[0m\u001b[0;34m[\u001b[0m\u001b[0;34m'epoch'\u001b[0m\u001b[0;34m]\u001b[0m\u001b[0;34m[\u001b[0m\u001b[0;34m'times'\u001b[0m\u001b[0;34m]\u001b[0m\u001b[0;34m)\u001b[0m\u001b[0;34m\u001b[0m\u001b[0m\n\u001b[0;32m----> 9\u001b[0;31m \u001b[0mnp\u001b[0m\u001b[0;34m.\u001b[0m\u001b[0mcorrcoef\u001b[0m\u001b[0;34m(\u001b[0m\u001b[0mA_prestim\u001b[0m\u001b[0;34m,\u001b[0m \u001b[0mB_prestim\u001b[0m\u001b[0;34m)\u001b[0m\u001b[0;34m[\u001b[0m\u001b[0;36m0\u001b[0m\u001b[0;34m,\u001b[0m\u001b[0;36m1\u001b[0m\u001b[0;34m]\u001b[0m\u001b[0;34m\u001b[0m\u001b[0m\n\u001b[0m",
      "\u001b[0;32m~/.virtualenvs/main/lib/python3.5/site-packages/numpy/lib/function_base.py\u001b[0m in \u001b[0;36mcorrcoef\u001b[0;34m(x, y, rowvar, bias, ddof)\u001b[0m\n\u001b[1;32m   2520\u001b[0m         warnings.warn('bias and ddof have no effect and are deprecated',\n\u001b[1;32m   2521\u001b[0m                       DeprecationWarning, stacklevel=2)\n\u001b[0;32m-> 2522\u001b[0;31m     \u001b[0mc\u001b[0m \u001b[0;34m=\u001b[0m \u001b[0mcov\u001b[0m\u001b[0;34m(\u001b[0m\u001b[0mx\u001b[0m\u001b[0;34m,\u001b[0m \u001b[0my\u001b[0m\u001b[0;34m,\u001b[0m \u001b[0mrowvar\u001b[0m\u001b[0;34m)\u001b[0m\u001b[0;34m\u001b[0m\u001b[0m\n\u001b[0m\u001b[1;32m   2523\u001b[0m     \u001b[0;32mtry\u001b[0m\u001b[0;34m:\u001b[0m\u001b[0;34m\u001b[0m\u001b[0m\n\u001b[1;32m   2524\u001b[0m         \u001b[0md\u001b[0m \u001b[0;34m=\u001b[0m \u001b[0mdiag\u001b[0m\u001b[0;34m(\u001b[0m\u001b[0mc\u001b[0m\u001b[0;34m)\u001b[0m\u001b[0;34m\u001b[0m\u001b[0m\n",
      "\u001b[0;32m~/.virtualenvs/main/lib/python3.5/site-packages/numpy/lib/function_base.py\u001b[0m in \u001b[0;36mcov\u001b[0;34m(m, y, rowvar, bias, ddof, fweights, aweights)\u001b[0m\n\u001b[1;32m   2384\u001b[0m         \u001b[0;32mif\u001b[0m \u001b[0;32mnot\u001b[0m \u001b[0mrowvar\u001b[0m \u001b[0;32mand\u001b[0m \u001b[0my\u001b[0m\u001b[0;34m.\u001b[0m\u001b[0mshape\u001b[0m\u001b[0;34m[\u001b[0m\u001b[0;36m0\u001b[0m\u001b[0;34m]\u001b[0m \u001b[0;34m!=\u001b[0m \u001b[0;36m1\u001b[0m\u001b[0;34m:\u001b[0m\u001b[0;34m\u001b[0m\u001b[0m\n\u001b[1;32m   2385\u001b[0m             \u001b[0my\u001b[0m \u001b[0;34m=\u001b[0m \u001b[0my\u001b[0m\u001b[0;34m.\u001b[0m\u001b[0mT\u001b[0m\u001b[0;34m\u001b[0m\u001b[0m\n\u001b[0;32m-> 2386\u001b[0;31m         \u001b[0mX\u001b[0m \u001b[0;34m=\u001b[0m \u001b[0mnp\u001b[0m\u001b[0;34m.\u001b[0m\u001b[0mconcatenate\u001b[0m\u001b[0;34m(\u001b[0m\u001b[0;34m(\u001b[0m\u001b[0mX\u001b[0m\u001b[0;34m,\u001b[0m \u001b[0my\u001b[0m\u001b[0;34m)\u001b[0m\u001b[0;34m,\u001b[0m \u001b[0maxis\u001b[0m\u001b[0;34m=\u001b[0m\u001b[0;36m0\u001b[0m\u001b[0;34m)\u001b[0m\u001b[0;34m\u001b[0m\u001b[0m\n\u001b[0m\u001b[1;32m   2387\u001b[0m \u001b[0;34m\u001b[0m\u001b[0m\n\u001b[1;32m   2388\u001b[0m     \u001b[0;32mif\u001b[0m \u001b[0mddof\u001b[0m \u001b[0;32mis\u001b[0m \u001b[0;32mNone\u001b[0m\u001b[0;34m:\u001b[0m\u001b[0;34m\u001b[0m\u001b[0m\n",
      "\u001b[0;31mValueError\u001b[0m: all the input array dimensions except for the concatenation axis must match exactly"
     ]
    }
   ],
   "source": [
    "C = 979\n",
    "As = conn.query(\"target=={C} and stimulated\".format(C=C))\n",
    "A = As.sort_values('weight', ascending=False).source.iloc[0]\n",
    "Bs = conn.query(\"source!={A} and target!={C} and stimulated\".format(A=A, C=C))\n",
    "B = Bs.source.iloc[0]\n",
    "\n",
    "A_prestim = prestim(spiketrains[A], data['epoch']['times'])\n",
    "B_prestim = prestim(spiketrains[B], data['epoch']['times'])\n",
    "np.corrcoef(A_prestim, B_prestim)[0,1]"
   ]
  },
  {
   "cell_type": "code",
   "execution_count": 10,
   "metadata": {},
   "outputs": [
    {
     "data": {
      "text/plain": [
       "((17,), (11,))"
      ]
     },
     "execution_count": 10,
     "metadata": {},
     "output_type": "execute_result"
    }
   ],
   "source": [
    "A_prestim.shape, B_prestim.shape"
   ]
  },
  {
   "cell_type": "code",
   "execution_count": 5,
   "metadata": {},
   "outputs": [],
   "source": [
    "def norm(a):\n",
    "    a = np.array(a)\n",
    "    b = a - a.min()\n",
    "    return b / b.max()"
   ]
  },
  {
   "cell_type": "code",
   "execution_count": 6,
   "metadata": {
    "scrolled": true
   },
   "outputs": [],
   "source": [
    "stim_times = sim.data['epoch']['times']\n",
    "spiketrains = {}\n",
    "neuron_ids = {}\n",
    "for pop in ['ex', 'in']:\n",
    "    senders = sim.data['spiketrains'][pop]['senders']\n",
    "    if pop == 'ex':\n",
    "        sender_ids = data['stim_nodes'][pop]\n",
    "    else:\n",
    "        sender_ids = np.unique(senders)[:250]\n",
    "    times = sim.data['spiketrains'][pop]['times']\n",
    "    spiketrains[pop] = [t for sender in sender_ids for t in times[sender==senders]]\n",
    "    neuron_ids[pop] = [s for sender in sender_ids for s in [sender] * sum(sender==senders)]"
   ]
  },
  {
   "cell_type": "code",
   "execution_count": 9,
   "metadata": {},
   "outputs": [
    {
     "data": {
      "image/png": "[encoded data removed]",
      "text/plain": [
       "<Figure size 358.56x144 with 3 Axes>"
      ]
     },
     "metadata": {},
     "output_type": "display_data"
    }
   ],
   "source": [
    "set_style('article', sns_style='ticks')\n",
    "size = 1 # 10 # notebook\n",
    "arrow_size = 5 # 25 # notebook\n",
    "color = {'ex': 'b', 'in': 'r'}\n",
    "width = 3\n",
    "xmin = -20\n",
    "xmax = 80\n",
    "\n",
    "fig = plt.figure()\n",
    "gs0 = GridSpec(1, 2, wspace=.35)\n",
    "\n",
    "gs00 = GridSpecFromSubplotSpec(2, 1, subplot_spec=gs0[0], **{'height_ratios': [1, 800/250], 'hspace': 0.01})\n",
    "ax1 = fig.add_subplot(gs00[0, 0])\n",
    "ax2 = fig.add_subplot(gs00[1, 0])\n",
    "\n",
    "ax1.scatter(spiketrains['in'], neuron_ids['in'], color='r', s=size)\n",
    "despine(xticks=False, bottom=True, ax=ax1)\n",
    "\n",
    "ax2.scatter(spiketrains['ex'], neuron_ids['ex'], s=size)\n",
    "despine(ax=ax2)\n",
    "ax2.set_yticks([0, 400, 800])\n",
    "ax2.set_xticks([0, 500, 1000, 1500])\n",
    "\n",
    "y = 850\n",
    "ax2.plot([500, 1000], [y, y], ls='none', marker='v', color='k', markersize=arrow_size)\n",
    "\n",
    "ax2.set_xlabel('Time [ms]')\n",
    "fig.text(0.0, 0.5, 'Neuron ID', va='center', rotation='vertical')\n",
    "\n",
    "\n",
    "gs01 = GridSpecFromSubplotSpec(1, 1, subplot_spec=gs0[1])\n",
    "ax = fig.add_subplot(gs01[0, 0])\n",
    "\n",
    "for pop in ['ex', 'in']:\n",
    "    spikes = []\n",
    "    for t in [500, 1000]:\n",
    "        sptr = np.array(spiketrains[pop]) - t\n",
    "        sptr = sptr[(sptr > xmin) & (sptr < xmax)]\n",
    "        spikes.extend(sptr.tolist())\n",
    "    \n",
    "#     bins = np.arange(xmin, xmax + width, width)\n",
    "#     hist, bins = np.histogram(spikes, bins=bins)\n",
    "#     ax.bar(bins[1:], hist, color=color[pop], width=-width, align='edge')\n",
    "    ax.hist(spikes, color=color[pop], bins=100, log=True)\n",
    "\n",
    "ax.plot(0, 850, ls='none', marker='v', color='k', markersize=arrow_size)\n",
    "despine()\n",
    "ax.set_xlabel('Time [ms]')\n",
    "ax.set_ylabel('Total spikes')\n",
    "add_caption([ax2, ax], start='a')\n",
    "savefig(fig, 'network-raster')"
   ]
  }
 ],
 "metadata": {
  "kernelspec": {
   "display_name": "Python 3",
   "language": "python",
   "name": "python3"
  },
  "language_info": {
   "codemirror_mode": {
    "name": "ipython",
    "version": 3
   },
   "file_extension": ".py",
   "mimetype": "text/x-python",
   "name": "python",
   "nbconvert_exporter": "python",
   "pygments_lexer": "ipython3",
   "version": "3.5.2"
  }
 },
 "nbformat": 4,
 "nbformat_minor": 2
}
