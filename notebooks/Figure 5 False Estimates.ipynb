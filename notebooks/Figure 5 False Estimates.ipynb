{
 "cells": [
  {
   "cell_type": "code",
   "execution_count": 1,
   "metadata": {},
   "outputs": [],
   "source": [
    "%matplotlib inline\n",
    "%load_ext autoreload\n",
    "%autoreload 2\n",
    "import matplotlib.pyplot as plt\n",
    "from matplotlib.gridspec import GridSpec, GridSpecFromSubplotSpec\n",
    "import pandas as pd\n",
    "import numpy as np\n",
    "import quantities as pq\n",
    "import seaborn as sns\n",
    "from tools_plot import savefig, fix_figure, despine, set_style, label_diff, add_caption\n",
    "from tools_analysis import permutation_resampling\n",
    "import copy"
   ]
  },
  {
   "cell_type": "code",
   "execution_count": 13,
   "metadata": {},
   "outputs": [],
   "source": [
    "all_data = pd.read_csv('results/params_1_analyse_30000.csv')"
   ]
  },
  {
   "cell_type": "code",
   "execution_count": 14,
   "metadata": {},
   "outputs": [],
   "source": [
    "N_pairs = all_data.shape[0]\n",
    "analys = all_data.loc[(all_data.pfast < 0.01) & (all_data.ppeak < 0.01) & (all_data.hit_rate < 0.9),:]"
   ]
  },
  {
   "cell_type": "code",
   "execution_count": 15,
   "metadata": {},
   "outputs": [],
   "source": [
    "def model(x):\n",
    "    return 1/(1+np.exp(-x))"
   ]
  },
  {
   "cell_type": "code",
   "execution_count": 16,
   "metadata": {},
   "outputs": [
    {
     "name": "stderr",
     "output_type": "stream",
     "text": [
      "/home/mikkel/.virtualenvs/main/lib/python3.5/site-packages/pandas/core/indexing.py:357: SettingWithCopyWarning: \n",
      "A value is trying to be set on a copy of a slice from a DataFrame.\n",
      "Try using .loc[row_indexer,col_indexer] = value instead\n",
      "\n",
      "See the caveats in the documentation: http://pandas.pydata.org/pandas-docs/stable/indexing.html#indexing-view-versus-copy\n",
      "  self.obj[key] = _infer_fill_value(value)\n",
      "/home/mikkel/.virtualenvs/main/lib/python3.5/site-packages/pandas/core/indexing.py:537: SettingWithCopyWarning: \n",
      "A value is trying to be set on a copy of a slice from a DataFrame.\n",
      "Try using .loc[row_indexer,col_indexer] = value instead\n",
      "\n",
      "See the caveats in the documentation: http://pandas.pydata.org/pandas-docs/stable/indexing.html#indexing-view-versus-copy\n",
      "  self.obj[item] = s\n"
     ]
    }
   ],
   "source": [
    "analys.loc[:,'logit'] = model(analys.loc[:,'logreg'] + analys.loc[:,'logreg_intercept'])"
   ]
  },
  {
   "cell_type": "markdown",
   "metadata": {},
   "source": [
    "# False Estimates"
   ]
  },
  {
   "cell_type": "code",
   "execution_count": 17,
   "metadata": {},
   "outputs": [],
   "source": [
    "fp = pd.DataFrame()\n",
    "TOL = 0.05\n",
    "fp = pd.concat([\n",
    "    analys.loc[(analys.weight == 0), 'iv_wald'].rename('IV'),\n",
    "    analys.loc[(analys.weight == 0), 'cch'].rename('CCH'),\n",
    "    analys.loc[(analys.weight == 0), 'logit'].rename('LOGIT')], \n",
    "    axis=1)\n",
    "\n",
    "include = ['cch', 'iv_wald', 'logit', 'weight']\n",
    "tmp = analys.loc[analys.weight > TOL, include]\n",
    "fn = pd.concat(\n",
    "    [tmp.loc[abs(tmp['iv_wald']) <= TOL, 'weight'].rename('IV'),\n",
    "    tmp.loc[tmp['logit'] <= TOL, 'weight'].rename('LOGIT'),\n",
    "    tmp.loc[tmp['cch'] <= TOL, 'weight'].rename('CCH')],\n",
    "    axis=1)"
   ]
  },
  {
   "cell_type": "code",
   "execution_count": 18,
   "metadata": {},
   "outputs": [],
   "source": [
    "save = True\n",
    "if save: set_style('article')\n",
    "if not save: set_style('notebook')\n",
    "include = ['CCH','LOGIT', 'IV']#, 'CCH IV']"
   ]
  },
  {
   "cell_type": "code",
   "execution_count": 26,
   "metadata": {},
   "outputs": [
    {
     "data": {
      "image/png": "[encoded data removed]",
      "text/plain": [
       "<Figure size 358.56x144 with 2 Axes>"
      ]
     },
     "metadata": {},
     "output_type": "display_data"
    }
   ],
   "source": [
    "# False positive\n",
    "fig, (ax_fp, ax_fn) = plt.subplots(1, 2, gridspec_kw={'wspace': 0.4})\n",
    "\n",
    "sns.boxplot(data=fp.loc[:,include], palette=['b', 'g', 'r'], ax=ax_fp)\n",
    "for key, pos_x, pos_y in zip(['CCH','LOGIT'], [0, 1], [1.2, 1.00]):\n",
    "    case = fp.loc[:,['IV']].dropna().values.flatten()\n",
    "    control = fp.loc[:,[key]].dropna().values.flatten()\n",
    "    pval, observed_diff, diffs = permutation_resampling(case, control, 1000, statistic=np.median)\n",
    "    txt = 'p = {:.2f}, $\\\\Delta$ = {:.3f}'.format(pval, observed_diff)\n",
    "    label_diff(pos_x, 2, pos_y, txt, ax_fp)\n",
    "N = fp.shape[0]\n",
    "ypos = 1.4\n",
    "for xpos, name in zip([0, 1, 2], include):\n",
    "    text = '{:.1f}\\%'.format((sum(abs(fp[name]) > TOL) / N) * 100)\n",
    "    ax_fp.text(xpos, ypos, text, ha='center', va='bottom', color='k')\n",
    "sns.despine(ax=ax_fp)\n",
    "ax_fp.set_ylabel('False positive')\n",
    "\n",
    "# False negative\n",
    "sns.boxplot(data=fn.loc[:,include], palette=['b', 'g', 'r'], ax=ax_fn)\n",
    "for key, pos_x, pos_y in zip(['CCH'], [0, 1], [.5, 0.9]):\n",
    "    case = fn.loc[:,['IV']].dropna().values.flatten()\n",
    "    control = fn.loc[:,[key]].dropna().values.flatten()\n",
    "#     print(len(control))\n",
    "    pval, observed_diff, diffs = permutation_resampling(case, control, 1000, statistic=np.nanmedian)\n",
    "    txt = 'p = {:.2f}, $\\\\Delta$ = {:.3f}'.format(pval, observed_diff)\n",
    "    label_diff(pos_x, 2, pos_y, txt, ax_fn)\n",
    "N = analys.shape[0] / 100\n",
    "for x, name in zip([0, 1, 2], include):\n",
    "    text = '{:.1f}\\%'.format(len(fn[name].dropna()) / tmp.shape[0])\n",
    "    ax_fn.text(x, .58, text, ha='center', va='bottom', color='k')\n",
    "sns.despine()\n",
    "ax_fn.set_ylabel('False negative')\n",
    "\n",
    "add_caption(ax=(ax_fp, ax_fn))\n",
    "if save: savefig(plt.gcf(), 'false_estimate')"
   ]
  },
  {
   "cell_type": "code",
   "execution_count": null,
   "metadata": {},
   "outputs": [],
   "source": []
  }
 ],
 "metadata": {
  "kernelspec": {
   "display_name": "Python 3",
   "language": "python",
   "name": "python3"
  },
  "language_info": {
   "codemirror_mode": {
    "name": "ipython",
    "version": 3
   },
   "file_extension": ".py",
   "mimetype": "text/x-python",
   "name": "python",
   "nbconvert_exporter": "python",
   "pygments_lexer": "ipython3",
   "version": "3.5.2"
  }
 },
 "nbformat": 4,
 "nbformat_minor": 2
}
