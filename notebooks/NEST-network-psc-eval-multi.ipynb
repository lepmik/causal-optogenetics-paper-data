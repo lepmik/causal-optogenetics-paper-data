{
 "cells": [
  {
   "cell_type": "code",
   "execution_count": 1,
   "metadata": {},
   "outputs": [
    {
     "name": "stdout",
     "output_type": "stream",
     "text": [
      "INFO: Pandarallel will run on 8 workers.\n",
      "INFO: Pandarallel will use Memory file system to transfer data between the main process and workers.\n"
     ]
    }
   ],
   "source": [
    "%matplotlib inline\n",
    "%load_ext autoreload\n",
    "%autoreload 2\n",
    "import sys\n",
    "sys.path.append('..')\n",
    "from simulator_psc import Simulator\n",
    "from tools_analysis import corrcoef, coef_var\n",
    "import matplotlib.pyplot as plt\n",
    "from matplotlib.gridspec import GridSpec, GridSpecFromSubplotSpec\n",
    "import pandas as pd\n",
    "import numpy as np\n",
    "import quantities as pq\n",
    "import seaborn as sns\n",
    "from tools_plot import savefig, fix_figure, set_style, despine, add_caption, regplot, scatterplot\n",
    "import copy\n",
    "from IPython.display import display\n",
    "from collections import defaultdict\n",
    "from tqdm.notebook import tqdm_notebook as tqdm\n",
    "tqdm.pandas()\n",
    "import pathlib\n",
    "\n",
    "from pandarallel import pandarallel\n",
    "\n",
    "import dask.dataframe as dsk\n",
    "\n",
    "pandarallel.initialize(progress_bar=True)"
   ]
  },
  {
   "cell_type": "code",
   "execution_count": 2,
   "metadata": {},
   "outputs": [],
   "source": [
    "plt.rc('axes', titlesize=12)\n",
    "plt.rcParams.update({\n",
    "    'font.size': 12, \n",
    "    'figure.figsize': (6, 4), \n",
    "    'figure.dpi': 150\n",
    "})"
   ]
  },
  {
   "cell_type": "code",
   "execution_count": 3,
   "metadata": {},
   "outputs": [],
   "source": [
    "def load_data(path):\n",
    "    spikes_ex, spikes_in = [], []\n",
    "    for f in path.iterdir():\n",
    "        if f.suffix == '.gdf':\n",
    "            df = dsk.read_csv(\n",
    "                f, sep='\\t', header=None).rename(columns={0:'sender', 1:'times'}).drop(columns=2)\n",
    "            if f.stem.startswith('ex'):\n",
    "                spikes_ex.append(df)\n",
    "\n",
    "    spikes_ex = dsk.concat(spikes_ex)\n",
    "\n",
    "    spikes_ex.compute()\n",
    "\n",
    "    spiketrains_ex = spikes_ex.groupby('sender')\n",
    "\n",
    "    stim_data = np.load(path / 'stimulation_data_0.npz', allow_pickle=True)['data'][()]\n",
    "    stim_times = np.array(stim_data['times'])\n",
    "#     stim_durations = np.array(stim_data['durations'])\n",
    "    return spiketrains_ex, stim_times"
   ]
  },
  {
   "cell_type": "code",
   "execution_count": 55,
   "metadata": {},
   "outputs": [],
   "source": [
    "def make_trials(stim_times, spikes, t1, t2):\n",
    "    trials = []\n",
    "    for i, t in enumerate(stim_times):\n",
    "        idx = np.searchsorted(spikes, [t + t1, t + t2], side='right')\n",
    "        trials.append(spikes[idx[0]: idx[1]] - t)\n",
    "    return trials"
   ]
  },
  {
   "cell_type": "code",
   "execution_count": 56,
   "metadata": {},
   "outputs": [],
   "source": [
    "def compute_stim_response(stim_times, spikes, x1, x2):\n",
    "    stim_win = np.insert(\n",
    "        stim_times + x1,\n",
    "        np.arange(len(stim_times)) + 1,\n",
    "        stim_times + x2)\n",
    "    src_y = np.searchsorted(spikes, stim_win, side='right')\n",
    "    cnt_y = np.diff(src_y.reshape((int(len(src_y) / 2), 2)))\n",
    "    Y = cnt_y.flatten()\n",
    "    return Y.astype(bool).astype(int)"
   ]
  },
  {
   "cell_type": "code",
   "execution_count": 139,
   "metadata": {},
   "outputs": [],
   "source": [
    "def plot_density(trials, sigma, raster=False, shade=None, **kwargs):\n",
    "    from scipy.stats import gaussian_kde\n",
    "    spikes = [a for b in trials for a in b]\n",
    "    kernel = gaussian_kde(spikes, sigma)\n",
    "    times = np.arange(-4, 15, 0.01)\n",
    "    plt.plot(times, kernel(times), **kwargs)\n",
    "    \n",
    "    if raster:\n",
    "        trial_ids = [a for i, b in enumerate(trials) for a in [i] * len(b)]\n",
    "        plt.scatter(spikes, trial_ids, s=1)\n",
    "    if shade is not None:\n",
    "        plt.axvspan(*shade, color='cyan', alpha=.3)\n",
    "#         plt.axvspan(3, 8, color='r', alpha=.3)"
   ]
  },
  {
   "cell_type": "code",
   "execution_count": 170,
   "metadata": {},
   "outputs": [],
   "source": [
    "z1=-3\n",
    "z2=-1\n",
    "x1=1\n",
    "x2=3\n",
    "y1=3\n",
    "y2=7\n",
    "yb1=-2\n",
    "yb2=0\n",
    "\n",
    "def compute_trials(spiketrains_ex, stim_times, A, C):\n",
    "    A_spikes = np.sort(spiketrains_ex.get_group(A).times.compute().values)\n",
    "    C_spikes = np.sort(spiketrains_ex.get_group(C).times.compute().values)\n",
    "\n",
    "    C_trials = np.array(make_trials(stim_times, C_spikes, -5, 15))\n",
    "\n",
    "    A_trials = np.array(make_trials(stim_times, A_spikes, -5, 15))\n",
    "\n",
    "    Z = compute_stim_response(stim_times, A_spikes, z1, z2)\n",
    "    X = compute_stim_response(stim_times, A_spikes, x1, x2)\n",
    "    Y = compute_stim_response(stim_times, C_spikes, y1, y2)\n",
    "    Yb = compute_stim_response(stim_times, C_spikes, yb1, yb2)\n",
    "    \n",
    "    return A_trials, C_trials, Z, X, Y, Yb"
   ]
  },
  {
   "cell_type": "code",
   "execution_count": 171,
   "metadata": {},
   "outputs": [],
   "source": [
    "# base_path = pathlib.Path('/media/storage_hdd3T/causal_opto_data/container_results_branch')\n",
    "base_path = pathlib.Path('/media/storage_hdd3T/causal_opto_data/container_results_branch_osc_poisson')"
   ]
  },
  {
   "cell_type": "code",
   "execution_count": 172,
   "metadata": {},
   "outputs": [],
   "source": [
    "paths = sorted(\n",
    "    [p for p in base_path.glob('results_*') if p.is_dir()], \n",
    "    key=lambda x: int(x.stem.split('_')[-1])\n",
    ")"
   ]
  },
  {
   "cell_type": "code",
   "execution_count": 173,
   "metadata": {},
   "outputs": [],
   "source": [
    "data = {}"
   ]
  },
  {
   "cell_type": "code",
   "execution_count": 174,
   "metadata": {},
   "outputs": [],
   "source": [
    "# Connected\n",
    "# A, C = 148, 934\n",
    "# A, C = 1070, 2371\n",
    "\n",
    "# Not connected\n",
    "A, C = 1094, 885\n",
    "# A, C = 2973, 489\n",
    "\n",
    "pair = '{}-{}'.format(A,C)"
   ]
  },
  {
   "cell_type": "code",
   "execution_count": 175,
   "metadata": {},
   "outputs": [
    {
     "data": {
      "application/vnd.jupyter.widget-view+json": {
       "model_id": "90866e87de1b4e12b0e5cbcf7409985d",
       "version_major": 2,
       "version_minor": 0
      },
      "text/html": [
       "<p>Failed to display Jupyter Widget of type <code>HBox</code>.</p>\n",
       "<p>\n",
       "  If you're reading this message in the Jupyter Notebook or JupyterLab Notebook, it may mean\n",
       "  that the widgets JavaScript is still loading. If this message persists, it\n",
       "  likely means that the widgets JavaScript library is either not installed or\n",
       "  not enabled. See the <a href=\"https://ipywidgets.readthedocs.io/en/stable/user_install.html\">Jupyter\n",
       "  Widgets Documentation</a> for setup instructions.\n",
       "</p>\n",
       "<p>\n",
       "  If you're reading this message in another frontend (for example, a static\n",
       "  rendering on GitHub or <a href=\"https://nbviewer.jupyter.org/\">NBViewer</a>),\n",
       "  it may mean that your frontend doesn't currently support widgets.\n",
       "</p>\n"
      ],
      "text/plain": [
       "HBox(children=(IntProgress(value=0, max=30), HTML(value='')))"
      ]
     },
     "metadata": {},
     "output_type": "display_data"
    },
    {
     "name": "stdout",
     "output_type": "stream",
     "text": [
      "\n"
     ]
    }
   ],
   "source": [
    "for path in tqdm(paths[:30]):\n",
    "    stem = path.stem\n",
    "    if stem not in data:\n",
    "        spiketrains_ex, stim_times = load_data(path)\n",
    "        data[stem] = {\n",
    "            'spiketrains_ex': spiketrains_ex,\n",
    "            'stim_times': stim_times\n",
    "        }\n",
    "    else:\n",
    "        spiketrains_ex = data[stem]['spiketrains_ex']\n",
    "        stim_times = data[stem]['stim_times']\n",
    "        \n",
    "    if pair not in data[stem]:\n",
    "        A_trials, C_trials, Z, X, Y, Yb = compute_trials(spiketrains_ex, stim_times, A, C)\n",
    "\n",
    "        data[stem][pair] = {\n",
    "            'A_trials': A_trials, \n",
    "            'C_trials': C_trials,\n",
    "            'Z': Z, \n",
    "            'X': X, \n",
    "            'Y': Y,\n",
    "            'Yb': Yb\n",
    "        }"
   ]
  },
  {
   "cell_type": "code",
   "execution_count": 176,
   "metadata": {},
   "outputs": [],
   "source": [
    "A_trials = np.concatenate([v[pair]['A_trials'] for v in data.values()])\n",
    "C_trials = np.concatenate([v[pair]['C_trials'] for v in data.values()])\n",
    "Z = np.concatenate([v[pair]['Z'] for v in data.values()])\n",
    "X = np.concatenate([v[pair]['X'] for v in data.values()])\n",
    "Y = np.concatenate([v[pair]['Y'] for v in data.values()])\n",
    "Yb = np.concatenate([v[pair]['Yb'] for v in data.values()])"
   ]
  },
  {
   "cell_type": "code",
   "execution_count": 177,
   "metadata": {},
   "outputs": [
    {
     "data": {
      "text/plain": [
       "3913"
      ]
     },
     "execution_count": 177,
     "metadata": {},
     "output_type": "execute_result"
    }
   ],
   "source": [
    "sum(Z==1)"
   ]
  },
  {
   "cell_type": "code",
   "execution_count": 178,
   "metadata": {},
   "outputs": [
    {
     "data": {
      "text/plain": [
       "121065"
      ]
     },
     "execution_count": 178,
     "metadata": {},
     "output_type": "execute_result"
    }
   ],
   "source": [
    "sum(Y==1)"
   ]
  },
  {
   "cell_type": "code",
   "execution_count": 182,
   "metadata": {},
   "outputs": [
    {
     "name": "stdout",
     "output_type": "stream",
     "text": [
      "0.08286112293396475 0.11943176290127586\n"
     ]
    }
   ],
   "source": [
    "beta = Y[X==1].mean() - Y[X==0].mean()\n",
    "beta_iv = (\n",
    "    Y[(Z==0) & (X==1)].mean() - Y[(Z==1) & (X==0)].mean() + \n",
    "    Yb[(Z==0) & (X==1)].mean() - Yb[(Z==1) & (X==0)].mean()\n",
    ")\n",
    "print(beta, beta_iv)"
   ]
  },
  {
   "cell_type": "code",
   "execution_count": 180,
   "metadata": {},
   "outputs": [
    {
     "data": {
      "text/plain": [
       "Text(0.5,1,'beta_iv = 0.1260, beta = 0.0829')"
      ]
     },
     "execution_count": 180,
     "metadata": {},
     "output_type": "execute_result"
    },
    {
     "data": {
      "image/png": "[encoded data removed]",
      "text/plain": [
       "<Figure size 900x600 with 1 Axes>"
      ]
     },
     "metadata": {},
     "output_type": "display_data"
    }
   ],
   "source": [
    "sigma = 0.03\n",
    "plot_density(C_trials[Z==1], sigma, color='k', label='Y|Z=1')\n",
    "plot_density(C_trials[X==0], sigma, color='grey', label='Y|X=0')\n",
    "plot_density(C_trials[X==1], sigma, color='b', shade=[y1, y2], label='Y|X=1')\n",
    "# plot_density(A_trials, 0.01, color='y', shade=[x1, x2], label='X')\n",
    "plt.legend()\n",
    "plt.title('beta_iv = {:.4f}, beta = {:.4f}'.format(beta_iv, beta))"
   ]
  },
  {
   "cell_type": "code",
   "execution_count": null,
   "metadata": {},
   "outputs": [],
   "source": []
  },
  {
   "cell_type": "code",
   "execution_count": 157,
   "metadata": {},
   "outputs": [],
   "source": [
    "# plot_density(\n",
    "#     [c - a for c, a in zip(C_trials[Z==1], A_trials[Z==1]) if len(c) == len(a)], \n",
    "#     sigma, color='k', label='Y|Z=1')\n",
    "# plot_density(\n",
    "#     [c - a for c, a in zip(C_trials[X==0], A_trials[X==0]) if len(c) == len(a)], \n",
    "#     sigma, color='grey', label='Y|X=0')\n",
    "# plot_density(\n",
    "#     [c - a for c, a in zip(C_trials[X==1], A_trials[X==1]) if len(c) == len(a)], \n",
    "#     sigma, color='b', shade=[y1, y2], label='Y|X=1')\n",
    "# plot_density(C_trials[X==1], sigma, color='b', ls='--', shade=[y1, y2], label='Y|X=1')\n",
    "# plt.legend()"
   ]
  }
 ],
 "metadata": {
  "kernelspec": {
   "display_name": "Python 3",
   "language": "python",
   "name": "python3"
  },
  "language_info": {
   "codemirror_mode": {
    "name": "ipython",
    "version": 3
   },
   "file_extension": ".py",
   "mimetype": "text/x-python",
   "name": "python",
   "nbconvert_exporter": "python",
   "pygments_lexer": "ipython3",
   "version": "3.5.2"
  }
 },
 "nbformat": 4,
 "nbformat_minor": 2
}
