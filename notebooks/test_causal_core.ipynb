{
 "cells": [
  {
   "cell_type": "code",
   "execution_count": 1,
   "metadata": {},
   "outputs": [],
   "source": [
    "%load_ext autoreload\n",
    "%autoreload 2"
   ]
  },
  {
   "cell_type": "code",
   "execution_count": 2,
   "metadata": {},
   "outputs": [],
   "source": [
    "from causal_optoconnectics.core import find_first_response_spike, find_response_spikes\n",
    "import numpy as np"
   ]
  },
  {
   "cell_type": "code",
   "execution_count": 30,
   "metadata": {},
   "outputs": [
    {
     "data": {
      "text/plain": [
       "(array([False,  True, False,  True, False]),\n",
       " [array([0.11, 0.12]),\n",
       "  array([0.13]),\n",
       "  array([0.14, 0.15]),\n",
       "  array([0.16]),\n",
       "  array([0.17])],\n",
       " [array([0.13, 0.23]),\n",
       "  array([], dtype=float64),\n",
       "  array([0.2]),\n",
       "  array([0.1]),\n",
       "  array([], dtype=float64)])"
      ]
     },
     "execution_count": 30,
     "metadata": {},
     "output_type": "execute_result"
    }
   ],
   "source": [
    "s = np.array([\n",
    "    1, \n",
    "    2, \n",
    "    3, \n",
    "    4, \n",
    "    5])\n",
    "a = np.array([\n",
    "    .1, .99, # before 1 (Z False)\n",
    "    1.11, 1.12, # after 1\n",
    "    2, # before 2 (Z True)\n",
    "    2.13, # after 2\n",
    "    3.14, 3.15, # after 3\n",
    "    3.999, # before 4 (Z True)\n",
    "    4.16, # after 4\n",
    "    5.17# before 1\n",
    "])\n",
    "c = np.array([\n",
    "    .2, \n",
    "    1.13, 1.23, \n",
    "    2.34, \n",
    "    3.2, \n",
    "    4.1, \n",
    "    5.5])\n",
    "find_response_spikes(a, c, s, dt=.3, dz=0.01)"
   ]
  },
  {
   "cell_type": "code",
   "execution_count": 25,
   "metadata": {},
   "outputs": [
    {
     "data": {
      "text/plain": [
       "0.010000000000000009"
      ]
     },
     "execution_count": 25,
     "metadata": {},
     "output_type": "execute_result"
    }
   ],
   "source": [
    "1-0.99"
   ]
  }
 ],
 "metadata": {
  "kernelspec": {
   "display_name": "Python 3",
   "language": "python",
   "name": "python3"
  },
  "language_info": {
   "codemirror_mode": {
    "name": "ipython",
    "version": 3
   },
   "file_extension": ".py",
   "mimetype": "text/x-python",
   "name": "python",
   "nbconvert_exporter": "python",
   "pygments_lexer": "ipython3",
   "version": "3.5.2"
  }
 },
 "nbformat": 4,
 "nbformat_minor": 2
}
