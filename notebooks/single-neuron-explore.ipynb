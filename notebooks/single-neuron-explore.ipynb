{
 "cells": [
  {
   "cell_type": "code",
   "execution_count": 1,
   "metadata": {},
   "outputs": [],
   "source": [
    "%matplotlib inline\n",
    "%load_ext autoreload\n",
    "%autoreload 2\n",
    "import sys\n",
    "sys.path.append('..')\n",
    "from simulator import Simulator, nest\n",
    "from tools_analysis import corrcoef, coef_var\n",
    "import matplotlib.pyplot as plt\n",
    "from matplotlib.gridspec import GridSpec, GridSpecFromSubplotSpec\n",
    "import pandas as pd\n",
    "import numpy as np\n",
    "import quantities as pq\n",
    "import seaborn as sns\n",
    "from tools_plot import savefig, fix_figure, set_style, despine, add_caption\n",
    "import copy\n",
    "from IPython.display import display\n",
    "\n",
    "from tqdm._tqdm_notebook import tqdm_notebook\n",
    "tqdm_notebook.pandas()\n",
    "from tqdm import tqdm_notebook as tqdm\n",
    "\n",
    "from causal_optoconnectics.core import hit_rate"
   ]
  },
  {
   "cell_type": "code",
   "execution_count": 2,
   "metadata": {},
   "outputs": [],
   "source": [
    "plt.rcParams['figure.figsize'] = (8,4)"
   ]
  },
  {
   "cell_type": "code",
   "execution_count": null,
   "metadata": {},
   "outputs": [],
   "source": []
  },
  {
   "cell_type": "code",
   "execution_count": 22,
   "metadata": {
    "scrolled": false
   },
   "outputs": [
    {
     "name": "stdout",
     "output_type": "stream",
     "text": [
      "Setting kernel\n",
      "Setting neurons\n",
      "Setting connections\n",
      "Setting spike recording\n",
      "Setting state recording\n"
     ]
    }
   ],
   "source": [
    "from params_test import parameters\n",
    "sim = Simulator(\n",
    "    parameters, N_neurons=3, N_ex=2, N_in=1, fname='network_raster', data_path='results')\n",
    "\n",
    "print('Setting kernel')\n",
    "sim.set_kernel()\n",
    "\n",
    "print('Setting neurons')\n",
    "sim.set_neurons()\n",
    "\n",
    "# print('Setting background')\n",
    "# sim.set_background()\n",
    "\n",
    "spikes = nest.Create(\"spike_generator\", 1,\n",
    "                              params={\"spike_times\": np.arange(1,1000,100.)})\n",
    "nest.Connect(spikes, sim.nodes,\n",
    "             syn_spec={\"weight\": 5, \"delay\": sim.p['res']})\n",
    "\n",
    "nest.Create('spike_generator')\n",
    "\n",
    "print('Setting connections')\n",
    "sim.set_connections_simple()\n",
    "\n",
    "if sim.p.get('gauss_mean') or sim.p.get('gauss_std'):\n",
    "    print('Setting channelnoise')\n",
    "    sim.set_channelnoise()\n",
    "    \n",
    "print('Setting spike recording')\n",
    "sim.set_spike_rec()\n",
    "\n",
    "print('Setting state recording')\n",
    "sim.set_state_rec()\n",
    "\n",
    "nest.Simulate(1000)\n",
    "\n",
    "data = sim.data"
   ]
  },
  {
   "cell_type": "code",
   "execution_count": 23,
   "metadata": {},
   "outputs": [
    {
     "data": {
      "application/vnd.jupyter.widget-view+json": {
       "model_id": "01da68f78b9b46d29c1881e1b78fd12f",
       "version_major": 2,
       "version_minor": 0
      },
      "text/html": [
       "<p>Failed to display Jupyter Widget of type <code>HBox</code>.</p>\n",
       "<p>\n",
       "  If you're reading this message in the Jupyter Notebook or JupyterLab Notebook, it may mean\n",
       "  that the widgets JavaScript is still loading. If this message persists, it\n",
       "  likely means that the widgets JavaScript library is either not installed or\n",
       "  not enabled. See the <a href=\"https://ipywidgets.readthedocs.io/en/stable/user_install.html\">Jupyter\n",
       "  Widgets Documentation</a> for setup instructions.\n",
       "</p>\n",
       "<p>\n",
       "  If you're reading this message in another frontend (for example, a static\n",
       "  rendering on GitHub or <a href=\"https://nbviewer.jupyter.org/\">NBViewer</a>),\n",
       "  it may mean that your frontend doesn't currently support widgets.\n",
       "</p>\n"
      ],
      "text/plain": [
       "HBox(children=(IntProgress(value=1, bar_style='info', max=1), HTML(value='')))"
      ]
     },
     "metadata": {},
     "output_type": "display_data"
    },
    {
     "name": "stdout",
     "output_type": "stream",
     "text": [
      "\n"
     ]
    }
   ],
   "source": [
    "senders = sim.data['spiketrains']['ex']['senders']\n",
    "times = sim.data['spiketrains']['ex']['times']\n",
    "sender_ids = np.unique(senders)\n",
    "\n",
    "spiketrains = {\n",
    "    sender: times[sender==senders] for sender in tqdm(sender_ids)}"
   ]
  },
  {
   "cell_type": "code",
   "execution_count": 24,
   "metadata": {},
   "outputs": [
    {
     "data": {
      "application/vnd.jupyter.widget-view+json": {
       "model_id": "64c068937efb473996b13f7b448b0a7b",
       "version_major": 2,
       "version_minor": 0
      },
      "text/html": [
       "<p>Failed to display Jupyter Widget of type <code>HBox</code>.</p>\n",
       "<p>\n",
       "  If you're reading this message in the Jupyter Notebook or JupyterLab Notebook, it may mean\n",
       "  that the widgets JavaScript is still loading. If this message persists, it\n",
       "  likely means that the widgets JavaScript library is either not installed or\n",
       "  not enabled. See the <a href=\"https://ipywidgets.readthedocs.io/en/stable/user_install.html\">Jupyter\n",
       "  Widgets Documentation</a> for setup instructions.\n",
       "</p>\n",
       "<p>\n",
       "  If you're reading this message in another frontend (for example, a static\n",
       "  rendering on GitHub or <a href=\"https://nbviewer.jupyter.org/\">NBViewer</a>),\n",
       "  it may mean that your frontend doesn't currently support widgets.\n",
       "</p>\n"
      ],
      "text/plain": [
       "HBox(children=(IntProgress(value=0, max=2), HTML(value='')))"
      ]
     },
     "metadata": {},
     "output_type": "display_data"
    },
    {
     "name": "stdout",
     "output_type": "stream",
     "text": [
      "\n"
     ]
    }
   ],
   "source": [
    "senders = sim.data['state']['ex']['senders']\n",
    "V_m = sim.data['state']['ex']['V_m']\n",
    "times = sim.data['state']['ex']['times']\n",
    "sender_ids = np.unique(senders)\n",
    "\n",
    "state = {\n",
    "    sender: {'V_m': V_m[sender==senders], 'times': times[sender==senders]} for sender in tqdm(sender_ids)}"
   ]
  },
  {
   "cell_type": "code",
   "execution_count": 25,
   "metadata": {},
   "outputs": [
    {
     "data": {
      "text/plain": [
       "[<matplotlib.lines.Line2D at 0x7f3290182ac8>]"
      ]
     },
     "execution_count": 25,
     "metadata": {},
     "output_type": "execute_result"
    },
    {
     "data": {
      "image/png": "[encoded data removed]",
      "text/plain": [
       "<Figure size 576x288 with 1 Axes>"
      ]
     },
     "metadata": {},
     "output_type": "display_data"
    }
   ],
   "source": [
    "neuron_id = 1\n",
    "plt.plot(state[neuron_id]['times'], state[neuron_id]['V_m'])\n",
    "# plt.scatter(spiketrains[2], [-50] * len(spiketrains[2]), marker='|', s=1000, color='r')"
   ]
  },
  {
   "cell_type": "code",
   "execution_count": null,
   "metadata": {},
   "outputs": [],
   "source": []
  }
 ],
 "metadata": {
  "kernelspec": {
   "display_name": "Python 3",
   "language": "python",
   "name": "python3"
  },
  "language_info": {
   "codemirror_mode": {
    "name": "ipython",
    "version": 3
   },
   "file_extension": ".py",
   "mimetype": "text/x-python",
   "name": "python",
   "nbconvert_exporter": "python",
   "pygments_lexer": "ipython3",
   "version": "3.5.2"
  }
 },
 "nbformat": 4,
 "nbformat_minor": 2
}
