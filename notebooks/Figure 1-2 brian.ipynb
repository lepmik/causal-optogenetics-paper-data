{
 "cells": [
  {
   "cell_type": "code",
   "execution_count": 1,
   "metadata": {},
   "outputs": [],
   "source": [
    "%load_ext autoreload\n",
    "%autoreload 2"
   ]
  },
  {
   "cell_type": "code",
   "execution_count": 27,
   "metadata": {},
   "outputs": [],
   "source": [
    "import os\n",
    "import imp\n",
    "import os.path as op\n",
    "import numpy as np\n",
    "import matplotlib.pyplot as plt\n",
    "from tqdm import tqdm\n",
    "import elephant\n",
    "import pickle as pkl\n",
    "from brian2 import ms, second\n",
    "import pdb\n",
    "import sys\n",
    "import pandas as pd\n",
    "from tqdm.notebook import tqdm_notebook as tqdm"
   ]
  },
  {
   "cell_type": "code",
   "execution_count": 6,
   "metadata": {},
   "outputs": [],
   "source": [
    "d = np.load('../simulations_J_AC_osc_brian2.npz', allow_pickle=True)['data'][()]"
   ]
  },
  {
   "cell_type": "code",
   "execution_count": 8,
   "metadata": {},
   "outputs": [
    {
     "data": {
      "text/plain": [
       "dict_keys(['spk_base_i', 'spk_branch_t', 'stim_times', 'spk_branch_i', 'J_AC', 'spk_base_t'])"
      ]
     },
     "execution_count": 8,
     "metadata": {},
     "output_type": "execute_result"
    }
   ],
   "source": [
    "d.keys()"
   ]
  },
  {
   "cell_type": "code",
   "execution_count": 46,
   "metadata": {},
   "outputs": [],
   "source": [
    "J_AC, stim_times, spk_base_i, spk_base_t, spk_branch_i, spk_branch_t = map(\n",
    "    d.get, ['J_AC', 'stim_times', 'spk_base_i', 'spk_base_t', 'spk_branch_i', 'spk_branch_t'])"
   ]
  },
  {
   "cell_type": "code",
   "execution_count": 73,
   "metadata": {},
   "outputs": [],
   "source": [
    "x1 = 0\n",
    "x2 = 2\n",
    "y1 = 1\n",
    "y2 = 8\n",
    "z1 = 3\n",
    "z2 = 0"
   ]
  },
  {
   "cell_type": "code",
   "execution_count": 74,
   "metadata": {},
   "outputs": [],
   "source": [
    "keys = ['stim_times', 'spk_base_i', 'spk_base_t', 'spk_branch_i', 'spk_branch_t']"
   ]
  },
  {
   "cell_type": "code",
   "execution_count": 75,
   "metadata": {},
   "outputs": [
    {
     "data": {
      "application/vnd.jupyter.widget-view+json": {
       "model_id": "87a8a3c64c2f4725b837529b133f2d9e",
       "version_major": 2,
       "version_minor": 0
      },
      "text/html": [
       "<p>Failed to display Jupyter Widget of type <code>HBox</code>.</p>\n",
       "<p>\n",
       "  If you're reading this message in the Jupyter Notebook or JupyterLab Notebook, it may mean\n",
       "  that the widgets JavaScript is still loading. If this message persists, it\n",
       "  likely means that the widgets JavaScript library is either not installed or\n",
       "  not enabled. See the <a href=\"https://ipywidgets.readthedocs.io/en/stable/user_install.html\">Jupyter\n",
       "  Widgets Documentation</a> for setup instructions.\n",
       "</p>\n",
       "<p>\n",
       "  If you're reading this message in another frontend (for example, a static\n",
       "  rendering on GitHub or <a href=\"https://nbviewer.jupyter.org/\">NBViewer</a>),\n",
       "  it may mean that your frontend doesn't currently support widgets.\n",
       "</p>\n"
      ],
      "text/plain": [
       "HBox(children=(IntProgress(value=0, max=76), HTML(value='')))"
      ]
     },
     "metadata": {},
     "output_type": "display_data"
    },
    {
     "name": "stdout",
     "output_type": "stream",
     "text": [
      "\n"
     ]
    }
   ],
   "source": [
    "Zs, Xs, Ys = [], [], []\n",
    "for ii, coupling in enumerate(tqdm(d['J_AC'])):\n",
    "    stim_times, spk_base_i, spk_base_t, spk_branch_i, spk_branch_t = [a[ii] for a in map(d.get, keys)]\n",
    "    Z = np.ones((len(stim_times), 3))\n",
    "    X = np.zeros((len(stim_times), 3))\n",
    "    Y = np.zeros((len(stim_times), 3))\n",
    "    for i, t in enumerate(stim_times):\n",
    "        # spikes \n",
    "        idx = np.searchsorted(spk_base_t, [t - z1, t - z2], side='right')\n",
    "        id_spiked_before_branch = np.unique(spk_base_i[idx[0]: idx[1]])\n",
    "        Z[i,id_spiked_before_branch] = 0\n",
    "        \n",
    "        ids_branch = spk_branch_i[i]\n",
    "        ts_branch = spk_branch_t[i] - t\n",
    "\n",
    "        idx = np.searchsorted(ts_branch, [x1, x2], side='right')\n",
    "        id_spiked = np.unique(ids_branch[idx[0]: idx[1]])\n",
    "        X[i,id_spiked] = 1\n",
    "\n",
    "        idx = np.searchsorted(ts_branch, [y1, y2], side='right')\n",
    "        id_spiked = np.unique(ids_branch[idx[0]: idx[1]])\n",
    "        Y[i,id_spiked] = 1\n",
    "    Zs.append(Z)\n",
    "    Xs.append(X)\n",
    "    Ys.append(Y)"
   ]
  },
  {
   "cell_type": "code",
   "execution_count": 82,
   "metadata": {},
   "outputs": [],
   "source": [
    "a, b, c = [], [], []\n",
    "# for ii, coupling in enumerate(tqdm(d['J_AC'])):\n",
    "ii = 70\n",
    "stim_times, spk_base_i, spk_base_t, spk_branch_i, spk_branch_t = [a[ii] for a in map(d.get, keys)]\n",
    "for i, t in enumerate(stim_times):\n",
    "    b_t, b_i = spk_branch_t[i], spk_branch_i[i]\n",
    "    a.append(b_t[b_i==0] - t)\n",
    "    b.append(b_t[b_i==1] - t)\n",
    "    c.append(b_t[b_i==2] - t)"
   ]
  },
  {
   "cell_type": "code",
   "execution_count": 83,
   "metadata": {},
   "outputs": [
    {
     "data": {
      "image/png": "[encoded data removed]",
      "text/plain": [
       "<Figure size 432x288 with 1 Axes>"
      ]
     },
     "metadata": {},
     "output_type": "display_data"
    }
   ],
   "source": [
    "plt.hist([s for t in a for s in t], bins=15);\n",
    "plt.hist([s for t in c for s in t], bins=15);"
   ]
  },
  {
   "cell_type": "code",
   "execution_count": 84,
   "metadata": {},
   "outputs": [
    {
     "data": {
      "image/png": "[encoded data removed]",
      "text/plain": [
       "<Figure size 432x288 with 1 Axes>"
      ]
     },
     "metadata": {},
     "output_type": "display_data"
    }
   ],
   "source": [
    "plt.hist([s for t in b for s in t], bins=15);\n",
    "plt.hist([s for t in c for s in t], bins=15);"
   ]
  },
  {
   "cell_type": "code",
   "execution_count": 79,
   "metadata": {},
   "outputs": [],
   "source": [
    "beta_a, beta_a_iv = [], []\n",
    "beta_b, beta_b_iv = [], []\n",
    "for i in range(len(Zs)):\n",
    "    Z, X, Y = Zs[i], Xs[i], Ys[i]\n",
    "    Za = Z[:, 0]\n",
    "    Zb = Z[:, 1]\n",
    "    Xa = X[:, 0]\n",
    "    Xb = X[:, 1]\n",
    "    Y = Y[:, 2]\n",
    "#     print(Y.mean(), Xa.mean(), Xb.mean())\n",
    "    beta_a.append(Y[Xa==1].mean() - Y[Xa==0].mean())\n",
    "    beta_b.append(Y[Xb==1].mean() - Y[Xb==0].mean())\n",
    "    beta_a_iv.append(Y[Xa==1].mean() - Y[Za==0].mean())\n",
    "    beta_b_iv.append(Y[Xb==1].mean() - Y[Zb==0].mean())\n",
    "    assert Xa[Za==0].sum() == 0\n",
    "    assert Xb[Zb==0].sum() == 0"
   ]
  },
  {
   "cell_type": "code",
   "execution_count": 80,
   "metadata": {},
   "outputs": [
    {
     "data": {
      "text/plain": [
       "[<matplotlib.lines.Line2D at 0x7fa1d06bacc0>]"
      ]
     },
     "execution_count": 80,
     "metadata": {},
     "output_type": "execute_result"
    },
    {
     "data": {
      "image/png": "[encoded data removed]",
      "text/plain": [
       "<Figure size 432x288 with 1 Axes>"
      ]
     },
     "metadata": {},
     "output_type": "display_data"
    }
   ],
   "source": [
    "plt.plot(J_AC, beta_a)\n",
    "plt.plot(J_AC, beta_b)"
   ]
  },
  {
   "cell_type": "code",
   "execution_count": 81,
   "metadata": {},
   "outputs": [
    {
     "data": {
      "text/plain": [
       "[<matplotlib.lines.Line2D at 0x7fa1d06babe0>]"
      ]
     },
     "execution_count": 81,
     "metadata": {},
     "output_type": "execute_result"
    },
    {
     "data": {
      "image/png": "[encoded data removed]",
      "text/plain": [
       "<Figure size 432x288 with 1 Axes>"
      ]
     },
     "metadata": {},
     "output_type": "display_data"
    }
   ],
   "source": [
    "plt.plot(J_AC, beta_a_iv)\n",
    "plt.plot(J_AC, beta_b_iv)"
   ]
  },
  {
   "cell_type": "code",
   "execution_count": null,
   "metadata": {},
   "outputs": [],
   "source": []
  }
 ],
 "metadata": {
  "kernelspec": {
   "display_name": "Python 3",
   "language": "python",
   "name": "python3"
  },
  "language_info": {
   "codemirror_mode": {
    "name": "ipython",
    "version": 3
   },
   "file_extension": ".py",
   "mimetype": "text/x-python",
   "name": "python",
   "nbconvert_exporter": "python",
   "pygments_lexer": "ipython3",
   "version": "3.5.2"
  }
 },
 "nbformat": 4,
 "nbformat_minor": 2
}
