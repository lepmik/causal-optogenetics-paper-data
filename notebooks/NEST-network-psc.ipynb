{
 "cells": [
  {
   "cell_type": "code",
   "execution_count": 1,
   "metadata": {},
   "outputs": [],
   "source": [
    "%matplotlib inline\n",
    "%load_ext autoreload\n",
    "%autoreload 2\n",
    "import sys\n",
    "sys.path.append('..')\n",
    "from simulator_psc import Simulator\n",
    "from tools_analysis import corrcoef, coef_var\n",
    "import matplotlib.pyplot as plt\n",
    "from matplotlib.gridspec import GridSpec, GridSpecFromSubplotSpec\n",
    "import pandas as pd\n",
    "import numpy as np\n",
    "import quantities as pq\n",
    "import seaborn as sns\n",
    "from tools_plot import savefig, fix_figure, set_style, despine, add_caption, regplot, scatterplot\n",
    "import copy\n",
    "from IPython.display import display\n",
    "from collections import defaultdict\n",
    "from tqdm.notebook import tqdm_notebook as tqdm\n",
    "tqdm.pandas()\n",
    "import pathlib\n",
    "from multiprocessing import  Pool"
   ]
  },
  {
   "cell_type": "code",
   "execution_count": 2,
   "metadata": {},
   "outputs": [],
   "source": [
    "plt.rc('axes', titlesize=12)\n",
    "plt.rcParams.update({\n",
    "    'font.size': 12, \n",
    "    'figure.figsize': (6, 4), \n",
    "    'figure.dpi': 150\n",
    "})"
   ]
  },
  {
   "cell_type": "code",
   "execution_count": 3,
   "metadata": {},
   "outputs": [],
   "source": [
    "# p = pathlib.Path('../cluster/results/')\n",
    "# path = pathlib.Path('../longrun_new/')\n",
    "# path = pathlib.Path('../cluster/long_run_4000/')\n",
    "# path = pathlib.Path('../results/')\n",
    "path = pathlib.Path('/media/storage_ssd/results_400k/')"
   ]
  },
  {
   "cell_type": "code",
   "execution_count": 4,
   "metadata": {},
   "outputs": [],
   "source": [
    "import json\n",
    "with open(str(path / 'params.json'), 'r') as f:\n",
    "    params = json.load(f)\n",
    "\n",
    "t_stop = params['status']['time']"
   ]
  },
  {
   "cell_type": "code",
   "execution_count": null,
   "metadata": {},
   "outputs": [],
   "source": []
  },
  {
   "cell_type": "code",
   "execution_count": 5,
   "metadata": {},
   "outputs": [],
   "source": [
    "conn = pd.read_feather(path / 'connections_0.feather')"
   ]
  },
  {
   "cell_type": "code",
   "execution_count": 6,
   "metadata": {},
   "outputs": [],
   "source": [
    "sender_ids = conn.query('weight >= 0').source.sort_values().unique()"
   ]
  },
  {
   "cell_type": "code",
   "execution_count": 7,
   "metadata": {},
   "outputs": [],
   "source": [
    "stim_data = np.load(path / 'stimulation_data_0.npz', allow_pickle=True)['data'][()]\n",
    "stim_times = np.array(stim_data['times'])\n",
    "stim_durations = np.array(stim_data['durations'])"
   ]
  },
  {
   "cell_type": "code",
   "execution_count": 8,
   "metadata": {},
   "outputs": [
    {
     "data": {
      "application/vnd.jupyter.widget-view+json": {
       "model_id": "7ce27b7fb34245b9ad3d88b3937d90f9",
       "version_major": 2,
       "version_minor": 0
      },
      "text/html": [
       "<p>Failed to display Jupyter Widget of type <code>HBox</code>.</p>\n",
       "<p>\n",
       "  If you're reading this message in the Jupyter Notebook or JupyterLab Notebook, it may mean\n",
       "  that the widgets JavaScript is still loading. If this message persists, it\n",
       "  likely means that the widgets JavaScript library is either not installed or\n",
       "  not enabled. See the <a href=\"https://ipywidgets.readthedocs.io/en/stable/user_install.html\">Jupyter\n",
       "  Widgets Documentation</a> for setup instructions.\n",
       "</p>\n",
       "<p>\n",
       "  If you're reading this message in another frontend (for example, a static\n",
       "  rendering on GitHub or <a href=\"https://nbviewer.jupyter.org/\">NBViewer</a>),\n",
       "  it may mean that your frontend doesn't currently support widgets.\n",
       "</p>\n"
      ],
      "text/plain": [
       "HBox(children=(IntProgress(value=0, max=1600000), HTML(value='')))"
      ]
     },
     "metadata": {},
     "output_type": "display_data"
    },
    {
     "name": "stdout",
     "output_type": "stream",
     "text": [
      "\n"
     ]
    }
   ],
   "source": [
    "conn.loc[:,'source_stimulated'] = conn.source.isin(stim_data['stim_nodes']['ex'])\n",
    "conn.loc[:,'target_stimulated'] = conn.target.isin(stim_data['stim_nodes']['ex'])\n",
    "conn['stim_amp_source'] = conn.progress_apply(\n",
    "    lambda x: stim_data['stim_amps']['ex'].get(x.source, 0), axis=1)"
   ]
  },
  {
   "cell_type": "code",
   "execution_count": 9,
   "metadata": {
    "collapsed": true
   },
   "outputs": [
    {
     "ename": "ValueError",
     "evalue": "Cannot load file containing pickled data when allow_pickle=False",
     "output_type": "error",
     "traceback": [
      "\u001b[0;31m---------------------------------------------------------------------------\u001b[0m",
      "\u001b[0;31mValueError\u001b[0m                                Traceback (most recent call last)",
      "\u001b[0;32m<ipython-input-9-e9d882cf7ab7>\u001b[0m in \u001b[0;36m<module>\u001b[0;34m()\u001b[0m\n\u001b[0;32m----> 1\u001b[0;31m \u001b[0mX\u001b[0m \u001b[0;34m=\u001b[0m \u001b[0mnp\u001b[0m\u001b[0;34m.\u001b[0m\u001b[0mload\u001b[0m\u001b[0;34m(\u001b[0m\u001b[0mpath\u001b[0m \u001b[0;34m/\u001b[0m \u001b[0;34m'X_p.npy'\u001b[0m\u001b[0;34m)\u001b[0m\u001b[0;34m\u001b[0m\u001b[0m\n\u001b[0m\u001b[1;32m      2\u001b[0m \u001b[0mY\u001b[0m \u001b[0;34m=\u001b[0m \u001b[0mnp\u001b[0m\u001b[0;34m.\u001b[0m\u001b[0mload\u001b[0m\u001b[0;34m(\u001b[0m\u001b[0mpath\u001b[0m \u001b[0;34m/\u001b[0m \u001b[0;34m'Y_p.npy'\u001b[0m\u001b[0;34m)\u001b[0m\u001b[0;34m\u001b[0m\u001b[0m\n\u001b[1;32m      3\u001b[0m \u001b[0mZ\u001b[0m \u001b[0;34m=\u001b[0m \u001b[0mnp\u001b[0m\u001b[0;34m.\u001b[0m\u001b[0mload\u001b[0m\u001b[0;34m(\u001b[0m\u001b[0mpath\u001b[0m \u001b[0;34m/\u001b[0m \u001b[0;34m'Z_p.npy'\u001b[0m\u001b[0;34m)\u001b[0m\u001b[0;34m\u001b[0m\u001b[0m\n",
      "\u001b[0;32m~/.virtualenvs/main/lib/python3.5/site-packages/numpy/lib/npyio.py\u001b[0m in \u001b[0;36mload\u001b[0;34m(file, mmap_mode, allow_pickle, fix_imports, encoding)\u001b[0m\n\u001b[1;32m    455\u001b[0m             \u001b[0;31m# Try a pickle\u001b[0m\u001b[0;34m\u001b[0m\u001b[0;34m\u001b[0m\u001b[0m\n\u001b[1;32m    456\u001b[0m             \u001b[0;32mif\u001b[0m \u001b[0;32mnot\u001b[0m \u001b[0mallow_pickle\u001b[0m\u001b[0;34m:\u001b[0m\u001b[0;34m\u001b[0m\u001b[0m\n\u001b[0;32m--> 457\u001b[0;31m                 raise ValueError(\"Cannot load file containing pickled data \"\n\u001b[0m\u001b[1;32m    458\u001b[0m                                  \"when allow_pickle=False\")\n\u001b[1;32m    459\u001b[0m             \u001b[0;32mtry\u001b[0m\u001b[0;34m:\u001b[0m\u001b[0;34m\u001b[0m\u001b[0m\n",
      "\u001b[0;31mValueError\u001b[0m: Cannot load file containing pickled data when allow_pickle=False"
     ]
    }
   ],
   "source": [
    "X = np.load(path / 'X_p.npy')\n",
    "Y = np.load(path / 'Y_p.npy')\n",
    "Z = np.load(path / 'Z_p.npy')"
   ]
  },
  {
   "cell_type": "code",
   "execution_count": 10,
   "metadata": {},
   "outputs": [],
   "source": [
    "X = np.memmap(path / 'X_p.npy', dtype=int, shape=(len(stim_times), len(sender_ids)))\n",
    "Y = np.memmap(path / 'Y_p.npy', dtype=int, shape=(len(stim_times), len(sender_ids)))\n",
    "Z = np.memmap(path / 'Z_p.npy', dtype=int, shape=(len(stim_times), len(sender_ids)))"
   ]
  },
  {
   "cell_type": "markdown",
   "metadata": {},
   "source": [
    "# look at all"
   ]
  },
  {
   "cell_type": "code",
   "execution_count": 12,
   "metadata": {},
   "outputs": [],
   "source": [
    "N = 200\n",
    "# query = 'stim_amp_source > 600 and stim_amp_source < 800 and weight > 0 and not target_stimulated and target_ex'\n",
    "query = 'weight > 0 and not target_stimulated and target in @sender_ids and stim_amp_source > 1'\n",
    "sample = conn.query(query)\n"
   ]
  },
  {
   "cell_type": "code",
   "execution_count": 13,
   "metadata": {},
   "outputs": [
    {
     "data": {
      "text/html": [
       "<div>\n",
       "<style scoped>\n",
       "    .dataframe tbody tr th:only-of-type {\n",
       "        vertical-align: middle;\n",
       "    }\n",
       "\n",
       "    .dataframe tbody tr th {\n",
       "        vertical-align: top;\n",
       "    }\n",
       "\n",
       "    .dataframe thead th {\n",
       "        text-align: right;\n",
       "    }\n",
       "</style>\n",
       "<table border=\"1\" class=\"dataframe\">\n",
       "  <thead>\n",
       "    <tr style=\"text-align: right;\">\n",
       "      <th></th>\n",
       "      <th>weight</th>\n",
       "      <th>source</th>\n",
       "      <th>target</th>\n",
       "      <th>source_stimulated</th>\n",
       "      <th>target_stimulated</th>\n",
       "      <th>stim_amp_source</th>\n",
       "    </tr>\n",
       "  </thead>\n",
       "  <tbody>\n",
       "    <tr>\n",
       "      <th>322552</th>\n",
       "      <td>0.124224</td>\n",
       "      <td>1681</td>\n",
       "      <td>781</td>\n",
       "      <td>True</td>\n",
       "      <td>False</td>\n",
       "      <td>10.0</td>\n",
       "    </tr>\n",
       "    <tr>\n",
       "      <th>674678</th>\n",
       "      <td>0.016991</td>\n",
       "      <td>220</td>\n",
       "      <td>222</td>\n",
       "      <td>True</td>\n",
       "      <td>False</td>\n",
       "      <td>10.0</td>\n",
       "    </tr>\n",
       "    <tr>\n",
       "      <th>989318</th>\n",
       "      <td>0.029958</td>\n",
       "      <td>1681</td>\n",
       "      <td>585</td>\n",
       "      <td>True</td>\n",
       "      <td>False</td>\n",
       "      <td>10.0</td>\n",
       "    </tr>\n",
       "    <tr>\n",
       "      <th>989319</th>\n",
       "      <td>0.019821</td>\n",
       "      <td>1681</td>\n",
       "      <td>861</td>\n",
       "      <td>True</td>\n",
       "      <td>False</td>\n",
       "      <td>10.0</td>\n",
       "    </tr>\n",
       "    <tr>\n",
       "      <th>989320</th>\n",
       "      <td>0.006953</td>\n",
       "      <td>1681</td>\n",
       "      <td>201</td>\n",
       "      <td>True</td>\n",
       "      <td>False</td>\n",
       "      <td>10.0</td>\n",
       "    </tr>\n",
       "  </tbody>\n",
       "</table>\n",
       "</div>"
      ],
      "text/plain": [
       "          weight  source  target  source_stimulated  target_stimulated  \\\n",
       "322552  0.124224    1681     781               True              False   \n",
       "674678  0.016991     220     222               True              False   \n",
       "989318  0.029958    1681     585               True              False   \n",
       "989319  0.019821    1681     861               True              False   \n",
       "989320  0.006953    1681     201               True              False   \n",
       "\n",
       "        stim_amp_source  \n",
       "322552             10.0  \n",
       "674678             10.0  \n",
       "989318             10.0  \n",
       "989319             10.0  \n",
       "989320             10.0  "
      ]
     },
     "execution_count": 13,
     "metadata": {},
     "output_type": "execute_result"
    }
   ],
   "source": [
    "sample.sort_values('stim_amp_source', ascending=False).head()"
   ]
  },
  {
   "cell_type": "code",
   "execution_count": 14,
   "metadata": {},
   "outputs": [
    {
     "name": "stderr",
     "output_type": "stream",
     "text": [
      "/home/mikkel/.virtualenvs/main/lib/python3.5/site-packages/ipykernel_launcher.py:1: SettingWithCopyWarning: \n",
      "A value is trying to be set on a copy of a slice from a DataFrame.\n",
      "Try using .loc[row_indexer,col_indexer] = value instead\n",
      "\n",
      "See the caveats in the documentation: http://pandas.pydata.org/pandas-docs/stable/indexing.html#indexing-view-versus-copy\n",
      "  \"\"\"Entry point for launching an IPython kernel.\n"
     ]
    }
   ],
   "source": [
    "sample['wr'] = sample.weight.round(3)\n",
    "sample = sample.drop_duplicates('wr')\n",
    "\n",
    "# sample = sample.sample(2000)"
   ]
  },
  {
   "cell_type": "code",
   "execution_count": 15,
   "metadata": {},
   "outputs": [
    {
     "data": {
      "text/plain": [
       "1976"
      ]
     },
     "execution_count": 15,
     "metadata": {},
     "output_type": "execute_result"
    }
   ],
   "source": [
    "len(sample)"
   ]
  },
  {
   "cell_type": "code",
   "execution_count": 16,
   "metadata": {},
   "outputs": [],
   "source": [
    "def process(row):\n",
    "    z = Z[:,int(row.source) - 1]\n",
    "    x = X[:,int(row.source) - 1]\n",
    "    y = Y[:,int(row.target) - 1]\n",
    "    y_ref = y[z==1]\n",
    "    y_respons = y[x==1].mean()\n",
    "    beta_iv = y_respons - y_ref.mean()\n",
    "#     wald = (y[z==1].mean() - y[z==0].mean()) / (x[z==1].mean() - x[z==0].mean())\n",
    "#     beta = y_respons - y[x==0].mean()\n",
    "    beta = y_respons - np.random.choice(y[x==0], len(y_ref)).mean()\n",
    "#     print(\n",
    "#         len(y[z==1]), y[z==1].mean(), \n",
    "#         len(np.random.choice(y[x==0], int(sum(z)))), np.random.choice(y[x==0], int(sum(z))).mean())\n",
    "#     return pd.Series({'beta_iv': beta_iv, 'beta': beta, 'hit_rate': x.mean(), 'wald': wald})\n",
    "    return pd.Series({'beta_iv': beta_iv, 'beta': beta, 'hit_rate': x.mean()})"
   ]
  },
  {
   "cell_type": "code",
   "execution_count": 17,
   "metadata": {},
   "outputs": [
    {
     "data": {
      "text/plain": [
       "beta        0.744049\n",
       "beta_iv     0.022168\n",
       "hit_rate    0.120115\n",
       "dtype: float64"
      ]
     },
     "execution_count": 17,
     "metadata": {},
     "output_type": "execute_result"
    }
   ],
   "source": [
    "process(sample.iloc[0,:])"
   ]
  },
  {
   "cell_type": "code",
   "execution_count": null,
   "metadata": {},
   "outputs": [],
   "source": [
    "def parall_apply(df, func, n_cores=8):\n",
    "    df_split = np.array_split(df, n_cores)\n",
    "    pool = Pool(n_cores)\n",
    "    df = pd.concat(pool.map(func, df_split))\n",
    "    pool.close()\n",
    "    pool.join()\n",
    "    return df\n",
    "\n",
    "\n",
    "def apply(x): \n",
    "    return x.apply(process, axis=1, result_type=\"expand\")"
   ]
  },
  {
   "cell_type": "code",
   "execution_count": null,
   "metadata": {},
   "outputs": [],
   "source": [
    "np.where(Z==1, X, X*0).sum(0)"
   ]
  },
  {
   "cell_type": "code",
   "execution_count": null,
   "metadata": {},
   "outputs": [],
   "source": [
    "Z.max()"
   ]
  },
  {
   "cell_type": "code",
   "execution_count": null,
   "metadata": {},
   "outputs": [],
   "source": [
    "# result = sample.join(sample.progress_apply(process, axis=1, result_type=\"expand\"))\n",
    "result = sample.join(parall_apply(sample, apply))"
   ]
  },
  {
   "cell_type": "code",
   "execution_count": null,
   "metadata": {},
   "outputs": [],
   "source": [
    "df_ = result.query('hit_rate > 0.1 and hit_rate < .9')\n",
    "model = regplot(\n",
    "    'weight', 'beta_iv', data=df_, \n",
    "    scatter_color=df_['hit_rate'], colorbar=True)\n",
    "\n",
    "h = plt.Line2D([], [], label='$R^2 = {:.3f}$'.format(model.rsquared), ls='-', color='k')\n",
    "plt.gca().legend(handles=[h])\n",
    "\n",
    "plt.xlabel('True weight')\n",
    "plt.ylabel(r'$\\hat{\\beta}_{IV}$')"
   ]
  },
  {
   "cell_type": "code",
   "execution_count": null,
   "metadata": {},
   "outputs": [],
   "source": [
    "df_ = result.query('hit_rate > .1 and hit_rate < .9')\n",
    "model = regplot(\n",
    "    'weight', 'beta', data=df_, \n",
    "    scatter_color=df_['hit_rate'], colorbar=True)\n",
    "\n",
    "h = plt.Line2D([], [], label='$R^2 = {:.3f}$'.format(model.rsquared), ls='-', color='k')\n",
    "plt.gca().legend(handles=[h])\n",
    "\n",
    "plt.xlabel('True weight')\n",
    "plt.ylabel(r'$\\hat{\\beta}$')"
   ]
  },
  {
   "cell_type": "code",
   "execution_count": null,
   "metadata": {},
   "outputs": [],
   "source": [
    "scatterplot(\n",
    "    'beta_iv', 'beta', data=result, \n",
    "    scatter_color=result['hit_rate'], colorbar=True)\n",
    "\n",
    "plt.xlabel(r'$\\hat{\\beta}_{IV}$')\n",
    "plt.ylabel(r'$\\hat{\\beta}$')"
   ]
  },
  {
   "cell_type": "code",
   "execution_count": null,
   "metadata": {},
   "outputs": [],
   "source": [
    "scatterplot(\n",
    "    'hit_rate', 'weight', data=result, \n",
    "    scatter_color=result['hit_rate'], colorbar=True)\n",
    "\n",
    "\n",
    "plt.xlabel('Hit rate')\n",
    "plt.ylabel('True weight')"
   ]
  },
  {
   "cell_type": "code",
   "execution_count": null,
   "metadata": {},
   "outputs": [],
   "source": [
    "scatterplot(\n",
    "    'source', 'weight', data=result, \n",
    "    scatter_color=result['hit_rate'], colorbar=True)\n",
    "\n",
    "\n",
    "plt.xlabel('Source')\n",
    "plt.ylabel('True weight')"
   ]
  },
  {
   "cell_type": "code",
   "execution_count": null,
   "metadata": {},
   "outputs": [],
   "source": []
  },
  {
   "cell_type": "code",
   "execution_count": null,
   "metadata": {},
   "outputs": [],
   "source": []
  },
  {
   "cell_type": "code",
   "execution_count": null,
   "metadata": {},
   "outputs": [],
   "source": [
    "scatterplot(\n",
    "    'hit_rate', 'beta_iv', data=result, \n",
    "    scatter_color=result['hit_rate'], colorbar=True)\n",
    "\n",
    "plt.xlabel(r'Hit rate')\n",
    "plt.ylabel(r'$\\hat{\\beta}_{IV}$')"
   ]
  },
  {
   "cell_type": "code",
   "execution_count": null,
   "metadata": {},
   "outputs": [],
   "source": [
    "scatterplot(\n",
    "    'hit_rate', 'beta', data=result, \n",
    "    scatter_color=result['hit_rate'], colorbar=True)\n",
    "\n",
    "plt.xlabel(r'Hit rate')\n",
    "plt.ylabel(r'$\\hat{\\beta}$')"
   ]
  },
  {
   "cell_type": "code",
   "execution_count": null,
   "metadata": {},
   "outputs": [],
   "source": [
    "model = scatterplot(\n",
    "    'stim_amp_source', 'hit_rate', data=result, \n",
    "    scatter_color=result['hit_rate'], colorbar=True)\n",
    "\n",
    "plt.ylabel(r'Hit rate')\n",
    "plt.xlabel(r'Stimulation amplitude')"
   ]
  },
  {
   "cell_type": "markdown",
   "metadata": {},
   "source": [
    "# zero weight"
   ]
  },
  {
   "cell_type": "code",
   "execution_count": null,
   "metadata": {},
   "outputs": [],
   "source": [
    "N = 200\n",
    "query = 'weight < 0.01 and weight >= 0 and not target_stimulated and target in @sender_ids and stim_amp_source > 1'\n",
    "sample_zero = conn.query(query)"
   ]
  },
  {
   "cell_type": "code",
   "execution_count": null,
   "metadata": {},
   "outputs": [],
   "source": [
    "sample_zero = sample_zero.sample(2000)"
   ]
  },
  {
   "cell_type": "code",
   "execution_count": null,
   "metadata": {},
   "outputs": [],
   "source": [
    "result_zero = sample_zero.join(parall_apply(sample_zero, apply))"
   ]
  },
  {
   "cell_type": "code",
   "execution_count": null,
   "metadata": {},
   "outputs": [],
   "source": [
    "fig, ax = plt.subplots(1, 1)\n",
    "pos = np.random.uniform(.25,.75, size=len(result_zero))\n",
    "ax.scatter(pos + .5, result_zero.beta_iv, c=result_zero.stim_amp_source, s=5)\n",
    "sc = ax.scatter(pos + 1.5, result_zero.beta, c=result_zero.stim_amp_source, s=5)\n",
    "\n",
    "cb = plt.colorbar(mappable=sc, ax=ax)\n",
    "cb.ax.yaxis.set_ticks_position('right')\n",
    "\n",
    "violins = plt.violinplot(result_zero.loc[:, ['beta_iv', 'beta']].T, showextrema=False, bw_method=0.1)\n",
    "for pc in violins['bodies']:\n",
    "    pc.set_facecolor('gray')\n",
    "    pc.set_edgecolor('k')\n",
    "    pc.set_alpha(0.6)\n",
    "plt.xticks([1, 2], [r'$\\beta_{IV}$', r'$\\beta$'])"
   ]
  },
  {
   "cell_type": "code",
   "execution_count": null,
   "metadata": {},
   "outputs": [],
   "source": []
  },
  {
   "cell_type": "code",
   "execution_count": null,
   "metadata": {},
   "outputs": [],
   "source": []
  },
  {
   "cell_type": "code",
   "execution_count": null,
   "metadata": {},
   "outputs": [],
   "source": []
  }
 ],
 "metadata": {
  "kernelspec": {
   "display_name": "Python 3",
   "language": "python",
   "name": "python3"
  },
  "language_info": {
   "codemirror_mode": {
    "name": "ipython",
    "version": 3
   },
   "file_extension": ".py",
   "mimetype": "text/x-python",
   "name": "python",
   "nbconvert_exporter": "python",
   "pygments_lexer": "ipython3",
   "version": "3.5.2"
  }
 },
 "nbformat": 4,
 "nbformat_minor": 2
}
