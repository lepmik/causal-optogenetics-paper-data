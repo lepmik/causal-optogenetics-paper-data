{
 "cells": [
  {
   "cell_type": "code",
   "execution_count": 1,
   "metadata": {},
   "outputs": [],
   "source": [
    "%matplotlib inline\n",
    "%load_ext autoreload\n",
    "%autoreload 2\n",
    "import sys\n",
    "sys.path.append('..')\n",
    "from simulator import Simulator\n",
    "from tools_analysis import corrcoef, coef_var\n",
    "import matplotlib.pyplot as plt\n",
    "from matplotlib.gridspec import GridSpec, GridSpecFromSubplotSpec\n",
    "import pandas as pd\n",
    "import numpy as np\n",
    "import quantities as pq\n",
    "import seaborn as sns\n",
    "from tools_plot import savefig, fix_figure, set_style, despine, add_caption\n",
    "import copy\n",
    "from IPython.display import display\n",
    "\n",
    "from tqdm._tqdm_notebook import tqdm_notebook\n",
    "tqdm_notebook.pandas()\n",
    "from tqdm import tqdm_notebook as tqdm\n",
    "\n",
    "from causal_optoconnectics.core import hit_rate"
   ]
  },
  {
   "cell_type": "code",
   "execution_count": 2,
   "metadata": {},
   "outputs": [],
   "source": [
    "plt.rcParams['figure.figsize'] = (16,9)"
   ]
  },
  {
   "cell_type": "code",
   "execution_count": null,
   "metadata": {
    "scrolled": false
   },
   "outputs": [
    {
     "name": "stdout",
     "output_type": "stream",
     "text": [
      "Setting kernel\n",
      "Setting neurons\n",
      "Setting background\n",
      "Connecting background rate =  5.0 C =  2000\n",
      "Setting connections\n",
      "Connecting excitatory neurons J =  0.68 C =  1600\n",
      "Connecting inhibitory neurons J =  -11.9 C =  400\n",
      "Setting stimulation\n",
      "Setting spike recording\n",
      "Simulating 5 trials, total 1144.8 ms\n"
     ]
    },
    {
     "data": {
      "application/vnd.jupyter.widget-view+json": {
       "model_id": "af63bad5d2ab4065b4360ee502ac1a1c",
       "version_major": 2,
       "version_minor": 0
      },
      "text/html": [
       "<p>Failed to display Jupyter Widget of type <code>HBox</code>.</p>\n",
       "<p>\n",
       "  If you're reading this message in the Jupyter Notebook or JupyterLab Notebook, it may mean\n",
       "  that the widgets JavaScript is still loading. If this message persists, it\n",
       "  likely means that the widgets JavaScript library is either not installed or\n",
       "  not enabled. See the <a href=\"https://ipywidgets.readthedocs.io/en/stable/user_install.html\">Jupyter\n",
       "  Widgets Documentation</a> for setup instructions.\n",
       "</p>\n",
       "<p>\n",
       "  If you're reading this message in another frontend (for example, a static\n",
       "  rendering on GitHub or <a href=\"https://nbviewer.jupyter.org/\">NBViewer</a>),\n",
       "  it may mean that your frontend doesn't currently support widgets.\n",
       "</p>\n"
      ],
      "text/plain": [
       "HBox(children=(IntProgress(value=0, max=5), HTML(value='')))"
      ]
     },
     "metadata": {},
     "output_type": "display_data"
    }
   ],
   "source": [
    "from params_test import parameters\n",
    "sim = Simulator(\n",
    "    parameters, fname='network_raster', data_path='results', \n",
    "    stim_dist='poisson', verbose=True,\n",
    "    stim_amp_ex=0, stop_time=1.)\n",
    "sim.simulate(state=False, save=False, raster=False, progress_bar=tqdm)\n",
    "\n",
    "# sim.plot_raster(xlim=[800,1000])\n",
    "\n",
    "data = sim.data"
   ]
  },
  {
   "cell_type": "code",
   "execution_count": null,
   "metadata": {},
   "outputs": [],
   "source": [
    "senders = sim.data['spiketrains']['ex']['senders']\n",
    "times = sim.data['spiketrains']['ex']['times']\n",
    "stim_times = sim.data['epoch']['times']\n",
    "sender_ids = np.unique(senders)\n",
    "\n",
    "spiketrains = {\n",
    "    sender: times[sender==senders] for sender in tqdm(sender_ids)}"
   ]
  },
  {
   "cell_type": "code",
   "execution_count": null,
   "metadata": {},
   "outputs": [],
   "source": [
    "conn = sim.data['connections']\n",
    "conn.weight[conn.weight > 0].std()"
   ]
  },
  {
   "cell_type": "code",
   "execution_count": null,
   "metadata": {},
   "outputs": [],
   "source": [
    "plt.figure()\n",
    "conn.weight.hist(bins=1000)\n",
    "plt.grid(False)\n",
    "plt.xlabel('Synaptic weight [pA]')"
   ]
  },
  {
   "cell_type": "code",
   "execution_count": null,
   "metadata": {},
   "outputs": [],
   "source": [
    "t_stop = sim.p['status']['time']"
   ]
  },
  {
   "cell_type": "code",
   "execution_count": null,
   "metadata": {},
   "outputs": [],
   "source": [
    "plt.hist([len(s) / (t_stop / 1000) for s in spiketrains.values()]);"
   ]
  },
  {
   "cell_type": "code",
   "execution_count": null,
   "metadata": {},
   "outputs": [],
   "source": [
    "fig, ax = plt.subplots(1, 2)\n",
    "\n",
    "\n",
    "binsize_corr = 2.\n",
    "spiketrains_list = list(spiketrains.values())\n",
    "spiketrains_sampled = [spiketrains_list[i] for i in np.random.randint(0, len(spiketrains_list), 200)]\n",
    "cc = corrcoef(\n",
    "    spiketrains_sampled, t_stop, binsize=binsize_corr)\n",
    "\n",
    "cc = cc[np.triu_indices(len(cc), k=1)]\n",
    "cc = cc[~np.isnan(cc)]\n",
    "ax[0].hist(cc, bins=100);\n",
    "\n",
    "\n",
    "cv = np.array(coef_var(spiketrains_sampled))\n",
    "cv = cv[~np.isnan(cv)]\n",
    "\n",
    "ax[1].hist(cv, bins=100);"
   ]
  },
  {
   "cell_type": "code",
   "execution_count": null,
   "metadata": {},
   "outputs": [],
   "source": [
    "np.mean(cc), np.mean(cv)"
   ]
  },
  {
   "cell_type": "code",
   "execution_count": 11,
   "metadata": {},
   "outputs": [],
   "source": [
    "def prestim(x, stim_times):\n",
    "    stim_times = stim_times.astype(float)\n",
    "\n",
    "    src_x = np.searchsorted(x, stim_times, side='right')\n",
    "\n",
    "    remove_idxs, = np.where((src_x==len(x)) | (src_x==0))\n",
    "    src_x = np.delete(src_x, remove_idxs)\n",
    "    stim_times = np.delete(stim_times, remove_idxs)\n",
    "    return x[src_x-1] - stim_times"
   ]
  },
  {
   "cell_type": "code",
   "execution_count": 12,
   "metadata": {},
   "outputs": [
    {
     "data": {
      "application/vnd.jupyter.widget-view+json": {
       "model_id": "e5144fc640ea4e338c1185162fdf6dab",
       "version_major": 2,
       "version_minor": 0
      },
      "text/html": [
       "<p>Failed to display Jupyter Widget of type <code>HBox</code>.</p>\n",
       "<p>\n",
       "  If you're reading this message in the Jupyter Notebook or JupyterLab Notebook, it may mean\n",
       "  that the widgets JavaScript is still loading. If this message persists, it\n",
       "  likely means that the widgets JavaScript library is either not installed or\n",
       "  not enabled. See the <a href=\"https://ipywidgets.readthedocs.io/en/stable/user_install.html\">Jupyter\n",
       "  Widgets Documentation</a> for setup instructions.\n",
       "</p>\n",
       "<p>\n",
       "  If you're reading this message in another frontend (for example, a static\n",
       "  rendering on GitHub or <a href=\"https://nbviewer.jupyter.org/\">NBViewer</a>),\n",
       "  it may mean that your frontend doesn't currently support widgets.\n",
       "</p>\n"
      ],
      "text/plain": [
       "HBox(children=(IntProgress(value=0, max=1600000), HTML(value='')))"
      ]
     },
     "metadata": {},
     "output_type": "display_data"
    },
    {
     "name": "stdout",
     "output_type": "stream",
     "text": [
      "\n"
     ]
    }
   ],
   "source": [
    "conn.loc[:,'source_stimulated'] = conn.source.isin(data['stim_nodes']['ex'])\n",
    "conn.loc[:,'target_stimulated'] = conn.target.isin(data['stim_nodes']['ex'])\n",
    "conn['stim_amp_source'] = conn.progress_apply(lambda x: data['stim_amps']['ex'].get(x.source, 0), axis=1)"
   ]
  },
  {
   "cell_type": "code",
   "execution_count": 28,
   "metadata": {},
   "outputs": [],
   "source": [
    "As = conn.query(\"stim_amp_source == 400\").sort_values('weight', ascending=False).iloc[3]\n",
    "A = As.source\n",
    "C = As.target\n",
    "\n",
    "Bs = conn.query(\"source!={A} and target!={C} and stim_amp_source == 400\".format(A=A, C=C))\n",
    "B = Bs.source.iloc[2]"
   ]
  },
  {
   "cell_type": "code",
   "execution_count": 29,
   "metadata": {},
   "outputs": [
    {
     "data": {
      "text/plain": [
       "0.029289639873618392"
      ]
     },
     "execution_count": 29,
     "metadata": {},
     "output_type": "execute_result"
    }
   ],
   "source": [
    "A_prestim = prestim(spiketrains[A], data['epoch']['times'])\n",
    "B_prestim = prestim(spiketrains[B], data['epoch']['times'])\n",
    "\n",
    "np.corrcoef(A_prestim, B_prestim)[0,1]"
   ]
  },
  {
   "cell_type": "code",
   "execution_count": 30,
   "metadata": {},
   "outputs": [
    {
     "name": "stdout",
     "output_type": "stream",
     "text": [
      "(40,) (40,)\n"
     ]
    }
   ],
   "source": [
    "print(A_prestim.shape, B_prestim.shape)"
   ]
  },
  {
   "cell_type": "code",
   "execution_count": 31,
   "metadata": {},
   "outputs": [
    {
     "data": {
      "text/plain": [
       "<matplotlib.collections.PathCollection at 0x7f5f103371d0>"
      ]
     },
     "execution_count": 31,
     "metadata": {},
     "output_type": "execute_result"
    },
    {
     "data": {
      "image/png": "[encoded data removed]",
      "text/plain": [
       "<Figure size 1152x648 with 1 Axes>"
      ]
     },
     "metadata": {},
     "output_type": "display_data"
    }
   ],
   "source": [
    "plt.scatter(A_prestim, B_prestim)"
   ]
  },
  {
   "cell_type": "code",
   "execution_count": 17,
   "metadata": {},
   "outputs": [
    {
     "data": {
      "text/plain": [
       "(3.0009787938479033, 0.5307452322737473)"
      ]
     },
     "execution_count": 17,
     "metadata": {},
     "output_type": "execute_result"
    },
    {
     "data": {
      "image/png": "[encoded data removed]",
      "text/plain": [
       "<Figure size 1152x648 with 1 Axes>"
      ]
     },
     "metadata": {},
     "output_type": "display_data"
    }
   ],
   "source": [
    "from causal_optoconnectics.cch import fit_latency\n",
    "fit_latency(data['epoch']['times'], spiketrains[A], plot=True, bin_size=1, limit=20, init=[5,5])"
   ]
  },
  {
   "cell_type": "code",
   "execution_count": 18,
   "metadata": {},
   "outputs": [
    {
     "data": {
      "text/plain": [
       "Text(0.5,0,'Hit rate')"
      ]
     },
     "execution_count": 18,
     "metadata": {},
     "output_type": "execute_result"
    },
    {
     "data": {
      "image/png": "[encoded data removed]",
      "text/plain": [
       "<Figure size 1152x648 with 2 Axes>"
      ]
     },
     "metadata": {},
     "output_type": "display_data"
    }
   ],
   "source": [
    "mu = 4\n",
    "sigma = 3 # not used\n",
    "hit_rates = [hit_rate(s, stim_times,  mu=mu, sigma=sigma)\n",
    "             for i, s in spiketrains.items() if i in sim.data['stim_nodes']['ex']]\n",
    "\n",
    "\n",
    "fig, ax = plt.subplots(1, 2)\n",
    "\n",
    "amps = np.array(list(sim.data['stim_amps']['ex'].values()))\n",
    "width = .1\n",
    "bins = np.arange(0, amps.max(), width)\n",
    "hist, bins = np.histogram(amps, bins=bins)\n",
    "ax[0].set_title('N_stim {}'.format(sum(hist)))\n",
    "ax[0].bar(bins[1:], hist, align='edge', width=-width)\n",
    "ax[0].set_xlabel('Stim amps')\n",
    "\n",
    "width = .1\n",
    "bins = np.arange(0, 1+width, width)\n",
    "hist, bins = np.histogram(hit_rates, bins=bins)\n",
    "ax[1].bar(bins[1:], hist, align='edge', width=-width)\n",
    "ax[1].set_xlabel('Hit rate')"
   ]
  },
  {
   "cell_type": "code",
   "execution_count": 19,
   "metadata": {},
   "outputs": [
    {
     "data": {
      "image/png": "[encoded data removed]",
      "text/plain": [
       "<Figure size 1152x648 with 1 Axes>"
      ]
     },
     "metadata": {},
     "output_type": "display_data"
    }
   ],
   "source": [
    "plt.hist(np.diff(data['epoch']['times']));"
   ]
  },
  {
   "cell_type": "code",
   "execution_count": null,
   "metadata": {},
   "outputs": [],
   "source": [
    "np.rave"
   ]
  }
 ],
 "metadata": {
  "kernelspec": {
   "display_name": "Python 3",
   "language": "python",
   "name": "python3"
  },
  "language_info": {
   "codemirror_mode": {
    "name": "ipython",
    "version": 3
   },
   "file_extension": ".py",
   "mimetype": "text/x-python",
   "name": "python",
   "nbconvert_exporter": "python",
   "pygments_lexer": "ipython3",
   "version": "3.5.2"
  }
 },
 "nbformat": 4,
 "nbformat_minor": 2
}
