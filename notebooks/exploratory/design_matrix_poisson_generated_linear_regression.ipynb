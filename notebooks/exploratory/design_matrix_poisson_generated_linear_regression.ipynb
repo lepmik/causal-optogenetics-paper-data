{
 "cells": [
  {
   "cell_type": "code",
   "execution_count": 1,
   "metadata": {},
   "outputs": [],
   "source": [
    "import numpy as np\n",
    "from scipy.stats import norm\n",
    "import matplotlib.pyplot as plt\n",
    "import pandas as pd\n",
    "\n",
    "%matplotlib inline"
   ]
  },
  {
   "cell_type": "code",
   "execution_count": 106,
   "metadata": {},
   "outputs": [],
   "source": [
    "plt.rcParams['figure.figsize'] = (12,9)\n",
    "plt.rcParams.update({\n",
    "    k: 'xx-large' for k in plt.rcParams \n",
    "    if (\n",
    "        k.endswith('labelsize') or\n",
    "        k.endswith('fontsize')\n",
    "    )\n",
    "})"
   ]
  },
  {
   "cell_type": "code",
   "execution_count": 606,
   "metadata": {},
   "outputs": [],
   "source": [
    "refractory = 4e-3 # 4 ms\n",
    "stop_time = 5000 # seconds\n",
    "latency = 6e-3 # C response delay\n",
    "# latency_std = 5e-4 # standard deviation of spike response in C\n",
    "post_hit_rate = .8 # fraction of spikes that are driven by the presynaptic neuron\n",
    "post_rate = 5 # Hz\n",
    "\n",
    "pre_rate = 5\n",
    "\n",
    "stim_latency = 5e-4 # .5 ms\n",
    "# stim_latency_std = 5e-4\n",
    "stim_rate = 30\n",
    "hit_rate = .7 # fraction of spikes that are driven by the stimulation\n",
    "stim_refractory = .05 # refractory time of stimulation\n",
    "refractory_rate = .2 # fraction of spikes that happen just before stimulation\n",
    "\n",
    "\n",
    "\n",
    "assert refractory_rate + hit_rate <= 1\n",
    "\n",
    "winsize = 1e-3"
   ]
  },
  {
   "cell_type": "code",
   "execution_count": 607,
   "metadata": {},
   "outputs": [],
   "source": [
    "def prune(random, refractory):\n",
    "    spikes = []\n",
    "    a = random.copy()\n",
    "    while len(a) > 1:\n",
    "        spikes.append(a[0])\n",
    "        a = a[a - a[0] > refractory]\n",
    "    return np.array(spikes)"
   ]
  },
  {
   "cell_type": "code",
   "execution_count": 608,
   "metadata": {},
   "outputs": [],
   "source": [
    "stim_times = np.sort(np.random.uniform(0, stop_time, stim_rate * stop_time))\n",
    "stim_times = prune(stim_times, stim_refractory)\n",
    "n_stim = len(stim_times)\n",
    "\n",
    "n_response = int(n_stim * hit_rate)\n",
    "n_post = int(n_response * post_hit_rate)\n",
    "n_refractory = int(n_stim * refractory_rate)\n",
    "\n",
    "# response to stim_times\n",
    "# stim_times_spikes = norm.rvs(loc=stim_times + stim_latency, scale=stim_latency_std)\n",
    "# A_spikes = norm.rvs(loc=stim_times + stim_latency, scale=stim_latency_std)\n",
    "# A_spikes = np.sort(stim_times_spikes[np.random.randint(0, n_stim, int(n_stim * hit_rate))])\n",
    "# A_spikes = prune(A_spikes, refractory)\n",
    "# B_spikes = norm.rvs(loc=stim_times + stim_latency, scale=stim_latency_std)\n",
    "# B_spikes = np.sort(stim_times_spikes[np.random.randint(0, n_stim, int(n_stim * hit_rate))])\n",
    "# B_spikes = prune(B_spikes, refractory)\n",
    "\n",
    "# C_spikes = norm.rvs(loc=A_spikes + latency, scale=latency_std)\n",
    "# C_spikes = prune(C_spikes, refractory)"
   ]
  },
  {
   "cell_type": "code",
   "execution_count": 611,
   "metadata": {},
   "outputs": [],
   "source": [
    "def generate_neurons(n_post):\n",
    "    idxs = np.random.permutation(np.arange(n_stim).astype(int))\n",
    "    idxs_response = idxs[:n_response]\n",
    "\n",
    "    spikes = np.sort(np.concatenate([\n",
    "        stim_times[idxs_response] + stim_latency,\n",
    "        np.sort(np.random.uniform(0, stop_time, pre_rate * stop_time))\n",
    "    ]))\n",
    "    spikes = prune(spikes, refractory)\n",
    "    n_spikes = len(spikes)\n",
    "    if n_post:\n",
    "        post_idxs = np.random.permutation(np.arange(n_spikes).astype(int))[:n_post]\n",
    "\n",
    "        response_spikes = np.sort(np.concatenate([\n",
    "            spikes[post_idxs] + latency,\n",
    "            np.random.uniform(0, stop_time, int(post_rate * stop_time))\n",
    "        ]))\n",
    "        response_spikes = prune(response_spikes, refractory)\n",
    "    \n",
    "        return spikes, response_spikes\n",
    "    else:\n",
    "        return spikes"
   ]
  },
  {
   "cell_type": "code",
   "execution_count": 610,
   "metadata": {},
   "outputs": [],
   "source": [
    "A_spikes, C_spikes = generate_neurons(n_post)\n",
    "\n",
    "B_spikes = generate_neurons(0)"
   ]
  },
  {
   "cell_type": "code",
   "execution_count": 612,
   "metadata": {},
   "outputs": [],
   "source": [
    "def calculate_hit_rate(stim_times, target, winsize):\n",
    "    src = np.searchsorted\n",
    "    z0 = (# stim response\n",
    "        src(target, stim_times, 'left') <\n",
    "        src(target, stim_times + winsize, 'right'))\n",
    "    z0 = z0 == 0\n",
    "    z1 = z0 == False\n",
    "    return sum(z1) / len(z1)"
   ]
  },
  {
   "cell_type": "code",
   "execution_count": 651,
   "metadata": {},
   "outputs": [
    {
     "data": {
      "text/plain": [
       "60016"
      ]
     },
     "execution_count": 651,
     "metadata": {},
     "output_type": "execute_result"
    }
   ],
   "source": [
    "n_stim"
   ]
  },
  {
   "cell_type": "code",
   "execution_count": 613,
   "metadata": {},
   "outputs": [
    {
     "data": {
      "text/plain": [
       "0.7032791255665156"
      ]
     },
     "execution_count": 613,
     "metadata": {},
     "output_type": "execute_result"
    }
   ],
   "source": [
    "calculate_hit_rate(stim_times, A_spikes, .01)"
   ]
  },
  {
   "cell_type": "code",
   "execution_count": 614,
   "metadata": {},
   "outputs": [
    {
     "data": {
      "text/plain": [
       "8.4022"
      ]
     },
     "execution_count": 614,
     "metadata": {},
     "output_type": "execute_result"
    }
   ],
   "source": [
    "n_response / stop_time"
   ]
  },
  {
   "cell_type": "code",
   "execution_count": 615,
   "metadata": {},
   "outputs": [
    {
     "data": {
      "text/plain": [
       "6.7216"
      ]
     },
     "execution_count": 615,
     "metadata": {},
     "output_type": "execute_result"
    }
   ],
   "source": [
    "n_post / stop_time"
   ]
  },
  {
   "cell_type": "code",
   "execution_count": 646,
   "metadata": {},
   "outputs": [
    {
     "data": {
      "text/plain": [
       "(13.4022, 11.721599999999999)"
      ]
     },
     "execution_count": 646,
     "metadata": {},
     "output_type": "execute_result"
    }
   ],
   "source": [
    "n_response / stop_time + pre_rate, n_post / stop_time + post_rate"
   ]
  },
  {
   "cell_type": "code",
   "execution_count": 616,
   "metadata": {},
   "outputs": [
    {
     "data": {
      "text/plain": [
       "(12.991, 12.963, 11.3486)"
      ]
     },
     "execution_count": 616,
     "metadata": {},
     "output_type": "execute_result"
    }
   ],
   "source": [
    "# rate\n",
    "len(A_spikes) / stop_time, len(B_spikes) / stop_time, len(C_spikes) / stop_time"
   ]
  },
  {
   "cell_type": "code",
   "execution_count": 617,
   "metadata": {},
   "outputs": [
    {
     "data": {
      "text/plain": [
       "0.688377767198286"
      ]
     },
     "execution_count": 617,
     "metadata": {},
     "output_type": "execute_result"
    }
   ],
   "source": [
    "(len(C_spikes) / stop_time) / (n_post / stop_time) - 1"
   ]
  },
  {
   "cell_type": "code",
   "execution_count": 618,
   "metadata": {},
   "outputs": [],
   "source": [
    "def vlines(X, label=None, **kwargs):\n",
    "    '''\n",
    "    Multiple vertical lines spanning the axes\n",
    "    '''\n",
    "    a = None\n",
    "    for i, x in enumerate(X):\n",
    "        if label and i == len(X)-1:\n",
    "            kwargs.update({'label': label})\n",
    "        a = plt.axvline(x, **kwargs)\n",
    "    return a"
   ]
  },
  {
   "cell_type": "code",
   "execution_count": 619,
   "metadata": {},
   "outputs": [
    {
     "data": {
      "text/plain": [
       "(0.2, 0.45)"
      ]
     },
     "execution_count": 619,
     "metadata": {},
     "output_type": "execute_result"
    },
    {
     "data": {
      "image/png": "[encoded data removed]",
      "text/plain": [
       "<Figure size 864x648 with 1 Axes>"
      ]
     },
     "metadata": {},
     "output_type": "display_data"
    }
   ],
   "source": [
    "plt.figure()\n",
    "t0, t1 = 0.2, 0.45\n",
    "A_mask = (A_spikes > t0) & (A_spikes < t1)\n",
    "B_mask = (B_spikes > t0) & (B_spikes < t1)\n",
    "C_mask = (C_spikes > t0) & (C_spikes < t1)\n",
    "S_mask = (stim_times > t0) & (stim_times < t1)\n",
    "lw = 1\n",
    "vlines(A_spikes[A_mask], label='A', color='r', lw=lw)\n",
    "vlines(B_spikes[B_mask],label='B', color='g', lw=lw)\n",
    "vlines(C_spikes[C_mask], label='C', color='b', lw=lw)\n",
    "vlines(stim_times[S_mask], label='S', color='cyan', lw=lw)\n",
    "plt.legend(bbox_to_anchor=(0., 1.01, 1., .102), loc=3,\n",
    "           ncol=4, mode=\"expand\", frameon=False)\n",
    "plt.xlim(t0, t1)"
   ]
  },
  {
   "cell_type": "code",
   "execution_count": 620,
   "metadata": {},
   "outputs": [],
   "source": [
    "assert all(np.diff(A_spikes) >= refractory)\n",
    "assert all(np.diff(B_spikes) >= refractory)\n",
    "assert all(np.diff(C_spikes) >= refractory)"
   ]
  },
  {
   "cell_type": "code",
   "execution_count": 621,
   "metadata": {},
   "outputs": [
    {
     "data": {
      "image/png": "[encoded data removed]",
      "text/plain": [
       "<Figure size 864x648 with 9 Axes>"
      ]
     },
     "metadata": {},
     "output_type": "display_data"
    }
   ],
   "source": [
    "def xcorr(t1, t2, binsize=1e-3, limit=1):\n",
    "    bins = np.arange(-limit, limit + binsize, binsize)\n",
    "\n",
    "    # Determine the indexes into `t2` that are relevant for each spike in `t1`\n",
    "    ii2 = np.searchsorted(t2, t1 - limit)\n",
    "    jj2 = np.searchsorted(t2, t1 + limit)\n",
    "\n",
    "    # Concatenate the recentered spike times into a big array\n",
    "    # We have excluded spikes outside of the histogram range to limit\n",
    "    # memory use here.\n",
    "    big = np.concatenate([t2[i:j] - t for t, i, j in zip(t1, ii2, jj2)])\n",
    "\n",
    "    # Actually do the histogram. Note that calls to np.histogram are\n",
    "    # expensive because it does not assume sorted data.\n",
    "    count, bins = np.histogram(big, bins=bins)\n",
    "    \n",
    "    return bins[1:], count\n",
    "\n",
    "binsize=2e-4\n",
    "limit=1e-2\n",
    "fig, axs = plt.subplots(3, 3, sharex=True, sharey=True)\n",
    "axs = axs.ravel()\n",
    "cnt = 0\n",
    "for s1, l1 in zip([A_spikes, B_spikes, C_spikes], ['A', 'B', 'C']):\n",
    "    for s2, l2 in zip([A_spikes, B_spikes, C_spikes], ['A', 'B', 'C']):\n",
    "        if cnt in [3,7]:\n",
    "            axs[cnt].bar(*xcorr(\n",
    "                stim_times, s2, binsize=binsize, limit=limit), width=-binsize, align='edge')\n",
    "            axs[cnt].set_xlabel('S' + l2)\n",
    "        elif cnt == 6:\n",
    "            axs[cnt].bar(*xcorr(\n",
    "                stim_times, s1, binsize=binsize, limit=limit), width=-binsize, align='edge')\n",
    "            axs[cnt].set_xlabel('S' + l1)\n",
    "        else:\n",
    "            axs[cnt].bar(*xcorr(\n",
    "                s1, s2, binsize=binsize, limit=limit), width=-binsize, align='edge')\n",
    "            axs[cnt].set_xlabel(l1 + l2)\n",
    "        \n",
    "        cnt += 1\n",
    "        \n",
    "# plt.ylim(0,200)"
   ]
  },
  {
   "cell_type": "code",
   "execution_count": 624,
   "metadata": {},
   "outputs": [
    {
     "data": {
      "text/plain": [
       "<BarContainer object of 40 artists>"
      ]
     },
     "execution_count": 624,
     "metadata": {},
     "output_type": "execute_result"
    },
    {
     "data": {
      "image/png": "[encoded data removed]",
      "text/plain": [
       "<Figure size 864x648 with 1 Axes>"
      ]
     },
     "metadata": {},
     "output_type": "display_data"
    }
   ],
   "source": [
    "binsize=5e-4\n",
    "limit=1e-2\n",
    "plt.bar(*xcorr(stim_times, C_spikes, binsize=binsize, limit=limit), width=-binsize, align='edge')"
   ]
  },
  {
   "cell_type": "code",
   "execution_count": 625,
   "metadata": {},
   "outputs": [
    {
     "data": {
      "text/plain": [
       "(4, 0.016)"
      ]
     },
     "execution_count": 625,
     "metadata": {},
     "output_type": "execute_result"
    }
   ],
   "source": [
    "sigma = 1e-3 # 0.1 ms\n",
    "bins = np.arange(0, stop_time + sigma, sigma)\n",
    "\n",
    "int(refractory/sigma), int(refractory/sigma) * refractory"
   ]
  },
  {
   "cell_type": "code",
   "execution_count": 647,
   "metadata": {},
   "outputs": [],
   "source": [
    "def calculate_response(stim_times, source, target, winsize, latency):\n",
    "    src = np.searchsorted\n",
    "    result = {\n",
    "        'stim_response': (\n",
    "            # stim response\n",
    "            src(source, stim_times, 'left') <\n",
    "            src(source, stim_times + winsize, 'right')),\n",
    "        'syn_response': (\n",
    "            # stim synaptic response\n",
    "            src(target, stim_times + latency, 'left') <\n",
    "            src(target, stim_times + latency + winsize, 'right'))\n",
    "    }\n",
    "    return result\n",
    "\n",
    "\n",
    "def wald(stim_times, source, target, winsize, latency):\n",
    "    \"\"\"The IV estimator used in the paper\"\"\"\n",
    "    responses = calculate_response(\n",
    "        stim_times, source, target, winsize, latency)\n",
    "    z_s1_x0 = responses['stim_response'] == 0\n",
    "    z_s1_x1 = z_s1_x0 == False\n",
    "    \n",
    "    y_s1_x0 = responses['syn_response'][z_s1_x0]\n",
    "    y_s1_x1 = responses['syn_response'][z_s1_x1]\n",
    "    \n",
    "    y_s1 = (y_s1_x1.mean() - y_s1_x0.mean()) / z_s1_x1.mean() #- z_s1_x0.mean())\n",
    "    \n",
    "    return y_s1"
   ]
  },
  {
   "cell_type": "code",
   "execution_count": 648,
   "metadata": {},
   "outputs": [
    {
     "data": {
      "text/plain": [
       "0.7349273407765916"
      ]
     },
     "execution_count": 648,
     "metadata": {},
     "output_type": "execute_result"
    }
   ],
   "source": [
    "wald(stim_times, A_spikes, C_spikes, winsize, latency)"
   ]
  },
  {
   "cell_type": "code",
   "execution_count": 649,
   "metadata": {},
   "outputs": [
    {
     "data": {
      "text/plain": [
       "0.012440536487588858"
      ]
     },
     "execution_count": 649,
     "metadata": {},
     "output_type": "execute_result"
    }
   ],
   "source": [
    "wald(stim_times, B_spikes, C_spikes, winsize, latency)"
   ]
  },
  {
   "cell_type": "code",
   "execution_count": 650,
   "metadata": {},
   "outputs": [
    {
     "data": {
      "text/plain": [
       "0.6896660890429219"
      ]
     },
     "execution_count": 650,
     "metadata": {},
     "output_type": "execute_result"
    }
   ],
   "source": [
    "calculate_hit_rate(stim_times, A_spikes, winsize)"
   ]
  },
  {
   "cell_type": "code",
   "execution_count": 635,
   "metadata": {},
   "outputs": [
    {
     "data": {
      "text/plain": [
       "0.6896827512663289"
      ]
     },
     "execution_count": 635,
     "metadata": {},
     "output_type": "execute_result"
    }
   ],
   "source": [
    "calculate_hit_rate(stim_times, B_spikes, winsize)"
   ]
  },
  {
   "cell_type": "markdown",
   "metadata": {},
   "source": [
    "# PDF"
   ]
  },
  {
   "cell_type": "code",
   "execution_count": 636,
   "metadata": {},
   "outputs": [
    {
     "name": "stdout",
     "output_type": "stream",
     "text": [
      "The cython extension is already loaded. To reload it, use:\n",
      "  %reload_ext cython\n"
     ]
    }
   ],
   "source": [
    "# %load_ext cython"
   ]
  },
  {
   "cell_type": "code",
   "execution_count": 637,
   "metadata": {},
   "outputs": [],
   "source": [
    "# %%cython\n",
    "# import numpy as np\n",
    "# from libc.math cimport exp, sqrt, pi\n",
    "\n",
    "# cdef double _sqrt_2_pi = sqrt(2 * pi)\n",
    "\n",
    "\n",
    "# cdef double _norm_pdf(double x):\n",
    "#     return exp(- x * x / 2.0) / _sqrt_2_pi\n",
    "\n",
    "\n",
    "# def cpdf(double[:] x, double[:] y, double delta_t, double sigma):\n",
    "#     '''\n",
    "#     Conditional probability density function (PDF) \n",
    "#     for x evaluated at y + delta_t scaled by sigma that is\n",
    "#     p(Y=y|X=x) = sum_y(exp(-(z/sigma)^2) / (sqrt(2pi)*sigma)), \n",
    "#     z = x - y - delta_t.\n",
    "#     '''\n",
    "#     cdef int i, j, M, N\n",
    "#     cdef double z, tmp\n",
    "#     cdef double[:] pdf\n",
    "#     M, N = len(x), len(y)\n",
    "#     pdf = np.zeros(M)\n",
    "#     for i in range(M):\n",
    "#         for j in range(N):\n",
    "#             z = x[i] - y[j] - delta_t\n",
    "#             tmp = _norm_pdf(z / sigma) / sigma\n",
    "#             pdf[i] = pdf[i] + tmp / N\n",
    "#     return np.array(pdf)"
   ]
  },
  {
   "cell_type": "code",
   "execution_count": 638,
   "metadata": {},
   "outputs": [],
   "source": [
    "# pdf_A = cpdf(stim_times, A_spikes, -stim_latency, 2e-3)\n",
    "# pdf_C = cpdf(stim_times, C_spikes, -(latency + stim_latency), 2e-3)\n",
    "\n",
    "# beta_AC = np.cov(pdf_C, pdf_A)[0,1] / np.var(pdf_C)"
   ]
  },
  {
   "cell_type": "code",
   "execution_count": 639,
   "metadata": {},
   "outputs": [],
   "source": [
    "# pdf_B = cpdf(stim_times, B_spikes, -stim_latency, 2e-3)\n",
    "\n",
    "# beta_BC = np.cov(pdf_C, pdf_B)[0,1] / np.var(pdf_C)"
   ]
  },
  {
   "cell_type": "code",
   "execution_count": 640,
   "metadata": {},
   "outputs": [
    {
     "data": {
      "text/plain": [
       "(0.39717129436386656, 0.0062309277766178115)"
      ]
     },
     "execution_count": 640,
     "metadata": {},
     "output_type": "execute_result"
    }
   ],
   "source": [
    "# beta_AC, beta_BC"
   ]
  },
  {
   "cell_type": "markdown",
   "metadata": {},
   "source": [
    "# regression"
   ]
  },
  {
   "cell_type": "code",
   "execution_count": 641,
   "metadata": {},
   "outputs": [],
   "source": [
    "def histogram(val, bins):\n",
    "    '''\n",
    "    Assuming:\n",
    "        val, bins are sorted\n",
    "        bins increase monotonically and uniformly\n",
    "        all(bins[0] <= v <= bins[-1] for v in val)\n",
    "    '''\n",
    "    result = np.zeros(len(bins) - 1).astype(int)\n",
    "    search = np.searchsorted(bins, val, side='right')\n",
    "    cnt = np.bincount(search)[1:]\n",
    "    result[:len(cnt)] = cnt[:len(result)]\n",
    "    if len(cnt) > len(result):\n",
    "        print('Assert', np.allclose(np.histogram(val, bins)[0], result))\n",
    "    return result\n",
    "    \n",
    "\n",
    "def create_design_matrix(times, bins, n):\n",
    "    result = [histogram(times, bins=bins)]\n",
    "    for i in range(1, n):\n",
    "        result.append(\n",
    "            np.concatenate([\n",
    "                np.zeros(i),\n",
    "                result[0][:-i]\n",
    "            ])\n",
    "        )\n",
    "    return np.array(result)\n",
    "\n",
    "\n",
    "def OLS(X, y):\n",
    "    dot, inv = np.dot, np.linalg.inv\n",
    "    return dot(dot(inv(dot(X.T, X)), X.T), y)\n",
    "\n",
    "\n",
    "def fit_latency(pre, post, binsize=.1, limit=[-10, 20], init=[0.5, 0.5], plot=False):\n",
    "    '''\n",
    "    Fit a gaussian PDF to density of CCH\n",
    "    '''\n",
    "    b, c = xcorr(pre, post, binsize=binsize, limit=limit, density=True)\n",
    "    normpdf  = lambda p, x: st.lognorm.pdf(x, p[0], p[1])\n",
    "    error  = lambda p, x, y: (y - normpdf(p, x))\n",
    "    (delta_t, sigma), _ = leastsq(error, init, args=(b, c))\n",
    "    if plot:\n",
    "        plt.bar(b, c, width=-binsize, align='edge')\n",
    "        y = normpdf((delta_t, sigma), b)\n",
    "        plt.plot(b, y, 'r--', linewidth=2)\n",
    "        plt.title('$\\Delta t$ {:.2f} $\\sigma$ {:.2f}'.format(delta_t, sigma))\n",
    "#         plt.axvspan(delta_t - sigma, delta_t + sigma, alpha=.5, color='cyan')\n",
    "    return delta_t, sigma\n",
    "\n",
    "\n",
    "def IV(pre, post, stim_times, stop_time, stim_duration, sigma, refractory, latency, plot=False):\n",
    "\n",
    "    bins = np.arange(0, stop_time + sigma, sigma)\n",
    "    \n",
    "    pre_binary_design = create_design_matrix(\n",
    "        pre, bins, int(refractory / sigma) + 1)\n",
    "    \n",
    "    X = pre_binary_design[0]\n",
    "    Z = pre_binary_design[1:]\n",
    "    \n",
    "    S = create_design_matrix(\n",
    "        stim_times, bins, int(stim_duration / sigma) + 1).sum(axis=0).astype(bool)\n",
    "    \n",
    "    Y = histogram(post - latency + stim_duration / 2, bins=bins)\n",
    "    \n",
    "    Z = Z.T\n",
    "    Z = np.hstack((np.ones((Z.shape[0], 1)), Z))\n",
    "    \n",
    "    W = OLS(Z, X)\n",
    "    X_fittedvalues = np.dot(W, Z.T)\n",
    "    \n",
    "    if plot:\n",
    "        xlim = [.1, .8]\n",
    "        mask = (bins[1:] > xlim[0]) & (bins[1:] < xlim[1])\n",
    "        plt.plot(bins[1:][mask], X_fittedvalues[mask], label='fitted values')   \n",
    "        plt.bar(bins[1:][mask], S[mask]*1.5, width=-sigma, align='edge', label='S', alpha=.5, zorder=1000)\n",
    "        plt.bar(bins[1:][mask], X[mask], width=-sigma, align='edge', label='X')\n",
    "        plt.bar(bins[1:][mask], Y[mask], width=-sigma, align='edge', label='Y')\n",
    "        plt.legend(bbox_to_anchor=(0., 1.00, 1., .102), loc=3,\n",
    "                   ncol=4, mode=\"expand\", frameon=False)\n",
    "        plt.xlabel('time (s)')\n",
    "        plt.xlim(xlim)\n",
    "        plt.legend()\n",
    "    \n",
    "    Y = Y[S]\n",
    "    X_fittedvalues = X_fittedvalues[S]\n",
    "    \n",
    "    XX = np.array([np.ones(X_fittedvalues.shape[0]), X_fittedvalues])\n",
    "\n",
    "    _, beta_IV = OLS(XX.T, Y)\n",
    "    \n",
    "    return beta_IV"
   ]
  },
  {
   "cell_type": "code",
   "execution_count": 642,
   "metadata": {},
   "outputs": [
    {
     "data": {
      "text/plain": [
       "Text(0.5,1,'beta_IV -5.201198112893634')"
      ]
     },
     "execution_count": 642,
     "metadata": {},
     "output_type": "execute_result"
    },
    {
     "data": {
      "image/png": "[encoded data removed]",
      "text/plain": [
       "<Figure size 864x648 with 1 Axes>"
      ]
     },
     "metadata": {},
     "output_type": "display_data"
    }
   ],
   "source": [
    "beta_AC = IV(\n",
    "    pre=A_spikes, post=C_spikes, stim_times=stim_times, stop_time=stop_time, stim_duration=2e-3,\n",
    "    sigma=1e-3, refractory=refractory, latency=latency + stim_latency, plot=True)\n",
    "plt.title('beta_IV {}'.format(beta_AC))"
   ]
  },
  {
   "cell_type": "code",
   "execution_count": 643,
   "metadata": {},
   "outputs": [
    {
     "data": {
      "text/plain": [
       "Text(0.5,1,'beta_IV 0.06638358928052698')"
      ]
     },
     "execution_count": 643,
     "metadata": {},
     "output_type": "execute_result"
    },
    {
     "data": {
      "image/png": "[encoded data removed]",
      "text/plain": [
       "<Figure size 864x648 with 1 Axes>"
      ]
     },
     "metadata": {},
     "output_type": "display_data"
    }
   ],
   "source": [
    "beta_BC = IV(\n",
    "    pre=B_spikes, post=C_spikes, stim_times=stim_times, stop_time=stop_time, stim_duration=2e-3,\n",
    "    sigma=1e-3, refractory=refractory, latency=latency + stim_latency, plot=True)\n",
    "plt.title('beta_IV {}'.format(beta_BC))"
   ]
  },
  {
   "cell_type": "code",
   "execution_count": 644,
   "metadata": {},
   "outputs": [
    {
     "data": {
      "text/plain": [
       "(-5.201198112893634,\n",
       " 0.06638358928052698,\n",
       " -5.259181186000254,\n",
       " -2.293371104617649)"
      ]
     },
     "execution_count": 644,
     "metadata": {},
     "output_type": "execute_result"
    }
   ],
   "source": [
    "beta_AC = IV(\n",
    "    A_spikes, C_spikes, stim_times, stop_time, 2e-3,\n",
    "    sigma=1e-3, refractory=refractory, latency=latency + stim_latency)\n",
    "beta_BC = IV(\n",
    "    B_spikes, C_spikes, stim_times, stop_time, 2e-3,\n",
    "    sigma=1e-3, refractory=refractory, latency=latency + stim_latency)\n",
    "\n",
    "time_shift = 15\n",
    "\n",
    "beta_ACr = IV(\n",
    "    A_spikes, C_spikes, stim_times - time_shift, stop_time, 2e-3,\n",
    "    sigma=1e-3, refractory=refractory, latency=latency + stim_latency)\n",
    "beta_BCr = IV(\n",
    "    B_spikes, C_spikes, stim_times - time_shift, stop_time, 2e-3,\n",
    "    sigma=1e-3, refractory=refractory, latency=latency + stim_latency)\n",
    "\n",
    "beta_AC, beta_BC, beta_ACr, beta_BCr"
   ]
  },
  {
   "cell_type": "code",
   "execution_count": null,
   "metadata": {},
   "outputs": [],
   "source": []
  },
  {
   "cell_type": "code",
   "execution_count": null,
   "metadata": {},
   "outputs": [],
   "source": []
  }
 ],
 "metadata": {
  "kernelspec": {
   "display_name": "Python 3",
   "language": "python",
   "name": "python3"
  },
  "language_info": {
   "codemirror_mode": {
    "name": "ipython",
    "version": 3
   },
   "file_extension": ".py",
   "mimetype": "text/x-python",
   "name": "python",
   "nbconvert_exporter": "python",
   "pygments_lexer": "ipython3",
   "version": "3.5.2"
  }
 },
 "nbformat": 4,
 "nbformat_minor": 2
}
