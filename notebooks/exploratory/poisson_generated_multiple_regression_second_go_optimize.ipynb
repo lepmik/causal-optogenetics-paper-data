{
 "cells": [
  {
   "cell_type": "code",
   "execution_count": 2,
   "metadata": {},
   "outputs": [],
   "source": [
    "import numpy as np\n",
    "from scipy.stats import norm\n",
    "import matplotlib.pyplot as plt\n",
    "import pandas as pd\n",
    "from matplotlib import cm\n",
    "from tqdm import tqdm_notebook as tqdm\n",
    "%matplotlib inline"
   ]
  },
  {
   "cell_type": "code",
   "execution_count": 3,
   "metadata": {},
   "outputs": [],
   "source": [
    "plt.rcParams['figure.figsize'] = (12,9)\n",
    "plt.rcParams.update({\n",
    "    k: 'xx-large' for k in plt.rcParams \n",
    "    if (\n",
    "        k.endswith('labelsize') or\n",
    "        k.endswith('fontsize')\n",
    "    )\n",
    "})"
   ]
  },
  {
   "cell_type": "code",
   "execution_count": 4,
   "metadata": {},
   "outputs": [],
   "source": [
    "def brute_force(x, y, stim_times, winsize):\n",
    "    Z, X, Y = [], [], []\n",
    "    for s in stim_times:\n",
    "        xx, yy = x - s, y - s\n",
    "        \n",
    "        pre = xx[xx <= 0]\n",
    "        if len(pre) == 0:\n",
    "            continue\n",
    "            \n",
    "        post = xx[xx > 0]\n",
    "        if len(post) == 0:\n",
    "            continue\n",
    "            \n",
    "        Z.append(pre.max())\n",
    "        X.append(post.min())\n",
    "        print(yy)\n",
    "        print((yy >= 0) & (yy < winsize))\n",
    "        Y.append(np.sum((yy >= 0) & (yy < winsize)))\n",
    "    return np.array(Z), np.array(X), np.array(Y)"
   ]
  },
  {
   "cell_type": "code",
   "execution_count": 5,
   "metadata": {},
   "outputs": [],
   "source": [
    "def calculate_regressors(x, y, stim_times, winsize):\n",
    "    sub_x_p = np.subtract.outer(x, stim_times)\n",
    "    sub_x_n = sub_x_p.copy()\n",
    "    mask_x = sub_x_p > 0\n",
    "\n",
    "    sub_x_p[~mask_x] = np.inf\n",
    "    sub_x_n[mask_x] = -np.inf\n",
    "\n",
    "    Z = np.nanmax(sub_x_n, axis=0)\n",
    "\n",
    "    X = np.nanmin(sub_x_p, axis=0)\n",
    "\n",
    "    sub_y = np.subtract.outer(y, stim_times)\n",
    "    mask_y = (sub_y >= 0) & (sub_y < winsize)\n",
    "    sub_y[~mask_y] = np.nan\n",
    "    Y = np.sum(~np.isnan(sub_y), axis=0)\n",
    "    mask = np.isfinite(Z) & np.isfinite(X)\n",
    "    return Z[mask], X[mask], Y[mask]"
   ]
  },
  {
   "cell_type": "code",
   "execution_count": 6,
   "metadata": {},
   "outputs": [],
   "source": [
    "def calculate_regressors_binary(x, y, stim_times, winsize):\n",
    "    stim_times = stim_times.astype(float)\n",
    "    \n",
    "    src_x = np.searchsorted(x, stim_times, side='right')\n",
    "    \n",
    "    remove_idxs, = np.where((src_x==len(x)) | (src_x==0))\n",
    "    src_x = np.delete(src_x, remove_idxs)\n",
    "    stim_times = np.delete(stim_times, remove_idxs)\n",
    "    Z = x[src_x-1] - stim_times\n",
    "    X = x[src_x] - stim_times\n",
    "    \n",
    "    stim_win = np.insert(stim_times, np.arange(len(stim_times)) + 1, stim_times + winsize)\n",
    "    src_y = np.searchsorted(y, stim_win, side='left')\n",
    "    cnt_y = np.diff(src_y.reshape((int(len(src_y) / 2), 2)))\n",
    "    Y = cnt_y.flatten()\n",
    "    return Z, X, Y"
   ]
  },
  {
   "cell_type": "code",
   "execution_count": 46,
   "metadata": {},
   "outputs": [],
   "source": [
    "s = np.array([1, 2, 3, 4, 5,  6]).astype(float)\n",
    "\n",
    "x = np.array([0.1, 0.2, 1.2, 1.3, 2.1, 2.4, 4.4, 4.5, 5, 5.05, 6.01])\n",
    "\n",
    "y = np.array([0.1, 0.2, 1.2, 1.22, 1.23, 1.3, 2.1, 2.2, 2.4, 3, 3.3, 5, 5.1, 6.3])"
   ]
  },
  {
   "cell_type": "code",
   "execution_count": 8,
   "metadata": {},
   "outputs": [],
   "source": [
    "def prune(a, ref):\n",
    "    b = np.concatenate(([False], np.diff(a) < ref))\n",
    "    c = np.concatenate(([False], np.diff(b.astype(int)) > 0))\n",
    "    d = a[~c]\n",
    "    if any(np.diff(a) < ref):\n",
    "        d = prune(d, ref)\n",
    "    return d\n",
    "\n",
    "\n",
    "def generate_stim_times(stim_rate, stim_isi_min, stop_time):\n",
    "    stim_times = np.sort(np.random.uniform(\n",
    "        0, stop_time, stim_rate * stop_time))\n",
    "    return prune(stim_times, stim_isi_min)\n",
    "\n",
    "\n",
    "def generate_neurons(stim_times, make_post=False, **p):\n",
    "    n_stim = len(stim_times)\n",
    "    idxs = np.random.permutation(np.arange(n_stim).astype(int))\n",
    "    n_stim_spikes = int(n_stim * p['stim_hit_chance'])\n",
    "    idxs_stim_spikes = idxs[:n_stim_spikes]\n",
    "\n",
    "    spikes = np.sort(np.concatenate([\n",
    "        stim_times[idxs_stim_spikes] + p['stim_latency'],\n",
    "        np.random.uniform(0, p['stop_time'], p['pre_rate'] * p['stop_time'])\n",
    "    ]))\n",
    "    pre_spikes = prune(spikes, p['refractory'])\n",
    "    n_pre_spikes = len(pre_spikes)\n",
    "    if make_post:\n",
    "        n_post_spikes = int(n_pre_spikes * p['pre_hit_chance'])\n",
    "        idxs_post_spikes = np.random.permutation(np.arange(n_pre_spikes).astype(int))[:n_post_spikes]\n",
    "\n",
    "        post_spikes = np.sort(np.concatenate([\n",
    "            pre_spikes[idxs_post_spikes] + p['latency'],\n",
    "            np.random.uniform(0, p['stop_time'], int(p['post_rate'] * p['stop_time']))\n",
    "        ]))\n",
    "        post_spikes = prune(post_spikes, p['refractory'])\n",
    "    \n",
    "        return pre_spikes, post_spikes\n",
    "    else:\n",
    "        return pre_spikes"
   ]
  },
  {
   "cell_type": "code",
   "execution_count": 9,
   "metadata": {},
   "outputs": [],
   "source": [
    "stim_params = {\n",
    "    'stop_time': 1000, # seconds\n",
    "    'stim_rate': 30, # rate of stimulation (gets reduced by pruning for minimum inter stimulus interval)\n",
    "    'stim_isi_min': 50e-3, # minimum inter stimulus interval\n",
    "}\n",
    "neuron_params = {\n",
    "    'refractory': 4e-3, # 4 ms\n",
    "    'latency': 6e-3, # post response delay\n",
    "    'pre_hit_chance': .5, # fraction of spikes that are driven by the presynaptic neuron\n",
    "    'post_rate': 5, # Hz\n",
    "    'pre_rate': 5, # base rate\n",
    "    'stim_hit_chance': .8, # fraction of spikes that are driven by the stimulation\n",
    "    'stim_latency': 5e-4, # latency from stim to pre response\n",
    "    'stop_time': stim_params['stop_time'],\n",
    "}\n",
    "\n",
    "s = generate_stim_times(**stim_params) \n",
    "\n",
    "x, y = generate_neurons(s, make_post=True, **neuron_params)"
   ]
  },
  {
   "cell_type": "code",
   "execution_count": 47,
   "metadata": {},
   "outputs": [
    {
     "name": "stdout",
     "output_type": "stream",
     "text": [
      "[-0.9  -0.8   0.2   0.22  0.23  0.3   1.1   1.2   1.4   2.    2.3   4.\n",
      "  4.1   5.3 ]\n",
      "[False False  True  True  True False False False False False False False\n",
      " False False]\n",
      "[-1.9  -1.8  -0.8  -0.78 -0.77 -0.7   0.1   0.2   0.4   1.    1.3   3.\n",
      "  3.1   4.3 ]\n",
      "[False False False False False False  True  True False False False False\n",
      " False False]\n",
      "[-2.9  -2.8  -1.8  -1.78 -1.77 -1.7  -0.9  -0.8  -0.6   0.    0.3   2.\n",
      "  2.1   3.3 ]\n",
      "[False False False False False False False False False  True  True False\n",
      " False False]\n",
      "[-3.9  -3.8  -2.8  -2.78 -2.77 -2.7  -1.9  -1.8  -1.6  -1.   -0.7   1.\n",
      "  1.1   2.3 ]\n",
      "[False False False False False False False False False False False False\n",
      " False False]\n",
      "[-4.9  -4.8  -3.8  -3.78 -3.77 -3.7  -2.9  -2.8  -2.6  -2.   -1.7   0.\n",
      "  0.1   1.3 ]\n",
      "[False False False False False False False False False False False  True\n",
      "  True False]\n",
      "[-5.9  -5.8  -4.8  -4.78 -4.77 -4.7  -3.9  -3.8  -3.6  -3.   -2.7  -1.\n",
      " -0.9   0.3 ]\n",
      "[False False False False False False False False False False False False\n",
      " False  True]\n"
     ]
    }
   ],
   "source": [
    "# %%timeit \n",
    "Zb, Xb, Yb = brute_force(x,y,s,0.3)\n",
    "# Zb, Xb, Yb"
   ]
  },
  {
   "cell_type": "code",
   "execution_count": 48,
   "metadata": {},
   "outputs": [],
   "source": [
    "# %%timeit \n",
    "Zv, Xv, Yv = calculate_regressors(x,y,s,0.3)\n",
    "# Zv, Xv, Yv"
   ]
  },
  {
   "cell_type": "code",
   "execution_count": 49,
   "metadata": {},
   "outputs": [],
   "source": [
    "# %%timeit \n",
    "Zv2, Xv2, Yv2 = calculate_regressors_binary(x,y,s,0.3)"
   ]
  },
  {
   "cell_type": "code",
   "execution_count": 50,
   "metadata": {},
   "outputs": [
    {
     "data": {
      "text/plain": [
       "(True, True, True)"
      ]
     },
     "execution_count": 50,
     "metadata": {},
     "output_type": "execute_result"
    }
   ],
   "source": [
    "np.array_equal(Zb, Zv), np.array_equal(Xb, Xv), np.array_equal(Yb, Yv)"
   ]
  },
  {
   "cell_type": "code",
   "execution_count": 51,
   "metadata": {},
   "outputs": [
    {
     "data": {
      "text/plain": [
       "(True, True, False)"
      ]
     },
     "execution_count": 51,
     "metadata": {},
     "output_type": "execute_result"
    }
   ],
   "source": [
    "np.array_equal(Zb, Zv2), np.array_equal(Xb, Xv2), np.array_equal(Yb, Yv2)"
   ]
  },
  {
   "cell_type": "code",
   "execution_count": 52,
   "metadata": {},
   "outputs": [
    {
     "data": {
      "text/plain": [
       "array([3, 2, 2, 0, 2, 1])"
      ]
     },
     "execution_count": 52,
     "metadata": {},
     "output_type": "execute_result"
    }
   ],
   "source": [
    "Yb"
   ]
  },
  {
   "cell_type": "code",
   "execution_count": 53,
   "metadata": {},
   "outputs": [
    {
     "data": {
      "text/plain": [
       "array([3, 2, 2, 0, 2, 1])"
      ]
     },
     "execution_count": 53,
     "metadata": {},
     "output_type": "execute_result"
    }
   ],
   "source": [
    "Yv"
   ]
  },
  {
   "cell_type": "code",
   "execution_count": 54,
   "metadata": {},
   "outputs": [
    {
     "data": {
      "text/plain": [
       "array([0.2 , 0.1 , 1.4 , 0.4 , 0.05, 0.01])"
      ]
     },
     "execution_count": 54,
     "metadata": {},
     "output_type": "execute_result"
    }
   ],
   "source": [
    "Xb"
   ]
  },
  {
   "cell_type": "code",
   "execution_count": 55,
   "metadata": {},
   "outputs": [
    {
     "data": {
      "text/plain": [
       "array([3, 2, 1, 0, 2, 0])"
      ]
     },
     "execution_count": 55,
     "metadata": {},
     "output_type": "execute_result"
    }
   ],
   "source": [
    "Yv2"
   ]
  },
  {
   "cell_type": "markdown",
   "metadata": {},
   "source": [
    "## "
   ]
  },
  {
   "cell_type": "code",
   "execution_count": 56,
   "metadata": {},
   "outputs": [
    {
     "data": {
      "text/plain": [
       "array([-0.8 , -0.7 , -0.6 , -1.6 ,  0.  , -0.95])"
      ]
     },
     "execution_count": 56,
     "metadata": {},
     "output_type": "execute_result"
    }
   ],
   "source": [
    "Zv2"
   ]
  },
  {
   "cell_type": "code",
   "execution_count": 57,
   "metadata": {},
   "outputs": [
    {
     "data": {
      "text/plain": [
       "array([0.2 , 0.1 , 1.4 , 0.4 , 0.05, 0.01])"
      ]
     },
     "execution_count": 57,
     "metadata": {},
     "output_type": "execute_result"
    }
   ],
   "source": [
    "Xv2"
   ]
  },
  {
   "cell_type": "code",
   "execution_count": null,
   "metadata": {},
   "outputs": [],
   "source": []
  }
 ],
 "metadata": {
  "kernelspec": {
   "display_name": "Python 3",
   "language": "python",
   "name": "python3"
  },
  "language_info": {
   "codemirror_mode": {
    "name": "ipython",
    "version": 3
   },
   "file_extension": ".py",
   "mimetype": "text/x-python",
   "name": "python",
   "nbconvert_exporter": "python",
   "pygments_lexer": "ipython3",
   "version": "3.5.2"
  }
 },
 "nbformat": 4,
 "nbformat_minor": 2
}
