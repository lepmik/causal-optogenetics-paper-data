{
 "cells": [
  {
   "cell_type": "code",
   "execution_count": 2,
   "metadata": {},
   "outputs": [
    {
     "ename": "ImportError",
     "evalue": "cannot import name 'plot_xcorr'",
     "output_type": "error",
     "traceback": [
      "\u001b[0;31m---------------------------------------------------------------------------\u001b[0m",
      "\u001b[0;31mImportError\u001b[0m                               Traceback (most recent call last)",
      "\u001b[0;32m<ipython-input-2-053afa0b7517>\u001b[0m in \u001b[0;36m<module>\u001b[0;34m()\u001b[0m\n\u001b[1;32m     10\u001b[0m \u001b[0;32mimport\u001b[0m \u001b[0mquantities\u001b[0m \u001b[0;32mas\u001b[0m \u001b[0mpq\u001b[0m\u001b[0;34m\u001b[0m\u001b[0m\n\u001b[1;32m     11\u001b[0m \u001b[0;32mimport\u001b[0m \u001b[0mseaborn\u001b[0m \u001b[0;32mas\u001b[0m \u001b[0msns\u001b[0m\u001b[0;34m\u001b[0m\u001b[0m\n\u001b[0;32m---> 12\u001b[0;31m \u001b[0;32mfrom\u001b[0m \u001b[0mexana\u001b[0m\u001b[0;34m.\u001b[0m\u001b[0mstatistics\u001b[0m \u001b[0;32mimport\u001b[0m \u001b[0mplot_xcorr\u001b[0m\u001b[0;34m,\u001b[0m \u001b[0mpermutation_resampling\u001b[0m\u001b[0;34m\u001b[0m\u001b[0m\n\u001b[0m\u001b[1;32m     13\u001b[0m \u001b[0;32mfrom\u001b[0m \u001b[0mtools\u001b[0m \u001b[0;32mimport\u001b[0m \u001b[0msavefig\u001b[0m\u001b[0;34m,\u001b[0m \u001b[0mfix_figure\u001b[0m\u001b[0;34m,\u001b[0m \u001b[0mcoef_var\u001b[0m\u001b[0;34m,\u001b[0m \u001b[0mcorrcoef\u001b[0m\u001b[0;34m,\u001b[0m \u001b[0mdespine\u001b[0m\u001b[0;34m,\u001b[0m \u001b[0mset_style\u001b[0m\u001b[0;34m\u001b[0m\u001b[0m\n\u001b[1;32m     14\u001b[0m \u001b[0;32mimport\u001b[0m \u001b[0mcopy\u001b[0m\u001b[0;34m\u001b[0m\u001b[0m\n",
      "\u001b[0;31mImportError\u001b[0m: cannot import name 'plot_xcorr'"
     ]
    }
   ],
   "source": [
    "%matplotlib inline\n",
    "%load_ext autoreload\n",
    "%autoreload 2\n",
    "from method import IV\n",
    "from simulator import Simulator\n",
    "import matplotlib.pyplot as plt\n",
    "from matplotlib.gridspec import GridSpec, GridSpecFromSubplotSpec\n",
    "import pandas as pd\n",
    "import numpy as np\n",
    "import quantities as pq\n",
    "import seaborn as sns\n",
    "from tools import savefig, fix_figure, coef_var, corrcoef, despine, set_style\n",
    "import copy\n",
    "from IPython.display import display\n",
    "import statsmodels.api as sm"
   ]
  },
  {
   "cell_type": "markdown",
   "metadata": {},
   "source": [
    "# Add hit rate"
   ]
  },
  {
   "cell_type": "code",
   "execution_count": 15,
   "metadata": {},
   "outputs": [],
   "source": [
    "trials = [5000, 10000, 15000, 20000, 25000, 30000]\n",
    "sim_id = [1, 2, 3]\n",
    "# path = 'results/orig_analysis/'\n",
    "path = 'results/'\n",
    "winsize = 4\n",
    "\n",
    "for sim in sim_id:\n",
    "    data = np.load('results/params_{}.npz'.format(sim))['data'][()]\n",
    "\n",
    "    spiketrains = {s['sender']: {'pop': pop, 'times': s['times']}\n",
    "                   for pop in ['in', 'ex']\n",
    "                   for s in data['spiketrains'][pop]}\n",
    "\n",
    "    s = data['epoch']['times'][:trial]\n",
    "    assert len(s) == trial\n",
    "    latency = data['params']['delay'] + data['params']['tau_syn_ex']\n",
    "    \n",
    "    for trial in trials:\n",
    "        csv_path = 'results/params_{}_analyse_{}.csv'.format(sim, trial)\n",
    "        df = pd.read_csv(csv_path)\n",
    "        hit_rate = {}\n",
    "        for idx, row in df.iterrows():\n",
    "            if row.source in hit_rate.keys():\n",
    "                df.loc[idx,'hit_rate'] = hit_rate[row.source]\n",
    "                continue\n",
    "            t1 = spiketrains[row.source]['times']\n",
    "            t2 = spiketrains[row.target]['times']\n",
    "            iv = IV(t1, t2, s, winsize, latency)\n",
    "            df.loc[idx,'hit_rate'] = iv.hit_rate\n",
    "            hit_rate[row.source] = iv.hit_rate\n",
    "        df.to_csv(csv_path, index=False, mode='w', header=True)"
   ]
  },
  {
   "cell_type": "markdown",
   "metadata": {},
   "source": [
    "# Add Ratio of weight/(total weight - weight) same for estimates"
   ]
  },
  {
   "cell_type": "code",
   "execution_count": 3,
   "metadata": {},
   "outputs": [],
   "source": [
    "trials = [5000, 10000, 15000, 20000, 25000, 30000]\n",
    "sim_id = [1, 2, 3]\n",
    "path = 'results/'\n",
    "\n",
    "def add_ratio(row, names, df):\n",
    "    rows = df.loc[(df.target == row.target) & (df.source != row.source), :]\n",
    "    for name in names:\n",
    "        sum_others = rows.loc[:, name].sum()\n",
    "        row[name + '_ratio'] = row[name] / sum_others\n",
    "    return row\n",
    "\n",
    "for sim in sim_id:  \n",
    "    for trial in trials:\n",
    "        csv_path = 'results/params_{}_analyse_{}.csv'.format(sim, trial)\n",
    "        df = pd.read_csv(csv_path)\n",
    "        df = df.apply(add_ratio, names=['weight', 'iv_wald', 'cch', 'iv_cch'], df=df, axis=1)\n",
    "        df.to_csv(csv_path, index=False, mode='w', header=True)"
   ]
  },
  {
   "cell_type": "code",
   "execution_count": null,
   "metadata": {},
   "outputs": [],
   "source": []
  }
 ],
 "metadata": {
  "kernelspec": {
   "display_name": "Python 3",
   "language": "python",
   "name": "python3"
  },
  "language_info": {
   "codemirror_mode": {
    "name": "ipython",
    "version": 3
   },
   "file_extension": ".py",
   "mimetype": "text/x-python",
   "name": "python",
   "nbconvert_exporter": "python",
   "pygments_lexer": "ipython3",
   "version": "3.5.2"
  }
 },
 "nbformat": 4,
 "nbformat_minor": 2
}
