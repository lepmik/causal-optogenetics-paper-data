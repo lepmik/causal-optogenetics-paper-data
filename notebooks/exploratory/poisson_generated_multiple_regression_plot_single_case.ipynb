{
 "cells": [
  {
   "cell_type": "code",
   "execution_count": 4,
   "metadata": {},
   "outputs": [],
   "source": [
    "import numpy as np\n",
    "from scipy.stats import norm\n",
    "import matplotlib.pyplot as plt\n",
    "import pandas as pd\n",
    "from matplotlib import cm\n",
    "\n",
    "%matplotlib inline"
   ]
  },
  {
   "cell_type": "code",
   "execution_count": 5,
   "metadata": {},
   "outputs": [],
   "source": [
    "plt.rcParams['figure.figsize'] = (12,9)\n",
    "plt.rcParams.update({\n",
    "    k: 'xx-large' for k in plt.rcParams \n",
    "    if (\n",
    "        k.endswith('labelsize') or\n",
    "        k.endswith('fontsize')\n",
    "    )\n",
    "})"
   ]
  },
  {
   "cell_type": "code",
   "execution_count": 20,
   "metadata": {},
   "outputs": [],
   "source": [
    "def prune(a, ref):\n",
    "    b = np.concatenate(([False], np.diff(a) < ref))\n",
    "    c = np.concatenate(([False], np.diff(b.astype(int)) > 0))\n",
    "    d = a[~c]\n",
    "    if any(np.diff(a) < ref):\n",
    "        d = prune(d, ref)\n",
    "    return d\n",
    "\n",
    "\n",
    "def generate_stim_times(stim_rate, stim_isi_min, stop_time):\n",
    "    stim_times = np.sort(np.random.uniform(\n",
    "        0, stop_time, stim_rate * stop_time))\n",
    "    return prune(stim_times, stim_isi_min)\n",
    "\n",
    "\n",
    "def generate_neurons(stim_times, make_post=False, **p):\n",
    "    n_stim = len(stim_times)\n",
    "    idxs = np.random.permutation(np.arange(n_stim).astype(int))\n",
    "    n_stim_spikes = int(n_stim * p['stim_hit_chance'])\n",
    "    idxs_stim_spikes = idxs[:n_stim_spikes]\n",
    "\n",
    "    spikes = np.sort(np.concatenate([\n",
    "        stim_times[idxs_stim_spikes] + p['stim_latency'],\n",
    "        np.random.uniform(0, p['stop_time'], p['pre_rate'] * p['stop_time'])\n",
    "    ]))\n",
    "    pre_spikes = prune(spikes, p['refractory'])\n",
    "    n_pre_spikes = len(pre_spikes)\n",
    "    if make_post:\n",
    "        n_post_spikes = int(n_pre_spikes * p['pre_hit_chance'])\n",
    "        idxs_post_spikes = np.random.permutation(np.arange(n_pre_spikes).astype(int))[:n_post_spikes]\n",
    "\n",
    "        post_spikes = np.sort(np.concatenate([\n",
    "            pre_spikes[idxs_post_spikes] + p['latency'],\n",
    "            np.random.uniform(0, p['stop_time'], int(p['post_rate'] * p['stop_time']))\n",
    "        ]))\n",
    "        post_spikes = prune(post_spikes, p['refractory'])\n",
    "    \n",
    "        return pre_spikes, post_spikes\n",
    "    else:\n",
    "        return pre_spikes\n",
    "    \n",
    "\n",
    "def histogram(val, bins):\n",
    "    '''\n",
    "    Assuming:\n",
    "        val, bins are sorted\n",
    "        bins increase monotonically and uniformly\n",
    "        all(bins[0] <= v <= bins[-1] for v in val)\n",
    "    '''\n",
    "    result = np.zeros(len(bins) - 1).astype(int)\n",
    "    search = np.searchsorted(bins, val, side='right')\n",
    "    cnt = np.bincount(search)[1:len(result)]\n",
    "    result[:len(cnt)] = cnt\n",
    "    return result\n",
    "    \n",
    "\n",
    "def create_design_matrix(times, bins, n):\n",
    "    result = [histogram(times, bins=bins)]\n",
    "    for i in range(1, n):\n",
    "        result.append(\n",
    "            np.concatenate([\n",
    "                np.zeros(i),\n",
    "                result[0][:-i]\n",
    "            ])\n",
    "        )\n",
    "    return np.array(result)\n",
    "\n",
    "\n",
    "def OLS(X, y):\n",
    "    dot, inv = np.dot, np.linalg.inv\n",
    "    return dot(dot(inv(dot(X.T, X)), X.T), y)\n",
    "\n",
    "\n",
    "def IV(pre, post, stim_times, stop_time, stim_duration, \n",
    "       sigma, refractory, latency, stim_latency, plot=False, verbose=False):\n",
    "\n",
    "    bins = np.arange(0, stop_time + sigma, sigma)\n",
    "    ref_steps = int(refractory / sigma)\n",
    "    if verbose:\n",
    "        print('Effective refractory time',ref_steps * sigma * 1000, 'ms')\n",
    "    \n",
    "    pre_binary_design = create_design_matrix(\n",
    "        pre, bins, ref_steps)\n",
    "    \n",
    "    X = pre_binary_design[0]\n",
    "    Z = pre_binary_design[1:]\n",
    "    \n",
    "    stim_steps = int(stim_duration / sigma)\n",
    "    \n",
    "    if verbose:\n",
    "        print('Effective stimulation time', stim_steps * sigma * 1000, 'ms')\n",
    "    \n",
    "    S = create_design_matrix(\n",
    "        stim_times, bins, stim_steps).sum(axis=0).astype(bool)\n",
    "    \n",
    "    Y = histogram(post, bins=bins)\n",
    "    \n",
    "    Z = Z.T\n",
    "    Z = np.hstack((np.ones((Z.shape[0], 1)), Z))\n",
    "    \n",
    "    Z = Z[S]\n",
    "    X = X[S]\n",
    "    \n",
    "    W = OLS(Z, X)\n",
    "    X_fittedvalues = np.dot(W, Z.T)\n",
    "    \n",
    "    Y = Y[S]\n",
    "    \n",
    "    if plot:\n",
    "        fig, ax1 = plt.subplots(1, 1, sharex=True, sharey=True)\n",
    "        xlim = [0, 1000]\n",
    "        mbins = bins[1:][S] * 1000\n",
    "        mask = (mbins > xlim[0]) & (mbins <= xlim[1])\n",
    "        mbins = mbins[mask]\n",
    "        msigma = sigma * 1000 \n",
    "        ax1.bar(\n",
    "            mbins, X_fittedvalues[mask], \n",
    "            width=-msigma, align='edge', label='fitted values', color='grey', alpha=.5)\n",
    "        ax1.bar(\n",
    "            mbins, S[S][mask] * X_fittedvalues.max(), \n",
    "            width=-msigma, align='edge', label='S', alpha=.5, zorder=0, color='cyan')\n",
    "        ax1.bar(\n",
    "            mbins, X[mask] * X_fittedvalues.max()  * 2 / 3, \n",
    "            width=-msigma, align='edge', label='X', color='green', zorder=500)\n",
    "        ax1.bar(\n",
    "            mbins, Y[mask] * X_fittedvalues.max() * 1 / 3, \n",
    "            width=-msigma, align='edge', label='Y', color='red', zorder=1000)\n",
    "        ax1.set_xlim(xlim)\n",
    "    \n",
    "        \n",
    "        ax1.legend(\n",
    "            bbox_to_anchor=(0., 1.00, 1., .102), loc=3,\n",
    "            ncol=4, mode=\"expand\", frameon=False)\n",
    "\n",
    "#     X_fittedvalues = X_fittedvalues[S]\n",
    "    \n",
    "#     if plot:\n",
    "#         mbins = bins[1:][S] * 1000\n",
    "#         mask = (mbins > xlim[0]) & (mbins <= xlim[1])\n",
    "#         mbins = mbins[mask]\n",
    "#         ax2.bar(\n",
    "#             mbins, X_fittedvalues[mask], \n",
    "#             width=-msigma, align='edge', label='fitted values', color='grey', alpha=.5)\n",
    "#         ax2.bar(\n",
    "#             mbins, Y[mask] * X_fittedvalues.max() * 2 / 3, \n",
    "#             width=-msigma, align='edge', label='Y', color='red')\n",
    "#         ax2.set_xlabel('time (ms)')\n",
    "#         ax2.set_xlim(xlim)\n",
    "        \n",
    "    XX = np.array([np.ones(X_fittedvalues.shape[0]), X_fittedvalues])\n",
    "\n",
    "    alpha, beta_IV = OLS(XX.T, Y.astype(float))\n",
    "    if plot:\n",
    "        fig.suptitle('beta {}'.format(beta_IV))\n",
    "    \n",
    "    return alpha, beta_IV"
   ]
  },
  {
   "cell_type": "code",
   "execution_count": 21,
   "metadata": {
    "scrolled": false
   },
   "outputs": [
    {
     "name": "stdout",
     "output_type": "stream",
     "text": [
      "Effective refractory time 4.0 ms\n",
      "Effective stimulation time 8.0 ms\n",
      "(0.0070889038008224705, 0.47402902705235245)\n"
     ]
    },
    {
     "data": {
      "image/png": "[encoded data removed]",
      "text/plain": [
       "<Figure size 864x648 with 1 Axes>"
      ]
     },
     "metadata": {},
     "output_type": "display_data"
    }
   ],
   "source": [
    "beta_AC = IV(\n",
    "    pre=_A_spikes, post=_C_spikes, stim_times=_stim_times, **_iv_params,\n",
    "    plot=True, verbose=True\n",
    ")\n",
    "print(beta_AC)"
   ]
  },
  {
   "cell_type": "code",
   "execution_count": 22,
   "metadata": {},
   "outputs": [
    {
     "name": "stdout",
     "output_type": "stream",
     "text": [
      "Effective refractory time 4.0 ms\n",
      "Effective stimulation time 8.0 ms\n"
     ]
    },
    {
     "data": {
      "image/png": "[encoded data removed]",
      "text/plain": [
       "<Figure size 864x648 with 1 Axes>"
      ]
     },
     "metadata": {},
     "output_type": "display_data"
    }
   ],
   "source": [
    "beta_BC = IV(\n",
    "    pre=_B_spikes, post=_C_spikes, stim_times=_stim_times, **_iv_params,\n",
    "    plot=True, verbose=True\n",
    ")"
   ]
  },
  {
   "cell_type": "code",
   "execution_count": 15,
   "metadata": {},
   "outputs": [],
   "source": [
    "_stim_params = {\n",
    "    'stop_time': 2000, # seconds\n",
    "    'stim_rate': 30, # rate of stimulation (gets reduced by pruning for minimum inter stimulus interval)\n",
    "    'stim_isi_min': 50e-3, # minimum inter stimulus interval\n",
    "}\n",
    "_neuron_params = {\n",
    "    'refractory': 4e-3, # 4 ms\n",
    "    'latency': 6e-3, # post response delay\n",
    "    'pre_hit_chance': 0.5, # fraction of spikes that are driven by the presynaptic neuron\n",
    "    'post_rate': 5, # Hz\n",
    "    'pre_rate': 5, # base rate\n",
    "    'stim_hit_chance': .8, # fraction of spikes that are driven by the stimulation\n",
    "    'stim_latency': 5e-4, # latency from stim to pre response\n",
    "    'stop_time': _stim_params['stop_time'],\n",
    "}\n",
    "_iv_params = {\n",
    "    'stim_duration': 8e-3, # size of chunk to clip out after (latency corrected) stim\n",
    "    'sigma': 1e-3, # resolution for histograms\n",
    "    'stop_time': _stim_params['stop_time'],\n",
    "    'refractory': _neuron_params['refractory'],\n",
    "    'latency': _neuron_params['latency'],\n",
    "    'stim_latency': _neuron_params['stim_latency'],\n",
    "}\n",
    "\n",
    "_stim_times = generate_stim_times(**_stim_params) \n",
    "\n",
    "_A_spikes, _C_spikes = generate_neurons(_stim_times, make_post=True, **_neuron_params)\n",
    "\n",
    "_B_spikes = generate_neurons(_stim_times, make_post=False, **_neuron_params)"
   ]
  },
  {
   "cell_type": "code",
   "execution_count": 31,
   "metadata": {},
   "outputs": [],
   "source": [
    "results = []\n",
    "for h in np.arange(.1, 1.1, .1):\n",
    "    stim_params = {\n",
    "        'stop_time': 2000, # seconds\n",
    "        'stim_rate': 30, # rate of stimulation (gets reduced by pruning for minimum inter stimulus interval)\n",
    "        'stim_isi_min': 50e-3, # minimum inter stimulus interval\n",
    "    }\n",
    "    neuron_params = {\n",
    "        'refractory': 4e-3, # 4 ms\n",
    "        'latency': 0,#6e-3, # post response delay\n",
    "        'pre_hit_chance': .5, # fraction of spikes that are driven by the presynaptic neuron\n",
    "        'post_rate': 5, # Hz\n",
    "        'pre_rate': 5, # base rate\n",
    "        'stim_hit_chance': h, # fraction of spikes that are driven by the stimulation\n",
    "        'stim_latency': 0,#5e-4, # latency from stim to pre response\n",
    "        'stop_time': stim_params['stop_time'],\n",
    "    }\n",
    "    iv_params = {\n",
    "        'stim_duration': 1e-3, # size of chunk to clip out after (latency corrected) stim\n",
    "        'sigma': 1e-3, # resolution for histograms\n",
    "        'stop_time': stim_params['stop_time'],\n",
    "        'refractory': neuron_params['refractory'],\n",
    "        'latency': neuron_params['latency'],\n",
    "        'stim_latency': neuron_params['stim_latency'],\n",
    "    }\n",
    "    \n",
    "    stim_times = generate_stim_times(**stim_params) \n",
    "    \n",
    "    A_spikes, C_spikes = generate_neurons(stim_times, make_post=True, **neuron_params)\n",
    "\n",
    "    B_spikes = generate_neurons(stim_times, make_post=False, **neuron_params)\n",
    "\n",
    "    alpha_AC, beta_AC = IV(\n",
    "        pre=A_spikes, post=C_spikes, stim_times=stim_times, **iv_params)\n",
    "    \n",
    "    alpha_BC, beta_BC = IV(\n",
    "        pre=B_spikes, post=C_spikes, stim_times=stim_times, **iv_params)\n",
    "    \n",
    "    res = {\n",
    "        'A_rate': len(A_spikes) / neuron_params['stop_time'], \n",
    "        'B_rate': len(B_spikes) / neuron_params['stop_time'], \n",
    "        'C_rate': len(C_spikes) / neuron_params['stop_time'],\n",
    "        'S_rate': len(stim_times) / neuron_params['stop_time'],\n",
    "        'C_induced_rate': (len(C_spikes) / neuron_params['stop_time']) - neuron_params['post_rate'],\n",
    "        'beta_AC': beta_AC,\n",
    "        'beta_BC': beta_BC,\n",
    "        'alpha_AC': alpha_AC,\n",
    "        'alpha_BC': alpha_BC\n",
    "    }\n",
    "    results.append({**stim_params, **neuron_params, **iv_params, **res})"
   ]
  },
  {
   "cell_type": "code",
   "execution_count": 32,
   "metadata": {},
   "outputs": [],
   "source": [
    "results = pd.DataFrame(results)\n",
    "# results"
   ]
  },
  {
   "cell_type": "code",
   "execution_count": 33,
   "metadata": {},
   "outputs": [
    {
     "data": {
      "text/plain": [
       "<matplotlib.legend.Legend at 0x7fe22eaaabe0>"
      ]
     },
     "execution_count": 33,
     "metadata": {},
     "output_type": "execute_result"
    },
    {
     "data": {
      "image/png": "[encoded data removed]",
      "text/plain": [
       "<Figure size 864x648 with 1 Axes>"
      ]
     },
     "metadata": {},
     "output_type": "display_data"
    }
   ],
   "source": [
    "keys = [\n",
    "#     'A_rate',\n",
    "#     'B_rate',\n",
    "#     'C_rate',\n",
    "#     'S_rate',\n",
    "    'beta_AC',\n",
    "    'beta_BC',\n",
    "    'pre_hit_chance',\n",
    "#     'C_induced_rate',\n",
    "#     'alpha_AC',\n",
    "#     'alpha_BC'\n",
    "]\n",
    "\n",
    "cmap = cm.get_cmap('tab10')\n",
    "cnt = 0\n",
    "for key in keys:\n",
    "    plt.plot(results['pre_hit_chance'], results[key], label=key, color=cmap(cnt))\n",
    "    cnt += 1\n",
    "plt.grid(True)\n",
    "\n",
    "plt.legend(loc='center left', bbox_to_anchor=(1, 0.5))"
   ]
  },
  {
   "cell_type": "code",
   "execution_count": null,
   "metadata": {},
   "outputs": [],
   "source": []
  }
 ],
 "metadata": {
  "kernelspec": {
   "display_name": "Python 3",
   "language": "python",
   "name": "python3"
  },
  "language_info": {
   "codemirror_mode": {
    "name": "ipython",
    "version": 3
   },
   "file_extension": ".py",
   "mimetype": "text/x-python",
   "name": "python",
   "nbconvert_exporter": "python",
   "pygments_lexer": "ipython3",
   "version": "3.5.2"
  }
 },
 "nbformat": 4,
 "nbformat_minor": 2
}
