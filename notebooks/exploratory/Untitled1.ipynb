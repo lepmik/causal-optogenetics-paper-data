{
 "cells": [
  {
   "cell_type": "code",
   "execution_count": 1,
   "metadata": {},
   "outputs": [
    {
     "ename": "ERROR",
     "evalue": "Error in library(GJRM): there is no package called ‘GJRM’\n",
     "output_type": "error",
     "traceback": [
      "Error in library(GJRM): there is no package called ‘GJRM’\nTraceback:\n",
      "1. library(GJRM)",
      "2. stop(txt, domain = NA)"
     ]
    }
   ],
   "source": [
    "treat.eq <- import ~ coop + cost\n",
    "out.eq <- export ~ cost + target\n",
    "f.list <- list(treat.eq, out.eq)\n",
    "mr <- c(\"probit\", \"probit\")\n",
    "\n",
    "library(GJRM)\n",
    "bvp <- gjrm(f.list, data=sanction, Model=\"B\", margins=mr)\n",
    "summary(bvp)"
   ]
  },
  {
   "cell_type": "code",
   "execution_count": null,
   "metadata": {},
   "outputs": [],
   "source": []
  }
 ],
 "metadata": {
  "kernelspec": {
   "display_name": "R",
   "language": "R",
   "name": "ir"
  },
  "language_info": {
   "codemirror_mode": "r",
   "file_extension": ".r",
   "mimetype": "text/x-r-source",
   "name": "R",
   "pygments_lexer": "r",
   "version": "3.2.3"
  }
 },
 "nbformat": 4,
 "nbformat_minor": 2
}
