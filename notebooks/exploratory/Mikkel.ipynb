{
 "cells": [
  {
   "cell_type": "code",
   "execution_count": 1,
   "metadata": {},
   "outputs": [],
   "source": [
    "import matplotlib.pyplot as plt\n",
    "import numpy as np\n",
    "import torch\n",
    "\n",
    "import pyro\n",
    "import torch\n",
    "import pyro.distributions as dist\n",
    "\n",
    "import time"
   ]
  },
  {
   "cell_type": "code",
   "execution_count": 2,
   "metadata": {},
   "outputs": [],
   "source": [
    "from torch.distributions import constraints\n",
    "from pyro.optim import SGD\n",
    "from pyro.infer import Trace_ELBO, TraceEnum_ELBO\n",
    "import matplotlib.pyplot as plt\n",
    "from pyro.contrib.autoguide import AutoDiagonalNormal\n",
    "\n",
    "\n",
    "def svi(temperature_model, guide, obs, num_steps = 5000, plot = False):\n",
    "    pyro.clear_param_store()\n",
    "    svi = pyro.infer.SVI(model=temperature_model,\n",
    "                         guide=guide,\n",
    "                         optim=SGD({\"lr\": 0.001, \"momentum\":0.1}),\n",
    "                         loss=Trace_ELBO())\n",
    "\n",
    "    losses, a,b  = [], [], []\n",
    "    \n",
    "    for t in range(num_steps):\n",
    "        losses.append(svi.step(obs))\n",
    "\n",
    "    if (plot):\n",
    "        plt.plot(losses)\n",
    "        plt.title(\"ELBO\")\n",
    "        plt.xlabel(\"step\")\n",
    "        plt.ylabel(\"loss\");\n",
    "        plt.show()"
   ]
  },
  {
   "cell_type": "code",
   "execution_count": 3,
   "metadata": {},
   "outputs": [
    {
     "ename": "SyntaxError",
     "evalue": "invalid syntax (<ipython-input-3-425dd52c5971>, line 12)",
     "output_type": "error",
     "traceback": [
      "\u001b[0;36m  File \u001b[0;32m\"<ipython-input-3-425dd52c5971>\"\u001b[0;36m, line \u001b[0;32m12\u001b[0m\n\u001b[0;31m    spike_1 = pyro.sample(f'spike_1_{i}', dist.Bernoulli(p_1), obs=obs['counts_1'][i])\u001b[0m\n\u001b[0m                                       ^\u001b[0m\n\u001b[0;31mSyntaxError\u001b[0m\u001b[0;31m:\u001b[0m invalid syntax\n"
     ]
    }
   ],
   "source": [
    "pyro.clear_param_store()\n",
    "\n",
    "obs = {'counts_1': torch.tensor([0., 0., 1., 0., 1., 1., 1., 0., 0., 0., 1., 0., 0., 0., 0., 0.]),\n",
    "       'counts_2': torch.tensor([1., 0., 1., 0., 1., 1., 1., 0., 0., 0., 1., 0., 0., 1., 0., 0.]),\n",
    "      }\n",
    "\n",
    "def model(obs):\n",
    "    p_1 = pyro.param('p_1', torch.tensor(0.1))\n",
    "    p_2 = pyro.param('p_2', torch.tensor(0.1))\n",
    "    coupling = pyro.param('coupling', torch.tensor(0.7))\n",
    "    for i in range(obs['counts_2'].shape[0]):\n",
    "        spike_1 = pyro.sample(f'spike_1_{i}', dist.Bernoulli(p_1), obs=obs['counts_1'][i])\n",
    "        spike_2 = pyro.sample(f'spike_2_{i}', dist.Bernoulli(p_2+coupling*spike_1), obs=obs['counts_2'][i])\n",
    "\n",
    "def guide(obs):\n",
    "    pass\n",
    "#     for i in range(obs['counts_2'].shape[0]):\n",
    "#         spike = pyro.sample(f'spike_1_{i}', dist.Bernoulli(0.5))\n",
    "        "
   ]
  },
  {
   "cell_type": "code",
   "execution_count": 42,
   "metadata": {},
   "outputs": [
    {
     "name": "stdout",
     "output_type": "stream",
     "text": [
      "Coupling: 0.8193784356117249\n",
      "Firing neuron 1: 0.31249985098838806\n",
      "Firing neuron 2: 0.18181826174259186\n"
     ]
    }
   ],
   "source": [
    "#Run inference\n",
    "svi(model, guide, obs, num_steps=1000)\n",
    "\n",
    "#Print results\n",
    "print('Coupling:', pyro.param(\"coupling\").item())\n",
    "print('Firing neuron 1:', pyro.param(\"p_1\").item())\n",
    "print('Firing neuron 2:', pyro.param(\"p_2\").item())"
   ]
  },
  {
   "cell_type": "code",
   "execution_count": 43,
   "metadata": {},
   "outputs": [
    {
     "data": {
      "image/png": "[encoded data removed]",
      "text/plain": [
       "<Figure size 432x288 with 1 Axes>"
      ]
     },
     "metadata": {
      "needs_background": "light"
     },
     "output_type": "display_data"
    }
   ],
   "source": [
    "times = range(obs['counts_2'].shape[0])\n",
    "\n",
    "plt.figure()\n",
    "plt.plot(times, np.array(obs['counts_1']), 'o', label='neuron 1')\n",
    "plt.plot(times, np.array(obs['counts_2'])-0.05, 'o', label='neuron 2')\n",
    "plt.legend(framealpha=0, loc='center right')\n",
    "plt.show()"
   ]
  },
  {
   "cell_type": "code",
   "execution_count": 44,
   "metadata": {},
   "outputs": [],
   "source": [
    "# np.mean(np.array(obs['counts_1']))"
   ]
  },
  {
   "cell_type": "code",
   "execution_count": 45,
   "metadata": {},
   "outputs": [],
   "source": [
    "# from sklearn.linear_model import LogisticRegression"
   ]
  },
  {
   "cell_type": "code",
   "execution_count": 46,
   "metadata": {},
   "outputs": [],
   "source": [
    "# mod = LogisticRegression(C=1e5)"
   ]
  },
  {
   "cell_type": "code",
   "execution_count": 47,
   "metadata": {},
   "outputs": [],
   "source": [
    "# f = mod.fit(np.array(obs['counts_1']).reshape(-1, 1), np.array(obs['counts_2']))"
   ]
  },
  {
   "cell_type": "code",
   "execution_count": 48,
   "metadata": {},
   "outputs": [],
   "source": [
    "# logistic = lambda x: 1 / (1 + np.exp(-x))\n",
    "# logistic(f.coef_ + f.intercept_) - logistic(f.intercept_)"
   ]
  },
  {
   "cell_type": "code",
   "execution_count": 49,
   "metadata": {},
   "outputs": [],
   "source": [
    "# y = logistic(intercept + coef * x)"
   ]
  },
  {
   "cell_type": "code",
   "execution_count": null,
   "metadata": {},
   "outputs": [],
   "source": []
  },
  {
   "cell_type": "code",
   "execution_count": 50,
   "metadata": {},
   "outputs": [],
   "source": [
    "pyro.clear_param_store()\n",
    "\n",
    "def model(obs):\n",
    "    p_1 = pyro.sample('p_1', dist.Normal(0.0, 0.3))\n",
    "    p_2 = pyro.sample('p_2', dist.Normal(0.0, 0.3))\n",
    "    coupling = pyro.sample('coupling', dist.Normal(0.7, 0.3))\n",
    "#     p_1 = pyro.sample('p_1', dist.Beta(1.0, 1.))\n",
    "#     p_2 = pyro.sample('p_2', dist.Beta(1.0, 1.))\n",
    "#     coupling = pyro.sample('coupling', dist.Beta(1., 1.))\n",
    "    for i in range(obs['counts_2'].shape[0]):\n",
    "        spike_1 = pyro.sample(f'spike_1_{i}', dist.Bernoulli(p_1), obs=obs['counts_1'][i])\n",
    "        spike_2 = pyro.sample(f'spike_2_{i}', dist.Bernoulli(p_2+coupling*spike_1), obs=obs['counts_2'][i])\n",
    "\n",
    "        \n",
    "def guide(obs):\n",
    "    mean_p_1 = pyro.param(\"mean_p_1\", torch.tensor(0.1), constraint=constraints.positive)\n",
    "    scale_p1 = pyro.param(\"scale_p_1\", torch.tensor(.2), constraint=constraints.positive)\n",
    "    p_1 = pyro.sample('p_1', dist.Normal(mean_p_1, scale_p1))\n",
    "    \n",
    "    mean_p_2 = pyro.param(\"mean_p_2\", torch.tensor(0.3), constraint=constraints.positive)\n",
    "    scale_p2 = pyro.param(\"scale_p_2\", torch.tensor(.2), constraint=constraints.positive)\n",
    "    p_2 = pyro.sample('p_2', dist.Normal(mean_p_2, scale_p1))\n",
    "    \n",
    "    mean_coupling = pyro.param(\"mean_coupling\", torch.tensor(0.8), constraint=constraints.positive)\n",
    "    scale_coupling = pyro.param(\"scale_coupling\", torch.tensor(.2), constraint=constraints.positive)\n",
    "    coupling = pyro.sample('coupling', dist.Normal(mean_p_1, scale_p1))\n",
    "\n",
    "        \n",
    "#     mean_p_1 = pyro.param(\"mean_p_1\", torch.tensor(1.), constraint=constraints.positive)\n",
    "#     scale_p1 = pyro.param(\"scale_p_1\", torch.tensor(1.), constraint=constraints.positive)\n",
    "#     p_1 = pyro.sample('p_1', dist.Beta(mean_p_1, scale_p1))\n",
    "    \n",
    "#     mean_p_2 = pyro.param(\"mean_p_2\", torch.tensor(1.), constraint=constraints.positive)\n",
    "#     scale_p2 = pyro.param(\"scale_p_2\", torch.tensor(1.), constraint=constraints.positive)\n",
    "#     p_2 = pyro.sample('p_2', dist.Beta(mean_p_2, scale_p1))\n",
    "    \n",
    "#     mean_coupling = pyro.param(\"mean_coupling\", torch.tensor(0.8), constraint=constraints.positive)\n",
    "#     scale_coupling = pyro.param(\"scale_coupling\", torch.tensor(.2), constraint=constraints.positive)\n",
    "#     coupling = pyro.sample('coupling', dist.Beta(mean_p_1, scale_p1))"
   ]
  },
  {
   "cell_type": "code",
   "execution_count": 51,
   "metadata": {},
   "outputs": [],
   "source": [
    "#Run inference\n",
    "svi(model, guide, obs, num_steps=1000)"
   ]
  },
  {
   "cell_type": "code",
   "execution_count": 52,
   "metadata": {},
   "outputs": [
    {
     "data": {
      "image/png": "[encoded data removed]",
      "text/plain": [
       "<Figure size 432x288 with 1 Axes>"
      ]
     },
     "metadata": {
      "needs_background": "light"
     },
     "output_type": "display_data"
    }
   ],
   "source": [
    "x = np.linspace(-0.2, 1.2, 1000)\n",
    "\n",
    "pdf_p_1 = np.exp(np.array(dist.Normal(pyro.param('mean_p_1').item(),\n",
    "                pyro.param('scale_p_1').item()).log_prob(torch.tensor(x))))\n",
    "\n",
    "pdf_p_2 = np.exp(np.array(dist.Normal(pyro.param('mean_p_2').item(),\n",
    "                pyro.param('scale_p_2').item()).log_prob(torch.tensor(x))))\n",
    "\n",
    "pdf_coupling = np.exp(np.array(dist.Normal(pyro.param('mean_coupling').item(),\n",
    "                pyro.param('scale_coupling').item()).log_prob(torch.tensor(x))))\n",
    "\n",
    "plt.figure()\n",
    "plt.plot(x, np.array(pdf_p_1), label='firing 1')\n",
    "plt.plot(x, np.array(pdf_p_2), label='firing 2')\n",
    "plt.plot(x, np.array(pdf_coupling), label='coupling')\n",
    "plt.axvline(x=0.31249985098838806, color='C0')\n",
    "plt.axvline(x=0.18181826174259186, color='C1')\n",
    "plt.axvline(x=0.8193784356117249, color='C2')\n",
    "plt.legend()\n",
    "plt.show()"
   ]
  },
  {
   "cell_type": "code",
   "execution_count": null,
   "metadata": {},
   "outputs": [],
   "source": []
  },
  {
   "cell_type": "code",
   "execution_count": null,
   "metadata": {},
   "outputs": [],
   "source": []
  },
  {
   "cell_type": "code",
   "execution_count": null,
   "metadata": {},
   "outputs": [],
   "source": []
  },
  {
   "cell_type": "code",
   "execution_count": null,
   "metadata": {},
   "outputs": [],
   "source": []
  }
 ],
 "metadata": {
  "kernelspec": {
   "display_name": "Python 3",
   "language": "python",
   "name": "python3"
  },
  "language_info": {
   "codemirror_mode": {
    "name": "ipython",
    "version": 3
   },
   "file_extension": ".py",
   "mimetype": "text/x-python",
   "name": "python",
   "nbconvert_exporter": "python",
   "pygments_lexer": "ipython3",
   "version": "3.5.2"
  }
 },
 "nbformat": 4,
 "nbformat_minor": 2
}
