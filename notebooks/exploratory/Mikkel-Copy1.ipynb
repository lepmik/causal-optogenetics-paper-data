{
 "cells": [
  {
   "cell_type": "code",
   "execution_count": 49,
   "metadata": {},
   "outputs": [],
   "source": [
    "import matplotlib.pyplot as plt\n",
    "import numpy as np\n",
    "import torch\n",
    "\n",
    "import pyro\n",
    "import torch\n",
    "import pyro.distributions as dist\n",
    "\n",
    "import time"
   ]
  },
  {
   "cell_type": "code",
   "execution_count": 50,
   "metadata": {},
   "outputs": [],
   "source": [
    "from torch.distributions import constraints\n",
    "from pyro.optim import SGD\n",
    "from pyro.infer import Trace_ELBO, TraceEnum_ELBO\n",
    "import matplotlib.pyplot as plt\n",
    "from pyro.contrib.autoguide import AutoDiagonalNormal\n",
    "\n",
    "\n",
    "def svi(temperature_model, guide, obs, num_steps = 5000, plot = False):\n",
    "    pyro.clear_param_store()\n",
    "    svi = pyro.infer.SVI(model=temperature_model,\n",
    "                         guide=guide,\n",
    "                         optim=SGD({\"lr\": 0.001, \"momentum\":0.1}),\n",
    "                         loss=Trace_ELBO())\n",
    "\n",
    "    losses, a,b  = [], [], []\n",
    "    \n",
    "    for t in range(num_steps):\n",
    "        losses.append(svi.step(obs))\n",
    "\n",
    "    if (plot):\n",
    "        plt.plot(losses)\n",
    "        plt.title(\"ELBO\")\n",
    "        plt.xlabel(\"step\")\n",
    "        plt.ylabel(\"loss\");\n",
    "        plt.show()"
   ]
  },
  {
   "cell_type": "code",
   "execution_count": 51,
   "metadata": {},
   "outputs": [],
   "source": [
    "pyro.clear_param_store()\n",
    "\n",
    "obs = {'counts': torch.tensor([float(np.random.binomial(1, 0.5, )) for i in range(100)])}\n",
    "# obs = {'counts': torch.tensor([1., 0., 0., 0.])}\n",
    "\n",
    "def model(obs):\n",
    "    p = pyro.param('p', torch.tensor(0.8))\n",
    "    for i in range(obs['counts'].shape[0]):\n",
    "        counts = pyro.sample(f'counts_{i}', dist.Bernoulli(p), obs=obs['counts'][i])\n",
    "        \n",
    "def guide(obs):\n",
    "    pass\n",
    "#     for i in range(obs['counts_2'].shape[0]):\n",
    "#         spike = pyro.sample(f'spike_1_{i}', dist.Bernoulli(0.5))\n",
    "        "
   ]
  },
  {
   "cell_type": "code",
   "execution_count": 52,
   "metadata": {},
   "outputs": [
    {
     "name": "stdout",
     "output_type": "stream",
     "text": [
      "p: 0.48000001907348633\n"
     ]
    }
   ],
   "source": [
    "#Run inference\n",
    "svi(model, guide, obs, num_steps=1000)\n",
    "\n",
    "#Print results\n",
    "print('p:', pyro.param(\"p\").item())"
   ]
  },
  {
   "cell_type": "code",
   "execution_count": null,
   "metadata": {},
   "outputs": [],
   "source": []
  },
  {
   "cell_type": "code",
   "execution_count": null,
   "metadata": {},
   "outputs": [],
   "source": []
  },
  {
   "cell_type": "code",
   "execution_count": 53,
   "metadata": {},
   "outputs": [],
   "source": [
    "pyro.clear_param_store()\n",
    "\n",
    "def model(obs):\n",
    "    p = pyro.sample('p', dist.Beta(1,1))\n",
    "    for i in range(obs['counts'].shape[0]):\n",
    "        counts = pyro.sample(f'counts_{i}', dist.Bernoulli(p), obs=obs['counts'][i])\n",
    "        \n",
    "def guide(obs):\n",
    "    a = pyro.param('a', torch.tensor(1.), constraint=constraints.positive)\n",
    "    b = pyro.param('b', torch.tensor(1.), constraint=constraints.positive)\n",
    "    p = pyro.sample('p', dist.Beta(a,b))\n",
    "    pass\n",
    "#     for i in range(obs['counts_2'].shape[0]):\n",
    "#         spike = pyro.sample(f'spike_1_{i}', dist.Bernoulli(0.5))\n",
    "        "
   ]
  },
  {
   "cell_type": "code",
   "execution_count": 54,
   "metadata": {},
   "outputs": [
    {
     "name": "stdout",
     "output_type": "stream",
     "text": [
      "p: 14.58899974822998\n"
     ]
    }
   ],
   "source": [
    "#Run inference\n",
    "svi(model, guide, obs, num_steps=1000)\n",
    "\n",
    "#Print results\n",
    "print('p:', pyro.param(\"b\").item())"
   ]
  },
  {
   "cell_type": "code",
   "execution_count": 71,
   "metadata": {},
   "outputs": [],
   "source": [
    "x = torch.from_numpy(np.linspace(0, 1, 1000)).float()\n",
    "posterior = dist.Beta(pyro.param(\"a\"), pyro.param(\"b\"))\n",
    "y = torch.exp(posterior.log_prob(x))\n",
    "\n",
    "prior = dist.Beta(0.7, 1)\n",
    "y2 = torch.exp(prior.log_prob(x))"
   ]
  },
  {
   "cell_type": "code",
   "execution_count": 72,
   "metadata": {},
   "outputs": [
    {
     "data": {
      "image/png": "[encoded data removed]",
      "text/plain": [
       "<Figure size 432x288 with 1 Axes>"
      ]
     },
     "metadata": {
      "needs_background": "light"
     },
     "output_type": "display_data"
    }
   ],
   "source": [
    "plt.figure()\n",
    "plt.plot(np.array(x), np.array(y.detach().numpy()))\n",
    "plt.plot(np.array(x), np.array(y2.detach().numpy()))\n",
    "plt.show()"
   ]
  },
  {
   "cell_type": "code",
   "execution_count": null,
   "metadata": {},
   "outputs": [],
   "source": []
  },
  {
   "cell_type": "code",
   "execution_count": null,
   "metadata": {},
   "outputs": [],
   "source": []
  },
  {
   "cell_type": "code",
   "execution_count": null,
   "metadata": {},
   "outputs": [],
   "source": []
  }
 ],
 "metadata": {
  "kernelspec": {
   "display_name": "Python 3",
   "language": "python",
   "name": "python3"
  },
  "language_info": {
   "codemirror_mode": {
    "name": "ipython",
    "version": 3
   },
   "file_extension": ".py",
   "mimetype": "text/x-python",
   "name": "python",
   "nbconvert_exporter": "python",
   "pygments_lexer": "ipython3",
   "version": "3.6.8"
  }
 },
 "nbformat": 4,
 "nbformat_minor": 2
}
