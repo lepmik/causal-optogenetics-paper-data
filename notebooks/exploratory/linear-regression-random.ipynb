{
 "cells": [
  {
   "cell_type": "code",
   "execution_count": 1,
   "metadata": {},
   "outputs": [],
   "source": [
    "import numpy as np\n",
    "import scipy.stats as st\n",
    "import scipy.integrate as si\n",
    "import matplotlib.pyplot as plt\n",
    "from generate_triple_data import par, simulate\n",
    "import networkx as nx\n",
    "from nxpd import draw\n",
    "from scipy.optimize import leastsq\n",
    "import statsmodels.api as sm\n",
    "from collections import defaultdict\n",
    "%matplotlib inline"
   ]
  },
  {
   "cell_type": "code",
   "execution_count": 2,
   "metadata": {},
   "outputs": [],
   "source": [
    "plt.rcParams['figure.figsize'] = (12,9)\n",
    "plt.rcParams['axes.titlesize'] = 'xx-large'\n",
    "plt.rcParams.update({\n",
    "    k: 'xx-large' for k in plt.rcParams \n",
    "    if (\n",
    "        k.endswith('labelsize') or\n",
    "        k.endswith('fontsize')\n",
    "    )\n",
    "})"
   ]
  },
  {
   "cell_type": "markdown",
   "metadata": {},
   "source": [
    "## Simulate the triple setup\n",
    "Neurons A,B,C have statistical dependency as given by the graph below\n",
    "\n",
    "Stimulation S is randomly assigned, but identical for A and B\n",
    "\n",
    "We want to determine the causal connectivity between A and C, and B and C."
   ]
  },
  {
   "cell_type": "code",
   "execution_count": 3,
   "metadata": {},
   "outputs": [
    {
     "data": {
      "image/png": "[encoded data removed]",
      "text/plain": [
       "<IPython.core.display.Image object>"
      ]
     },
     "execution_count": 3,
     "metadata": {},
     "output_type": "execute_result"
    }
   ],
   "source": [
    "G = nx.DiGraph()\n",
    "G.add_nodes_from(['A', 'B', 'C', 'S'])\n",
    "G.add_edges_from([('A','C'), ('B', 'C'), ('S', 'A'), ('S', 'B')])\n",
    "draw(G, show='ipynb')"
   ]
  },
  {
   "cell_type": "code",
   "execution_count": 4,
   "metadata": {},
   "outputs": [],
   "source": [
    "def create_design_matrix(times, bins, n):\n",
    "    result = [np.histogram(times, bins=bins)[0]]\n",
    "    for i in range(1, n):\n",
    "        result.append(\n",
    "            np.concatenate([\n",
    "                np.zeros(i),\n",
    "                result[0][:-i]\n",
    "            ])\n",
    "        )\n",
    "    return np.array(result)\n",
    "\n",
    "\n",
    "def IV(pre, post, stim_times, stop_time, sigma=1, refractory=3, latency=4, winsize=4):\n",
    "\n",
    "    bins = np.arange(0, stop_time + sigma, sigma)\n",
    "    \n",
    "    pre_binary_design = create_design_matrix(\n",
    "        pre, bins, int(refractory / sigma) + 1)\n",
    "    pre_binary = pre_binary_design[0]\n",
    "    pre_design = pre_binary_design[1:]\n",
    "    \n",
    "    stim_mask = create_design_matrix(\n",
    "        stim_times, bins, int((latency + winsize) / sigma) + 1).sum(axis=0).astype(bool)\n",
    "    \n",
    "    post_binary, _ = np.histogram(post, bins=bins)\n",
    "    \n",
    "    X_pre_design = sm.add_constant(pre_design.T)\n",
    "    model = sm.OLS(pre_binary, X_pre_design)\n",
    "    \n",
    "    pre_model = model.fit()\n",
    "    \n",
    "    cov = np.cov(\n",
    "        pre_model.fittedvalues[stim_mask], \n",
    "        post_binary[stim_mask])[0,1]\n",
    "    beta_IV = cov / np.var(pre_model.fittedvalues[stim_mask])\n",
    "    return beta_IV"
   ]
  },
  {
   "cell_type": "code",
   "execution_count": 5,
   "metadata": {},
   "outputs": [
    {
     "name": "stdout",
     "output_type": "stream",
     "text": [
      "simulating  425472.0\n",
      "stimulating  10000\n"
     ]
    }
   ],
   "source": [
    "\n",
    "data = simulate(par, stim_N=10000, J_AC=0.0, J_BC=0.0, stim_amp_A=6., stim_amp_B=6.)\n",
    "stop_time = data['status']['time']\n",
    "A_spikes, B_spikes, C_spikes = [s['times'] for s in data['spiketrains']]\n",
    "stim_times = data['epoch']['times']\n",
    "\n",
    "beta_AC = IV(A_spikes, C_spikes, stim_times, stop_time)\n",
    "beta_BC = IV(B_spikes, C_spikes, stim_times, stop_time)\n",
    "\n",
    "time_shift = 15\n",
    "\n",
    "beta_ACr = IV(A_spikes, C_spikes, stim_times - time_shift, stop_time)\n",
    "beta_BCr = IV(B_spikes, C_spikes, stim_times - time_shift, stop_time)\n",
    "\n",
    "beta_AC_corrected = beta_AC - beta_ACr\n",
    "beta_BC_corrected = beta_BC - beta_BCr\n"
   ]
  },
  {
   "cell_type": "code",
   "execution_count": 7,
   "metadata": {},
   "outputs": [
    {
     "data": {
      "text/plain": [
       "(0.03967038802283302, 0.02606791871139339)"
      ]
     },
     "execution_count": 7,
     "metadata": {},
     "output_type": "execute_result"
    }
   ],
   "source": [
    "beta_BC, beta_AC"
   ]
  }
 ],
 "metadata": {
  "kernelspec": {
   "display_name": "Python 3",
   "language": "python",
   "name": "python3"
  },
  "language_info": {
   "codemirror_mode": {
    "name": "ipython",
    "version": 3
   },
   "file_extension": ".py",
   "mimetype": "text/x-python",
   "name": "python",
   "nbconvert_exporter": "python",
   "pygments_lexer": "ipython3",
   "version": "3.5.2"
  }
 },
 "nbformat": 4,
 "nbformat_minor": 2
}
