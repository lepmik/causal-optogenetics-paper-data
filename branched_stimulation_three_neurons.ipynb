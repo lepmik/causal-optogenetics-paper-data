{
 "cells": [
  {
   "cell_type": "code",
   "execution_count": 1,
   "metadata": {},
   "outputs": [],
   "source": [
    "import os\n",
    "import imp\n",
    "import os.path as op\n",
    "import numpy as np\n",
    "import matplotlib.pyplot as plt\n",
    "from tqdm import tqdm\n",
    "%load_ext autoreload\n",
    "%autoreload 2\n",
    "import elephant\n",
    "import pickle as pkl\n",
    "from brian2 import *\n",
    "import pdb\n",
    "import sys\n",
    "import pandas as pd"
   ]
  },
  {
   "cell_type": "code",
   "execution_count": 2,
   "metadata": {},
   "outputs": [],
   "source": [
    "data_path = 'three_neuron_brian'\n",
    "param_module = 'params_brian2_three_neurons.py'\n",
    "os.makedirs(data_path, exist_ok=True)\n",
    "jobname = param_module.replace('.py', '')\n",
    "currdir = '/home/mikkel/Dropbox (UiO)/writing/causal-optoconnectics-paper/'\n",
    "f, p, d = imp.find_module(jobname, [currdir])\n",
    "p = imp.load_module(jobname, f, p, d).parameters\n",
    "\n",
    "free_sim = True"
   ]
  },
  {
   "cell_type": "markdown",
   "metadata": {},
   "source": [
    "### Set neurons\n"
   ]
  },
  {
   "cell_type": "code",
   "execution_count": 3,
   "metadata": {},
   "outputs": [],
   "source": [
    "eqs = '''dV_m/dt = (g_L*(E_L-V_m)+Ie+Ii+I)/(C_m) : volt\n",
    "         Ie = ge*(E_ex-V_m) : amp\n",
    "         Ii = gi*(E_in-V_m) : amp\n",
    "         dge/dt = -ge/(tau_syn_ex) : siemens\n",
    "         dgi/dt = -gi/(tau_syn_in) : siemens\n",
    "         I : amp'''\n",
    "nodes = NeuronGroup(\n",
    "    p['N_neurons'],\n",
    "    model=eqs,\n",
    "    threshold='V_m > V_th',\n",
    "    reset='V_m = V_reset',\n",
    "    refractory=p['t_ref'],\n",
    "    namespace=p,\n",
    "    method='euler',\n",
    ")\n",
    "\n",
    "\n",
    "nodes_stim = nodes[:2]"
   ]
  },
  {
   "cell_type": "markdown",
   "metadata": {},
   "source": [
    "### Set connections from matrix"
   ]
  },
  {
   "cell_type": "code",
   "execution_count": 4,
   "metadata": {},
   "outputs": [
    {
     "name": "stderr",
     "output_type": "stream",
     "text": [
      "WARNING    /home/mikkel/.virtualenvs/brian2/lib/python3.6/site-packages/Cython/Compiler/Main.py:369: FutureWarning: Cython directive 'language_level' not set, using 2 for now (Py2). This will change in a later release! File: /home/mikkel/.cython/brian_extensions/_cython_magic_5c7b6af2149031900b904634fec18ac5.pyx\n",
      "  tree = Parsing.p_module(s, pxd, full_module_name)\n",
      " [py.warnings]\n",
      "/home/mikkel/.cython/brian_extensions/_cython_magic_5c7b6af2149031900b904634fec18ac5.cpp:27:20: fatal error: Python.h: No such file or directory\n",
      "compilation terminated.\n",
      "WARNING    Cannot use Cython, a test compilation failed: command 'x86_64-linux-gnu-gcc' failed with exit status 1 (CompileError) [brian2.codegen.runtime.cython_rt.cython_rt.failed_compile_test]\n",
      "INFO       Cannot use compiled code, falling back to the numpy code generation target. Note that this will likely be slower than using compiled code. Set the code generation to numpy manually to avoid this message:\n",
      "prefs.codegen.target = \"numpy\" [brian2.devices.device.codegen_fallback]\n"
     ]
    }
   ],
   "source": [
    "syn_ex = Synapses(\n",
    "    nodes,\n",
    "    nodes,\n",
    "    model='w:siemens',\n",
    "    on_pre='ge+=w',\n",
    "    delay=p['syn_delay'])\n",
    " \n",
    "\n",
    "syn_ex.connect(i=0, j=2)\n",
    "syn_ex.w = p['J_ex']\n"
   ]
  },
  {
   "cell_type": "markdown",
   "metadata": {},
   "source": [
    "### Set background stimulation"
   ]
  },
  {
   "cell_type": "code",
   "execution_count": 5,
   "metadata": {},
   "outputs": [],
   "source": [
    "poissInp = PoissonInput(\n",
    "    nodes, 'ge',\n",
    "    N=p['N_p'],\n",
    "    rate=p['rate_p'],\n",
    "    weight=p['J_ex'])"
   ]
  },
  {
   "cell_type": "markdown",
   "metadata": {},
   "source": [
    "### Set spike monitors"
   ]
  },
  {
   "cell_type": "code",
   "execution_count": 6,
   "metadata": {},
   "outputs": [],
   "source": [
    "# 1 for times without stim\n",
    "spk_mon1 = SpikeMonitor(nodes)\n",
    "\n",
    "# 2 for stimulation periods\n",
    "spk_mon2 = SpikeMonitor(nodes)\n",
    "spk_mon2_t = {}\n",
    "spk_mon2_i = {}\n",
    "spk_mon2.active = False\n",
    "\n",
    "spk_trigger = {}"
   ]
  },
  {
   "cell_type": "markdown",
   "metadata": {},
   "source": [
    "### Simulate"
   ]
  },
  {
   "cell_type": "code",
   "execution_count": 7,
   "metadata": {},
   "outputs": [],
   "source": [
    "#nodes_stim_i = np.array(nodes_stim.i)\n",
    "\n",
    "# find last index +1 of stim supgroup\n",
    "idx_stop_pl_1 = nodes_stim.stop\n",
    "# make sure that stim subgroups starts with 0\n",
    "assert nodes_stim.start == 0\n",
    "\n",
    "\n",
    "@network_operation\n",
    "def stop_for_spikes():\n",
    "#    if len(nodes_stim.spikes):\n",
    "#    if len(np.in1d(nodes.spikes, nodes_stim_i)):\n",
    "    # .spikes is not subgroup specific\n",
    "    # therefore we have to manually check whether any of the occuring spikes\n",
    "    # is from the subgroup.\n",
    "    if len(nodes_stim.spikes) and np.searchsorted(nodes_stim.spikes, idx_stop_pl_1)>0:\n",
    "        stop()"
   ]
  },
  {
   "cell_type": "code",
   "execution_count": 8,
   "metadata": {},
   "outputs": [
    {
     "name": "stdout",
     "output_type": "stream",
     "text": [
      "991.1000000000001"
     ]
    }
   ],
   "source": [
    "# run init time without stimulation\n",
    "stop_for_spikes.active = False\n",
    "run(p['init_simtime'])\n",
    "sys.stdout.write('\\r'+str(defaultclock.t/ms))\n",
    "\n",
    "# now with stimulation\n",
    "stop_for_spikes.active = True\n",
    "run(p['runtime'] - defaultclock.t)\n",
    "\n",
    "while defaultclock.t < p['runtime']:\n",
    "    # stimulation only after init_simtime \n",
    "    stop_for_spikes.active = False\n",
    "    # get timepoint of branching, shift by the delay of 0.2 ms\n",
    "    t2 = defaultclock.t/ms - 0.2\n",
    "    spk_trigger[float(spk_mon1.t[-1])] = spk_mon1.i[-1]\n",
    "    # store network state before stimulation\n",
    "    store()\n",
    "    # We'll need an explicit seed here, otherwise we'll continue with different\n",
    "    # random numbers after the restore\n",
    "    use_seed = randint(iinfo(np.int32).max)\n",
    "    seed(use_seed)\n",
    "    # change spike monitors\n",
    "    spk_mon1.active = False\n",
    "    spk_mon2.active = True\n",
    "    # stimulate\n",
    "    nodes_stim.I = p['stim_amp_ex']\n",
    "    run(p['stim_duration'])\n",
    "    # turn stimuli off, but keep on simulation\n",
    "    t_left = p['simtime_stim'] - p['stim_duration']\n",
    "    nodes_stim.I = 0.*pA\n",
    "    run(t_left)\n",
    "    # store data of intermittent run\n",
    "    spk_mon2_t[t2] = np.array(spk_mon2.t/ms)\n",
    "    spk_mon2_i[t2] = np.array(spk_mon2.i).astype(int)\n",
    "    # restore previous network state and continue with simulation\n",
    "    stop_for_spikes.active = True\n",
    "    restore()\n",
    "    seed(use_seed)\n",
    "    spk_mon1.active = True\n",
    "    spk_mon2.active = False\n",
    "    sys.stdout.write('\\r'+str(defaultclock.t/ms))\n",
    "    run(p['runtime'] - defaultclock.t)"
   ]
  },
  {
   "cell_type": "code",
   "execution_count": 9,
   "metadata": {},
   "outputs": [
    {
     "data": {
      "text/plain": [
       "1000.0"
      ]
     },
     "execution_count": 9,
     "metadata": {},
     "output_type": "execute_result"
    }
   ],
   "source": [
    "defaultclock.t/ms"
   ]
  },
  {
   "cell_type": "markdown",
   "metadata": {},
   "source": [
    "### Store spikes"
   ]
  },
  {
   "cell_type": "code",
   "execution_count": 10,
   "metadata": {},
   "outputs": [],
   "source": [
    "t1, i1 = np.array(spk_mon1.t), np.array(spk_mon1.i)\n",
    "with open(str(data_path) + '/' + 'spks1.csv', 'w') as f:\n",
    "        pd.DataFrame({'t': t1, 'id': i1.astype(int)}\n",
    "        ).to_csv(f, header=False, index=False)"
   ]
  },
  {
   "cell_type": "code",
   "execution_count": 11,
   "metadata": {},
   "outputs": [],
   "source": [
    "data = {\n",
    "    'spk_ids': spk_mon2_i,\n",
    "    'spk_ts': spk_mon2_t,\n",
    "    'nodes_stim': np.array(nodes_stim.i)}\n",
    "np.savez(data_path + 'stimulation_data.npz', data=data)"
   ]
  },
  {
   "cell_type": "markdown",
   "metadata": {},
   "source": [
    "### Visualize spikes"
   ]
  },
  {
   "cell_type": "code",
   "execution_count": 15,
   "metadata": {},
   "outputs": [
    {
     "data": {
      "text/plain": [
       "(0.525, 0.55)"
      ]
     },
     "execution_count": 15,
     "metadata": {},
     "output_type": "execute_result"
    },
    {
     "data": {
      "image/png": "[encoded data removed]",
      "text/plain": [
       "<Figure size 432x288 with 1 Axes>"
      ]
     },
     "metadata": {
      "needs_background": "light"
     },
     "output_type": "display_data"
    }
   ],
   "source": [
    "fig, ax = plt.subplots(1)\n",
    "ax.plot(spk_mon1.t/second, spk_mon1.i, '|', markersize=10)\n",
    "ax.set_title('Base simulation')\n",
    "ax.set_xlabel('time [s]')\n",
    "ax.set_ylabel('neuron id')\n",
    "\n",
    "# visualize also branching points\n",
    "br_points = np.array(sorted(spk_mon2_i.keys()))/1000\n",
    "a=[ax.axvline(x, c='r', alpha=0.5) for x in br_points]\n",
    "\n",
    "ax.set_xlim(0.525, 0.550)"
   ]
  },
  {
   "cell_type": "code",
   "execution_count": 13,
   "metadata": {},
   "outputs": [
    {
     "data": {
      "text/plain": [
       "{0.5253: 0,\n",
       " 0.5361: 1,\n",
       " 0.5728: 0,\n",
       " 0.5798: 1,\n",
       " 0.6117: 0,\n",
       " 0.6209: 1,\n",
       " 0.6408: 0,\n",
       " 0.6673: 1,\n",
       " 0.7017: 1,\n",
       " 0.7135: 0,\n",
       " 0.7578: 1,\n",
       " 0.8147000000000001: 1,\n",
       " 0.8317: 0,\n",
       " 0.8586: 1,\n",
       " 0.9162: 1,\n",
       " 0.92: 0,\n",
       " 0.9884000000000001: 1,\n",
       " 0.9909: 0}"
      ]
     },
     "execution_count": 13,
     "metadata": {},
     "output_type": "execute_result"
    }
   ],
   "source": [
    "spk_trigger"
   ]
  },
  {
   "cell_type": "code",
   "execution_count": 14,
   "metadata": {},
   "outputs": [
    {
     "data": {
      "text/plain": [
       "array([0.5253, 0.5361, 0.5728, 0.5798, 0.6117, 0.6209, 0.6408, 0.6673,\n",
       "       0.7017, 0.7135, 0.7578, 0.8147, 0.8317, 0.8586, 0.9162, 0.92  ,\n",
       "       0.9884, 0.9909])"
      ]
     },
     "execution_count": 14,
     "metadata": {},
     "output_type": "execute_result"
    }
   ],
   "source": [
    "br_points"
   ]
  },
  {
   "cell_type": "code",
   "execution_count": 14,
   "metadata": {},
   "outputs": [],
   "source": [
    "zidx = np.searchsorted(t1, br_points)"
   ]
  },
  {
   "cell_type": "code",
   "execution_count": 15,
   "metadata": {},
   "outputs": [
    {
     "data": {
      "text/plain": [
       "array([0.5355, 0.549 , 0.6023, 0.6111, 0.635 , 0.6482, 0.6718, 0.6948,\n",
       "       0.719 , 0.7317, 0.7588, 0.8009, 0.8141, 0.8468, 0.8832, 0.9187,\n",
       "       0.9262, 0.9521, 0.9881, 0.9951])"
      ]
     },
     "execution_count": 15,
     "metadata": {},
     "output_type": "execute_result"
    }
   ],
   "source": [
    "br_points"
   ]
  },
  {
   "cell_type": "code",
   "execution_count": 19,
   "metadata": {},
   "outputs": [
    {
     "data": {
      "text/plain": [
       "array([-3.88000000e+01, -1.35000000e+01, -1.00000000e-01, -8.80000000e+00,\n",
       "       -2.39000000e+01, -1.32000000e+01, -2.19000000e+01, -2.30000000e+01,\n",
       "       -1.76000000e+01, -1.27000000e+01, -2.55000000e+01, -3.13000000e+01,\n",
       "       -8.30000000e+00, -1.11022302e-13, -2.36000000e+01, -1.27000000e+01,\n",
       "       -7.50000000e+00, -2.59000000e+01, -7.00000000e-01, -7.00000000e+00])"
      ]
     },
     "execution_count": 19,
     "metadata": {},
     "output_type": "execute_result"
    }
   ],
   "source": [
    "(t1[zidx-1] - br_points) * 1000"
   ]
  },
  {
   "cell_type": "code",
   "execution_count": 16,
   "metadata": {},
   "outputs": [],
   "source": [
    "assert len(t1[zidx-1]) == len(set(t1[zidx-1]))"
   ]
  },
  {
   "cell_type": "code",
   "execution_count": 25,
   "metadata": {},
   "outputs": [],
   "source": [
    "Z_A = i1[zidx-1] == 0\n",
    "Z_B = i1[zidx-1] == 1"
   ]
  },
  {
   "cell_type": "code",
   "execution_count": null,
   "metadata": {},
   "outputs": [],
   "source": [
    "X_"
   ]
  },
  {
   "cell_type": "code",
   "execution_count": 13,
   "metadata": {},
   "outputs": [
    {
     "data": {
      "image/png": "[encoded data removed]",
      "text/plain": [
       "<Figure size 432x288 with 1 Axes>"
      ]
     },
     "metadata": {
      "needs_background": "light"
     },
     "output_type": "display_data"
    }
   ],
   "source": [
    "plt.hist(np.diff(br_points)*1000, bins=10);"
   ]
  },
  {
   "cell_type": "code",
   "execution_count": 14,
   "metadata": {},
   "outputs": [
    {
     "data": {
      "text/plain": [
       "2.7999999999999137"
      ]
     },
     "execution_count": 14,
     "metadata": {},
     "output_type": "execute_result"
    }
   ],
   "source": [
    "np.min(np.diff(br_points)) * 1000"
   ]
  },
  {
   "cell_type": "code",
   "execution_count": 13,
   "metadata": {},
   "outputs": [],
   "source": [
    "spikes, neuron_id = spk_mon1.t / second, spk_mon1.i\n"
   ]
  },
  {
   "cell_type": "code",
   "execution_count": 17,
   "metadata": {},
   "outputs": [],
   "source": [
    "from causal_optoconnectics.core import causal_connectivity, find_response_spikes"
   ]
  },
  {
   "cell_type": "code",
   "execution_count": 18,
   "metadata": {},
   "outputs": [],
   "source": [
    "A, B, C = [spikes[neuron_id==s] for s in [0,1,2]]"
   ]
  },
  {
   "cell_type": "code",
   "execution_count": 19,
   "metadata": {},
   "outputs": [
    {
     "ename": "TypeError",
     "evalue": "find_response_spikes() missing 2 required positional arguments: 'dt' and 'dz'",
     "output_type": "error",
     "traceback": [
      "\u001b[0;31m---------------------------------------------------------------------------\u001b[0m",
      "\u001b[0;31mTypeError\u001b[0m                                 Traceback (most recent call last)",
      "\u001b[0;32m<ipython-input-19-9f6ccc329395>\u001b[0m in \u001b[0;36m<module>\u001b[0;34m\u001b[0m\n\u001b[0;32m----> 1\u001b[0;31m \u001b[0mfind_response_spikes\u001b[0m\u001b[0;34m(\u001b[0m\u001b[0mA\u001b[0m\u001b[0;34m,\u001b[0m\u001b[0mC\u001b[0m\u001b[0;34m,\u001b[0m\u001b[0mbr_points\u001b[0m\u001b[0;34m)\u001b[0m\u001b[0;34m\u001b[0m\u001b[0;34m\u001b[0m\u001b[0m\n\u001b[0m",
      "\u001b[0;31mTypeError\u001b[0m: find_response_spikes() missing 2 required positional arguments: 'dt' and 'dz'"
     ]
    }
   ],
   "source": [
    "find_response_spikes(A,C,br_points)"
   ]
  },
  {
   "cell_type": "code",
   "execution_count": 14,
   "metadata": {},
   "outputs": [
    {
     "ename": "KeyError",
     "evalue": "17.0",
     "output_type": "error",
     "traceback": [
      "\u001b[0;31m---------------------------------------------------------------------------\u001b[0m",
      "\u001b[0;31mKeyError\u001b[0m                                  Traceback (most recent call last)",
      "\u001b[0;32m<ipython-input-14-561625d8daa4>\u001b[0m in \u001b[0;36m<module>\u001b[0;34m\u001b[0m\n\u001b[1;32m      1\u001b[0m \u001b[0mt_sel\u001b[0m \u001b[0;34m=\u001b[0m \u001b[0;36m17.0\u001b[0m\u001b[0;34m\u001b[0m\u001b[0;34m\u001b[0m\u001b[0m\n\u001b[1;32m      2\u001b[0m \u001b[0mfig\u001b[0m\u001b[0;34m,\u001b[0m \u001b[0max\u001b[0m \u001b[0;34m=\u001b[0m \u001b[0mplt\u001b[0m\u001b[0;34m.\u001b[0m\u001b[0msubplots\u001b[0m\u001b[0;34m(\u001b[0m\u001b[0;36m1\u001b[0m\u001b[0;34m)\u001b[0m\u001b[0;34m\u001b[0m\u001b[0;34m\u001b[0m\u001b[0m\n\u001b[0;32m----> 3\u001b[0;31m \u001b[0max\u001b[0m\u001b[0;34m.\u001b[0m\u001b[0mplot\u001b[0m\u001b[0;34m(\u001b[0m\u001b[0mspk_mon2_t\u001b[0m\u001b[0;34m[\u001b[0m\u001b[0mt_sel\u001b[0m\u001b[0;34m]\u001b[0m\u001b[0;34m,\u001b[0m \u001b[0mspk_mon2_i\u001b[0m\u001b[0;34m[\u001b[0m\u001b[0mt_sel\u001b[0m\u001b[0;34m]\u001b[0m\u001b[0;34m,\u001b[0m \u001b[0;34m'|'\u001b[0m\u001b[0;34m)\u001b[0m\u001b[0;34m\u001b[0m\u001b[0;34m\u001b[0m\u001b[0m\n\u001b[0m\u001b[1;32m      4\u001b[0m \u001b[0max\u001b[0m\u001b[0;34m.\u001b[0m\u001b[0mset_title\u001b[0m\u001b[0;34m(\u001b[0m\u001b[0;34m'Branched out stimulation'\u001b[0m\u001b[0;34m)\u001b[0m\u001b[0;34m\u001b[0m\u001b[0;34m\u001b[0m\u001b[0m\n\u001b[1;32m      5\u001b[0m \u001b[0max\u001b[0m\u001b[0;34m.\u001b[0m\u001b[0mset_xlabel\u001b[0m\u001b[0;34m(\u001b[0m\u001b[0;34m'time [ms]'\u001b[0m\u001b[0;34m)\u001b[0m\u001b[0;34m\u001b[0m\u001b[0;34m\u001b[0m\u001b[0m\n",
      "\u001b[0;31mKeyError\u001b[0m: 17.0"
     ]
    },
    {
     "data": {
      "image/png": "[encoded data removed]",
      "text/plain": [
       "<Figure size 432x288 with 1 Axes>"
      ]
     },
     "metadata": {
      "needs_background": "light"
     },
     "output_type": "display_data"
    }
   ],
   "source": [
    "t_sel = \n",
    "fig, ax = plt.subplots(1)\n",
    "ax.plot(spk_mon2_t[t_sel], spk_mon2_i[t_sel], '|')\n",
    "ax.set_title('Branched out stimulation')\n",
    "ax.set_xlabel('time [ms]')\n",
    "ax.set_ylabel('neuron id')"
   ]
  },
  {
   "cell_type": "markdown",
   "metadata": {},
   "source": [
    "### Test whether stimulations occur whenever a spike in stimulated group fires"
   ]
  },
  {
   "cell_type": "code",
   "execution_count": 20,
   "metadata": {},
   "outputs": [],
   "source": [
    "br_points = np.array(list(spk_mon2_i.keys()))"
   ]
  },
  {
   "cell_type": "code",
   "execution_count": 21,
   "metadata": {},
   "outputs": [],
   "source": [
    "i_stim = np.array(nodes_stim.i)\n",
    "i = np.array(spk_mon1.i)\n",
    "t = spk_mon1.t/ms\n",
    "i_bool = np.in1d(i, i_stim)\n",
    "t_bool = (t > p['init_simtime']/ms) & (t < p['runtime']/ms-0.3)\n",
    "\n",
    "t_stim = np.unique(t[(i_bool) & (t_bool)])\n",
    "\n",
    "assert np.allclose(t_stim, br_points)"
   ]
  },
  {
   "cell_type": "code",
   "execution_count": null,
   "metadata": {},
   "outputs": [],
   "source": []
  }
 ],
 "metadata": {
  "kernelspec": {
   "display_name": "Python 3",
   "language": "python",
   "name": "python3"
  },
  "language_info": {
   "codemirror_mode": {
    "name": "ipython",
    "version": 3
   },
   "file_extension": ".py",
   "mimetype": "text/x-python",
   "name": "python",
   "nbconvert_exporter": "python",
   "pygments_lexer": "ipython3",
   "version": "3.6.9"
  }
 },
 "nbformat": 4,
 "nbformat_minor": 2
}
