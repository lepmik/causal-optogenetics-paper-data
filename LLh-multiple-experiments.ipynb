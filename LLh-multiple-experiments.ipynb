{
 "cells": [
  {
   "cell_type": "code",
   "execution_count": 4,
   "metadata": {},
   "outputs": [],
   "source": [
    "import numpy as np\n",
    "from scipy.stats import norm\n",
    "import matplotlib.pyplot as plt\n",
    "from scipy import optimize\n",
    "\n",
    "%matplotlib inline"
   ]
  },
  {
   "cell_type": "code",
   "execution_count": 3,
   "metadata": {},
   "outputs": [],
   "source": [
    "\n",
    "\n"
   ]
  },
  {
   "cell_type": "code",
   "execution_count": 7,
   "metadata": {},
   "outputs": [],
   "source": [
    "delta_t = 1.\n",
    "sigma = 0.01"
   ]
  },
  {
   "cell_type": "code",
   "execution_count": 11,
   "metadata": {},
   "outputs": [],
   "source": [
    "def generate(n=20, rA=1., rB=2.):\n",
    "    A = np.sort(np.random.uniform(0, 1, n))\n",
    "    B = np.sort(np.random.uniform(0, 1, n))\n",
    "    C = np.array([])\n",
    "\n",
    "    A_counter = 0\n",
    "    for t in A:\n",
    "        n_events = np.random.poisson(rA, size=1)\n",
    "        spikes = norm.rvs(loc=t+delta_t, scale=sigma, size=n_events)\n",
    "        C= np.concatenate((C, spikes))\n",
    "        A_counter += n_events\n",
    "\n",
    "    B_counter = 0\n",
    "    for t in B:\n",
    "        n_events = np.random.poisson(rB, size=1)\n",
    "        spikes = norm.rvs(loc=t+delta_t, scale=sigma, size=n_events)\n",
    "        C= np.concatenate((C, spikes))\n",
    "        B_counter += n_events\n",
    "\n",
    "    C = np.sort(C)\n",
    "    return A, B, C"
   ]
  },
  {
   "cell_type": "code",
   "execution_count": 9,
   "metadata": {},
   "outputs": [],
   "source": [
    "def evaluate(A, B, C):\n",
    "    pdf_A = np.zeros((C.shape[0], A.shape[0]))\n",
    "    for i in range(pdf_A.shape[1]):\n",
    "        pdf_A[:,i] = norm.pdf(C, loc=A[i]+delta_t, scale=sigma) / pdf_A.shape[1]\n",
    "    pdf_A = np.sum(pdf_A, axis=1)    \n",
    "\n",
    "    pdf_B = np.zeros((C.shape[0], B.shape[0]))\n",
    "    for i in range(pdf_B.shape[1]):\n",
    "        pdf_B[:,i] = norm.pdf(C, loc=B[i]+delta_t, scale=sigma) / pdf_B.shape[1]\n",
    "    pdf_B = np.sum(pdf_B, axis=1)    \n",
    "    return pdf_A, pdf_B"
   ]
  },
  {
   "cell_type": "code",
   "execution_count": 8,
   "metadata": {},
   "outputs": [],
   "source": []
  },
  {
   "cell_type": "code",
   "execution_count": 3,
   "metadata": {},
   "outputs": [],
   "source": [
    "def minimize(pdf_A, pdf_B):\n",
    "    llh = lambda x: -np.sum( np.log( x*pdf_A + (1-x)*pdf_B ) )\n",
    "    llh = np.vectorize(llh)\n",
    "    x = np.linspace(0, 1, 10000, endpoint=True)\n",
    "    y = llh(x)\n",
    "    return x[np.argmin(y)]"
   ]
  },
  {
   "cell_type": "code",
   "execution_count": 16,
   "metadata": {},
   "outputs": [
    {
     "name": "stderr",
     "output_type": "stream",
     "text": [
      "100%|██████████| 100/100 [00:18<00:00,  5.53it/s]\n"
     ]
    }
   ],
   "source": [
    "from tqdm import tqdm\n",
    "res = []\n",
    "for n in tqdm(range(100)):\n",
    "    pA, pB = evaluate(*generate(rA=10., rB=20.))\n",
    "    res.append(minimize(pA, pB))"
   ]
  },
  {
   "cell_type": "code",
   "execution_count": 17,
   "metadata": {},
   "outputs": [
    {
     "data": {
      "image/png": "[encoded data removed]",
      "text/plain": [
       "<Figure size 432x288 with 1 Axes>"
      ]
     },
     "metadata": {},
     "output_type": "display_data"
    }
   ],
   "source": [
    "plt.hist(res);"
   ]
  },
  {
   "cell_type": "code",
   "execution_count": 19,
   "metadata": {},
   "outputs": [
    {
     "name": "stdout",
     "output_type": "stream",
     "text": [
      "P(C|A) =  0.33247324732473255 pm 0.029090528412286924\n"
     ]
    }
   ],
   "source": [
    "print('P(C|A) = ',np.mean(res), 'pm', np.std(res))"
   ]
  },
  {
   "cell_type": "code",
   "execution_count": null,
   "metadata": {},
   "outputs": [],
   "source": []
  }
 ],
 "metadata": {
  "kernelspec": {
   "display_name": "Python 3",
   "language": "python",
   "name": "python3"
  },
  "language_info": {
   "codemirror_mode": {
    "name": "ipython",
    "version": 3
   },
   "file_extension": ".py",
   "mimetype": "text/x-python",
   "name": "python",
   "nbconvert_exporter": "python",
   "pygments_lexer": "ipython3",
   "version": "3.5.2"
  }
 },
 "nbformat": 4,
 "nbformat_minor": 2
}
