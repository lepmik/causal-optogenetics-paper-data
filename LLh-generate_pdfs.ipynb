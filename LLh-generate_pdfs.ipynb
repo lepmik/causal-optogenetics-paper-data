{
 "cells": [
  {
   "cell_type": "code",
   "execution_count": null,
   "metadata": {},
   "outputs": [],
   "source": [
    "import numpy as np\n",
    "from scipy.stats import norm\n",
    "import matplotlib.pyplot as plt\n",
    "from scipy.optimize import curve_fit\n",
    "from scipy.stats import norm\n",
    "\n",
    "from generate_defined_input import par, simulate\n",
    "\n",
    "%matplotlib inline"
   ]
  },
  {
   "cell_type": "code",
   "execution_count": null,
   "metadata": {},
   "outputs": [],
   "source": [
    "data = simulate(par, stim_N=3000, J_BC=0., J_AC=0., J_DC=10., rate_p=1000.)"
   ]
  },
  {
   "cell_type": "code",
   "execution_count": null,
   "metadata": {},
   "outputs": [],
   "source": [
    "t_stop = data['status']['time']\n",
    "spiketrains = [s['times'] for s in data['spiketrains']]\n",
    "names = ['A', 'B', 'C']"
   ]
  },
  {
   "cell_type": "code",
   "execution_count": null,
   "metadata": {},
   "outputs": [],
   "source": [
    "A_spikes, B_spikes, C_spikes, D_spikes = spiketrains"
   ]
  },
  {
   "cell_type": "code",
   "execution_count": null,
   "metadata": {},
   "outputs": [],
   "source": [
    "plt.figure()\n",
    "plt.scatter(A_spikes, 1.*np.ones(A_spikes.shape[0]))\n",
    "plt.scatter(B_spikes, 2.*np.ones(B_spikes.shape[0]))\n",
    "plt.scatter(C_spikes, 3.*np.ones(C_spikes.shape[0]))\n",
    "plt.scatter(D_spikes, 4.*np.ones(D_spikes.shape[0]))\n",
    "plt.show()"
   ]
  },
  {
   "cell_type": "code",
   "execution_count": null,
   "metadata": {},
   "outputs": [],
   "source": []
  },
  {
   "cell_type": "code",
   "execution_count": null,
   "metadata": {},
   "outputs": [],
   "source": [
    "D_spikes"
   ]
  },
  {
   "cell_type": "code",
   "execution_count": null,
   "metadata": {},
   "outputs": [],
   "source": [
    "C_spikes"
   ]
  },
  {
   "cell_type": "code",
   "execution_count": null,
   "metadata": {},
   "outputs": [],
   "source": [
    "np.mod(D_spikes, 10)"
   ]
  },
  {
   "cell_type": "code",
   "execution_count": null,
   "metadata": {},
   "outputs": [],
   "source": [
    "t = np.mod(C_spikes, 10)-2."
   ]
  },
  {
   "cell_type": "code",
   "execution_count": null,
   "metadata": {},
   "outputs": [],
   "source": [
    "h, edges = np.histogram(t, density=True, bins=np.linspace(-1., 10., 100))\n",
    "bin_center = (edges[1:]+edges[:-1])/2.\n",
    "\n",
    "\n",
    "def func(x, a, b, c, d):\n",
    "#     x = x - a\n",
    "#     value = x**2*np.exp(-b*x)+c\n",
    "    value = a*np.exp(-(b-x)**2/c)+d\n",
    "#     value = norm.pdf(x, loc=a, scale=b)+c\n",
    "    return value\n",
    "\n",
    "\n",
    "popt, pcov = curve_fit(func, bin_center, h, p0=[1, 3, 2, 0])\n",
    "print(popt)"
   ]
  },
  {
   "cell_type": "code",
   "execution_count": null,
   "metadata": {},
   "outputs": [],
   "source": [
    "plt.figure(figsize=(10, 10))\n",
    "plt.hist(t, density=True, bins=np.linspace(-1., 10., 100), alpha=0.3)\n",
    "plt.plot(bin_center, h, lw=2)\n",
    "plt.plot(bin_center, func(bin_center, *popt), lw=2)\n",
    "# plt.plot(bin_center, func(bin_center, *(1,3,2,0)), lw=2)\n",
    "plt.semilogy()\n",
    "plt.show()"
   ]
  },
  {
   "cell_type": "code",
   "execution_count": null,
   "metadata": {},
   "outputs": [],
   "source": []
  }
 ],
 "metadata": {
  "kernelspec": {
   "display_name": "Python 3",
   "language": "python",
   "name": "python3"
  },
  "language_info": {
   "codemirror_mode": {
    "name": "ipython",
    "version": 3
   },
   "file_extension": ".py",
   "mimetype": "text/x-python",
   "name": "python",
   "nbconvert_exporter": "python",
   "pygments_lexer": "ipython3",
   "version": "3.7.0"
  }
 },
 "nbformat": 4,
 "nbformat_minor": 2
}
