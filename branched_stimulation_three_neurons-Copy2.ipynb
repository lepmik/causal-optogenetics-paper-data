{
 "cells": [
  {
   "cell_type": "code",
   "execution_count": 2,
   "metadata": {},
   "outputs": [],
   "source": [
    "%load_ext autoreload\n",
    "%autoreload 2"
   ]
  },
  {
   "cell_type": "code",
   "execution_count": 3,
   "metadata": {},
   "outputs": [],
   "source": [
    "import os\n",
    "import imp\n",
    "import os.path as op\n",
    "import numpy as np\n",
    "import matplotlib.pyplot as plt\n",
    "from tqdm import tqdm\n",
    "import elephant\n",
    "import pickle as pkl\n",
    "from brian2 import ms, second\n",
    "import pdb\n",
    "import sys\n",
    "import pandas as pd\n",
    "from tqdm import tqdm_notebook as tqdm"
   ]
  },
  {
   "cell_type": "code",
   "execution_count": 4,
   "metadata": {},
   "outputs": [],
   "source": [
    "from triple_brian2 import branched_triple, branched_spike_triple"
   ]
  },
  {
   "cell_type": "code",
   "execution_count": 4,
   "metadata": {},
   "outputs": [
    {
     "data": {
      "application/vnd.jupyter.widget-view+json": {
       "model_id": "08a67867f51d4f3aa912c1a5e61253c0",
       "version_major": 2,
       "version_minor": 0
      },
      "text/html": [
       "<p>Failed to display Jupyter Widget of type <code>HBox</code>.</p>\n",
       "<p>\n",
       "  If you're reading this message in the Jupyter Notebook or JupyterLab Notebook, it may mean\n",
       "  that the widgets JavaScript is still loading. If this message persists, it\n",
       "  likely means that the widgets JavaScript library is either not installed or\n",
       "  not enabled. See the <a href=\"https://ipywidgets.readthedocs.io/en/stable/user_install.html\">Jupyter\n",
       "  Widgets Documentation</a> for setup instructions.\n",
       "</p>\n",
       "<p>\n",
       "  If you're reading this message in another frontend (for example, a static\n",
       "  rendering on GitHub or <a href=\"https://nbviewer.jupyter.org/\">NBViewer</a>),\n",
       "  it may mean that your frontend doesn't currently support widgets.\n",
       "</p>\n"
      ],
      "text/plain": [
       "HBox(children=(IntProgress(value=0, max=1000000), HTML(value='')))"
      ]
     },
     "metadata": {},
     "output_type": "display_data"
    },
    {
     "name": "stdout",
     "output_type": "stream",
     "text": [
      "\n"
     ]
    }
   ],
   "source": [
    "stim_times, spk_prev_i, spk_prev_t, spk_mon2_i, spk_mon2_t = branched_triple(\n",
    "    runtime=100*second, progress_bar=tqdm)"
   ]
  },
  {
   "cell_type": "code",
   "execution_count": 6,
   "metadata": {},
   "outputs": [],
   "source": [
    "d = np.load('longrun_triple_branched.npz', allow_pickle=True)['data'][()]"
   ]
  },
  {
   "cell_type": "code",
   "execution_count": 7,
   "metadata": {},
   "outputs": [],
   "source": [
    "stim_times, spk_prev_i, spk_prev_t, spk_mon2_i, spk_mon2_t = map(\n",
    "    d.get, ['stim_times', 'spk_prev_i', 'spk_prev_t', 'spk_mon2_i', 'spk_mon2_t'])"
   ]
  },
  {
   "cell_type": "code",
   "execution_count": 8,
   "metadata": {},
   "outputs": [],
   "source": [
    "spk_prev_i = np.array(spk_prev_i)\n",
    "spk_prev_t = np.array(spk_prev_t)"
   ]
  },
  {
   "cell_type": "code",
   "execution_count": 9,
   "metadata": {},
   "outputs": [
    {
     "name": "stderr",
     "output_type": "stream",
     "text": [
      "WARNING    /home/mikkel/.virtualenvs/main/lib/python3.5/site-packages/ipykernel_launcher.py:10: DeprecationWarning: The truth value of an empty array is ambiguous. Returning False, but in future this will result in an error. Use `array.size > 0` to check that an array is not empty.\n",
      "  # Remove the CWD from sys.path while we load stuff.\n",
      " [py.warnings]\n",
      "WARNING    /home/mikkel/.virtualenvs/main/lib/python3.5/site-packages/ipykernel_launcher.py:11: DeprecationWarning: The truth value of an empty array is ambiguous. Returning False, but in future this will result in an error. Use `array.size > 0` to check that an array is not empty.\n",
      "  # This is added back by InteractiveShellApp.init_path()\n",
      " [py.warnings]\n"
     ]
    }
   ],
   "source": [
    "S = np.array(stim_times)\n",
    "Z = np.array([(abs(s - t) <= 2) for s, t in zip(S, spk_prev_t)])\n",
    "Z_A = (spk_prev_i == 0) & Z\n",
    "Z_B = (spk_prev_i == 1) & Z\n",
    "\n",
    "ZZ = spk_prev_t - S\n",
    "\n",
    "XX_A = np.array([t[s==0] - st for s, st, t in zip(spk_mon2_i, S, spk_mon2_t)])\n",
    "XX_B = np.array([t[s==1] - st for s, st, t in zip(spk_mon2_i, S, spk_mon2_t)])\n",
    "X_A = np.array([any([t < 2]) for t in XX_A])\n",
    "X_B = np.array([any([t < 2]) for t in XX_B])\n",
    "Y = np.array([t[s==2] - st for s, st, t in zip(spk_mon2_i, S, spk_mon2_t)])"
   ]
  },
  {
   "cell_type": "code",
   "execution_count": 10,
   "metadata": {},
   "outputs": [],
   "source": [
    "bins = np.arange(15)"
   ]
  },
  {
   "cell_type": "code",
   "execution_count": 11,
   "metadata": {},
   "outputs": [
    {
     "data": {
      "image/png": "[encoded data removed]",
      "text/plain": [
       "<Figure size 432x288 with 1 Axes>"
      ]
     },
     "metadata": {},
     "output_type": "display_data"
    }
   ],
   "source": [
    "plt.hist([t for trial in Y for t in trial], bins=bins);"
   ]
  },
  {
   "cell_type": "code",
   "execution_count": 12,
   "metadata": {},
   "outputs": [
    {
     "data": {
      "image/png": "[encoded data removed]",
      "text/plain": [
       "<Figure size 432x288 with 1 Axes>"
      ]
     },
     "metadata": {},
     "output_type": "display_data"
    }
   ],
   "source": [
    "plt.hist([t for trial in XX_A for t in trial], bins=bins);"
   ]
  },
  {
   "cell_type": "code",
   "execution_count": 13,
   "metadata": {},
   "outputs": [
    {
     "data": {
      "image/png": "[encoded data removed]",
      "text/plain": [
       "<Figure size 432x288 with 1 Axes>"
      ]
     },
     "metadata": {},
     "output_type": "display_data"
    }
   ],
   "source": [
    "plt.hist([t for trial in XX_B for t in trial], bins=bins);"
   ]
  },
  {
   "cell_type": "code",
   "execution_count": 14,
   "metadata": {},
   "outputs": [
    {
     "data": {
      "text/plain": [
       "(12816, 1939, 1201)"
      ]
     },
     "execution_count": 14,
     "metadata": {},
     "output_type": "execute_result"
    }
   ],
   "source": [
    "len(S), sum(Z_A), sum(Z_B)"
   ]
  },
  {
   "cell_type": "code",
   "execution_count": 15,
   "metadata": {},
   "outputs": [
    {
     "data": {
      "text/plain": [
       "<matplotlib.legend.Legend at 0x7fdc48029240>"
      ]
     },
     "execution_count": 15,
     "metadata": {},
     "output_type": "execute_result"
    },
    {
     "data": {
      "image/png": "[encoded data removed]",
      "text/plain": [
       "<Figure size 432x288 with 1 Axes>"
      ]
     },
     "metadata": {},
     "output_type": "display_data"
    }
   ],
   "source": [
    "plt.hist([t for trial in Y[Z_A==1] for t in trial], bins=bins, histtype='step', lw=2, label='Z=1', density=True);\n",
    "plt.hist([t for trial in Y[X_A==1] for t in trial], bins=bins, histtype='step', lw=2, label='X=1', density=True);\n",
    "plt.legend()"
   ]
  },
  {
   "cell_type": "code",
   "execution_count": 16,
   "metadata": {},
   "outputs": [
    {
     "data": {
      "text/plain": [
       "<matplotlib.legend.Legend at 0x7fdc48029400>"
      ]
     },
     "execution_count": 16,
     "metadata": {},
     "output_type": "execute_result"
    },
    {
     "data": {
      "image/png": "[encoded data removed]",
      "text/plain": [
       "<Figure size 432x288 with 1 Axes>"
      ]
     },
     "metadata": {},
     "output_type": "display_data"
    }
   ],
   "source": [
    "plt.hist([t for trial in Y[Z_B==1] for t in trial], bins=bins, histtype='step', lw=2, label='Z=1', density=True);\n",
    "plt.hist([t for trial in Y[X_B==1] for t in trial], bins=bins, histtype='step', lw=2, label='X=1', density=True);\n",
    "plt.legend()"
   ]
  },
  {
   "cell_type": "code",
   "execution_count": null,
   "metadata": {},
   "outputs": [],
   "source": []
  },
  {
   "cell_type": "markdown",
   "metadata": {},
   "source": [
    "# spike correlations"
   ]
  },
  {
   "cell_type": "code",
   "execution_count": 87,
   "metadata": {},
   "outputs": [],
   "source": [
    "sa = []\n",
    "for i, t0, t1, t2 in zip(spk_prev_i, ZZ, XX_B, Y):\n",
    "    if i == 0:\n",
    "        tt = np.concatenate([[t0], t1])\n",
    "    else:\n",
    "        tt = t1\n",
    "    sa.append([s for t in tt for s in t2 - t])\n",
    "sa = np.array(sa)\n",
    "\n",
    "sb = []\n",
    "for i, t0, t1, t2 in zip(spk_prev_i, ZZ, XX_B, Y):\n",
    "    if i == 1:\n",
    "        tt = np.concatenate([[t0], t1])\n",
    "    else:\n",
    "        tt = t1\n",
    "    sb.append([s for t in tt for s in t2 - t])\n",
    "sb = np.array(sb)"
   ]
  },
  {
   "cell_type": "code",
   "execution_count": 90,
   "metadata": {},
   "outputs": [],
   "source": [
    "saz = [t for tr in sa[Z_A==1] for t in tr]\n",
    "sax = [t for tr in sa[X_A==1] for t in tr]"
   ]
  },
  {
   "cell_type": "code",
   "execution_count": 91,
   "metadata": {},
   "outputs": [],
   "source": [
    "sbz = [t for tr in sb[Z_B==1] for t in tr]\n",
    "sbx = [t for tr in sb[X_B==1] for t in tr]"
   ]
  },
  {
   "cell_type": "code",
   "execution_count": 103,
   "metadata": {},
   "outputs": [
    {
     "data": {
      "text/plain": [
       "<matplotlib.legend.Legend at 0x7f0115c6f7b8>"
      ]
     },
     "execution_count": 103,
     "metadata": {},
     "output_type": "execute_result"
    },
    {
     "data": {
      "image/png": "[encoded data removed]",
      "text/plain": [
       "<Figure size 432x288 with 1 Axes>"
      ]
     },
     "metadata": {
      "needs_background": "light"
     },
     "output_type": "display_data"
    }
   ],
   "source": [
    "b = np.arange(0, 15, .5)\n",
    "plt.hist(saz, bins=b, histtype='step', lw=2, density=True, label='Z=1')\n",
    "plt.hist(sax, bins=b, histtype='step', lw=2, density=True, label='X=1')\n",
    "plt.legend()"
   ]
  },
  {
   "cell_type": "code",
   "execution_count": 104,
   "metadata": {},
   "outputs": [
    {
     "data": {
      "text/plain": [
       "<matplotlib.legend.Legend at 0x7f0116b4e080>"
      ]
     },
     "execution_count": 104,
     "metadata": {},
     "output_type": "execute_result"
    },
    {
     "data": {
      "image/png": "[encoded data removed]",
      "text/plain": [
       "<Figure size 432x288 with 1 Axes>"
      ]
     },
     "metadata": {
      "needs_background": "light"
     },
     "output_type": "display_data"
    }
   ],
   "source": [
    "plt.hist(sbz, bins=b, histtype='step', lw=2, density=True, label='Z=1')\n",
    "plt.hist(sbx, bins=b, histtype='step', lw=2, density=True, label='X=1')\n",
    "plt.legend()"
   ]
  },
  {
   "cell_type": "code",
   "execution_count": 5,
   "metadata": {},
   "outputs": [],
   "source": [
    "np.savez('longrun_triple_branched.npz', data={\n",
    "    'stim_times': stim_times, \n",
    "    'spk_prev_i': spk_prev_i, \n",
    "    'spk_prev_t': spk_prev_t, \n",
    "    'spk_mon2_i': spk_mon2_i, \n",
    "    'spk_mon2_t': spk_mon2_t\n",
    "})"
   ]
  },
  {
   "cell_type": "code",
   "execution_count": null,
   "metadata": {},
   "outputs": [],
   "source": []
  }
 ],
 "metadata": {
  "kernelspec": {
   "display_name": "Python 3",
   "language": "python",
   "name": "python3"
  },
  "language_info": {
   "codemirror_mode": {
    "name": "ipython",
    "version": 3
   },
   "file_extension": ".py",
   "mimetype": "text/x-python",
   "name": "python",
   "nbconvert_exporter": "python",
   "pygments_lexer": "ipython3",
   "version": "3.5.2"
  }
 },
 "nbformat": 4,
 "nbformat_minor": 2
}
