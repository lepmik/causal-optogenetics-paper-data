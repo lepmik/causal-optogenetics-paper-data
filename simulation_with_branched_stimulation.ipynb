{
 "cells": [
  {
   "cell_type": "code",
   "execution_count": 1,
   "metadata": {},
   "outputs": [],
   "source": [
    "from simulator_brian import create_connection_matrix\n",
    "import os\n",
    "import imp\n",
    "import os.path as op\n",
    "import numpy as np\n",
    "import matplotlib.pyplot as plt\n",
    "from tqdm import tqdm\n",
    "%load_ext autoreload\n",
    "%autoreload 2\n",
    "import elephant\n",
    "import pickle as pkl\n",
    "from brian2 import *\n",
    "import pdb\n",
    "import sys\n",
    "import pandas as pd"
   ]
  },
  {
   "cell_type": "code",
   "execution_count": 2,
   "metadata": {},
   "outputs": [],
   "source": [
    "data_path = '/home/jovyan/work/instrumentalVariable/test_data_sim_big/'\n",
    "param_module = 'params_test_big_brian2.py'\n",
    "os.makedirs(data_path, exist_ok=True)\n",
    "jobname = param_module.replace('.py', '')\n",
    "currdir = '/home/jovyan/work/instrumentalVariable/causal-optogenetics-paper-data/'\n",
    "f, p, d = imp.find_module(jobname, [currdir])\n",
    "p = imp.load_module(jobname, f, p, d).parameters\n",
    "\n",
    "free_sim = True"
   ]
  },
  {
   "cell_type": "markdown",
   "metadata": {},
   "source": [
    "### Set neurons\n"
   ]
  },
  {
   "cell_type": "code",
   "execution_count": 3,
   "metadata": {},
   "outputs": [],
   "source": [
    "eqs = '''dV_m/dt = (g_L*(E_L-V_m)+Ie+Ii+I)/(C_m) : volt\n",
    "         Ie = ge*(E_ex-V_m) : amp\n",
    "         Ii = gi*(E_in-V_m) : amp\n",
    "         dge/dt = -ge/(tau_syn_ex) : siemens\n",
    "         dgi/dt = -gi/(tau_syn_in) : siemens\n",
    "         I : amp'''\n",
    "nodes = NeuronGroup(\n",
    "    p['N_neurons'],\n",
    "    model=eqs,\n",
    "    threshold='V_m > V_th',\n",
    "    reset='V_m = V_reset',\n",
    "    refractory=p['t_ref'],\n",
    "    namespace=p,\n",
    "    method='euler',\n",
    ")\n",
    "\n",
    "p['C_ex'] = int(p['eps'] * p['N_ex'])\n",
    "p['C_in'] = int(p['eps'] * p['N_in'])\n",
    "n = p['tau_syn_in'] * abs(p['E_L'] - p['E_in'])\n",
    "d = p['J_ex'] * p['tau_syn_ex'] * abs(p['E_L'] - p['E_ex'])\n",
    "p['J_in'] = p['g'] * d / n\n",
    "\n",
    "nodes_ex = nodes[:p['N_ex']]\n",
    "nodes_in = nodes[p['N_ex']:]\n",
    "\n",
    "nodes_ex_stim = nodes_ex[:p['stim_N_ex']]"
   ]
  },
  {
   "cell_type": "markdown",
   "metadata": {},
   "source": [
    "### Set connections from matrix"
   ]
  },
  {
   "cell_type": "code",
   "execution_count": 4,
   "metadata": {},
   "outputs": [
    {
     "name": "stderr",
     "output_type": "stream",
     "text": [
      "  0%|          | 0/4000 [00:00<?, ?it/s]WARNING    /opt/conda/lib/python3.7/site-packages/brian2/units/fundamentalunits.py:1025: UserWarning: Unknown ufunc 'clip' in __array_prepare__\n",
      "  warn(\"Unknown ufunc '%s' in __array_prepare__\" % uf.__name__)\n",
      " [py.warnings]\n",
      "WARNING    /opt/conda/lib/python3.7/site-packages/brian2/units/fundamentalunits.py:1060: UserWarning: Unknown ufunc 'clip' in __array_wrap__\n",
      "  warn(\"Unknown ufunc '%s' in __array_wrap__\" % uf.__name__)\n",
      " [py.warnings]\n",
      "  5%|▍         | 187/4000 [00:00<00:02, 1865.83it/s]"
     ]
    },
    {
     "name": "stdout",
     "output_type": "stream",
     "text": [
      "Finding excitatory and inhibitory projections\n",
      "J_ex =  0.68 nS C_ex =  320 J_in =  12.852 nS C_in =  80\n"
     ]
    },
    {
     "name": "stderr",
     "output_type": "stream",
     "text": [
      "100%|██████████| 4000/4000 [00:01<00:00, 2074.25it/s]\n"
     ]
    }
   ],
   "source": [
    "m = create_connection_matrix(p, p['msd'])\n",
    "\n",
    "# store connections\n",
    "with open(str(data_path)+'/'+'m.pkl', 'wb') as f:\n",
    "            pkl.dump(m, f)"
   ]
  },
  {
   "cell_type": "code",
   "execution_count": 5,
   "metadata": {},
   "outputs": [],
   "source": [
    "syn_ex = Synapses(\n",
    "    nodes_ex,\n",
    "    nodes,\n",
    "    model='w:siemens',\n",
    "    on_pre='ge+=w',\n",
    "    delay=p['syn_delay'])\n",
    "\n",
    "syn_in = Synapses(\n",
    "    nodes_in,\n",
    "    nodes,\n",
    "    model='w:siemens',\n",
    "    on_pre='gi+=w',\n",
    "    delay=p['syn_delay'])\n",
    "\n",
    "N_ex = p['N_ex']\n",
    "j, i = np.where(m)\n",
    "j_ex, i_ex = j[i<N_ex], i[i<N_ex]\n",
    "j_in, i_in = j[i>=N_ex], i[i>=N_ex]        \n",
    "\n",
    "syn_ex.connect(i=i_ex, j=j_ex)\n",
    "syn_ex.w = m[j_ex, i_ex]\n",
    "\n",
    "syn_in.connect(i=i_in-N_ex, j=j_in)\n",
    "syn_in.w = m[j_in, i_in]"
   ]
  },
  {
   "cell_type": "markdown",
   "metadata": {},
   "source": [
    "### Set background stimulation"
   ]
  },
  {
   "cell_type": "code",
   "execution_count": 6,
   "metadata": {},
   "outputs": [],
   "source": [
    "poissInp = PoissonInput(\n",
    "    nodes, 'ge',\n",
    "    N=p['N_p'],\n",
    "    rate=p['rate_p'],\n",
    "    weight=p['J_ex'])"
   ]
  },
  {
   "cell_type": "markdown",
   "metadata": {},
   "source": [
    "### Set spike monitors"
   ]
  },
  {
   "cell_type": "code",
   "execution_count": 7,
   "metadata": {},
   "outputs": [],
   "source": [
    "# 1 for times without stim\n",
    "spk_mon1 = SpikeMonitor(nodes)\n",
    "\n",
    "# 2 for stimulation periods\n",
    "spk_mon2 = SpikeMonitor(nodes)\n",
    "spk_mon2.active = False"
   ]
  },
  {
   "cell_type": "markdown",
   "metadata": {},
   "source": [
    "### Simulate"
   ]
  },
  {
   "cell_type": "code",
   "execution_count": 8,
   "metadata": {},
   "outputs": [],
   "source": [
    "#nodes_ex_stim_i = np.array(nodes_ex_stim.i)\n",
    "\n",
    "# find last index +1 of stim supgroup\n",
    "idx_stop_pl_1 = nodes_ex_stim.stop\n",
    "# make sure that stim subgroups starts with 0\n",
    "assert nodes_ex_stim.start == 0\n",
    "\n",
    "\n",
    "@network_operation\n",
    "def stop_for_spikes():\n",
    "#    if len(nodes_ex_stim.spikes):\n",
    "#    if len(np.in1d(nodes.spikes, nodes_ex_stim_i)):\n",
    "    # .spikes is not subgroup specific\n",
    "    # therefore we have to manually check whether any of the occuring spikes\n",
    "    # is from the subgroup.\n",
    "    if len(nodes.spikes) and np.searchsorted(nodes.spikes, idx_stop_pl_1)>0:\n",
    "        stop()"
   ]
  },
  {
   "cell_type": "code",
   "execution_count": 9,
   "metadata": {},
   "outputs": [
    {
     "name": "stdout",
     "output_type": "stream",
     "text": [
      "\r",
      "500.0"
     ]
    }
   ],
   "source": [
    "# run init time without stimulation\n",
    "stop_for_spikes.active = False\n",
    "run(p['init_simtime'])\n",
    "sys.stdout.write('\\r'+str(defaultclock.t/ms))\n",
    "t2 = defaultclock.t/ms"
   ]
  },
  {
   "cell_type": "code",
   "execution_count": 10,
   "metadata": {},
   "outputs": [],
   "source": [
    "\n",
    "# now with stimulation\n",
    "stop_for_spikes.active = True\n",
    "run(p['runtime'] - defaultclock.t)\n",
    "\n",
    "\n",
    "while defaultclock.t < p['runtime']:\n",
    "    if defaultclock.t/ms - t2 > p['t_dist_min']/ms:\n",
    "        # stimulation only after init_simtime \n",
    "        stop_for_spikes.active = False\n",
    "        # get timepoint of branching, shift by the delay of 0.2 ms\n",
    "        t2 = defaultclock.t/ms - 0.2\n",
    "        # store network state before stimulation\n",
    "        store()\n",
    "        # We'll need an explicit seed here, otherwise we'll continue with different\n",
    "        # random numbers after the restore\n",
    "        use_seed = randint(iinfo(np.int32).max)\n",
    "        seed(use_seed)\n",
    "        # change spike monitors\n",
    "        spk_mon1.active = False\n",
    "        spk_mon2.active = True\n",
    "        # stimulate\n",
    "        nodes_ex_stim.I = p['stim_amp_ex']\n",
    "        run(p['stim_duration'])\n",
    "        # turn stimuli off, but keep on simulation\n",
    "        t_left = p['simtime_stim'] - p['stim_duration']\n",
    "        nodes_ex_stim.I = 0.*pA\n",
    "        run(t_left)\n",
    "        # store data of intermittent run\n",
    "        spk_mon2_t = np.array(spk_mon2.t/ms)\n",
    "        spk_mon2_i = np.array(spk_mon2.i).astype(int)\n",
    "        data = {\n",
    "            't': t2,\n",
    "            'spk_ids': spk_mon2_i,\n",
    "            'spk_ts': spk_mon2_t}\n",
    "        np.savez(data_path + 'stimulation_data_{}.npz'.format(str(int(t2*10))), data=data)\n",
    "\n",
    "        # restore previous network state and continue with simulation\n",
    "        stop_for_spikes.active = True\n",
    "        restore()\n",
    "        seed(use_seed)\n",
    "        spk_mon1.active = True\n",
    "        spk_mon2.active = False\n",
    "        with open(data_path + 'log', 'w') as f:\n",
    "            f.write(str(defaultclock.t/ms))\n",
    "        sys.stdout.write('\\r'+str(defaultclock.t/ms))\n",
    "    run(p['runtime'] - defaultclock.t)"
   ]
  },
  {
   "cell_type": "markdown",
   "metadata": {},
   "source": [
    "### Store spikes"
   ]
  },
  {
   "cell_type": "code",
   "execution_count": 11,
   "metadata": {},
   "outputs": [],
   "source": [
    "t1, i1 = np.array(spk_mon1.t), np.array(spk_mon1.i)\n",
    "with open(str(data_path) + '/' + 'spks1.csv', 'w') as f:\n",
    "        pd.DataFrame({'t': t1, 'id': i1.astype(int)}\n",
    "        ).to_csv(f, header=False, index=False)"
   ]
  }
 ],
 "metadata": {
  "kernelspec": {
   "display_name": "Python 3",
   "language": "python",
   "name": "python3"
  },
  "language_info": {
   "codemirror_mode": {
    "name": "ipython",
    "version": 3
   },
   "file_extension": ".py",
   "mimetype": "text/x-python",
   "name": "python",
   "nbconvert_exporter": "python",
   "pygments_lexer": "ipython3",
   "version": "3.7.3"
  }
 },
 "nbformat": 4,
 "nbformat_minor": 2
}
