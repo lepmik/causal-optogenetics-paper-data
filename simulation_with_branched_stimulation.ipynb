{
 "cells": [
  {
   "cell_type": "code",
   "execution_count": 1,
   "metadata": {},
   "outputs": [],
   "source": [
    "from simulator_brian import create_connection_matrix\n",
    "import os\n",
    "import imp\n",
    "import os.path as op\n",
    "import numpy as np\n",
    "import matplotlib.pyplot as plt\n",
    "from tqdm import tqdm\n",
    "%load_ext autoreload\n",
    "%autoreload 2\n",
    "import pickle as pkl\n",
    "from brian2 import *\n",
    "import pdb\n",
    "import sys\n",
    "import pandas as pd"
   ]
  },
  {
   "cell_type": "code",
   "execution_count": 2,
   "metadata": {},
   "outputs": [],
   "source": [
    "data_path = '/home/jovyan/work/instrumentalVariable/test_data_sim_big/'\n",
    "param_module = 'params_test_big_brian2.py'\n",
    "os.makedirs(data_path, exist_ok=True)\n",
    "jobname = param_module.replace('.py', '')\n",
    "currdir = '/home/jovyan/work/instrumentalVariable/causal-optogenetics-paper-data/'\n",
    "f, p, d = imp.find_module(jobname, [currdir])\n",
    "p = imp.load_module(jobname, f, p, d).parameters"
   ]
  },
  {
   "cell_type": "markdown",
   "metadata": {},
   "source": [
    "### Set neurons\n"
   ]
  },
  {
   "cell_type": "code",
   "execution_count": 3,
   "metadata": {},
   "outputs": [],
   "source": [
    "eqs = '''dV_m/dt = (g_L*(E_L-V_m)+Ie+Ii+I+Ix)/(C_m) : volt\n",
    "         Ie = ge*(E_ex-V_m) : amp\n",
    "         Ii = gi*(E_in-V_m) : amp\n",
    "         dge/dt = -ge/(tau_syn_ex) : siemens\n",
    "         dgi/dt = -gi/(tau_syn_in) : siemens\n",
    "         Ix = sizes*0.5*(1+sin(2*pi*rates*t)) : amp\n",
    "         rates : Hz\n",
    "         sizes : amp\n",
    "         I : amp'''\n",
    "nodes = NeuronGroup(\n",
    "    p['N_neurons'],\n",
    "    model=eqs,\n",
    "    threshold='V_m > V_th',\n",
    "    reset='V_m = V_reset',\n",
    "    refractory=p['t_ref'],\n",
    "    namespace=p,\n",
    "    method='euler',\n",
    ")\n",
    "\n",
    "nodes.sizes = p['s_sin']\n",
    "nodes.rates= p['r_sin']\n",
    "\n",
    "p['C_ex'] = int(p['eps'] * p['N_ex'])\n",
    "p['C_in'] = int(p['eps'] * p['N_in'])\n",
    "n = p['tau_syn_in'] * abs(p['E_L'] - p['E_in'])\n",
    "d = p['J_ex'] * p['tau_syn_ex'] * abs(p['E_L'] - p['E_ex'])\n",
    "p['J_in'] = p['g'] * d / n\n",
    "\n",
    "nodes_ex = nodes[:p['N_ex']]\n",
    "nodes_in = nodes[p['N_ex']:]\n",
    "\n",
    "nodes_ex_stim = nodes_ex[:p['stim_N_ex']]"
   ]
  },
  {
   "cell_type": "markdown",
   "metadata": {},
   "source": [
    "### Set connections from matrix"
   ]
  },
  {
   "cell_type": "code",
   "execution_count": 4,
   "metadata": {},
   "outputs": [
    {
     "name": "stderr",
     "output_type": "stream",
     "text": [
      "  5%|▌         | 206/4000 [00:00<00:01, 2056.18it/s]"
     ]
    },
    {
     "name": "stdout",
     "output_type": "stream",
     "text": [
      "Finding excitatory and inhibitory projections\n",
      "J_ex =  0.68 nS C_ex =  320 J_in =  12.852 nS C_in =  80\n"
     ]
    },
    {
     "name": "stderr",
     "output_type": "stream",
     "text": [
      "100%|██████████| 4000/4000 [00:01<00:00, 2171.80it/s]\n"
     ]
    }
   ],
   "source": [
    "m = create_connection_matrix(p, p['msd'])\n",
    "\n",
    "# store connections\n",
    "with open(str(data_path)+'/'+'m.pkl', 'wb') as f:\n",
    "            pkl.dump(m, f)"
   ]
  },
  {
   "cell_type": "code",
   "execution_count": 5,
   "metadata": {},
   "outputs": [],
   "source": [
    "syn_ex = Synapses(\n",
    "    nodes_ex,\n",
    "    nodes,\n",
    "    model='w:siemens',\n",
    "    on_pre='ge+=w',\n",
    "    delay=p['syn_delay'])\n",
    "\n",
    "syn_in = Synapses(\n",
    "    nodes_in,\n",
    "    nodes,\n",
    "    model='w:siemens',\n",
    "    on_pre='gi+=w',\n",
    "    delay=p['syn_delay'])\n",
    "\n",
    "N_ex = p['N_ex']\n",
    "j, i = np.where(m)\n",
    "j_ex, i_ex = j[i<N_ex], i[i<N_ex]\n",
    "j_in, i_in = j[i>=N_ex], i[i>=N_ex]       \n",
    "\n",
    "syn_ex.connect(i=i_ex, j=j_ex)\n",
    "syn_ex.w = m[j_ex, i_ex]\n",
    "\n",
    "syn_in.connect(i=i_in-N_ex, j=j_in)\n",
    "syn_in.w = m[j_in, i_in]"
   ]
  },
  {
   "cell_type": "markdown",
   "metadata": {},
   "source": [
    "### Set background stimulation"
   ]
  },
  {
   "cell_type": "code",
   "execution_count": 6,
   "metadata": {},
   "outputs": [],
   "source": [
    "poissInp = PoissonInput(\n",
    "    nodes, 'ge',\n",
    "    N=p['N_p'],\n",
    "    rate=p['rate_p'],\n",
    "    weight=p['J_ex'])"
   ]
  },
  {
   "cell_type": "markdown",
   "metadata": {},
   "source": [
    "### Set spike monitors"
   ]
  },
  {
   "cell_type": "code",
   "execution_count": 7,
   "metadata": {},
   "outputs": [],
   "source": [
    "# 1 for times without stim\n",
    "spk_mon1 = SpikeMonitor(nodes)\n",
    "\n",
    "# 2 for stimulation periods\n",
    "spk_mon2 = SpikeMonitor(nodes)\n",
    "spk_mon2.active = False\n",
    "\n",
    "# population rate monitor\n",
    "r_mon = PopulationRateMonitor(nodes_ex)"
   ]
  },
  {
   "cell_type": "markdown",
   "metadata": {},
   "source": [
    "### Simulate"
   ]
  },
  {
   "cell_type": "code",
   "execution_count": 8,
   "metadata": {},
   "outputs": [],
   "source": [
    "#nodes_ex_stim_i = np.array(nodes_ex_stim.i)\n",
    "\n",
    "# find last index +1 of stim supgroup\n",
    "idx_stop_pl_1 = nodes_ex_stim.stop\n",
    "# make sure that stim subgroups starts with 0\n",
    "assert nodes_ex_stim.start == 0\n",
    "\n",
    "\n",
    "@network_operation(when='end')\n",
    "def stop_for_spikes():\n",
    "#    if len(nodes_ex_stim.spikes):\n",
    "#    if len(np.in1d(nodes.spikes, nodes_ex_stim_i)):\n",
    "    # .spikes is not subgroup specific\n",
    "    # therefore we have to manually check whether any of the occuring spikes\n",
    "    # is from the subgroup.\n",
    "    if len(nodes.spikes) and np.searchsorted(nodes.spikes, idx_stop_pl_1)>0:\n",
    "        stop()"
   ]
  },
  {
   "cell_type": "code",
   "execution_count": 9,
   "metadata": {},
   "outputs": [
    {
     "name": "stdout",
     "output_type": "stream",
     "text": [
      "\r",
      "500.0"
     ]
    }
   ],
   "source": [
    "# run init time without stimulation\n",
    "stop_for_spikes.active = False\n",
    "run(p['init_simtime'])\n",
    "sys.stdout.write('\\r'+str(defaultclock.t/ms))\n",
    "t2 = defaultclock.t/ms"
   ]
  },
  {
   "cell_type": "code",
   "execution_count": 10,
   "metadata": {},
   "outputs": [],
   "source": [
    "t1, i1 = np.array(spk_mon1.t), np.array(spk_mon1.i)\n",
    "r = r_mon.smooth_rate(width=10*ms)"
   ]
  },
  {
   "cell_type": "code",
   "execution_count": 11,
   "metadata": {},
   "outputs": [
    {
     "data": {
      "text/plain": [
       "(0, 20)"
      ]
     },
     "execution_count": 11,
     "metadata": {},
     "output_type": "execute_result"
    },
    {
     "data": {
      "image/png": "[encoded data removed]",
      "text/plain": [
       "<Figure size 576x288 with 2 Axes>"
      ]
     },
     "metadata": {
      "needs_background": "light"
     },
     "output_type": "display_data"
    }
   ],
   "source": [
    "fig, ax = plt.subplots(2, 1, sharex=True, figsize=(8,4))\n",
    "ax[0].plot(spk_mon1.t/second, spk_mon1.i, '|')\n",
    "ax[0].set_title('Base simulation')\n",
    "ax[0].set_xlabel('time [s]')\n",
    "ax[0].set_ylabel('neuron id')\n",
    "\n",
    "ax[0].set_xlim(0.1, 0.32)\n",
    "\n",
    "ax[1].plot(np.arange(0*ms, defaultclock.t, defaultclock.dt), r)\n",
    "ax[1].set_ylim([0, 20])"
   ]
  },
  {
   "cell_type": "code",
   "execution_count": 12,
   "metadata": {},
   "outputs": [
    {
     "data": {
      "text/plain": [
       "(0.0, 20)"
      ]
     },
     "execution_count": 12,
     "metadata": {},
     "output_type": "execute_result"
    },
    {
     "data": {
      "image/png": "[encoded data removed]",
      "text/plain": [
       "<Figure size 576x288 with 2 Axes>"
      ]
     },
     "metadata": {
      "needs_background": "light"
     },
     "output_type": "display_data"
    }
   ],
   "source": [
    "fig, ax = plt.subplots(2, 1, sharex=True, figsize=(8,4))\n",
    "ax[0].plot(spk_mon1.t/second, spk_mon1.i, '|')\n",
    "ax[0].set_title('Base simulation')\n",
    "ax[0].set_xlabel('time [s]')\n",
    "ax[0].set_ylabel('neuron id')\n",
    "\n",
    "ax[0].set_xlim(0.12, 0.125)\n",
    "\n",
    "ax[1].plot(np.arange(0*ms, defaultclock.t, defaultclock.dt), r)\n",
    "ax[1].set_ylim([0., 20])"
   ]
  },
  {
   "cell_type": "code",
   "execution_count": 13,
   "metadata": {},
   "outputs": [
    {
     "name": "stdout",
     "output_type": "stream",
     "text": [
      "1151.3999999999999"
     ]
    },
    {
     "ename": "KeyboardInterrupt",
     "evalue": "",
     "output_type": "error",
     "traceback": [
      "\u001b[0;31m---------------------------------------------------------------------------\u001b[0m",
      "\u001b[0;31mKeyboardInterrupt\u001b[0m                         Traceback (most recent call last)",
      "\u001b[0;32m<ipython-input-13-31c00090e583>\u001b[0m in \u001b[0;36m<module>\u001b[0;34m\u001b[0m\n\u001b[1;32m     36\u001b[0m             \u001b[0;34m'spk_ids'\u001b[0m\u001b[0;34m:\u001b[0m \u001b[0mspk_mon2_i\u001b[0m\u001b[0;34m,\u001b[0m\u001b[0;34m\u001b[0m\u001b[0;34m\u001b[0m\u001b[0m\n\u001b[1;32m     37\u001b[0m             'spk_ts': spk_mon2_t}\n\u001b[0;32m---> 38\u001b[0;31m         \u001b[0mnp\u001b[0m\u001b[0;34m.\u001b[0m\u001b[0msavez\u001b[0m\u001b[0;34m(\u001b[0m\u001b[0mdata_path\u001b[0m \u001b[0;34m+\u001b[0m \u001b[0;34m'stimulation_data_{}.npz'\u001b[0m\u001b[0;34m.\u001b[0m\u001b[0mformat\u001b[0m\u001b[0;34m(\u001b[0m\u001b[0mstr\u001b[0m\u001b[0;34m(\u001b[0m\u001b[0mint\u001b[0m\u001b[0;34m(\u001b[0m\u001b[0mt2\u001b[0m\u001b[0;34m*\u001b[0m\u001b[0;36m10\u001b[0m\u001b[0;34m)\u001b[0m\u001b[0;34m)\u001b[0m\u001b[0;34m)\u001b[0m\u001b[0;34m,\u001b[0m \u001b[0mdata\u001b[0m\u001b[0;34m=\u001b[0m\u001b[0mdata\u001b[0m\u001b[0;34m)\u001b[0m\u001b[0;34m\u001b[0m\u001b[0;34m\u001b[0m\u001b[0m\n\u001b[0m\u001b[1;32m     39\u001b[0m \u001b[0;34m\u001b[0m\u001b[0m\n\u001b[1;32m     40\u001b[0m         \u001b[0;31m# restore previous network state and continue with simulation\u001b[0m\u001b[0;34m\u001b[0m\u001b[0;34m\u001b[0m\u001b[0;34m\u001b[0m\u001b[0m\n",
      "\u001b[0;32m<__array_function__ internals>\u001b[0m in \u001b[0;36msavez\u001b[0;34m(*args, **kwargs)\u001b[0m\n",
      "\u001b[0;32m/opt/conda/lib/python3.7/site-packages/numpy/lib/npyio.py\u001b[0m in \u001b[0;36msavez\u001b[0;34m(file, *args, **kwds)\u001b[0m\n\u001b[1;32m    630\u001b[0m \u001b[0;34m\u001b[0m\u001b[0m\n\u001b[1;32m    631\u001b[0m     \"\"\"\n\u001b[0;32m--> 632\u001b[0;31m     \u001b[0m_savez\u001b[0m\u001b[0;34m(\u001b[0m\u001b[0mfile\u001b[0m\u001b[0;34m,\u001b[0m \u001b[0margs\u001b[0m\u001b[0;34m,\u001b[0m \u001b[0mkwds\u001b[0m\u001b[0;34m,\u001b[0m \u001b[0;32mFalse\u001b[0m\u001b[0;34m)\u001b[0m\u001b[0;34m\u001b[0m\u001b[0;34m\u001b[0m\u001b[0m\n\u001b[0m\u001b[1;32m    633\u001b[0m \u001b[0;34m\u001b[0m\u001b[0m\n\u001b[1;32m    634\u001b[0m \u001b[0;34m\u001b[0m\u001b[0m\n",
      "\u001b[0;32m/opt/conda/lib/python3.7/site-packages/numpy/lib/npyio.py\u001b[0m in \u001b[0;36m_savez\u001b[0;34m(file, args, kwds, compress, allow_pickle, pickle_kwargs)\u001b[0m\n\u001b[1;32m    769\u001b[0m             \u001b[0mos\u001b[0m\u001b[0;34m.\u001b[0m\u001b[0mremove\u001b[0m\u001b[0;34m(\u001b[0m\u001b[0mtmpfile\u001b[0m\u001b[0;34m)\u001b[0m\u001b[0;34m\u001b[0m\u001b[0;34m\u001b[0m\u001b[0m\n\u001b[1;32m    770\u001b[0m \u001b[0;34m\u001b[0m\u001b[0m\n\u001b[0;32m--> 771\u001b[0;31m     \u001b[0mzipf\u001b[0m\u001b[0;34m.\u001b[0m\u001b[0mclose\u001b[0m\u001b[0;34m(\u001b[0m\u001b[0;34m)\u001b[0m\u001b[0;34m\u001b[0m\u001b[0;34m\u001b[0m\u001b[0m\n\u001b[0m\u001b[1;32m    772\u001b[0m \u001b[0;34m\u001b[0m\u001b[0m\n\u001b[1;32m    773\u001b[0m \u001b[0;34m\u001b[0m\u001b[0m\n",
      "\u001b[0;32m/opt/conda/lib/python3.7/zipfile.py\u001b[0m in \u001b[0;36mclose\u001b[0;34m(self)\u001b[0m\n\u001b[1;32m   1809\u001b[0m             \u001b[0mfp\u001b[0m \u001b[0;34m=\u001b[0m \u001b[0mself\u001b[0m\u001b[0;34m.\u001b[0m\u001b[0mfp\u001b[0m\u001b[0;34m\u001b[0m\u001b[0;34m\u001b[0m\u001b[0m\n\u001b[1;32m   1810\u001b[0m             \u001b[0mself\u001b[0m\u001b[0;34m.\u001b[0m\u001b[0mfp\u001b[0m \u001b[0;34m=\u001b[0m \u001b[0;32mNone\u001b[0m\u001b[0;34m\u001b[0m\u001b[0;34m\u001b[0m\u001b[0m\n\u001b[0;32m-> 1811\u001b[0;31m             \u001b[0mself\u001b[0m\u001b[0;34m.\u001b[0m\u001b[0m_fpclose\u001b[0m\u001b[0;34m(\u001b[0m\u001b[0mfp\u001b[0m\u001b[0;34m)\u001b[0m\u001b[0;34m\u001b[0m\u001b[0;34m\u001b[0m\u001b[0m\n\u001b[0m\u001b[1;32m   1812\u001b[0m \u001b[0;34m\u001b[0m\u001b[0m\n\u001b[1;32m   1813\u001b[0m     \u001b[0;32mdef\u001b[0m \u001b[0m_write_end_record\u001b[0m\u001b[0;34m(\u001b[0m\u001b[0mself\u001b[0m\u001b[0;34m)\u001b[0m\u001b[0;34m:\u001b[0m\u001b[0;34m\u001b[0m\u001b[0;34m\u001b[0m\u001b[0m\n",
      "\u001b[0;32m/opt/conda/lib/python3.7/zipfile.py\u001b[0m in \u001b[0;36m_fpclose\u001b[0;34m(self, fp)\u001b[0m\n\u001b[1;32m   1917\u001b[0m         \u001b[0mself\u001b[0m\u001b[0;34m.\u001b[0m\u001b[0m_fileRefCnt\u001b[0m \u001b[0;34m-=\u001b[0m \u001b[0;36m1\u001b[0m\u001b[0;34m\u001b[0m\u001b[0;34m\u001b[0m\u001b[0m\n\u001b[1;32m   1918\u001b[0m         \u001b[0;32mif\u001b[0m \u001b[0;32mnot\u001b[0m \u001b[0mself\u001b[0m\u001b[0;34m.\u001b[0m\u001b[0m_fileRefCnt\u001b[0m \u001b[0;32mand\u001b[0m \u001b[0;32mnot\u001b[0m \u001b[0mself\u001b[0m\u001b[0;34m.\u001b[0m\u001b[0m_filePassed\u001b[0m\u001b[0;34m:\u001b[0m\u001b[0;34m\u001b[0m\u001b[0;34m\u001b[0m\u001b[0m\n\u001b[0;32m-> 1919\u001b[0;31m             \u001b[0mfp\u001b[0m\u001b[0;34m.\u001b[0m\u001b[0mclose\u001b[0m\u001b[0;34m(\u001b[0m\u001b[0;34m)\u001b[0m\u001b[0;34m\u001b[0m\u001b[0;34m\u001b[0m\u001b[0m\n\u001b[0m\u001b[1;32m   1920\u001b[0m \u001b[0;34m\u001b[0m\u001b[0m\n\u001b[1;32m   1921\u001b[0m \u001b[0;34m\u001b[0m\u001b[0m\n",
      "\u001b[0;31mKeyboardInterrupt\u001b[0m: "
     ]
    }
   ],
   "source": [
    "# now with stimulation\n",
    "stop_for_spikes.active = True\n",
    "\n",
    "# initialize random dealy time between branching points\n",
    "t_dist_i = np.random.uniform(p['t_dist_min']/ms, p['t_dist_max']/ms)\n",
    "\n",
    "run(p['runtime'] - defaultclock.t)\n",
    "\n",
    "while defaultclock.t < p['runtime']:\n",
    "    if defaultclock.t/ms - t2 > t_dist_i:\n",
    "        # stimulation only after init_simtime \n",
    "        stop_for_spikes.active = False\n",
    "        # get timepoint of branching, shift by the delay of 0.1 ms\n",
    "        t2 = defaultclock.t/ms - 0.1\n",
    "        # store network state before stimulation\n",
    "        store()\n",
    "        # We'll need an explicit seed here, otherwise we'll continue with different\n",
    "        # random numbers after the restore\n",
    "        use_seed = randint(iinfo(np.int32).max)\n",
    "        seed(use_seed)\n",
    "        # change spike monitors\n",
    "        spk_mon1.active = False\n",
    "        spk_mon2.active = True\n",
    "        # stimulate\n",
    "        nodes_ex_stim.I = p['stim_amp_ex']\n",
    "        run(p['stim_duration'])\n",
    "        # turn stimuli off, but keep on simulation\n",
    "        t_left = p['simtime_stim'] - p['stim_duration']\n",
    "        nodes_ex_stim.I = 0.*pA\n",
    "        run(t_left)\n",
    "        # store data of intermittent run\n",
    "        spk_mon2_t = np.array(spk_mon2.t/ms)\n",
    "        spk_mon2_i = np.array(spk_mon2.i).astype(int)\n",
    "        data = {\n",
    "            't': t2,\n",
    "            'spk_ids': spk_mon2_i,\n",
    "            'spk_ts': spk_mon2_t}\n",
    "        np.savez(data_path + 'stimulation_data_{}.npz'.format(str(int(t2*10))), data=data)\n",
    "\n",
    "        # restore previous network state and continue with simulation\n",
    "        stop_for_spikes.active = True\n",
    "        restore()\n",
    "        seed(use_seed)\n",
    "        spk_mon1.active = True\n",
    "        spk_mon2.active = False\n",
    "        with open(data_path + 'log', 'w') as f:\n",
    "            f.write(str(defaultclock.t/ms))\n",
    "        sys.stdout.write('\\r'+str(defaultclock.t/ms))\n",
    "        \n",
    "        # generate waiting time\n",
    "        t_dist_i = np.random.uniform(p['t_dist_min']/ms, p['t_dist_max']/ms)\n",
    "    run(p['runtime'] - defaultclock.t)"
   ]
  },
  {
   "cell_type": "markdown",
   "metadata": {},
   "source": [
    "### Store spikes"
   ]
  },
  {
   "cell_type": "code",
   "execution_count": null,
   "metadata": {},
   "outputs": [],
   "source": [
    "t1, i1 = np.array(spk_mon1.t), np.array(spk_mon1.i)\n",
    "with open(str(data_path) + '/' + 'spks1.csv', 'w') as f:\n",
    "        pd.DataFrame({'t': t1, 'id': i1.astype(int)}\n",
    "        ).to_csv(f, header=False, index=False)"
   ]
  },
  {
   "cell_type": "code",
   "execution_count": 14,
   "metadata": {},
   "outputs": [
    {
     "ename": "ModuleNotFoundError",
     "evalue": "No module named 'causal_optoconnectics'",
     "output_type": "error",
     "traceback": [
      "\u001b[0;31m---------------------------------------------------------------------------\u001b[0m",
      "\u001b[0;31mModuleNotFoundError\u001b[0m                       Traceback (most recent call last)",
      "\u001b[0;32m<ipython-input-14-b2fcce2d93e1>\u001b[0m in \u001b[0;36m<module>\u001b[0;34m\u001b[0m\n\u001b[0;32m----> 1\u001b[0;31m \u001b[0;32mfrom\u001b[0m \u001b[0mcausal_optoconnectics\u001b[0m\u001b[0;34m.\u001b[0m\u001b[0mcch\u001b[0m \u001b[0;32mimport\u001b[0m \u001b[0mhistogram\u001b[0m\u001b[0;34m\u001b[0m\u001b[0;34m\u001b[0m\u001b[0m\n\u001b[0m",
      "\u001b[0;31mModuleNotFoundError\u001b[0m: No module named 'causal_optoconnectics'"
     ]
    }
   ],
   "source": [
    "from causal_optoconnectics.cch import histogram"
   ]
  },
  {
   "cell_type": "code",
   "execution_count": 16,
   "metadata": {},
   "outputs": [],
   "source": [
    "def correlogram(t1, t2=None, bin_size=.001, limit=.02, auto=False,\n",
    "                density=False):\n",
    "    \"\"\"Calculate cross correlation histogram of two spike trains.\n",
    "    Essentially, this algorithm subtracts each spike time in `t1`\n",
    "    from all of `t2` and bins the results with np.histogram, though\n",
    "    several tweaks were made for efficiency.\n",
    "    Originally authored by Chris Rodger, copied from OpenElectrophy, licenced\n",
    "    with CeCill-B.\n",
    "    Parameters\n",
    "    ---------\n",
    "    t1 : np.array\n",
    "        First spiketrain, raw spike times in seconds.\n",
    "    t2 : np.array\n",
    "        Second spiketrain, raw spike times in seconds.\n",
    "    bin_size : float\n",
    "        Width of each bar in histogram in seconds.\n",
    "    limit : float\n",
    "        Positive and negative extent of histogram, in seconds.\n",
    "    auto : bool\n",
    "        If True, then returns autocorrelogram of `t1` and in\n",
    "        this case `t2` can be None. Default is False.\n",
    "    density : bool\n",
    "        If True, then returns the probability density function.\n",
    "    See also\n",
    "    --------\n",
    "    :func:`numpy.histogram` : The histogram function in use.\n",
    "    Returns\n",
    "    -------\n",
    "    (count, bins) : tuple\n",
    "        A tuple containing the bin right edges and the\n",
    "        count/density of spikes in each bin.\n",
    "    Note\n",
    "    ----\n",
    "    `bins` are relative to `t1`. That is, if `t1` leads `t2`, then\n",
    "    `count` will peak in a positive time bin.\n",
    "    Examples\n",
    "    --------\n",
    "    >>> t1 = np.arange(0, .5, .1)\n",
    "    >>> t2 = np.arange(0.1, .6, .1)\n",
    "    >>> limit = 1\n",
    "    >>> bin_size = .1\n",
    "    >>> counts, bins = correlogram(t1=t1, t2=t2, bin_size=bin_size,\n",
    "    ...                            limit=limit, auto=False)\n",
    "    \"\"\"\n",
    "    if auto: t2 = t1\n",
    "    # For auto-CCGs, make sure we use the same exact values\n",
    "    # Otherwise numerical issues may arise when we compensate for zeros later\n",
    "    if not int(limit * 1e10) % int(bin_size * 1e10) == 0:\n",
    "        raise ValueError(\n",
    "            'Time limit {} must be a '.format(limit) +\n",
    "            'multiple of bin_size {}'.format(bin_size) +\n",
    "            ' remainder = {}'.format(limit % bin_size))\n",
    "    # For efficiency, `t1` should be no longer than `t2`\n",
    "    swap_args = False\n",
    "    if len(t1) > len(t2):\n",
    "        swap_args = True\n",
    "        t1, t2 = t2, t1\n",
    "\n",
    "    # Sort both arguments (this takes negligible time)\n",
    "    t1 = np.sort(t1)\n",
    "    t2 = np.sort(t2)\n",
    "\n",
    "    # Determine the bin edges for the histogram\n",
    "    # Later we will rely on the symmetry of `bins` for undoing `swap_args`\n",
    "    limit = float(limit)\n",
    "\n",
    "    # The numpy.arange method overshoots slightly the edges i.e. bin_size + epsilon\n",
    "    # which leads to inclusion of spikes falling on edges.\n",
    "    bins = np.arange(-limit, limit + bin_size, bin_size)\n",
    "\n",
    "    # Determine the indexes into `t2` that are relevant for each spike in `t1`\n",
    "    ii2 = np.searchsorted(t2, t1 - limit)\n",
    "    jj2 = np.searchsorted(t2, t1 + limit)\n",
    "\n",
    "    # Concatenate the recentered spike times into a big array\n",
    "    # We have excluded spikes outside of the histogram range to limit\n",
    "    # memory use here.\n",
    "    big = np.concatenate([t2[i:j] - t for t, i, j in zip(t1, ii2, jj2)])\n",
    "\n",
    "    # Actually do the histogram. Note that calls to np.histogram are\n",
    "    # expensive because it does not assume sorted data. Therefore we use\n",
    "    # the local histogram function\n",
    "    count, bins = histogram(big, bins=bins, density=density)\n",
    "\n",
    "    if auto:\n",
    "        # Compensate for the peak at time zero that results in autocorrelations\n",
    "        # by subtracting the total number of spikes from that bin. Note\n",
    "        # possible numerical issue here because 0.0 may fall at a bin edge.\n",
    "        c_temp, bins_temp = np.histogram([0.], bins=bins)\n",
    "        bin_containing_zero = np.nonzero(c_temp)[0][0]\n",
    "        count[bin_containing_zero] = 0#-= len(t1)\n",
    "\n",
    "    # Finally compensate for the swapping of t1 and t2\n",
    "    if swap_args:\n",
    "        # Here we rely on being able to simply reverse `counts`. This is only\n",
    "        # possible because of the way `bins` was defined (bins = -bins[::-1])\n",
    "        count = count[::-1]\n",
    "\n",
    "    return count, bins"
   ]
  },
  {
   "cell_type": "code",
   "execution_count": null,
   "metadata": {},
   "outputs": [],
   "source": [
    "for i in range(1000):\n",
    "    t_i = t\n",
    "    t1, i1"
   ]
  }
 ],
 "metadata": {
  "kernelspec": {
   "display_name": "Python 3",
   "language": "python",
   "name": "python3"
  },
  "language_info": {
   "codemirror_mode": {
    "name": "ipython",
    "version": 3
   },
   "file_extension": ".py",
   "mimetype": "text/x-python",
   "name": "python",
   "nbconvert_exporter": "python",
   "pygments_lexer": "ipython3",
   "version": "3.7.3"
  }
 },
 "nbformat": 4,
 "nbformat_minor": 2
}
