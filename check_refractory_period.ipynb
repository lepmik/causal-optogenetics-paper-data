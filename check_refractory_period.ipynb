{
 "cells": [
  {
   "cell_type": "code",
   "execution_count": 1,
   "metadata": {},
   "outputs": [],
   "source": [
    "%load_ext autoreload\n",
    "%autoreload 2"
   ]
  },
  {
   "cell_type": "code",
   "execution_count": 2,
   "metadata": {},
   "outputs": [],
   "source": [
    "import numpy as np\n",
    "import scipy.stats as st\n",
    "import scipy.integrate as si\n",
    "import scipy.signal as ss\n",
    "import matplotlib.pyplot as plt\n",
    "import sys\n",
    "sys.path.append('..')\n",
    "from collections import defaultdict\n",
    "import pandas as pd\n",
    "import pathlib\n",
    "from causal_optoconnectics.core import find_response_spikes\n",
    "from causal_optoconnectics.buzsaki import transfer_probability\n",
    "import causal_optoconnectics as co\n",
    "\n",
    "%matplotlib inline"
   ]
  },
  {
   "cell_type": "code",
   "execution_count": 3,
   "metadata": {},
   "outputs": [],
   "source": [
    "# base_path = pathlib.Path('/home/mikkel/data/data_branched_stim_idstsswitched')\n",
    "base_path = pathlib.Path('/home/jovyan/work/instrumentalVariable/data_intermed/')"
   ]
  },
  {
   "cell_type": "code",
   "execution_count": 4,
   "metadata": {},
   "outputs": [],
   "source": [
    "connections = np.load(base_path / 'm.npz', allow_pickle=True)['m'][()]"
   ]
  },
  {
   "cell_type": "code",
   "execution_count": 5,
   "metadata": {},
   "outputs": [],
   "source": [
    "N = connections.shape[0]"
   ]
  },
  {
   "cell_type": "code",
   "execution_count": 6,
   "metadata": {},
   "outputs": [],
   "source": [
    "df = pd.DataFrame([\n",
    "    (j, i, connections[i, j]) for i in range(N) for j in range(N) if i!=j],\n",
    "    columns=['source', 'target', 'weight']\n",
    ")"
   ]
  },
  {
   "cell_type": "code",
   "execution_count": 7,
   "metadata": {},
   "outputs": [],
   "source": [
    "paths = [path for path in base_path.iterdir() if path.is_dir()]\n",
    "paths = sorted(paths, key=lambda x: int(x.stem))"
   ]
  },
  {
   "cell_type": "code",
   "execution_count": 8,
   "metadata": {},
   "outputs": [
    {
     "name": "stdout",
     "output_type": "stream",
     "text": [
      "0\n",
      "1\n",
      "2\n",
      "4\n",
      "5\n",
      "6\n",
      "7\n",
      "8\n",
      "9\n",
      "10\n",
      "11\n",
      "12\n",
      "13\n",
      "14\n",
      "15\n",
      "16\n",
      "17\n",
      "skip 17\n",
      "18\n",
      "19\n"
     ]
    }
   ],
   "source": [
    "i = 0\n",
    "cch = []\n",
    "\n",
    "t_br = 0.014 # seconds, length of branch\n",
    "t_int = 0.03 # second, length of pause between branches\n",
    "\n",
    "for i_core in range(20):\n",
    "    print(i_core)\n",
    "    path  = paths[i_core]\n",
    "    try:\n",
    "        spks = np.load(path / 'spks1.npz', allow_pickle=True)['data'][()]\n",
    "\n",
    "        spks_ts = spks['spk_ts']/1000\n",
    "        spks_ids = spks['spk_ids']\n",
    "\n",
    "        brs_dat = []\n",
    "        brs_t = []\n",
    "        for fname in path.glob('stimulation_data*.npz'):\n",
    "            data = np.load(fname, allow_pickle=True)['data'][()]\n",
    "            br_t = data['t']/1000\n",
    "            brs_t.append(br_t)\n",
    "            brs_dat.append(data)\n",
    "\n",
    "        brs_dat = np.array(brs_dat)\n",
    "        brs_t = np.array(brs_t)\n",
    "        ids_sort = np.argsort(brs_t)\n",
    "\n",
    "        brs_t = brs_t[ids_sort]\n",
    "        brs_dat = brs_dat[ids_sort]\n",
    "\n",
    "        ts_all = []\n",
    "        ids_all = []\n",
    "\n",
    "        brs_t = [0.]  # previous branch\n",
    "        for data_i in brs_dat:\n",
    "            # get time of branch\n",
    "            br_t = data_i['t']/1000\n",
    "\n",
    "            # get all spikes from since end of last branch\n",
    "            bl_i = (spks_ts >= brs_t[-1]) & (spks_ts < br_t)\n",
    "            ts_i = spks_ts[bl_i]\n",
    "            ids_i = spks_ids[bl_i]\n",
    "\n",
    "            # add spikes from current branch\n",
    "            ts_br = data_i['spk_ts']/1000\n",
    "            ids_br = data_i['spk_ids']\n",
    "\n",
    "            ts_i = np.concatenate((ts_i, ts_br))\n",
    "            ids_i = np.concatenate((ids_i, ids_br))\n",
    "\n",
    "            brs_t.append(br_t)\n",
    "\n",
    "            ts_all.append(ts_i)\n",
    "            ids_all.append(ids_i)\n",
    "\n",
    "\n",
    "        ls_shftd = []\n",
    "        for i, br_t in enumerate(brs_t[:-1]):\n",
    "            ls_shftd.append(ts_all[i]+i*(t_int+t_br))\n",
    "\n",
    "        ts_shftd = np.concatenate(ls_shftd)\n",
    "        ids_shftd = np.concatenate(ids_all)\n",
    "\n",
    "        for i in range(1000):\n",
    "            bl_i = ids_shftd==i\n",
    "            ts_i = ts_shftd[bl_i]\n",
    "            cch_i, bins = co.cch.correlogram(ts_i, auto=True)\n",
    "            cch.append(cch_i)\n",
    "    except:\n",
    "        print('skip '+str(i_core))\n",
    "        pass\n"
   ]
  },
  {
   "cell_type": "code",
   "execution_count": 9,
   "metadata": {},
   "outputs": [],
   "source": [
    "cch_max = np.max(np.array(cch), axis=0)"
   ]
  },
  {
   "cell_type": "code",
   "execution_count": 11,
   "metadata": {},
   "outputs": [
    {
     "data": {
      "text/plain": [
       "(0, 4)"
      ]
     },
     "execution_count": 11,
     "metadata": {},
     "output_type": "execute_result"
    },
    {
     "data": {
      "image/png": "[encoded data removed]",
      "text/plain": [
       "<Figure size 432x288 with 1 Axes>"
      ]
     },
     "metadata": {
      "needs_background": "light"
     },
     "output_type": "display_data"
    }
   ],
   "source": [
    "plt.plot(bins[1:], cch_max)\n",
    "plt.ylim(0, 4)"
   ]
  },
  {
   "cell_type": "code",
   "execution_count": null,
   "metadata": {},
   "outputs": [],
   "source": []
  }
 ],
 "metadata": {
  "kernelspec": {
   "display_name": "Python 3",
   "language": "python",
   "name": "python3"
  },
  "language_info": {
   "codemirror_mode": {
    "name": "ipython",
    "version": 3
   },
   "file_extension": ".py",
   "mimetype": "text/x-python",
   "name": "python",
   "nbconvert_exporter": "python",
   "pygments_lexer": "ipython3",
   "version": "3.7.3"
  }
 },
 "nbformat": 4,
 "nbformat_minor": 2
}
